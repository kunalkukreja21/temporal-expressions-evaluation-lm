{
  "nbformat": 4,
  "nbformat_minor": 0,
  "metadata": {
    "colab": {
      "name": "Challenge Set Creation.ipynb",
      "provenance": [],
      "collapsed_sections": [
        "NfqUObyJMTka",
        "TdQ2hBoqgVJR",
        "gAdjOnZtXrrI",
        "F5bmrwN_LQHF",
        "jTMAYNHb-EM-",
        "M9yYi5L8z-oz",
        "3GBlgPal5370"
      ],
      "toc_visible": true
    },
    "kernelspec": {
      "display_name": "Python 3",
      "name": "python3"
    },
    "language_info": {
      "name": "python"
    },
    "widgets": {
      "application/vnd.jupyter.widget-state+json": {
        "47a2b99ac01044aea5fa0135dd3e42cb": {
          "model_module": "@jupyter-widgets/controls",
          "model_name": "HBoxModel",
          "state": {
            "_view_name": "HBoxView",
            "_dom_classes": [],
            "_model_name": "HBoxModel",
            "_view_module": "@jupyter-widgets/controls",
            "_model_module_version": "1.5.0",
            "_view_count": null,
            "_view_module_version": "1.5.0",
            "box_style": "",
            "layout": "IPY_MODEL_60584adb8b624d62991a9c69e3318e72",
            "_model_module": "@jupyter-widgets/controls",
            "children": [
              "IPY_MODEL_38795437fa0640caab3dcfe25f7a19a3",
              "IPY_MODEL_c64167ef97b2437cb50174f6191463d6"
            ]
          }
        },
        "60584adb8b624d62991a9c69e3318e72": {
          "model_module": "@jupyter-widgets/base",
          "model_name": "LayoutModel",
          "state": {
            "_view_name": "LayoutView",
            "grid_template_rows": null,
            "right": null,
            "justify_content": null,
            "_view_module": "@jupyter-widgets/base",
            "overflow": null,
            "_model_module_version": "1.2.0",
            "_view_count": null,
            "flex_flow": null,
            "width": null,
            "min_width": null,
            "border": null,
            "align_items": null,
            "bottom": null,
            "_model_module": "@jupyter-widgets/base",
            "top": null,
            "grid_column": null,
            "overflow_y": null,
            "overflow_x": null,
            "grid_auto_flow": null,
            "grid_area": null,
            "grid_template_columns": null,
            "flex": null,
            "_model_name": "LayoutModel",
            "justify_items": null,
            "grid_row": null,
            "max_height": null,
            "align_content": null,
            "visibility": null,
            "align_self": null,
            "height": null,
            "min_height": null,
            "padding": null,
            "grid_auto_rows": null,
            "grid_gap": null,
            "max_width": null,
            "order": null,
            "_view_module_version": "1.2.0",
            "grid_template_areas": null,
            "object_position": null,
            "object_fit": null,
            "grid_auto_columns": null,
            "margin": null,
            "display": null,
            "left": null
          }
        },
        "38795437fa0640caab3dcfe25f7a19a3": {
          "model_module": "@jupyter-widgets/controls",
          "model_name": "FloatProgressModel",
          "state": {
            "_view_name": "ProgressView",
            "style": "IPY_MODEL_e134da93b1d24082b6d5bbfb587d9512",
            "_dom_classes": [],
            "description": "Downloading: 100%",
            "_model_name": "FloatProgressModel",
            "bar_style": "success",
            "max": 482,
            "_view_module": "@jupyter-widgets/controls",
            "_model_module_version": "1.5.0",
            "value": 482,
            "_view_count": null,
            "_view_module_version": "1.5.0",
            "orientation": "horizontal",
            "min": 0,
            "description_tooltip": null,
            "_model_module": "@jupyter-widgets/controls",
            "layout": "IPY_MODEL_6b48f5a488394fa3b68b468ab18cb989"
          }
        },
        "c64167ef97b2437cb50174f6191463d6": {
          "model_module": "@jupyter-widgets/controls",
          "model_name": "HTMLModel",
          "state": {
            "_view_name": "HTMLView",
            "style": "IPY_MODEL_b1c61e0e48d24e0c98cda4d00ced9ca3",
            "_dom_classes": [],
            "description": "",
            "_model_name": "HTMLModel",
            "placeholder": "​",
            "_view_module": "@jupyter-widgets/controls",
            "_model_module_version": "1.5.0",
            "value": " 482/482 [00:00&lt;00:00, 994B/s]",
            "_view_count": null,
            "_view_module_version": "1.5.0",
            "description_tooltip": null,
            "_model_module": "@jupyter-widgets/controls",
            "layout": "IPY_MODEL_942a004ae27f481d997d8a226111c178"
          }
        },
        "e134da93b1d24082b6d5bbfb587d9512": {
          "model_module": "@jupyter-widgets/controls",
          "model_name": "ProgressStyleModel",
          "state": {
            "_view_name": "StyleView",
            "_model_name": "ProgressStyleModel",
            "description_width": "initial",
            "_view_module": "@jupyter-widgets/base",
            "_model_module_version": "1.5.0",
            "_view_count": null,
            "_view_module_version": "1.2.0",
            "bar_color": null,
            "_model_module": "@jupyter-widgets/controls"
          }
        },
        "6b48f5a488394fa3b68b468ab18cb989": {
          "model_module": "@jupyter-widgets/base",
          "model_name": "LayoutModel",
          "state": {
            "_view_name": "LayoutView",
            "grid_template_rows": null,
            "right": null,
            "justify_content": null,
            "_view_module": "@jupyter-widgets/base",
            "overflow": null,
            "_model_module_version": "1.2.0",
            "_view_count": null,
            "flex_flow": null,
            "width": null,
            "min_width": null,
            "border": null,
            "align_items": null,
            "bottom": null,
            "_model_module": "@jupyter-widgets/base",
            "top": null,
            "grid_column": null,
            "overflow_y": null,
            "overflow_x": null,
            "grid_auto_flow": null,
            "grid_area": null,
            "grid_template_columns": null,
            "flex": null,
            "_model_name": "LayoutModel",
            "justify_items": null,
            "grid_row": null,
            "max_height": null,
            "align_content": null,
            "visibility": null,
            "align_self": null,
            "height": null,
            "min_height": null,
            "padding": null,
            "grid_auto_rows": null,
            "grid_gap": null,
            "max_width": null,
            "order": null,
            "_view_module_version": "1.2.0",
            "grid_template_areas": null,
            "object_position": null,
            "object_fit": null,
            "grid_auto_columns": null,
            "margin": null,
            "display": null,
            "left": null
          }
        },
        "b1c61e0e48d24e0c98cda4d00ced9ca3": {
          "model_module": "@jupyter-widgets/controls",
          "model_name": "DescriptionStyleModel",
          "state": {
            "_view_name": "StyleView",
            "_model_name": "DescriptionStyleModel",
            "description_width": "",
            "_view_module": "@jupyter-widgets/base",
            "_model_module_version": "1.5.0",
            "_view_count": null,
            "_view_module_version": "1.2.0",
            "_model_module": "@jupyter-widgets/controls"
          }
        },
        "942a004ae27f481d997d8a226111c178": {
          "model_module": "@jupyter-widgets/base",
          "model_name": "LayoutModel",
          "state": {
            "_view_name": "LayoutView",
            "grid_template_rows": null,
            "right": null,
            "justify_content": null,
            "_view_module": "@jupyter-widgets/base",
            "overflow": null,
            "_model_module_version": "1.2.0",
            "_view_count": null,
            "flex_flow": null,
            "width": null,
            "min_width": null,
            "border": null,
            "align_items": null,
            "bottom": null,
            "_model_module": "@jupyter-widgets/base",
            "top": null,
            "grid_column": null,
            "overflow_y": null,
            "overflow_x": null,
            "grid_auto_flow": null,
            "grid_area": null,
            "grid_template_columns": null,
            "flex": null,
            "_model_name": "LayoutModel",
            "justify_items": null,
            "grid_row": null,
            "max_height": null,
            "align_content": null,
            "visibility": null,
            "align_self": null,
            "height": null,
            "min_height": null,
            "padding": null,
            "grid_auto_rows": null,
            "grid_gap": null,
            "max_width": null,
            "order": null,
            "_view_module_version": "1.2.0",
            "grid_template_areas": null,
            "object_position": null,
            "object_fit": null,
            "grid_auto_columns": null,
            "margin": null,
            "display": null,
            "left": null
          }
        },
        "73aef7e264304806acd6e8db8bb90dda": {
          "model_module": "@jupyter-widgets/controls",
          "model_name": "HBoxModel",
          "state": {
            "_view_name": "HBoxView",
            "_dom_classes": [],
            "_model_name": "HBoxModel",
            "_view_module": "@jupyter-widgets/controls",
            "_model_module_version": "1.5.0",
            "_view_count": null,
            "_view_module_version": "1.5.0",
            "box_style": "",
            "layout": "IPY_MODEL_c06483d33b794e31b16b5caf9cdbcd3b",
            "_model_module": "@jupyter-widgets/controls",
            "children": [
              "IPY_MODEL_16a48d1c3d87466aad7742b4ff7a170d",
              "IPY_MODEL_d91391737b8040ff8d169d21e5afeeaa"
            ]
          }
        },
        "c06483d33b794e31b16b5caf9cdbcd3b": {
          "model_module": "@jupyter-widgets/base",
          "model_name": "LayoutModel",
          "state": {
            "_view_name": "LayoutView",
            "grid_template_rows": null,
            "right": null,
            "justify_content": null,
            "_view_module": "@jupyter-widgets/base",
            "overflow": null,
            "_model_module_version": "1.2.0",
            "_view_count": null,
            "flex_flow": null,
            "width": null,
            "min_width": null,
            "border": null,
            "align_items": null,
            "bottom": null,
            "_model_module": "@jupyter-widgets/base",
            "top": null,
            "grid_column": null,
            "overflow_y": null,
            "overflow_x": null,
            "grid_auto_flow": null,
            "grid_area": null,
            "grid_template_columns": null,
            "flex": null,
            "_model_name": "LayoutModel",
            "justify_items": null,
            "grid_row": null,
            "max_height": null,
            "align_content": null,
            "visibility": null,
            "align_self": null,
            "height": null,
            "min_height": null,
            "padding": null,
            "grid_auto_rows": null,
            "grid_gap": null,
            "max_width": null,
            "order": null,
            "_view_module_version": "1.2.0",
            "grid_template_areas": null,
            "object_position": null,
            "object_fit": null,
            "grid_auto_columns": null,
            "margin": null,
            "display": null,
            "left": null
          }
        },
        "16a48d1c3d87466aad7742b4ff7a170d": {
          "model_module": "@jupyter-widgets/controls",
          "model_name": "FloatProgressModel",
          "state": {
            "_view_name": "ProgressView",
            "style": "IPY_MODEL_27cb2fc91b29425d96e7aa2248fc4d05",
            "_dom_classes": [],
            "description": "Downloading: 100%",
            "_model_name": "FloatProgressModel",
            "bar_style": "success",
            "max": 898823,
            "_view_module": "@jupyter-widgets/controls",
            "_model_module_version": "1.5.0",
            "value": 898823,
            "_view_count": null,
            "_view_module_version": "1.5.0",
            "orientation": "horizontal",
            "min": 0,
            "description_tooltip": null,
            "_model_module": "@jupyter-widgets/controls",
            "layout": "IPY_MODEL_a1fbeefec4d944df8fa39e5397f0457b"
          }
        },
        "d91391737b8040ff8d169d21e5afeeaa": {
          "model_module": "@jupyter-widgets/controls",
          "model_name": "HTMLModel",
          "state": {
            "_view_name": "HTMLView",
            "style": "IPY_MODEL_bc75f35734b140f7921b0cf2cc3d9b84",
            "_dom_classes": [],
            "description": "",
            "_model_name": "HTMLModel",
            "placeholder": "​",
            "_view_module": "@jupyter-widgets/controls",
            "_model_module_version": "1.5.0",
            "value": " 899k/899k [00:02&lt;00:00, 427kB/s]",
            "_view_count": null,
            "_view_module_version": "1.5.0",
            "description_tooltip": null,
            "_model_module": "@jupyter-widgets/controls",
            "layout": "IPY_MODEL_0acba68efea441d2b8d45c8ae510d559"
          }
        },
        "27cb2fc91b29425d96e7aa2248fc4d05": {
          "model_module": "@jupyter-widgets/controls",
          "model_name": "ProgressStyleModel",
          "state": {
            "_view_name": "StyleView",
            "_model_name": "ProgressStyleModel",
            "description_width": "initial",
            "_view_module": "@jupyter-widgets/base",
            "_model_module_version": "1.5.0",
            "_view_count": null,
            "_view_module_version": "1.2.0",
            "bar_color": null,
            "_model_module": "@jupyter-widgets/controls"
          }
        },
        "a1fbeefec4d944df8fa39e5397f0457b": {
          "model_module": "@jupyter-widgets/base",
          "model_name": "LayoutModel",
          "state": {
            "_view_name": "LayoutView",
            "grid_template_rows": null,
            "right": null,
            "justify_content": null,
            "_view_module": "@jupyter-widgets/base",
            "overflow": null,
            "_model_module_version": "1.2.0",
            "_view_count": null,
            "flex_flow": null,
            "width": null,
            "min_width": null,
            "border": null,
            "align_items": null,
            "bottom": null,
            "_model_module": "@jupyter-widgets/base",
            "top": null,
            "grid_column": null,
            "overflow_y": null,
            "overflow_x": null,
            "grid_auto_flow": null,
            "grid_area": null,
            "grid_template_columns": null,
            "flex": null,
            "_model_name": "LayoutModel",
            "justify_items": null,
            "grid_row": null,
            "max_height": null,
            "align_content": null,
            "visibility": null,
            "align_self": null,
            "height": null,
            "min_height": null,
            "padding": null,
            "grid_auto_rows": null,
            "grid_gap": null,
            "max_width": null,
            "order": null,
            "_view_module_version": "1.2.0",
            "grid_template_areas": null,
            "object_position": null,
            "object_fit": null,
            "grid_auto_columns": null,
            "margin": null,
            "display": null,
            "left": null
          }
        },
        "bc75f35734b140f7921b0cf2cc3d9b84": {
          "model_module": "@jupyter-widgets/controls",
          "model_name": "DescriptionStyleModel",
          "state": {
            "_view_name": "StyleView",
            "_model_name": "DescriptionStyleModel",
            "description_width": "",
            "_view_module": "@jupyter-widgets/base",
            "_model_module_version": "1.5.0",
            "_view_count": null,
            "_view_module_version": "1.2.0",
            "_model_module": "@jupyter-widgets/controls"
          }
        },
        "0acba68efea441d2b8d45c8ae510d559": {
          "model_module": "@jupyter-widgets/base",
          "model_name": "LayoutModel",
          "state": {
            "_view_name": "LayoutView",
            "grid_template_rows": null,
            "right": null,
            "justify_content": null,
            "_view_module": "@jupyter-widgets/base",
            "overflow": null,
            "_model_module_version": "1.2.0",
            "_view_count": null,
            "flex_flow": null,
            "width": null,
            "min_width": null,
            "border": null,
            "align_items": null,
            "bottom": null,
            "_model_module": "@jupyter-widgets/base",
            "top": null,
            "grid_column": null,
            "overflow_y": null,
            "overflow_x": null,
            "grid_auto_flow": null,
            "grid_area": null,
            "grid_template_columns": null,
            "flex": null,
            "_model_name": "LayoutModel",
            "justify_items": null,
            "grid_row": null,
            "max_height": null,
            "align_content": null,
            "visibility": null,
            "align_self": null,
            "height": null,
            "min_height": null,
            "padding": null,
            "grid_auto_rows": null,
            "grid_gap": null,
            "max_width": null,
            "order": null,
            "_view_module_version": "1.2.0",
            "grid_template_areas": null,
            "object_position": null,
            "object_fit": null,
            "grid_auto_columns": null,
            "margin": null,
            "display": null,
            "left": null
          }
        },
        "45d23f970a7c4c13b8d7b486bed8c3f5": {
          "model_module": "@jupyter-widgets/controls",
          "model_name": "HBoxModel",
          "state": {
            "_view_name": "HBoxView",
            "_dom_classes": [],
            "_model_name": "HBoxModel",
            "_view_module": "@jupyter-widgets/controls",
            "_model_module_version": "1.5.0",
            "_view_count": null,
            "_view_module_version": "1.5.0",
            "box_style": "",
            "layout": "IPY_MODEL_11726130b1054d7c969de0788ad11e9a",
            "_model_module": "@jupyter-widgets/controls",
            "children": [
              "IPY_MODEL_348b5e4b7ebc40f791860fabe8c4e805",
              "IPY_MODEL_845f4ad859d9419fb8b33e0422bc013a"
            ]
          }
        },
        "11726130b1054d7c969de0788ad11e9a": {
          "model_module": "@jupyter-widgets/base",
          "model_name": "LayoutModel",
          "state": {
            "_view_name": "LayoutView",
            "grid_template_rows": null,
            "right": null,
            "justify_content": null,
            "_view_module": "@jupyter-widgets/base",
            "overflow": null,
            "_model_module_version": "1.2.0",
            "_view_count": null,
            "flex_flow": null,
            "width": null,
            "min_width": null,
            "border": null,
            "align_items": null,
            "bottom": null,
            "_model_module": "@jupyter-widgets/base",
            "top": null,
            "grid_column": null,
            "overflow_y": null,
            "overflow_x": null,
            "grid_auto_flow": null,
            "grid_area": null,
            "grid_template_columns": null,
            "flex": null,
            "_model_name": "LayoutModel",
            "justify_items": null,
            "grid_row": null,
            "max_height": null,
            "align_content": null,
            "visibility": null,
            "align_self": null,
            "height": null,
            "min_height": null,
            "padding": null,
            "grid_auto_rows": null,
            "grid_gap": null,
            "max_width": null,
            "order": null,
            "_view_module_version": "1.2.0",
            "grid_template_areas": null,
            "object_position": null,
            "object_fit": null,
            "grid_auto_columns": null,
            "margin": null,
            "display": null,
            "left": null
          }
        },
        "348b5e4b7ebc40f791860fabe8c4e805": {
          "model_module": "@jupyter-widgets/controls",
          "model_name": "FloatProgressModel",
          "state": {
            "_view_name": "ProgressView",
            "style": "IPY_MODEL_6d80d324522440c5936f759b903e6aeb",
            "_dom_classes": [],
            "description": "Downloading: 100%",
            "_model_name": "FloatProgressModel",
            "bar_style": "success",
            "max": 456318,
            "_view_module": "@jupyter-widgets/controls",
            "_model_module_version": "1.5.0",
            "value": 456318,
            "_view_count": null,
            "_view_module_version": "1.5.0",
            "orientation": "horizontal",
            "min": 0,
            "description_tooltip": null,
            "_model_module": "@jupyter-widgets/controls",
            "layout": "IPY_MODEL_47329bfede044e8d8f88013e34e4a8d0"
          }
        },
        "845f4ad859d9419fb8b33e0422bc013a": {
          "model_module": "@jupyter-widgets/controls",
          "model_name": "HTMLModel",
          "state": {
            "_view_name": "HTMLView",
            "style": "IPY_MODEL_d5298a2b4d8b45feb3daefaaa669bed8",
            "_dom_classes": [],
            "description": "",
            "_model_name": "HTMLModel",
            "placeholder": "​",
            "_view_module": "@jupyter-widgets/controls",
            "_model_module_version": "1.5.0",
            "value": " 456k/456k [00:01&lt;00:00, 408kB/s]",
            "_view_count": null,
            "_view_module_version": "1.5.0",
            "description_tooltip": null,
            "_model_module": "@jupyter-widgets/controls",
            "layout": "IPY_MODEL_9bd9c4f0aedf49a7b23913e432e97d08"
          }
        },
        "6d80d324522440c5936f759b903e6aeb": {
          "model_module": "@jupyter-widgets/controls",
          "model_name": "ProgressStyleModel",
          "state": {
            "_view_name": "StyleView",
            "_model_name": "ProgressStyleModel",
            "description_width": "initial",
            "_view_module": "@jupyter-widgets/base",
            "_model_module_version": "1.5.0",
            "_view_count": null,
            "_view_module_version": "1.2.0",
            "bar_color": null,
            "_model_module": "@jupyter-widgets/controls"
          }
        },
        "47329bfede044e8d8f88013e34e4a8d0": {
          "model_module": "@jupyter-widgets/base",
          "model_name": "LayoutModel",
          "state": {
            "_view_name": "LayoutView",
            "grid_template_rows": null,
            "right": null,
            "justify_content": null,
            "_view_module": "@jupyter-widgets/base",
            "overflow": null,
            "_model_module_version": "1.2.0",
            "_view_count": null,
            "flex_flow": null,
            "width": null,
            "min_width": null,
            "border": null,
            "align_items": null,
            "bottom": null,
            "_model_module": "@jupyter-widgets/base",
            "top": null,
            "grid_column": null,
            "overflow_y": null,
            "overflow_x": null,
            "grid_auto_flow": null,
            "grid_area": null,
            "grid_template_columns": null,
            "flex": null,
            "_model_name": "LayoutModel",
            "justify_items": null,
            "grid_row": null,
            "max_height": null,
            "align_content": null,
            "visibility": null,
            "align_self": null,
            "height": null,
            "min_height": null,
            "padding": null,
            "grid_auto_rows": null,
            "grid_gap": null,
            "max_width": null,
            "order": null,
            "_view_module_version": "1.2.0",
            "grid_template_areas": null,
            "object_position": null,
            "object_fit": null,
            "grid_auto_columns": null,
            "margin": null,
            "display": null,
            "left": null
          }
        },
        "d5298a2b4d8b45feb3daefaaa669bed8": {
          "model_module": "@jupyter-widgets/controls",
          "model_name": "DescriptionStyleModel",
          "state": {
            "_view_name": "StyleView",
            "_model_name": "DescriptionStyleModel",
            "description_width": "",
            "_view_module": "@jupyter-widgets/base",
            "_model_module_version": "1.5.0",
            "_view_count": null,
            "_view_module_version": "1.2.0",
            "_model_module": "@jupyter-widgets/controls"
          }
        },
        "9bd9c4f0aedf49a7b23913e432e97d08": {
          "model_module": "@jupyter-widgets/base",
          "model_name": "LayoutModel",
          "state": {
            "_view_name": "LayoutView",
            "grid_template_rows": null,
            "right": null,
            "justify_content": null,
            "_view_module": "@jupyter-widgets/base",
            "overflow": null,
            "_model_module_version": "1.2.0",
            "_view_count": null,
            "flex_flow": null,
            "width": null,
            "min_width": null,
            "border": null,
            "align_items": null,
            "bottom": null,
            "_model_module": "@jupyter-widgets/base",
            "top": null,
            "grid_column": null,
            "overflow_y": null,
            "overflow_x": null,
            "grid_auto_flow": null,
            "grid_area": null,
            "grid_template_columns": null,
            "flex": null,
            "_model_name": "LayoutModel",
            "justify_items": null,
            "grid_row": null,
            "max_height": null,
            "align_content": null,
            "visibility": null,
            "align_self": null,
            "height": null,
            "min_height": null,
            "padding": null,
            "grid_auto_rows": null,
            "grid_gap": null,
            "max_width": null,
            "order": null,
            "_view_module_version": "1.2.0",
            "grid_template_areas": null,
            "object_position": null,
            "object_fit": null,
            "grid_auto_columns": null,
            "margin": null,
            "display": null,
            "left": null
          }
        },
        "03218774c7574d4cbc0c6920b74085a8": {
          "model_module": "@jupyter-widgets/controls",
          "model_name": "HBoxModel",
          "state": {
            "_view_name": "HBoxView",
            "_dom_classes": [],
            "_model_name": "HBoxModel",
            "_view_module": "@jupyter-widgets/controls",
            "_model_module_version": "1.5.0",
            "_view_count": null,
            "_view_module_version": "1.5.0",
            "box_style": "",
            "layout": "IPY_MODEL_fac12fde7aa8490aa718b798c2207bd8",
            "_model_module": "@jupyter-widgets/controls",
            "children": [
              "IPY_MODEL_5bb89c180b414e8d97b6368d1f2feb4f",
              "IPY_MODEL_aeb6b1bc1d0b46acb6e1dd0a836b59f5"
            ]
          }
        },
        "fac12fde7aa8490aa718b798c2207bd8": {
          "model_module": "@jupyter-widgets/base",
          "model_name": "LayoutModel",
          "state": {
            "_view_name": "LayoutView",
            "grid_template_rows": null,
            "right": null,
            "justify_content": null,
            "_view_module": "@jupyter-widgets/base",
            "overflow": null,
            "_model_module_version": "1.2.0",
            "_view_count": null,
            "flex_flow": null,
            "width": null,
            "min_width": null,
            "border": null,
            "align_items": null,
            "bottom": null,
            "_model_module": "@jupyter-widgets/base",
            "top": null,
            "grid_column": null,
            "overflow_y": null,
            "overflow_x": null,
            "grid_auto_flow": null,
            "grid_area": null,
            "grid_template_columns": null,
            "flex": null,
            "_model_name": "LayoutModel",
            "justify_items": null,
            "grid_row": null,
            "max_height": null,
            "align_content": null,
            "visibility": null,
            "align_self": null,
            "height": null,
            "min_height": null,
            "padding": null,
            "grid_auto_rows": null,
            "grid_gap": null,
            "max_width": null,
            "order": null,
            "_view_module_version": "1.2.0",
            "grid_template_areas": null,
            "object_position": null,
            "object_fit": null,
            "grid_auto_columns": null,
            "margin": null,
            "display": null,
            "left": null
          }
        },
        "5bb89c180b414e8d97b6368d1f2feb4f": {
          "model_module": "@jupyter-widgets/controls",
          "model_name": "FloatProgressModel",
          "state": {
            "_view_name": "ProgressView",
            "style": "IPY_MODEL_7ece758bd1fc4a2aa6de4e924eaec58f",
            "_dom_classes": [],
            "description": "Downloading: 100%",
            "_model_name": "FloatProgressModel",
            "bar_style": "success",
            "max": 1355863,
            "_view_module": "@jupyter-widgets/controls",
            "_model_module_version": "1.5.0",
            "value": 1355863,
            "_view_count": null,
            "_view_module_version": "1.5.0",
            "orientation": "horizontal",
            "min": 0,
            "description_tooltip": null,
            "_model_module": "@jupyter-widgets/controls",
            "layout": "IPY_MODEL_b3022f6e1e7944028bea0fce68f96b01"
          }
        },
        "aeb6b1bc1d0b46acb6e1dd0a836b59f5": {
          "model_module": "@jupyter-widgets/controls",
          "model_name": "HTMLModel",
          "state": {
            "_view_name": "HTMLView",
            "style": "IPY_MODEL_0dc71d7959ef4572bab869d73e5a4d93",
            "_dom_classes": [],
            "description": "",
            "_model_name": "HTMLModel",
            "placeholder": "​",
            "_view_module": "@jupyter-widgets/controls",
            "_model_module_version": "1.5.0",
            "value": " 1.36M/1.36M [00:51&lt;00:00, 26.3kB/s]",
            "_view_count": null,
            "_view_module_version": "1.5.0",
            "description_tooltip": null,
            "_model_module": "@jupyter-widgets/controls",
            "layout": "IPY_MODEL_d85a87bba91f4b1f8ed0f729539a13fa"
          }
        },
        "7ece758bd1fc4a2aa6de4e924eaec58f": {
          "model_module": "@jupyter-widgets/controls",
          "model_name": "ProgressStyleModel",
          "state": {
            "_view_name": "StyleView",
            "_model_name": "ProgressStyleModel",
            "description_width": "initial",
            "_view_module": "@jupyter-widgets/base",
            "_model_module_version": "1.5.0",
            "_view_count": null,
            "_view_module_version": "1.2.0",
            "bar_color": null,
            "_model_module": "@jupyter-widgets/controls"
          }
        },
        "b3022f6e1e7944028bea0fce68f96b01": {
          "model_module": "@jupyter-widgets/base",
          "model_name": "LayoutModel",
          "state": {
            "_view_name": "LayoutView",
            "grid_template_rows": null,
            "right": null,
            "justify_content": null,
            "_view_module": "@jupyter-widgets/base",
            "overflow": null,
            "_model_module_version": "1.2.0",
            "_view_count": null,
            "flex_flow": null,
            "width": null,
            "min_width": null,
            "border": null,
            "align_items": null,
            "bottom": null,
            "_model_module": "@jupyter-widgets/base",
            "top": null,
            "grid_column": null,
            "overflow_y": null,
            "overflow_x": null,
            "grid_auto_flow": null,
            "grid_area": null,
            "grid_template_columns": null,
            "flex": null,
            "_model_name": "LayoutModel",
            "justify_items": null,
            "grid_row": null,
            "max_height": null,
            "align_content": null,
            "visibility": null,
            "align_self": null,
            "height": null,
            "min_height": null,
            "padding": null,
            "grid_auto_rows": null,
            "grid_gap": null,
            "max_width": null,
            "order": null,
            "_view_module_version": "1.2.0",
            "grid_template_areas": null,
            "object_position": null,
            "object_fit": null,
            "grid_auto_columns": null,
            "margin": null,
            "display": null,
            "left": null
          }
        },
        "0dc71d7959ef4572bab869d73e5a4d93": {
          "model_module": "@jupyter-widgets/controls",
          "model_name": "DescriptionStyleModel",
          "state": {
            "_view_name": "StyleView",
            "_model_name": "DescriptionStyleModel",
            "description_width": "",
            "_view_module": "@jupyter-widgets/base",
            "_model_module_version": "1.5.0",
            "_view_count": null,
            "_view_module_version": "1.2.0",
            "_model_module": "@jupyter-widgets/controls"
          }
        },
        "d85a87bba91f4b1f8ed0f729539a13fa": {
          "model_module": "@jupyter-widgets/base",
          "model_name": "LayoutModel",
          "state": {
            "_view_name": "LayoutView",
            "grid_template_rows": null,
            "right": null,
            "justify_content": null,
            "_view_module": "@jupyter-widgets/base",
            "overflow": null,
            "_model_module_version": "1.2.0",
            "_view_count": null,
            "flex_flow": null,
            "width": null,
            "min_width": null,
            "border": null,
            "align_items": null,
            "bottom": null,
            "_model_module": "@jupyter-widgets/base",
            "top": null,
            "grid_column": null,
            "overflow_y": null,
            "overflow_x": null,
            "grid_auto_flow": null,
            "grid_area": null,
            "grid_template_columns": null,
            "flex": null,
            "_model_name": "LayoutModel",
            "justify_items": null,
            "grid_row": null,
            "max_height": null,
            "align_content": null,
            "visibility": null,
            "align_self": null,
            "height": null,
            "min_height": null,
            "padding": null,
            "grid_auto_rows": null,
            "grid_gap": null,
            "max_width": null,
            "order": null,
            "_view_module_version": "1.2.0",
            "grid_template_areas": null,
            "object_position": null,
            "object_fit": null,
            "grid_auto_columns": null,
            "margin": null,
            "display": null,
            "left": null
          }
        },
        "59765f5014c8452091c0e8f7cabe1e5f": {
          "model_module": "@jupyter-widgets/controls",
          "model_name": "HBoxModel",
          "state": {
            "_view_name": "HBoxView",
            "_dom_classes": [],
            "_model_name": "HBoxModel",
            "_view_module": "@jupyter-widgets/controls",
            "_model_module_version": "1.5.0",
            "_view_count": null,
            "_view_module_version": "1.5.0",
            "box_style": "",
            "layout": "IPY_MODEL_eba77eedc3d4465c816acb91db5e02e0",
            "_model_module": "@jupyter-widgets/controls",
            "children": [
              "IPY_MODEL_50acc3c66aee4e66a88cbc297231b3d8",
              "IPY_MODEL_ae6adbca3a8d4711856d926d7a1606a3"
            ]
          }
        },
        "eba77eedc3d4465c816acb91db5e02e0": {
          "model_module": "@jupyter-widgets/base",
          "model_name": "LayoutModel",
          "state": {
            "_view_name": "LayoutView",
            "grid_template_rows": null,
            "right": null,
            "justify_content": null,
            "_view_module": "@jupyter-widgets/base",
            "overflow": null,
            "_model_module_version": "1.2.0",
            "_view_count": null,
            "flex_flow": null,
            "width": null,
            "min_width": null,
            "border": null,
            "align_items": null,
            "bottom": null,
            "_model_module": "@jupyter-widgets/base",
            "top": null,
            "grid_column": null,
            "overflow_y": null,
            "overflow_x": null,
            "grid_auto_flow": null,
            "grid_area": null,
            "grid_template_columns": null,
            "flex": null,
            "_model_name": "LayoutModel",
            "justify_items": null,
            "grid_row": null,
            "max_height": null,
            "align_content": null,
            "visibility": null,
            "align_self": null,
            "height": null,
            "min_height": null,
            "padding": null,
            "grid_auto_rows": null,
            "grid_gap": null,
            "max_width": null,
            "order": null,
            "_view_module_version": "1.2.0",
            "grid_template_areas": null,
            "object_position": null,
            "object_fit": null,
            "grid_auto_columns": null,
            "margin": null,
            "display": null,
            "left": null
          }
        },
        "50acc3c66aee4e66a88cbc297231b3d8": {
          "model_module": "@jupyter-widgets/controls",
          "model_name": "FloatProgressModel",
          "state": {
            "_view_name": "ProgressView",
            "style": "IPY_MODEL_976b881294644eb5bd8ad01ded51a3ff",
            "_dom_classes": [],
            "description": "Downloading: 100%",
            "_model_name": "FloatProgressModel",
            "bar_style": "success",
            "max": 1425941629,
            "_view_module": "@jupyter-widgets/controls",
            "_model_module_version": "1.5.0",
            "value": 1425941629,
            "_view_count": null,
            "_view_module_version": "1.5.0",
            "orientation": "horizontal",
            "min": 0,
            "description_tooltip": null,
            "_model_module": "@jupyter-widgets/controls",
            "layout": "IPY_MODEL_edb3e152fe32430486c43370babcd09f"
          }
        },
        "ae6adbca3a8d4711856d926d7a1606a3": {
          "model_module": "@jupyter-widgets/controls",
          "model_name": "HTMLModel",
          "state": {
            "_view_name": "HTMLView",
            "style": "IPY_MODEL_9e018e99e5704736a53a769f2ae3565b",
            "_dom_classes": [],
            "description": "",
            "_model_name": "HTMLModel",
            "placeholder": "​",
            "_view_module": "@jupyter-widgets/controls",
            "_model_module_version": "1.5.0",
            "value": " 1.43G/1.43G [00:47&lt;00:00, 29.8MB/s]",
            "_view_count": null,
            "_view_module_version": "1.5.0",
            "description_tooltip": null,
            "_model_module": "@jupyter-widgets/controls",
            "layout": "IPY_MODEL_0e9efa97403f4fdc8da70430155d29fa"
          }
        },
        "976b881294644eb5bd8ad01ded51a3ff": {
          "model_module": "@jupyter-widgets/controls",
          "model_name": "ProgressStyleModel",
          "state": {
            "_view_name": "StyleView",
            "_model_name": "ProgressStyleModel",
            "description_width": "initial",
            "_view_module": "@jupyter-widgets/base",
            "_model_module_version": "1.5.0",
            "_view_count": null,
            "_view_module_version": "1.2.0",
            "bar_color": null,
            "_model_module": "@jupyter-widgets/controls"
          }
        },
        "edb3e152fe32430486c43370babcd09f": {
          "model_module": "@jupyter-widgets/base",
          "model_name": "LayoutModel",
          "state": {
            "_view_name": "LayoutView",
            "grid_template_rows": null,
            "right": null,
            "justify_content": null,
            "_view_module": "@jupyter-widgets/base",
            "overflow": null,
            "_model_module_version": "1.2.0",
            "_view_count": null,
            "flex_flow": null,
            "width": null,
            "min_width": null,
            "border": null,
            "align_items": null,
            "bottom": null,
            "_model_module": "@jupyter-widgets/base",
            "top": null,
            "grid_column": null,
            "overflow_y": null,
            "overflow_x": null,
            "grid_auto_flow": null,
            "grid_area": null,
            "grid_template_columns": null,
            "flex": null,
            "_model_name": "LayoutModel",
            "justify_items": null,
            "grid_row": null,
            "max_height": null,
            "align_content": null,
            "visibility": null,
            "align_self": null,
            "height": null,
            "min_height": null,
            "padding": null,
            "grid_auto_rows": null,
            "grid_gap": null,
            "max_width": null,
            "order": null,
            "_view_module_version": "1.2.0",
            "grid_template_areas": null,
            "object_position": null,
            "object_fit": null,
            "grid_auto_columns": null,
            "margin": null,
            "display": null,
            "left": null
          }
        },
        "9e018e99e5704736a53a769f2ae3565b": {
          "model_module": "@jupyter-widgets/controls",
          "model_name": "DescriptionStyleModel",
          "state": {
            "_view_name": "StyleView",
            "_model_name": "DescriptionStyleModel",
            "description_width": "",
            "_view_module": "@jupyter-widgets/base",
            "_model_module_version": "1.5.0",
            "_view_count": null,
            "_view_module_version": "1.2.0",
            "_model_module": "@jupyter-widgets/controls"
          }
        },
        "0e9efa97403f4fdc8da70430155d29fa": {
          "model_module": "@jupyter-widgets/base",
          "model_name": "LayoutModel",
          "state": {
            "_view_name": "LayoutView",
            "grid_template_rows": null,
            "right": null,
            "justify_content": null,
            "_view_module": "@jupyter-widgets/base",
            "overflow": null,
            "_model_module_version": "1.2.0",
            "_view_count": null,
            "flex_flow": null,
            "width": null,
            "min_width": null,
            "border": null,
            "align_items": null,
            "bottom": null,
            "_model_module": "@jupyter-widgets/base",
            "top": null,
            "grid_column": null,
            "overflow_y": null,
            "overflow_x": null,
            "grid_auto_flow": null,
            "grid_area": null,
            "grid_template_columns": null,
            "flex": null,
            "_model_name": "LayoutModel",
            "justify_items": null,
            "grid_row": null,
            "max_height": null,
            "align_content": null,
            "visibility": null,
            "align_self": null,
            "height": null,
            "min_height": null,
            "padding": null,
            "grid_auto_rows": null,
            "grid_gap": null,
            "max_width": null,
            "order": null,
            "_view_module_version": "1.2.0",
            "grid_template_areas": null,
            "object_position": null,
            "object_fit": null,
            "grid_auto_columns": null,
            "margin": null,
            "display": null,
            "left": null
          }
        },
        "27a58b39c314493293caada3c4d2e6fc": {
          "model_module": "@jupyter-widgets/controls",
          "model_name": "HBoxModel",
          "state": {
            "_view_name": "HBoxView",
            "_dom_classes": [],
            "_model_name": "HBoxModel",
            "_view_module": "@jupyter-widgets/controls",
            "_model_module_version": "1.5.0",
            "_view_count": null,
            "_view_module_version": "1.5.0",
            "box_style": "",
            "layout": "IPY_MODEL_22ee606e0fb9482cb42c9680b3f1f082",
            "_model_module": "@jupyter-widgets/controls",
            "children": [
              "IPY_MODEL_08563b3117ef432aafe2b49278914242",
              "IPY_MODEL_d9bb180519bc45c49dcba6afdcdf5497"
            ]
          }
        },
        "22ee606e0fb9482cb42c9680b3f1f082": {
          "model_module": "@jupyter-widgets/base",
          "model_name": "LayoutModel",
          "state": {
            "_view_name": "LayoutView",
            "grid_template_rows": null,
            "right": null,
            "justify_content": null,
            "_view_module": "@jupyter-widgets/base",
            "overflow": null,
            "_model_module_version": "1.2.0",
            "_view_count": null,
            "flex_flow": null,
            "width": null,
            "min_width": null,
            "border": null,
            "align_items": null,
            "bottom": null,
            "_model_module": "@jupyter-widgets/base",
            "top": null,
            "grid_column": null,
            "overflow_y": null,
            "overflow_x": null,
            "grid_auto_flow": null,
            "grid_area": null,
            "grid_template_columns": null,
            "flex": null,
            "_model_name": "LayoutModel",
            "justify_items": null,
            "grid_row": null,
            "max_height": null,
            "align_content": null,
            "visibility": null,
            "align_self": null,
            "height": null,
            "min_height": null,
            "padding": null,
            "grid_auto_rows": null,
            "grid_gap": null,
            "max_width": null,
            "order": null,
            "_view_module_version": "1.2.0",
            "grid_template_areas": null,
            "object_position": null,
            "object_fit": null,
            "grid_auto_columns": null,
            "margin": null,
            "display": null,
            "left": null
          }
        },
        "08563b3117ef432aafe2b49278914242": {
          "model_module": "@jupyter-widgets/controls",
          "model_name": "FloatProgressModel",
          "state": {
            "_view_name": "ProgressView",
            "style": "IPY_MODEL_d3061ba51a01404980ca2cd1ce61f1fd",
            "_dom_classes": [],
            "description": "Downloading: 100%",
            "_model_name": "FloatProgressModel",
            "bar_style": "success",
            "max": 688,
            "_view_module": "@jupyter-widgets/controls",
            "_model_module_version": "1.5.0",
            "value": 688,
            "_view_count": null,
            "_view_module_version": "1.5.0",
            "orientation": "horizontal",
            "min": 0,
            "description_tooltip": null,
            "_model_module": "@jupyter-widgets/controls",
            "layout": "IPY_MODEL_37f90be128574395848fce1ca0a1880c"
          }
        },
        "d9bb180519bc45c49dcba6afdcdf5497": {
          "model_module": "@jupyter-widgets/controls",
          "model_name": "HTMLModel",
          "state": {
            "_view_name": "HTMLView",
            "style": "IPY_MODEL_742bed0cb898429d8f699f1334e4d208",
            "_dom_classes": [],
            "description": "",
            "_model_name": "HTMLModel",
            "placeholder": "​",
            "_view_module": "@jupyter-widgets/controls",
            "_model_module_version": "1.5.0",
            "value": " 688/688 [00:04&lt;00:00, 139B/s]",
            "_view_count": null,
            "_view_module_version": "1.5.0",
            "description_tooltip": null,
            "_model_module": "@jupyter-widgets/controls",
            "layout": "IPY_MODEL_a9032d78e8334885b70dc829f5a861e3"
          }
        },
        "d3061ba51a01404980ca2cd1ce61f1fd": {
          "model_module": "@jupyter-widgets/controls",
          "model_name": "ProgressStyleModel",
          "state": {
            "_view_name": "StyleView",
            "_model_name": "ProgressStyleModel",
            "description_width": "initial",
            "_view_module": "@jupyter-widgets/base",
            "_model_module_version": "1.5.0",
            "_view_count": null,
            "_view_module_version": "1.2.0",
            "bar_color": null,
            "_model_module": "@jupyter-widgets/controls"
          }
        },
        "37f90be128574395848fce1ca0a1880c": {
          "model_module": "@jupyter-widgets/base",
          "model_name": "LayoutModel",
          "state": {
            "_view_name": "LayoutView",
            "grid_template_rows": null,
            "right": null,
            "justify_content": null,
            "_view_module": "@jupyter-widgets/base",
            "overflow": null,
            "_model_module_version": "1.2.0",
            "_view_count": null,
            "flex_flow": null,
            "width": null,
            "min_width": null,
            "border": null,
            "align_items": null,
            "bottom": null,
            "_model_module": "@jupyter-widgets/base",
            "top": null,
            "grid_column": null,
            "overflow_y": null,
            "overflow_x": null,
            "grid_auto_flow": null,
            "grid_area": null,
            "grid_template_columns": null,
            "flex": null,
            "_model_name": "LayoutModel",
            "justify_items": null,
            "grid_row": null,
            "max_height": null,
            "align_content": null,
            "visibility": null,
            "align_self": null,
            "height": null,
            "min_height": null,
            "padding": null,
            "grid_auto_rows": null,
            "grid_gap": null,
            "max_width": null,
            "order": null,
            "_view_module_version": "1.2.0",
            "grid_template_areas": null,
            "object_position": null,
            "object_fit": null,
            "grid_auto_columns": null,
            "margin": null,
            "display": null,
            "left": null
          }
        },
        "742bed0cb898429d8f699f1334e4d208": {
          "model_module": "@jupyter-widgets/controls",
          "model_name": "DescriptionStyleModel",
          "state": {
            "_view_name": "StyleView",
            "_model_name": "DescriptionStyleModel",
            "description_width": "",
            "_view_module": "@jupyter-widgets/base",
            "_model_module_version": "1.5.0",
            "_view_count": null,
            "_view_module_version": "1.2.0",
            "_model_module": "@jupyter-widgets/controls"
          }
        },
        "a9032d78e8334885b70dc829f5a861e3": {
          "model_module": "@jupyter-widgets/base",
          "model_name": "LayoutModel",
          "state": {
            "_view_name": "LayoutView",
            "grid_template_rows": null,
            "right": null,
            "justify_content": null,
            "_view_module": "@jupyter-widgets/base",
            "overflow": null,
            "_model_module_version": "1.2.0",
            "_view_count": null,
            "flex_flow": null,
            "width": null,
            "min_width": null,
            "border": null,
            "align_items": null,
            "bottom": null,
            "_model_module": "@jupyter-widgets/base",
            "top": null,
            "grid_column": null,
            "overflow_y": null,
            "overflow_x": null,
            "grid_auto_flow": null,
            "grid_area": null,
            "grid_template_columns": null,
            "flex": null,
            "_model_name": "LayoutModel",
            "justify_items": null,
            "grid_row": null,
            "max_height": null,
            "align_content": null,
            "visibility": null,
            "align_self": null,
            "height": null,
            "min_height": null,
            "padding": null,
            "grid_auto_rows": null,
            "grid_gap": null,
            "max_width": null,
            "order": null,
            "_view_module_version": "1.2.0",
            "grid_template_areas": null,
            "object_position": null,
            "object_fit": null,
            "grid_auto_columns": null,
            "margin": null,
            "display": null,
            "left": null
          }
        },
        "849b7418c7c6456ab0b0d8091b0e2a58": {
          "model_module": "@jupyter-widgets/controls",
          "model_name": "HBoxModel",
          "state": {
            "_view_name": "HBoxView",
            "_dom_classes": [],
            "_model_name": "HBoxModel",
            "_view_module": "@jupyter-widgets/controls",
            "_model_module_version": "1.5.0",
            "_view_count": null,
            "_view_module_version": "1.5.0",
            "box_style": "",
            "layout": "IPY_MODEL_fb0d57392ac741ffaef35dfdcfe0baf8",
            "_model_module": "@jupyter-widgets/controls",
            "children": [
              "IPY_MODEL_b44876cbd3664d7ab321e7cfc6ca6c09",
              "IPY_MODEL_e358a305a2a74fd0be86422c6aa8e133"
            ]
          }
        },
        "fb0d57392ac741ffaef35dfdcfe0baf8": {
          "model_module": "@jupyter-widgets/base",
          "model_name": "LayoutModel",
          "state": {
            "_view_name": "LayoutView",
            "grid_template_rows": null,
            "right": null,
            "justify_content": null,
            "_view_module": "@jupyter-widgets/base",
            "overflow": null,
            "_model_module_version": "1.2.0",
            "_view_count": null,
            "flex_flow": null,
            "width": null,
            "min_width": null,
            "border": null,
            "align_items": null,
            "bottom": null,
            "_model_module": "@jupyter-widgets/base",
            "top": null,
            "grid_column": null,
            "overflow_y": null,
            "overflow_x": null,
            "grid_auto_flow": null,
            "grid_area": null,
            "grid_template_columns": null,
            "flex": null,
            "_model_name": "LayoutModel",
            "justify_items": null,
            "grid_row": null,
            "max_height": null,
            "align_content": null,
            "visibility": null,
            "align_self": null,
            "height": null,
            "min_height": null,
            "padding": null,
            "grid_auto_rows": null,
            "grid_gap": null,
            "max_width": null,
            "order": null,
            "_view_module_version": "1.2.0",
            "grid_template_areas": null,
            "object_position": null,
            "object_fit": null,
            "grid_auto_columns": null,
            "margin": null,
            "display": null,
            "left": null
          }
        },
        "b44876cbd3664d7ab321e7cfc6ca6c09": {
          "model_module": "@jupyter-widgets/controls",
          "model_name": "FloatProgressModel",
          "state": {
            "_view_name": "ProgressView",
            "style": "IPY_MODEL_d63cb9b256d74a1aae940a770897342f",
            "_dom_classes": [],
            "description": "Downloading: 100%",
            "_model_name": "FloatProgressModel",
            "bar_style": "success",
            "max": 898823,
            "_view_module": "@jupyter-widgets/controls",
            "_model_module_version": "1.5.0",
            "value": 898823,
            "_view_count": null,
            "_view_module_version": "1.5.0",
            "orientation": "horizontal",
            "min": 0,
            "description_tooltip": null,
            "_model_module": "@jupyter-widgets/controls",
            "layout": "IPY_MODEL_ee1521258bff47078a5710234b079ddf"
          }
        },
        "e358a305a2a74fd0be86422c6aa8e133": {
          "model_module": "@jupyter-widgets/controls",
          "model_name": "HTMLModel",
          "state": {
            "_view_name": "HTMLView",
            "style": "IPY_MODEL_7bb5b698dd054617a0c4c141d534eb31",
            "_dom_classes": [],
            "description": "",
            "_model_name": "HTMLModel",
            "placeholder": "​",
            "_view_module": "@jupyter-widgets/controls",
            "_model_module_version": "1.5.0",
            "value": " 899k/899k [00:00&lt;00:00, 927kB/s]",
            "_view_count": null,
            "_view_module_version": "1.5.0",
            "description_tooltip": null,
            "_model_module": "@jupyter-widgets/controls",
            "layout": "IPY_MODEL_f113581d125f44eebdac377d24ffa334"
          }
        },
        "d63cb9b256d74a1aae940a770897342f": {
          "model_module": "@jupyter-widgets/controls",
          "model_name": "ProgressStyleModel",
          "state": {
            "_view_name": "StyleView",
            "_model_name": "ProgressStyleModel",
            "description_width": "initial",
            "_view_module": "@jupyter-widgets/base",
            "_model_module_version": "1.5.0",
            "_view_count": null,
            "_view_module_version": "1.2.0",
            "bar_color": null,
            "_model_module": "@jupyter-widgets/controls"
          }
        },
        "ee1521258bff47078a5710234b079ddf": {
          "model_module": "@jupyter-widgets/base",
          "model_name": "LayoutModel",
          "state": {
            "_view_name": "LayoutView",
            "grid_template_rows": null,
            "right": null,
            "justify_content": null,
            "_view_module": "@jupyter-widgets/base",
            "overflow": null,
            "_model_module_version": "1.2.0",
            "_view_count": null,
            "flex_flow": null,
            "width": null,
            "min_width": null,
            "border": null,
            "align_items": null,
            "bottom": null,
            "_model_module": "@jupyter-widgets/base",
            "top": null,
            "grid_column": null,
            "overflow_y": null,
            "overflow_x": null,
            "grid_auto_flow": null,
            "grid_area": null,
            "grid_template_columns": null,
            "flex": null,
            "_model_name": "LayoutModel",
            "justify_items": null,
            "grid_row": null,
            "max_height": null,
            "align_content": null,
            "visibility": null,
            "align_self": null,
            "height": null,
            "min_height": null,
            "padding": null,
            "grid_auto_rows": null,
            "grid_gap": null,
            "max_width": null,
            "order": null,
            "_view_module_version": "1.2.0",
            "grid_template_areas": null,
            "object_position": null,
            "object_fit": null,
            "grid_auto_columns": null,
            "margin": null,
            "display": null,
            "left": null
          }
        },
        "7bb5b698dd054617a0c4c141d534eb31": {
          "model_module": "@jupyter-widgets/controls",
          "model_name": "DescriptionStyleModel",
          "state": {
            "_view_name": "StyleView",
            "_model_name": "DescriptionStyleModel",
            "description_width": "",
            "_view_module": "@jupyter-widgets/base",
            "_model_module_version": "1.5.0",
            "_view_count": null,
            "_view_module_version": "1.2.0",
            "_model_module": "@jupyter-widgets/controls"
          }
        },
        "f113581d125f44eebdac377d24ffa334": {
          "model_module": "@jupyter-widgets/base",
          "model_name": "LayoutModel",
          "state": {
            "_view_name": "LayoutView",
            "grid_template_rows": null,
            "right": null,
            "justify_content": null,
            "_view_module": "@jupyter-widgets/base",
            "overflow": null,
            "_model_module_version": "1.2.0",
            "_view_count": null,
            "flex_flow": null,
            "width": null,
            "min_width": null,
            "border": null,
            "align_items": null,
            "bottom": null,
            "_model_module": "@jupyter-widgets/base",
            "top": null,
            "grid_column": null,
            "overflow_y": null,
            "overflow_x": null,
            "grid_auto_flow": null,
            "grid_area": null,
            "grid_template_columns": null,
            "flex": null,
            "_model_name": "LayoutModel",
            "justify_items": null,
            "grid_row": null,
            "max_height": null,
            "align_content": null,
            "visibility": null,
            "align_self": null,
            "height": null,
            "min_height": null,
            "padding": null,
            "grid_auto_rows": null,
            "grid_gap": null,
            "max_width": null,
            "order": null,
            "_view_module_version": "1.2.0",
            "grid_template_areas": null,
            "object_position": null,
            "object_fit": null,
            "grid_auto_columns": null,
            "margin": null,
            "display": null,
            "left": null
          }
        },
        "b5925a9a952641c7963a9472f83c78df": {
          "model_module": "@jupyter-widgets/controls",
          "model_name": "HBoxModel",
          "state": {
            "_view_name": "HBoxView",
            "_dom_classes": [],
            "_model_name": "HBoxModel",
            "_view_module": "@jupyter-widgets/controls",
            "_model_module_version": "1.5.0",
            "_view_count": null,
            "_view_module_version": "1.5.0",
            "box_style": "",
            "layout": "IPY_MODEL_5b402bacebab492ebb43a91fe18b6686",
            "_model_module": "@jupyter-widgets/controls",
            "children": [
              "IPY_MODEL_763d11a833a44b6aad8365a182b3fb9b",
              "IPY_MODEL_ef219340cef549e4b5aa741d6ee91ece"
            ]
          }
        },
        "5b402bacebab492ebb43a91fe18b6686": {
          "model_module": "@jupyter-widgets/base",
          "model_name": "LayoutModel",
          "state": {
            "_view_name": "LayoutView",
            "grid_template_rows": null,
            "right": null,
            "justify_content": null,
            "_view_module": "@jupyter-widgets/base",
            "overflow": null,
            "_model_module_version": "1.2.0",
            "_view_count": null,
            "flex_flow": null,
            "width": null,
            "min_width": null,
            "border": null,
            "align_items": null,
            "bottom": null,
            "_model_module": "@jupyter-widgets/base",
            "top": null,
            "grid_column": null,
            "overflow_y": null,
            "overflow_x": null,
            "grid_auto_flow": null,
            "grid_area": null,
            "grid_template_columns": null,
            "flex": null,
            "_model_name": "LayoutModel",
            "justify_items": null,
            "grid_row": null,
            "max_height": null,
            "align_content": null,
            "visibility": null,
            "align_self": null,
            "height": null,
            "min_height": null,
            "padding": null,
            "grid_auto_rows": null,
            "grid_gap": null,
            "max_width": null,
            "order": null,
            "_view_module_version": "1.2.0",
            "grid_template_areas": null,
            "object_position": null,
            "object_fit": null,
            "grid_auto_columns": null,
            "margin": null,
            "display": null,
            "left": null
          }
        },
        "763d11a833a44b6aad8365a182b3fb9b": {
          "model_module": "@jupyter-widgets/controls",
          "model_name": "FloatProgressModel",
          "state": {
            "_view_name": "ProgressView",
            "style": "IPY_MODEL_5cab76ae02754b50921b4ce73e67871d",
            "_dom_classes": [],
            "description": "Downloading: 100%",
            "_model_name": "FloatProgressModel",
            "bar_style": "success",
            "max": 456318,
            "_view_module": "@jupyter-widgets/controls",
            "_model_module_version": "1.5.0",
            "value": 456318,
            "_view_count": null,
            "_view_module_version": "1.5.0",
            "orientation": "horizontal",
            "min": 0,
            "description_tooltip": null,
            "_model_module": "@jupyter-widgets/controls",
            "layout": "IPY_MODEL_eba07b3c96db4e28b41780d980d054ca"
          }
        },
        "ef219340cef549e4b5aa741d6ee91ece": {
          "model_module": "@jupyter-widgets/controls",
          "model_name": "HTMLModel",
          "state": {
            "_view_name": "HTMLView",
            "style": "IPY_MODEL_d71f99aacd064d4fab9e358f6187d494",
            "_dom_classes": [],
            "description": "",
            "_model_name": "HTMLModel",
            "placeholder": "​",
            "_view_module": "@jupyter-widgets/controls",
            "_model_module_version": "1.5.0",
            "value": " 456k/456k [00:03&lt;00:00, 141kB/s]",
            "_view_count": null,
            "_view_module_version": "1.5.0",
            "description_tooltip": null,
            "_model_module": "@jupyter-widgets/controls",
            "layout": "IPY_MODEL_2d90738e956e4ac3aaff9b87c984ea09"
          }
        },
        "5cab76ae02754b50921b4ce73e67871d": {
          "model_module": "@jupyter-widgets/controls",
          "model_name": "ProgressStyleModel",
          "state": {
            "_view_name": "StyleView",
            "_model_name": "ProgressStyleModel",
            "description_width": "initial",
            "_view_module": "@jupyter-widgets/base",
            "_model_module_version": "1.5.0",
            "_view_count": null,
            "_view_module_version": "1.2.0",
            "bar_color": null,
            "_model_module": "@jupyter-widgets/controls"
          }
        },
        "eba07b3c96db4e28b41780d980d054ca": {
          "model_module": "@jupyter-widgets/base",
          "model_name": "LayoutModel",
          "state": {
            "_view_name": "LayoutView",
            "grid_template_rows": null,
            "right": null,
            "justify_content": null,
            "_view_module": "@jupyter-widgets/base",
            "overflow": null,
            "_model_module_version": "1.2.0",
            "_view_count": null,
            "flex_flow": null,
            "width": null,
            "min_width": null,
            "border": null,
            "align_items": null,
            "bottom": null,
            "_model_module": "@jupyter-widgets/base",
            "top": null,
            "grid_column": null,
            "overflow_y": null,
            "overflow_x": null,
            "grid_auto_flow": null,
            "grid_area": null,
            "grid_template_columns": null,
            "flex": null,
            "_model_name": "LayoutModel",
            "justify_items": null,
            "grid_row": null,
            "max_height": null,
            "align_content": null,
            "visibility": null,
            "align_self": null,
            "height": null,
            "min_height": null,
            "padding": null,
            "grid_auto_rows": null,
            "grid_gap": null,
            "max_width": null,
            "order": null,
            "_view_module_version": "1.2.0",
            "grid_template_areas": null,
            "object_position": null,
            "object_fit": null,
            "grid_auto_columns": null,
            "margin": null,
            "display": null,
            "left": null
          }
        },
        "d71f99aacd064d4fab9e358f6187d494": {
          "model_module": "@jupyter-widgets/controls",
          "model_name": "DescriptionStyleModel",
          "state": {
            "_view_name": "StyleView",
            "_model_name": "DescriptionStyleModel",
            "description_width": "",
            "_view_module": "@jupyter-widgets/base",
            "_model_module_version": "1.5.0",
            "_view_count": null,
            "_view_module_version": "1.2.0",
            "_model_module": "@jupyter-widgets/controls"
          }
        },
        "2d90738e956e4ac3aaff9b87c984ea09": {
          "model_module": "@jupyter-widgets/base",
          "model_name": "LayoutModel",
          "state": {
            "_view_name": "LayoutView",
            "grid_template_rows": null,
            "right": null,
            "justify_content": null,
            "_view_module": "@jupyter-widgets/base",
            "overflow": null,
            "_model_module_version": "1.2.0",
            "_view_count": null,
            "flex_flow": null,
            "width": null,
            "min_width": null,
            "border": null,
            "align_items": null,
            "bottom": null,
            "_model_module": "@jupyter-widgets/base",
            "top": null,
            "grid_column": null,
            "overflow_y": null,
            "overflow_x": null,
            "grid_auto_flow": null,
            "grid_area": null,
            "grid_template_columns": null,
            "flex": null,
            "_model_name": "LayoutModel",
            "justify_items": null,
            "grid_row": null,
            "max_height": null,
            "align_content": null,
            "visibility": null,
            "align_self": null,
            "height": null,
            "min_height": null,
            "padding": null,
            "grid_auto_rows": null,
            "grid_gap": null,
            "max_width": null,
            "order": null,
            "_view_module_version": "1.2.0",
            "grid_template_areas": null,
            "object_position": null,
            "object_fit": null,
            "grid_auto_columns": null,
            "margin": null,
            "display": null,
            "left": null
          }
        },
        "15d9dfe1261841eaa5951f5211cb13da": {
          "model_module": "@jupyter-widgets/controls",
          "model_name": "HBoxModel",
          "state": {
            "_view_name": "HBoxView",
            "_dom_classes": [],
            "_model_name": "HBoxModel",
            "_view_module": "@jupyter-widgets/controls",
            "_model_module_version": "1.5.0",
            "_view_count": null,
            "_view_module_version": "1.5.0",
            "box_style": "",
            "layout": "IPY_MODEL_0d923dd982724f45a6b87dc5d1d63cd1",
            "_model_module": "@jupyter-widgets/controls",
            "children": [
              "IPY_MODEL_616ae318517d451e8e498328cf12bef2",
              "IPY_MODEL_2123a5777be34e0a930375e21c82fbaa"
            ]
          }
        },
        "0d923dd982724f45a6b87dc5d1d63cd1": {
          "model_module": "@jupyter-widgets/base",
          "model_name": "LayoutModel",
          "state": {
            "_view_name": "LayoutView",
            "grid_template_rows": null,
            "right": null,
            "justify_content": null,
            "_view_module": "@jupyter-widgets/base",
            "overflow": null,
            "_model_module_version": "1.2.0",
            "_view_count": null,
            "flex_flow": null,
            "width": null,
            "min_width": null,
            "border": null,
            "align_items": null,
            "bottom": null,
            "_model_module": "@jupyter-widgets/base",
            "top": null,
            "grid_column": null,
            "overflow_y": null,
            "overflow_x": null,
            "grid_auto_flow": null,
            "grid_area": null,
            "grid_template_columns": null,
            "flex": null,
            "_model_name": "LayoutModel",
            "justify_items": null,
            "grid_row": null,
            "max_height": null,
            "align_content": null,
            "visibility": null,
            "align_self": null,
            "height": null,
            "min_height": null,
            "padding": null,
            "grid_auto_rows": null,
            "grid_gap": null,
            "max_width": null,
            "order": null,
            "_view_module_version": "1.2.0",
            "grid_template_areas": null,
            "object_position": null,
            "object_fit": null,
            "grid_auto_columns": null,
            "margin": null,
            "display": null,
            "left": null
          }
        },
        "616ae318517d451e8e498328cf12bef2": {
          "model_module": "@jupyter-widgets/controls",
          "model_name": "FloatProgressModel",
          "state": {
            "_view_name": "ProgressView",
            "style": "IPY_MODEL_6afab78ad7c347e09545e4f5316b0e76",
            "_dom_classes": [],
            "description": "Downloading: 100%",
            "_model_name": "FloatProgressModel",
            "bar_style": "success",
            "max": 1355863,
            "_view_module": "@jupyter-widgets/controls",
            "_model_module_version": "1.5.0",
            "value": 1355863,
            "_view_count": null,
            "_view_module_version": "1.5.0",
            "orientation": "horizontal",
            "min": 0,
            "description_tooltip": null,
            "_model_module": "@jupyter-widgets/controls",
            "layout": "IPY_MODEL_74d97832df424eb29e451d3e674be82f"
          }
        },
        "2123a5777be34e0a930375e21c82fbaa": {
          "model_module": "@jupyter-widgets/controls",
          "model_name": "HTMLModel",
          "state": {
            "_view_name": "HTMLView",
            "style": "IPY_MODEL_63aa3bc51b664e2c8aee89f542acd55a",
            "_dom_classes": [],
            "description": "",
            "_model_name": "HTMLModel",
            "placeholder": "​",
            "_view_module": "@jupyter-widgets/controls",
            "_model_module_version": "1.5.0",
            "value": " 1.36M/1.36M [00:02&lt;00:00, 577kB/s]",
            "_view_count": null,
            "_view_module_version": "1.5.0",
            "description_tooltip": null,
            "_model_module": "@jupyter-widgets/controls",
            "layout": "IPY_MODEL_8019778bbd1643d9969cbce6348d4a54"
          }
        },
        "6afab78ad7c347e09545e4f5316b0e76": {
          "model_module": "@jupyter-widgets/controls",
          "model_name": "ProgressStyleModel",
          "state": {
            "_view_name": "StyleView",
            "_model_name": "ProgressStyleModel",
            "description_width": "initial",
            "_view_module": "@jupyter-widgets/base",
            "_model_module_version": "1.5.0",
            "_view_count": null,
            "_view_module_version": "1.2.0",
            "bar_color": null,
            "_model_module": "@jupyter-widgets/controls"
          }
        },
        "74d97832df424eb29e451d3e674be82f": {
          "model_module": "@jupyter-widgets/base",
          "model_name": "LayoutModel",
          "state": {
            "_view_name": "LayoutView",
            "grid_template_rows": null,
            "right": null,
            "justify_content": null,
            "_view_module": "@jupyter-widgets/base",
            "overflow": null,
            "_model_module_version": "1.2.0",
            "_view_count": null,
            "flex_flow": null,
            "width": null,
            "min_width": null,
            "border": null,
            "align_items": null,
            "bottom": null,
            "_model_module": "@jupyter-widgets/base",
            "top": null,
            "grid_column": null,
            "overflow_y": null,
            "overflow_x": null,
            "grid_auto_flow": null,
            "grid_area": null,
            "grid_template_columns": null,
            "flex": null,
            "_model_name": "LayoutModel",
            "justify_items": null,
            "grid_row": null,
            "max_height": null,
            "align_content": null,
            "visibility": null,
            "align_self": null,
            "height": null,
            "min_height": null,
            "padding": null,
            "grid_auto_rows": null,
            "grid_gap": null,
            "max_width": null,
            "order": null,
            "_view_module_version": "1.2.0",
            "grid_template_areas": null,
            "object_position": null,
            "object_fit": null,
            "grid_auto_columns": null,
            "margin": null,
            "display": null,
            "left": null
          }
        },
        "63aa3bc51b664e2c8aee89f542acd55a": {
          "model_module": "@jupyter-widgets/controls",
          "model_name": "DescriptionStyleModel",
          "state": {
            "_view_name": "StyleView",
            "_model_name": "DescriptionStyleModel",
            "description_width": "",
            "_view_module": "@jupyter-widgets/base",
            "_model_module_version": "1.5.0",
            "_view_count": null,
            "_view_module_version": "1.2.0",
            "_model_module": "@jupyter-widgets/controls"
          }
        },
        "8019778bbd1643d9969cbce6348d4a54": {
          "model_module": "@jupyter-widgets/base",
          "model_name": "LayoutModel",
          "state": {
            "_view_name": "LayoutView",
            "grid_template_rows": null,
            "right": null,
            "justify_content": null,
            "_view_module": "@jupyter-widgets/base",
            "overflow": null,
            "_model_module_version": "1.2.0",
            "_view_count": null,
            "flex_flow": null,
            "width": null,
            "min_width": null,
            "border": null,
            "align_items": null,
            "bottom": null,
            "_model_module": "@jupyter-widgets/base",
            "top": null,
            "grid_column": null,
            "overflow_y": null,
            "overflow_x": null,
            "grid_auto_flow": null,
            "grid_area": null,
            "grid_template_columns": null,
            "flex": null,
            "_model_name": "LayoutModel",
            "justify_items": null,
            "grid_row": null,
            "max_height": null,
            "align_content": null,
            "visibility": null,
            "align_self": null,
            "height": null,
            "min_height": null,
            "padding": null,
            "grid_auto_rows": null,
            "grid_gap": null,
            "max_width": null,
            "order": null,
            "_view_module_version": "1.2.0",
            "grid_template_areas": null,
            "object_position": null,
            "object_fit": null,
            "grid_auto_columns": null,
            "margin": null,
            "display": null,
            "left": null
          }
        },
        "e2ca008562eb476584034254f592669b": {
          "model_module": "@jupyter-widgets/controls",
          "model_name": "HBoxModel",
          "state": {
            "_view_name": "HBoxView",
            "_dom_classes": [],
            "_model_name": "HBoxModel",
            "_view_module": "@jupyter-widgets/controls",
            "_model_module_version": "1.5.0",
            "_view_count": null,
            "_view_module_version": "1.5.0",
            "box_style": "",
            "layout": "IPY_MODEL_6e8ea866528c43328bd9a9b3f662565e",
            "_model_module": "@jupyter-widgets/controls",
            "children": [
              "IPY_MODEL_6ca6a5a6b8e644adbf0f2037351a53ea",
              "IPY_MODEL_0545bc0959eb4128aee487daf9361fcd"
            ]
          }
        },
        "6e8ea866528c43328bd9a9b3f662565e": {
          "model_module": "@jupyter-widgets/base",
          "model_name": "LayoutModel",
          "state": {
            "_view_name": "LayoutView",
            "grid_template_rows": null,
            "right": null,
            "justify_content": null,
            "_view_module": "@jupyter-widgets/base",
            "overflow": null,
            "_model_module_version": "1.2.0",
            "_view_count": null,
            "flex_flow": null,
            "width": null,
            "min_width": null,
            "border": null,
            "align_items": null,
            "bottom": null,
            "_model_module": "@jupyter-widgets/base",
            "top": null,
            "grid_column": null,
            "overflow_y": null,
            "overflow_x": null,
            "grid_auto_flow": null,
            "grid_area": null,
            "grid_template_columns": null,
            "flex": null,
            "_model_name": "LayoutModel",
            "justify_items": null,
            "grid_row": null,
            "max_height": null,
            "align_content": null,
            "visibility": null,
            "align_self": null,
            "height": null,
            "min_height": null,
            "padding": null,
            "grid_auto_rows": null,
            "grid_gap": null,
            "max_width": null,
            "order": null,
            "_view_module_version": "1.2.0",
            "grid_template_areas": null,
            "object_position": null,
            "object_fit": null,
            "grid_auto_columns": null,
            "margin": null,
            "display": null,
            "left": null
          }
        },
        "6ca6a5a6b8e644adbf0f2037351a53ea": {
          "model_module": "@jupyter-widgets/controls",
          "model_name": "FloatProgressModel",
          "state": {
            "_view_name": "ProgressView",
            "style": "IPY_MODEL_9d9df07a9afb415c944678f177c20a85",
            "_dom_classes": [],
            "description": "Downloading: 100%",
            "_model_name": "FloatProgressModel",
            "bar_style": "success",
            "max": 1425744429,
            "_view_module": "@jupyter-widgets/controls",
            "_model_module_version": "1.5.0",
            "value": 1425744429,
            "_view_count": null,
            "_view_module_version": "1.5.0",
            "orientation": "horizontal",
            "min": 0,
            "description_tooltip": null,
            "_model_module": "@jupyter-widgets/controls",
            "layout": "IPY_MODEL_97d262f0c13d4d04aa85183d315981f0"
          }
        },
        "0545bc0959eb4128aee487daf9361fcd": {
          "model_module": "@jupyter-widgets/controls",
          "model_name": "HTMLModel",
          "state": {
            "_view_name": "HTMLView",
            "style": "IPY_MODEL_952e58e443b64e72958282fdd25f9e8a",
            "_dom_classes": [],
            "description": "",
            "_model_name": "HTMLModel",
            "placeholder": "​",
            "_view_module": "@jupyter-widgets/controls",
            "_model_module_version": "1.5.0",
            "value": " 1.43G/1.43G [00:31&lt;00:00, 45.4MB/s]",
            "_view_count": null,
            "_view_module_version": "1.5.0",
            "description_tooltip": null,
            "_model_module": "@jupyter-widgets/controls",
            "layout": "IPY_MODEL_6d98e6e0c838447a98c1d65341645bd9"
          }
        },
        "9d9df07a9afb415c944678f177c20a85": {
          "model_module": "@jupyter-widgets/controls",
          "model_name": "ProgressStyleModel",
          "state": {
            "_view_name": "StyleView",
            "_model_name": "ProgressStyleModel",
            "description_width": "initial",
            "_view_module": "@jupyter-widgets/base",
            "_model_module_version": "1.5.0",
            "_view_count": null,
            "_view_module_version": "1.2.0",
            "bar_color": null,
            "_model_module": "@jupyter-widgets/controls"
          }
        },
        "97d262f0c13d4d04aa85183d315981f0": {
          "model_module": "@jupyter-widgets/base",
          "model_name": "LayoutModel",
          "state": {
            "_view_name": "LayoutView",
            "grid_template_rows": null,
            "right": null,
            "justify_content": null,
            "_view_module": "@jupyter-widgets/base",
            "overflow": null,
            "_model_module_version": "1.2.0",
            "_view_count": null,
            "flex_flow": null,
            "width": null,
            "min_width": null,
            "border": null,
            "align_items": null,
            "bottom": null,
            "_model_module": "@jupyter-widgets/base",
            "top": null,
            "grid_column": null,
            "overflow_y": null,
            "overflow_x": null,
            "grid_auto_flow": null,
            "grid_area": null,
            "grid_template_columns": null,
            "flex": null,
            "_model_name": "LayoutModel",
            "justify_items": null,
            "grid_row": null,
            "max_height": null,
            "align_content": null,
            "visibility": null,
            "align_self": null,
            "height": null,
            "min_height": null,
            "padding": null,
            "grid_auto_rows": null,
            "grid_gap": null,
            "max_width": null,
            "order": null,
            "_view_module_version": "1.2.0",
            "grid_template_areas": null,
            "object_position": null,
            "object_fit": null,
            "grid_auto_columns": null,
            "margin": null,
            "display": null,
            "left": null
          }
        },
        "952e58e443b64e72958282fdd25f9e8a": {
          "model_module": "@jupyter-widgets/controls",
          "model_name": "DescriptionStyleModel",
          "state": {
            "_view_name": "StyleView",
            "_model_name": "DescriptionStyleModel",
            "description_width": "",
            "_view_module": "@jupyter-widgets/base",
            "_model_module_version": "1.5.0",
            "_view_count": null,
            "_view_module_version": "1.2.0",
            "_model_module": "@jupyter-widgets/controls"
          }
        },
        "6d98e6e0c838447a98c1d65341645bd9": {
          "model_module": "@jupyter-widgets/base",
          "model_name": "LayoutModel",
          "state": {
            "_view_name": "LayoutView",
            "grid_template_rows": null,
            "right": null,
            "justify_content": null,
            "_view_module": "@jupyter-widgets/base",
            "overflow": null,
            "_model_module_version": "1.2.0",
            "_view_count": null,
            "flex_flow": null,
            "width": null,
            "min_width": null,
            "border": null,
            "align_items": null,
            "bottom": null,
            "_model_module": "@jupyter-widgets/base",
            "top": null,
            "grid_column": null,
            "overflow_y": null,
            "overflow_x": null,
            "grid_auto_flow": null,
            "grid_area": null,
            "grid_template_columns": null,
            "flex": null,
            "_model_name": "LayoutModel",
            "justify_items": null,
            "grid_row": null,
            "max_height": null,
            "align_content": null,
            "visibility": null,
            "align_self": null,
            "height": null,
            "min_height": null,
            "padding": null,
            "grid_auto_rows": null,
            "grid_gap": null,
            "max_width": null,
            "order": null,
            "_view_module_version": "1.2.0",
            "grid_template_areas": null,
            "object_position": null,
            "object_fit": null,
            "grid_auto_columns": null,
            "margin": null,
            "display": null,
            "left": null
          }
        },
        "1d3ab23b803341f6ab5574b8146edc05": {
          "model_module": "@jupyter-widgets/controls",
          "model_name": "HBoxModel",
          "state": {
            "_view_name": "HBoxView",
            "_dom_classes": [],
            "_model_name": "HBoxModel",
            "_view_module": "@jupyter-widgets/controls",
            "_model_module_version": "1.5.0",
            "_view_count": null,
            "_view_module_version": "1.5.0",
            "box_style": "",
            "layout": "IPY_MODEL_c74f4b9388684546b80caf92293fac3f",
            "_model_module": "@jupyter-widgets/controls",
            "children": [
              "IPY_MODEL_ec7928df168346b69c91eaa1f4d89ce5",
              "IPY_MODEL_d95ec764dae24f27898065ed90f1ef3e"
            ]
          }
        },
        "c74f4b9388684546b80caf92293fac3f": {
          "model_module": "@jupyter-widgets/base",
          "model_name": "LayoutModel",
          "state": {
            "_view_name": "LayoutView",
            "grid_template_rows": null,
            "right": null,
            "justify_content": null,
            "_view_module": "@jupyter-widgets/base",
            "overflow": null,
            "_model_module_version": "1.2.0",
            "_view_count": null,
            "flex_flow": null,
            "width": null,
            "min_width": null,
            "border": null,
            "align_items": null,
            "bottom": null,
            "_model_module": "@jupyter-widgets/base",
            "top": null,
            "grid_column": null,
            "overflow_y": null,
            "overflow_x": null,
            "grid_auto_flow": null,
            "grid_area": null,
            "grid_template_columns": null,
            "flex": null,
            "_model_name": "LayoutModel",
            "justify_items": null,
            "grid_row": null,
            "max_height": null,
            "align_content": null,
            "visibility": null,
            "align_self": null,
            "height": null,
            "min_height": null,
            "padding": null,
            "grid_auto_rows": null,
            "grid_gap": null,
            "max_width": null,
            "order": null,
            "_view_module_version": "1.2.0",
            "grid_template_areas": null,
            "object_position": null,
            "object_fit": null,
            "grid_auto_columns": null,
            "margin": null,
            "display": null,
            "left": null
          }
        },
        "ec7928df168346b69c91eaa1f4d89ce5": {
          "model_module": "@jupyter-widgets/controls",
          "model_name": "FloatProgressModel",
          "state": {
            "_view_name": "ProgressView",
            "style": "IPY_MODEL_04097ce9861b4e7b8d124aa6685e9987",
            "_dom_classes": [],
            "description": "Downloading: 100%",
            "_model_name": "FloatProgressModel",
            "bar_style": "success",
            "max": 688,
            "_view_module": "@jupyter-widgets/controls",
            "_model_module_version": "1.5.0",
            "value": 688,
            "_view_count": null,
            "_view_module_version": "1.5.0",
            "orientation": "horizontal",
            "min": 0,
            "description_tooltip": null,
            "_model_module": "@jupyter-widgets/controls",
            "layout": "IPY_MODEL_d8271ecad6014c7eb5bf15cdb6e36684"
          }
        },
        "d95ec764dae24f27898065ed90f1ef3e": {
          "model_module": "@jupyter-widgets/controls",
          "model_name": "HTMLModel",
          "state": {
            "_view_name": "HTMLView",
            "style": "IPY_MODEL_2fad9e375ecf40d8801438e882b9c729",
            "_dom_classes": [],
            "description": "",
            "_model_name": "HTMLModel",
            "placeholder": "​",
            "_view_module": "@jupyter-widgets/controls",
            "_model_module_version": "1.5.0",
            "value": " 688/688 [00:00&lt;00:00, 1.06kB/s]",
            "_view_count": null,
            "_view_module_version": "1.5.0",
            "description_tooltip": null,
            "_model_module": "@jupyter-widgets/controls",
            "layout": "IPY_MODEL_80e495ad86094df49103b513a9fd9d02"
          }
        },
        "04097ce9861b4e7b8d124aa6685e9987": {
          "model_module": "@jupyter-widgets/controls",
          "model_name": "ProgressStyleModel",
          "state": {
            "_view_name": "StyleView",
            "_model_name": "ProgressStyleModel",
            "description_width": "initial",
            "_view_module": "@jupyter-widgets/base",
            "_model_module_version": "1.5.0",
            "_view_count": null,
            "_view_module_version": "1.2.0",
            "bar_color": null,
            "_model_module": "@jupyter-widgets/controls"
          }
        },
        "d8271ecad6014c7eb5bf15cdb6e36684": {
          "model_module": "@jupyter-widgets/base",
          "model_name": "LayoutModel",
          "state": {
            "_view_name": "LayoutView",
            "grid_template_rows": null,
            "right": null,
            "justify_content": null,
            "_view_module": "@jupyter-widgets/base",
            "overflow": null,
            "_model_module_version": "1.2.0",
            "_view_count": null,
            "flex_flow": null,
            "width": null,
            "min_width": null,
            "border": null,
            "align_items": null,
            "bottom": null,
            "_model_module": "@jupyter-widgets/base",
            "top": null,
            "grid_column": null,
            "overflow_y": null,
            "overflow_x": null,
            "grid_auto_flow": null,
            "grid_area": null,
            "grid_template_columns": null,
            "flex": null,
            "_model_name": "LayoutModel",
            "justify_items": null,
            "grid_row": null,
            "max_height": null,
            "align_content": null,
            "visibility": null,
            "align_self": null,
            "height": null,
            "min_height": null,
            "padding": null,
            "grid_auto_rows": null,
            "grid_gap": null,
            "max_width": null,
            "order": null,
            "_view_module_version": "1.2.0",
            "grid_template_areas": null,
            "object_position": null,
            "object_fit": null,
            "grid_auto_columns": null,
            "margin": null,
            "display": null,
            "left": null
          }
        },
        "2fad9e375ecf40d8801438e882b9c729": {
          "model_module": "@jupyter-widgets/controls",
          "model_name": "DescriptionStyleModel",
          "state": {
            "_view_name": "StyleView",
            "_model_name": "DescriptionStyleModel",
            "description_width": "",
            "_view_module": "@jupyter-widgets/base",
            "_model_module_version": "1.5.0",
            "_view_count": null,
            "_view_module_version": "1.2.0",
            "_model_module": "@jupyter-widgets/controls"
          }
        },
        "80e495ad86094df49103b513a9fd9d02": {
          "model_module": "@jupyter-widgets/base",
          "model_name": "LayoutModel",
          "state": {
            "_view_name": "LayoutView",
            "grid_template_rows": null,
            "right": null,
            "justify_content": null,
            "_view_module": "@jupyter-widgets/base",
            "overflow": null,
            "_model_module_version": "1.2.0",
            "_view_count": null,
            "flex_flow": null,
            "width": null,
            "min_width": null,
            "border": null,
            "align_items": null,
            "bottom": null,
            "_model_module": "@jupyter-widgets/base",
            "top": null,
            "grid_column": null,
            "overflow_y": null,
            "overflow_x": null,
            "grid_auto_flow": null,
            "grid_area": null,
            "grid_template_columns": null,
            "flex": null,
            "_model_name": "LayoutModel",
            "justify_items": null,
            "grid_row": null,
            "max_height": null,
            "align_content": null,
            "visibility": null,
            "align_self": null,
            "height": null,
            "min_height": null,
            "padding": null,
            "grid_auto_rows": null,
            "grid_gap": null,
            "max_width": null,
            "order": null,
            "_view_module_version": "1.2.0",
            "grid_template_areas": null,
            "object_position": null,
            "object_fit": null,
            "grid_auto_columns": null,
            "margin": null,
            "display": null,
            "left": null
          }
        },
        "c4720a1af57b467195509f4ffdce3352": {
          "model_module": "@jupyter-widgets/controls",
          "model_name": "HBoxModel",
          "state": {
            "_view_name": "HBoxView",
            "_dom_classes": [],
            "_model_name": "HBoxModel",
            "_view_module": "@jupyter-widgets/controls",
            "_model_module_version": "1.5.0",
            "_view_count": null,
            "_view_module_version": "1.5.0",
            "box_style": "",
            "layout": "IPY_MODEL_1112937b3cc246eabd87e5ade85dea2d",
            "_model_module": "@jupyter-widgets/controls",
            "children": [
              "IPY_MODEL_95c2aad20974451c96fcf3ffa3bb91f4",
              "IPY_MODEL_fd735c9168fd494d855b9a8ee3d22951"
            ]
          }
        },
        "1112937b3cc246eabd87e5ade85dea2d": {
          "model_module": "@jupyter-widgets/base",
          "model_name": "LayoutModel",
          "state": {
            "_view_name": "LayoutView",
            "grid_template_rows": null,
            "right": null,
            "justify_content": null,
            "_view_module": "@jupyter-widgets/base",
            "overflow": null,
            "_model_module_version": "1.2.0",
            "_view_count": null,
            "flex_flow": null,
            "width": null,
            "min_width": null,
            "border": null,
            "align_items": null,
            "bottom": null,
            "_model_module": "@jupyter-widgets/base",
            "top": null,
            "grid_column": null,
            "overflow_y": null,
            "overflow_x": null,
            "grid_auto_flow": null,
            "grid_area": null,
            "grid_template_columns": null,
            "flex": null,
            "_model_name": "LayoutModel",
            "justify_items": null,
            "grid_row": null,
            "max_height": null,
            "align_content": null,
            "visibility": null,
            "align_self": null,
            "height": null,
            "min_height": null,
            "padding": null,
            "grid_auto_rows": null,
            "grid_gap": null,
            "max_width": null,
            "order": null,
            "_view_module_version": "1.2.0",
            "grid_template_areas": null,
            "object_position": null,
            "object_fit": null,
            "grid_auto_columns": null,
            "margin": null,
            "display": null,
            "left": null
          }
        },
        "95c2aad20974451c96fcf3ffa3bb91f4": {
          "model_module": "@jupyter-widgets/controls",
          "model_name": "FloatProgressModel",
          "state": {
            "_view_name": "ProgressView",
            "style": "IPY_MODEL_f175f1b0d8794a7f864d310737fe437a",
            "_dom_classes": [],
            "description": "Downloading: 100%",
            "_model_name": "FloatProgressModel",
            "bar_style": "success",
            "max": 898823,
            "_view_module": "@jupyter-widgets/controls",
            "_model_module_version": "1.5.0",
            "value": 898823,
            "_view_count": null,
            "_view_module_version": "1.5.0",
            "orientation": "horizontal",
            "min": 0,
            "description_tooltip": null,
            "_model_module": "@jupyter-widgets/controls",
            "layout": "IPY_MODEL_a3450b0286364b26a3184a4b559d6cb4"
          }
        },
        "fd735c9168fd494d855b9a8ee3d22951": {
          "model_module": "@jupyter-widgets/controls",
          "model_name": "HTMLModel",
          "state": {
            "_view_name": "HTMLView",
            "style": "IPY_MODEL_34bbfe185b3b4935a04e65e9bfdbe85a",
            "_dom_classes": [],
            "description": "",
            "_model_name": "HTMLModel",
            "placeholder": "​",
            "_view_module": "@jupyter-widgets/controls",
            "_model_module_version": "1.5.0",
            "value": " 899k/899k [00:40&lt;00:00, 22.0kB/s]",
            "_view_count": null,
            "_view_module_version": "1.5.0",
            "description_tooltip": null,
            "_model_module": "@jupyter-widgets/controls",
            "layout": "IPY_MODEL_142310502b3a4fc1b41502b9d2f71034"
          }
        },
        "f175f1b0d8794a7f864d310737fe437a": {
          "model_module": "@jupyter-widgets/controls",
          "model_name": "ProgressStyleModel",
          "state": {
            "_view_name": "StyleView",
            "_model_name": "ProgressStyleModel",
            "description_width": "initial",
            "_view_module": "@jupyter-widgets/base",
            "_model_module_version": "1.5.0",
            "_view_count": null,
            "_view_module_version": "1.2.0",
            "bar_color": null,
            "_model_module": "@jupyter-widgets/controls"
          }
        },
        "a3450b0286364b26a3184a4b559d6cb4": {
          "model_module": "@jupyter-widgets/base",
          "model_name": "LayoutModel",
          "state": {
            "_view_name": "LayoutView",
            "grid_template_rows": null,
            "right": null,
            "justify_content": null,
            "_view_module": "@jupyter-widgets/base",
            "overflow": null,
            "_model_module_version": "1.2.0",
            "_view_count": null,
            "flex_flow": null,
            "width": null,
            "min_width": null,
            "border": null,
            "align_items": null,
            "bottom": null,
            "_model_module": "@jupyter-widgets/base",
            "top": null,
            "grid_column": null,
            "overflow_y": null,
            "overflow_x": null,
            "grid_auto_flow": null,
            "grid_area": null,
            "grid_template_columns": null,
            "flex": null,
            "_model_name": "LayoutModel",
            "justify_items": null,
            "grid_row": null,
            "max_height": null,
            "align_content": null,
            "visibility": null,
            "align_self": null,
            "height": null,
            "min_height": null,
            "padding": null,
            "grid_auto_rows": null,
            "grid_gap": null,
            "max_width": null,
            "order": null,
            "_view_module_version": "1.2.0",
            "grid_template_areas": null,
            "object_position": null,
            "object_fit": null,
            "grid_auto_columns": null,
            "margin": null,
            "display": null,
            "left": null
          }
        },
        "34bbfe185b3b4935a04e65e9bfdbe85a": {
          "model_module": "@jupyter-widgets/controls",
          "model_name": "DescriptionStyleModel",
          "state": {
            "_view_name": "StyleView",
            "_model_name": "DescriptionStyleModel",
            "description_width": "",
            "_view_module": "@jupyter-widgets/base",
            "_model_module_version": "1.5.0",
            "_view_count": null,
            "_view_module_version": "1.2.0",
            "_model_module": "@jupyter-widgets/controls"
          }
        },
        "142310502b3a4fc1b41502b9d2f71034": {
          "model_module": "@jupyter-widgets/base",
          "model_name": "LayoutModel",
          "state": {
            "_view_name": "LayoutView",
            "grid_template_rows": null,
            "right": null,
            "justify_content": null,
            "_view_module": "@jupyter-widgets/base",
            "overflow": null,
            "_model_module_version": "1.2.0",
            "_view_count": null,
            "flex_flow": null,
            "width": null,
            "min_width": null,
            "border": null,
            "align_items": null,
            "bottom": null,
            "_model_module": "@jupyter-widgets/base",
            "top": null,
            "grid_column": null,
            "overflow_y": null,
            "overflow_x": null,
            "grid_auto_flow": null,
            "grid_area": null,
            "grid_template_columns": null,
            "flex": null,
            "_model_name": "LayoutModel",
            "justify_items": null,
            "grid_row": null,
            "max_height": null,
            "align_content": null,
            "visibility": null,
            "align_self": null,
            "height": null,
            "min_height": null,
            "padding": null,
            "grid_auto_rows": null,
            "grid_gap": null,
            "max_width": null,
            "order": null,
            "_view_module_version": "1.2.0",
            "grid_template_areas": null,
            "object_position": null,
            "object_fit": null,
            "grid_auto_columns": null,
            "margin": null,
            "display": null,
            "left": null
          }
        },
        "d8693e7961134380bde59015e9f090f6": {
          "model_module": "@jupyter-widgets/controls",
          "model_name": "HBoxModel",
          "state": {
            "_view_name": "HBoxView",
            "_dom_classes": [],
            "_model_name": "HBoxModel",
            "_view_module": "@jupyter-widgets/controls",
            "_model_module_version": "1.5.0",
            "_view_count": null,
            "_view_module_version": "1.5.0",
            "box_style": "",
            "layout": "IPY_MODEL_1fc456731d3243ff9bf838eaab547552",
            "_model_module": "@jupyter-widgets/controls",
            "children": [
              "IPY_MODEL_f4a73163226a45dc83df1a705463372a",
              "IPY_MODEL_dd15b8e5b47749f49e107d763f563cdd"
            ]
          }
        },
        "1fc456731d3243ff9bf838eaab547552": {
          "model_module": "@jupyter-widgets/base",
          "model_name": "LayoutModel",
          "state": {
            "_view_name": "LayoutView",
            "grid_template_rows": null,
            "right": null,
            "justify_content": null,
            "_view_module": "@jupyter-widgets/base",
            "overflow": null,
            "_model_module_version": "1.2.0",
            "_view_count": null,
            "flex_flow": null,
            "width": null,
            "min_width": null,
            "border": null,
            "align_items": null,
            "bottom": null,
            "_model_module": "@jupyter-widgets/base",
            "top": null,
            "grid_column": null,
            "overflow_y": null,
            "overflow_x": null,
            "grid_auto_flow": null,
            "grid_area": null,
            "grid_template_columns": null,
            "flex": null,
            "_model_name": "LayoutModel",
            "justify_items": null,
            "grid_row": null,
            "max_height": null,
            "align_content": null,
            "visibility": null,
            "align_self": null,
            "height": null,
            "min_height": null,
            "padding": null,
            "grid_auto_rows": null,
            "grid_gap": null,
            "max_width": null,
            "order": null,
            "_view_module_version": "1.2.0",
            "grid_template_areas": null,
            "object_position": null,
            "object_fit": null,
            "grid_auto_columns": null,
            "margin": null,
            "display": null,
            "left": null
          }
        },
        "f4a73163226a45dc83df1a705463372a": {
          "model_module": "@jupyter-widgets/controls",
          "model_name": "FloatProgressModel",
          "state": {
            "_view_name": "ProgressView",
            "style": "IPY_MODEL_164f0a09bc87404fbe5eb54ede1c89e2",
            "_dom_classes": [],
            "description": "Downloading: 100%",
            "_model_name": "FloatProgressModel",
            "bar_style": "success",
            "max": 456318,
            "_view_module": "@jupyter-widgets/controls",
            "_model_module_version": "1.5.0",
            "value": 456318,
            "_view_count": null,
            "_view_module_version": "1.5.0",
            "orientation": "horizontal",
            "min": 0,
            "description_tooltip": null,
            "_model_module": "@jupyter-widgets/controls",
            "layout": "IPY_MODEL_88115c0297e948acb74fd6a2d95f39ba"
          }
        },
        "dd15b8e5b47749f49e107d763f563cdd": {
          "model_module": "@jupyter-widgets/controls",
          "model_name": "HTMLModel",
          "state": {
            "_view_name": "HTMLView",
            "style": "IPY_MODEL_7e0b9c4cf5c1450c91344242b47d1d02",
            "_dom_classes": [],
            "description": "",
            "_model_name": "HTMLModel",
            "placeholder": "​",
            "_view_module": "@jupyter-widgets/controls",
            "_model_module_version": "1.5.0",
            "value": " 456k/456k [00:00&lt;00:00, 510kB/s]",
            "_view_count": null,
            "_view_module_version": "1.5.0",
            "description_tooltip": null,
            "_model_module": "@jupyter-widgets/controls",
            "layout": "IPY_MODEL_af644efb3ce5431faa5d9589ff90de33"
          }
        },
        "164f0a09bc87404fbe5eb54ede1c89e2": {
          "model_module": "@jupyter-widgets/controls",
          "model_name": "ProgressStyleModel",
          "state": {
            "_view_name": "StyleView",
            "_model_name": "ProgressStyleModel",
            "description_width": "initial",
            "_view_module": "@jupyter-widgets/base",
            "_model_module_version": "1.5.0",
            "_view_count": null,
            "_view_module_version": "1.2.0",
            "bar_color": null,
            "_model_module": "@jupyter-widgets/controls"
          }
        },
        "88115c0297e948acb74fd6a2d95f39ba": {
          "model_module": "@jupyter-widgets/base",
          "model_name": "LayoutModel",
          "state": {
            "_view_name": "LayoutView",
            "grid_template_rows": null,
            "right": null,
            "justify_content": null,
            "_view_module": "@jupyter-widgets/base",
            "overflow": null,
            "_model_module_version": "1.2.0",
            "_view_count": null,
            "flex_flow": null,
            "width": null,
            "min_width": null,
            "border": null,
            "align_items": null,
            "bottom": null,
            "_model_module": "@jupyter-widgets/base",
            "top": null,
            "grid_column": null,
            "overflow_y": null,
            "overflow_x": null,
            "grid_auto_flow": null,
            "grid_area": null,
            "grid_template_columns": null,
            "flex": null,
            "_model_name": "LayoutModel",
            "justify_items": null,
            "grid_row": null,
            "max_height": null,
            "align_content": null,
            "visibility": null,
            "align_self": null,
            "height": null,
            "min_height": null,
            "padding": null,
            "grid_auto_rows": null,
            "grid_gap": null,
            "max_width": null,
            "order": null,
            "_view_module_version": "1.2.0",
            "grid_template_areas": null,
            "object_position": null,
            "object_fit": null,
            "grid_auto_columns": null,
            "margin": null,
            "display": null,
            "left": null
          }
        },
        "7e0b9c4cf5c1450c91344242b47d1d02": {
          "model_module": "@jupyter-widgets/controls",
          "model_name": "DescriptionStyleModel",
          "state": {
            "_view_name": "StyleView",
            "_model_name": "DescriptionStyleModel",
            "description_width": "",
            "_view_module": "@jupyter-widgets/base",
            "_model_module_version": "1.5.0",
            "_view_count": null,
            "_view_module_version": "1.2.0",
            "_model_module": "@jupyter-widgets/controls"
          }
        },
        "af644efb3ce5431faa5d9589ff90de33": {
          "model_module": "@jupyter-widgets/base",
          "model_name": "LayoutModel",
          "state": {
            "_view_name": "LayoutView",
            "grid_template_rows": null,
            "right": null,
            "justify_content": null,
            "_view_module": "@jupyter-widgets/base",
            "overflow": null,
            "_model_module_version": "1.2.0",
            "_view_count": null,
            "flex_flow": null,
            "width": null,
            "min_width": null,
            "border": null,
            "align_items": null,
            "bottom": null,
            "_model_module": "@jupyter-widgets/base",
            "top": null,
            "grid_column": null,
            "overflow_y": null,
            "overflow_x": null,
            "grid_auto_flow": null,
            "grid_area": null,
            "grid_template_columns": null,
            "flex": null,
            "_model_name": "LayoutModel",
            "justify_items": null,
            "grid_row": null,
            "max_height": null,
            "align_content": null,
            "visibility": null,
            "align_self": null,
            "height": null,
            "min_height": null,
            "padding": null,
            "grid_auto_rows": null,
            "grid_gap": null,
            "max_width": null,
            "order": null,
            "_view_module_version": "1.2.0",
            "grid_template_areas": null,
            "object_position": null,
            "object_fit": null,
            "grid_auto_columns": null,
            "margin": null,
            "display": null,
            "left": null
          }
        },
        "185b84c26a5648b6b701eb25fca7c65f": {
          "model_module": "@jupyter-widgets/controls",
          "model_name": "HBoxModel",
          "state": {
            "_view_name": "HBoxView",
            "_dom_classes": [],
            "_model_name": "HBoxModel",
            "_view_module": "@jupyter-widgets/controls",
            "_model_module_version": "1.5.0",
            "_view_count": null,
            "_view_module_version": "1.5.0",
            "box_style": "",
            "layout": "IPY_MODEL_ff48e8ae2fc9409386f2d35985fc309c",
            "_model_module": "@jupyter-widgets/controls",
            "children": [
              "IPY_MODEL_3d5db02904064ba5a43fc5b9ce824378",
              "IPY_MODEL_b5ab90fd1623484abaf768fad797ae91"
            ]
          }
        },
        "ff48e8ae2fc9409386f2d35985fc309c": {
          "model_module": "@jupyter-widgets/base",
          "model_name": "LayoutModel",
          "state": {
            "_view_name": "LayoutView",
            "grid_template_rows": null,
            "right": null,
            "justify_content": null,
            "_view_module": "@jupyter-widgets/base",
            "overflow": null,
            "_model_module_version": "1.2.0",
            "_view_count": null,
            "flex_flow": null,
            "width": null,
            "min_width": null,
            "border": null,
            "align_items": null,
            "bottom": null,
            "_model_module": "@jupyter-widgets/base",
            "top": null,
            "grid_column": null,
            "overflow_y": null,
            "overflow_x": null,
            "grid_auto_flow": null,
            "grid_area": null,
            "grid_template_columns": null,
            "flex": null,
            "_model_name": "LayoutModel",
            "justify_items": null,
            "grid_row": null,
            "max_height": null,
            "align_content": null,
            "visibility": null,
            "align_self": null,
            "height": null,
            "min_height": null,
            "padding": null,
            "grid_auto_rows": null,
            "grid_gap": null,
            "max_width": null,
            "order": null,
            "_view_module_version": "1.2.0",
            "grid_template_areas": null,
            "object_position": null,
            "object_fit": null,
            "grid_auto_columns": null,
            "margin": null,
            "display": null,
            "left": null
          }
        },
        "3d5db02904064ba5a43fc5b9ce824378": {
          "model_module": "@jupyter-widgets/controls",
          "model_name": "FloatProgressModel",
          "state": {
            "_view_name": "ProgressView",
            "style": "IPY_MODEL_037eaa2e9bd142c2a0052ed32bcc8b72",
            "_dom_classes": [],
            "description": "Downloading: 100%",
            "_model_name": "FloatProgressModel",
            "bar_style": "success",
            "max": 1355863,
            "_view_module": "@jupyter-widgets/controls",
            "_model_module_version": "1.5.0",
            "value": 1355863,
            "_view_count": null,
            "_view_module_version": "1.5.0",
            "orientation": "horizontal",
            "min": 0,
            "description_tooltip": null,
            "_model_module": "@jupyter-widgets/controls",
            "layout": "IPY_MODEL_231c6dbc3028455c89c2409d4e229974"
          }
        },
        "b5ab90fd1623484abaf768fad797ae91": {
          "model_module": "@jupyter-widgets/controls",
          "model_name": "HTMLModel",
          "state": {
            "_view_name": "HTMLView",
            "style": "IPY_MODEL_3d1265bf86f64b6e91b0e61eafb288c7",
            "_dom_classes": [],
            "description": "",
            "_model_name": "HTMLModel",
            "placeholder": "​",
            "_view_module": "@jupyter-widgets/controls",
            "_model_module_version": "1.5.0",
            "value": " 1.36M/1.36M [00:39&lt;00:00, 34.5kB/s]",
            "_view_count": null,
            "_view_module_version": "1.5.0",
            "description_tooltip": null,
            "_model_module": "@jupyter-widgets/controls",
            "layout": "IPY_MODEL_ed19138f1a844fdabe6571665291f570"
          }
        },
        "037eaa2e9bd142c2a0052ed32bcc8b72": {
          "model_module": "@jupyter-widgets/controls",
          "model_name": "ProgressStyleModel",
          "state": {
            "_view_name": "StyleView",
            "_model_name": "ProgressStyleModel",
            "description_width": "initial",
            "_view_module": "@jupyter-widgets/base",
            "_model_module_version": "1.5.0",
            "_view_count": null,
            "_view_module_version": "1.2.0",
            "bar_color": null,
            "_model_module": "@jupyter-widgets/controls"
          }
        },
        "231c6dbc3028455c89c2409d4e229974": {
          "model_module": "@jupyter-widgets/base",
          "model_name": "LayoutModel",
          "state": {
            "_view_name": "LayoutView",
            "grid_template_rows": null,
            "right": null,
            "justify_content": null,
            "_view_module": "@jupyter-widgets/base",
            "overflow": null,
            "_model_module_version": "1.2.0",
            "_view_count": null,
            "flex_flow": null,
            "width": null,
            "min_width": null,
            "border": null,
            "align_items": null,
            "bottom": null,
            "_model_module": "@jupyter-widgets/base",
            "top": null,
            "grid_column": null,
            "overflow_y": null,
            "overflow_x": null,
            "grid_auto_flow": null,
            "grid_area": null,
            "grid_template_columns": null,
            "flex": null,
            "_model_name": "LayoutModel",
            "justify_items": null,
            "grid_row": null,
            "max_height": null,
            "align_content": null,
            "visibility": null,
            "align_self": null,
            "height": null,
            "min_height": null,
            "padding": null,
            "grid_auto_rows": null,
            "grid_gap": null,
            "max_width": null,
            "order": null,
            "_view_module_version": "1.2.0",
            "grid_template_areas": null,
            "object_position": null,
            "object_fit": null,
            "grid_auto_columns": null,
            "margin": null,
            "display": null,
            "left": null
          }
        },
        "3d1265bf86f64b6e91b0e61eafb288c7": {
          "model_module": "@jupyter-widgets/controls",
          "model_name": "DescriptionStyleModel",
          "state": {
            "_view_name": "StyleView",
            "_model_name": "DescriptionStyleModel",
            "description_width": "",
            "_view_module": "@jupyter-widgets/base",
            "_model_module_version": "1.5.0",
            "_view_count": null,
            "_view_module_version": "1.2.0",
            "_model_module": "@jupyter-widgets/controls"
          }
        },
        "ed19138f1a844fdabe6571665291f570": {
          "model_module": "@jupyter-widgets/base",
          "model_name": "LayoutModel",
          "state": {
            "_view_name": "LayoutView",
            "grid_template_rows": null,
            "right": null,
            "justify_content": null,
            "_view_module": "@jupyter-widgets/base",
            "overflow": null,
            "_model_module_version": "1.2.0",
            "_view_count": null,
            "flex_flow": null,
            "width": null,
            "min_width": null,
            "border": null,
            "align_items": null,
            "bottom": null,
            "_model_module": "@jupyter-widgets/base",
            "top": null,
            "grid_column": null,
            "overflow_y": null,
            "overflow_x": null,
            "grid_auto_flow": null,
            "grid_area": null,
            "grid_template_columns": null,
            "flex": null,
            "_model_name": "LayoutModel",
            "justify_items": null,
            "grid_row": null,
            "max_height": null,
            "align_content": null,
            "visibility": null,
            "align_self": null,
            "height": null,
            "min_height": null,
            "padding": null,
            "grid_auto_rows": null,
            "grid_gap": null,
            "max_width": null,
            "order": null,
            "_view_module_version": "1.2.0",
            "grid_template_areas": null,
            "object_position": null,
            "object_fit": null,
            "grid_auto_columns": null,
            "margin": null,
            "display": null,
            "left": null
          }
        },
        "34e04506da354f47bc5cfd0f273b2e47": {
          "model_module": "@jupyter-widgets/controls",
          "model_name": "HBoxModel",
          "state": {
            "_view_name": "HBoxView",
            "_dom_classes": [],
            "_model_name": "HBoxModel",
            "_view_module": "@jupyter-widgets/controls",
            "_model_module_version": "1.5.0",
            "_view_count": null,
            "_view_module_version": "1.5.0",
            "box_style": "",
            "layout": "IPY_MODEL_03997655306b4da1b94571db4fb3e1fc",
            "_model_module": "@jupyter-widgets/controls",
            "children": [
              "IPY_MODEL_625a507f023e497d86dc49aa4efb825c",
              "IPY_MODEL_d119dd25be6a4fe29a3297b22ef93d8c"
            ]
          }
        },
        "03997655306b4da1b94571db4fb3e1fc": {
          "model_module": "@jupyter-widgets/base",
          "model_name": "LayoutModel",
          "state": {
            "_view_name": "LayoutView",
            "grid_template_rows": null,
            "right": null,
            "justify_content": null,
            "_view_module": "@jupyter-widgets/base",
            "overflow": null,
            "_model_module_version": "1.2.0",
            "_view_count": null,
            "flex_flow": null,
            "width": null,
            "min_width": null,
            "border": null,
            "align_items": null,
            "bottom": null,
            "_model_module": "@jupyter-widgets/base",
            "top": null,
            "grid_column": null,
            "overflow_y": null,
            "overflow_x": null,
            "grid_auto_flow": null,
            "grid_area": null,
            "grid_template_columns": null,
            "flex": null,
            "_model_name": "LayoutModel",
            "justify_items": null,
            "grid_row": null,
            "max_height": null,
            "align_content": null,
            "visibility": null,
            "align_self": null,
            "height": null,
            "min_height": null,
            "padding": null,
            "grid_auto_rows": null,
            "grid_gap": null,
            "max_width": null,
            "order": null,
            "_view_module_version": "1.2.0",
            "grid_template_areas": null,
            "object_position": null,
            "object_fit": null,
            "grid_auto_columns": null,
            "margin": null,
            "display": null,
            "left": null
          }
        },
        "625a507f023e497d86dc49aa4efb825c": {
          "model_module": "@jupyter-widgets/controls",
          "model_name": "FloatProgressModel",
          "state": {
            "_view_name": "ProgressView",
            "style": "IPY_MODEL_8b19197bfef742cf8c8e12fb8a9bc31f",
            "_dom_classes": [],
            "description": "Downloading: 100%",
            "_model_name": "FloatProgressModel",
            "bar_style": "success",
            "max": 1425744429,
            "_view_module": "@jupyter-widgets/controls",
            "_model_module_version": "1.5.0",
            "value": 1425744429,
            "_view_count": null,
            "_view_module_version": "1.5.0",
            "orientation": "horizontal",
            "min": 0,
            "description_tooltip": null,
            "_model_module": "@jupyter-widgets/controls",
            "layout": "IPY_MODEL_10fea9e97a9942ffb39c4062dfc17918"
          }
        },
        "d119dd25be6a4fe29a3297b22ef93d8c": {
          "model_module": "@jupyter-widgets/controls",
          "model_name": "HTMLModel",
          "state": {
            "_view_name": "HTMLView",
            "style": "IPY_MODEL_211722b5f82d4ec19615a4136c7a91bd",
            "_dom_classes": [],
            "description": "",
            "_model_name": "HTMLModel",
            "placeholder": "​",
            "_view_module": "@jupyter-widgets/controls",
            "_model_module_version": "1.5.0",
            "value": " 1.43G/1.43G [00:36&lt;00:00, 38.6MB/s]",
            "_view_count": null,
            "_view_module_version": "1.5.0",
            "description_tooltip": null,
            "_model_module": "@jupyter-widgets/controls",
            "layout": "IPY_MODEL_b320a1f872b14dd386c0b202195e12fd"
          }
        },
        "8b19197bfef742cf8c8e12fb8a9bc31f": {
          "model_module": "@jupyter-widgets/controls",
          "model_name": "ProgressStyleModel",
          "state": {
            "_view_name": "StyleView",
            "_model_name": "ProgressStyleModel",
            "description_width": "initial",
            "_view_module": "@jupyter-widgets/base",
            "_model_module_version": "1.5.0",
            "_view_count": null,
            "_view_module_version": "1.2.0",
            "bar_color": null,
            "_model_module": "@jupyter-widgets/controls"
          }
        },
        "10fea9e97a9942ffb39c4062dfc17918": {
          "model_module": "@jupyter-widgets/base",
          "model_name": "LayoutModel",
          "state": {
            "_view_name": "LayoutView",
            "grid_template_rows": null,
            "right": null,
            "justify_content": null,
            "_view_module": "@jupyter-widgets/base",
            "overflow": null,
            "_model_module_version": "1.2.0",
            "_view_count": null,
            "flex_flow": null,
            "width": null,
            "min_width": null,
            "border": null,
            "align_items": null,
            "bottom": null,
            "_model_module": "@jupyter-widgets/base",
            "top": null,
            "grid_column": null,
            "overflow_y": null,
            "overflow_x": null,
            "grid_auto_flow": null,
            "grid_area": null,
            "grid_template_columns": null,
            "flex": null,
            "_model_name": "LayoutModel",
            "justify_items": null,
            "grid_row": null,
            "max_height": null,
            "align_content": null,
            "visibility": null,
            "align_self": null,
            "height": null,
            "min_height": null,
            "padding": null,
            "grid_auto_rows": null,
            "grid_gap": null,
            "max_width": null,
            "order": null,
            "_view_module_version": "1.2.0",
            "grid_template_areas": null,
            "object_position": null,
            "object_fit": null,
            "grid_auto_columns": null,
            "margin": null,
            "display": null,
            "left": null
          }
        },
        "211722b5f82d4ec19615a4136c7a91bd": {
          "model_module": "@jupyter-widgets/controls",
          "model_name": "DescriptionStyleModel",
          "state": {
            "_view_name": "StyleView",
            "_model_name": "DescriptionStyleModel",
            "description_width": "",
            "_view_module": "@jupyter-widgets/base",
            "_model_module_version": "1.5.0",
            "_view_count": null,
            "_view_module_version": "1.2.0",
            "_model_module": "@jupyter-widgets/controls"
          }
        },
        "b320a1f872b14dd386c0b202195e12fd": {
          "model_module": "@jupyter-widgets/base",
          "model_name": "LayoutModel",
          "state": {
            "_view_name": "LayoutView",
            "grid_template_rows": null,
            "right": null,
            "justify_content": null,
            "_view_module": "@jupyter-widgets/base",
            "overflow": null,
            "_model_module_version": "1.2.0",
            "_view_count": null,
            "flex_flow": null,
            "width": null,
            "min_width": null,
            "border": null,
            "align_items": null,
            "bottom": null,
            "_model_module": "@jupyter-widgets/base",
            "top": null,
            "grid_column": null,
            "overflow_y": null,
            "overflow_x": null,
            "grid_auto_flow": null,
            "grid_area": null,
            "grid_template_columns": null,
            "flex": null,
            "_model_name": "LayoutModel",
            "justify_items": null,
            "grid_row": null,
            "max_height": null,
            "align_content": null,
            "visibility": null,
            "align_self": null,
            "height": null,
            "min_height": null,
            "padding": null,
            "grid_auto_rows": null,
            "grid_gap": null,
            "max_width": null,
            "order": null,
            "_view_module_version": "1.2.0",
            "grid_template_areas": null,
            "object_position": null,
            "object_fit": null,
            "grid_auto_columns": null,
            "margin": null,
            "display": null,
            "left": null
          }
        },
        "41550cafdb3447e09eaefcfd7c0cd126": {
          "model_module": "@jupyter-widgets/controls",
          "model_name": "HBoxModel",
          "state": {
            "_view_name": "HBoxView",
            "_dom_classes": [],
            "_model_name": "HBoxModel",
            "_view_module": "@jupyter-widgets/controls",
            "_model_module_version": "1.5.0",
            "_view_count": null,
            "_view_module_version": "1.5.0",
            "box_style": "",
            "layout": "IPY_MODEL_8c3dadacd8d44012a35a7df29fcf1823",
            "_model_module": "@jupyter-widgets/controls",
            "children": [
              "IPY_MODEL_ed097bd8923b4351bbbbf3ff44dec9c1",
              "IPY_MODEL_a0a4d11a0fba451ca38ad4a6b65b7594"
            ]
          }
        },
        "8c3dadacd8d44012a35a7df29fcf1823": {
          "model_module": "@jupyter-widgets/base",
          "model_name": "LayoutModel",
          "state": {
            "_view_name": "LayoutView",
            "grid_template_rows": null,
            "right": null,
            "justify_content": null,
            "_view_module": "@jupyter-widgets/base",
            "overflow": null,
            "_model_module_version": "1.2.0",
            "_view_count": null,
            "flex_flow": null,
            "width": null,
            "min_width": null,
            "border": null,
            "align_items": null,
            "bottom": null,
            "_model_module": "@jupyter-widgets/base",
            "top": null,
            "grid_column": null,
            "overflow_y": null,
            "overflow_x": null,
            "grid_auto_flow": null,
            "grid_area": null,
            "grid_template_columns": null,
            "flex": null,
            "_model_name": "LayoutModel",
            "justify_items": null,
            "grid_row": null,
            "max_height": null,
            "align_content": null,
            "visibility": null,
            "align_self": null,
            "height": null,
            "min_height": null,
            "padding": null,
            "grid_auto_rows": null,
            "grid_gap": null,
            "max_width": null,
            "order": null,
            "_view_module_version": "1.2.0",
            "grid_template_areas": null,
            "object_position": null,
            "object_fit": null,
            "grid_auto_columns": null,
            "margin": null,
            "display": null,
            "left": null
          }
        },
        "ed097bd8923b4351bbbbf3ff44dec9c1": {
          "model_module": "@jupyter-widgets/controls",
          "model_name": "FloatProgressModel",
          "state": {
            "_view_name": "ProgressView",
            "style": "IPY_MODEL_6d7de264e6cf4d2391b1cbb84501195f",
            "_dom_classes": [],
            "description": "Downloading: ",
            "_model_name": "FloatProgressModel",
            "bar_style": "success",
            "max": 1904,
            "_view_module": "@jupyter-widgets/controls",
            "_model_module_version": "1.5.0",
            "value": 1904,
            "_view_count": null,
            "_view_module_version": "1.5.0",
            "orientation": "horizontal",
            "min": 0,
            "description_tooltip": null,
            "_model_module": "@jupyter-widgets/controls",
            "layout": "IPY_MODEL_a085da1b976746338bb7ffe4ce7c7556"
          }
        },
        "a0a4d11a0fba451ca38ad4a6b65b7594": {
          "model_module": "@jupyter-widgets/controls",
          "model_name": "HTMLModel",
          "state": {
            "_view_name": "HTMLView",
            "style": "IPY_MODEL_7b19e5b3c7c14619b9370becb3941fd8",
            "_dom_classes": [],
            "description": "",
            "_model_name": "HTMLModel",
            "placeholder": "​",
            "_view_module": "@jupyter-widgets/controls",
            "_model_module_version": "1.5.0",
            "value": " 5.14k/? [00:00&lt;00:00, 29.4kB/s]",
            "_view_count": null,
            "_view_module_version": "1.5.0",
            "description_tooltip": null,
            "_model_module": "@jupyter-widgets/controls",
            "layout": "IPY_MODEL_8df196abbd75438bb089a367ac0de38d"
          }
        },
        "6d7de264e6cf4d2391b1cbb84501195f": {
          "model_module": "@jupyter-widgets/controls",
          "model_name": "ProgressStyleModel",
          "state": {
            "_view_name": "StyleView",
            "_model_name": "ProgressStyleModel",
            "description_width": "initial",
            "_view_module": "@jupyter-widgets/base",
            "_model_module_version": "1.5.0",
            "_view_count": null,
            "_view_module_version": "1.2.0",
            "bar_color": null,
            "_model_module": "@jupyter-widgets/controls"
          }
        },
        "a085da1b976746338bb7ffe4ce7c7556": {
          "model_module": "@jupyter-widgets/base",
          "model_name": "LayoutModel",
          "state": {
            "_view_name": "LayoutView",
            "grid_template_rows": null,
            "right": null,
            "justify_content": null,
            "_view_module": "@jupyter-widgets/base",
            "overflow": null,
            "_model_module_version": "1.2.0",
            "_view_count": null,
            "flex_flow": null,
            "width": null,
            "min_width": null,
            "border": null,
            "align_items": null,
            "bottom": null,
            "_model_module": "@jupyter-widgets/base",
            "top": null,
            "grid_column": null,
            "overflow_y": null,
            "overflow_x": null,
            "grid_auto_flow": null,
            "grid_area": null,
            "grid_template_columns": null,
            "flex": null,
            "_model_name": "LayoutModel",
            "justify_items": null,
            "grid_row": null,
            "max_height": null,
            "align_content": null,
            "visibility": null,
            "align_self": null,
            "height": null,
            "min_height": null,
            "padding": null,
            "grid_auto_rows": null,
            "grid_gap": null,
            "max_width": null,
            "order": null,
            "_view_module_version": "1.2.0",
            "grid_template_areas": null,
            "object_position": null,
            "object_fit": null,
            "grid_auto_columns": null,
            "margin": null,
            "display": null,
            "left": null
          }
        },
        "7b19e5b3c7c14619b9370becb3941fd8": {
          "model_module": "@jupyter-widgets/controls",
          "model_name": "DescriptionStyleModel",
          "state": {
            "_view_name": "StyleView",
            "_model_name": "DescriptionStyleModel",
            "description_width": "",
            "_view_module": "@jupyter-widgets/base",
            "_model_module_version": "1.5.0",
            "_view_count": null,
            "_view_module_version": "1.2.0",
            "_model_module": "@jupyter-widgets/controls"
          }
        },
        "8df196abbd75438bb089a367ac0de38d": {
          "model_module": "@jupyter-widgets/base",
          "model_name": "LayoutModel",
          "state": {
            "_view_name": "LayoutView",
            "grid_template_rows": null,
            "right": null,
            "justify_content": null,
            "_view_module": "@jupyter-widgets/base",
            "overflow": null,
            "_model_module_version": "1.2.0",
            "_view_count": null,
            "flex_flow": null,
            "width": null,
            "min_width": null,
            "border": null,
            "align_items": null,
            "bottom": null,
            "_model_module": "@jupyter-widgets/base",
            "top": null,
            "grid_column": null,
            "overflow_y": null,
            "overflow_x": null,
            "grid_auto_flow": null,
            "grid_area": null,
            "grid_template_columns": null,
            "flex": null,
            "_model_name": "LayoutModel",
            "justify_items": null,
            "grid_row": null,
            "max_height": null,
            "align_content": null,
            "visibility": null,
            "align_self": null,
            "height": null,
            "min_height": null,
            "padding": null,
            "grid_auto_rows": null,
            "grid_gap": null,
            "max_width": null,
            "order": null,
            "_view_module_version": "1.2.0",
            "grid_template_areas": null,
            "object_position": null,
            "object_fit": null,
            "grid_auto_columns": null,
            "margin": null,
            "display": null,
            "left": null
          }
        },
        "a8bfa7110d544217903153415f127ddc": {
          "model_module": "@jupyter-widgets/controls",
          "model_name": "HBoxModel",
          "state": {
            "_view_name": "HBoxView",
            "_dom_classes": [],
            "_model_name": "HBoxModel",
            "_view_module": "@jupyter-widgets/controls",
            "_model_module_version": "1.5.0",
            "_view_count": null,
            "_view_module_version": "1.5.0",
            "box_style": "",
            "layout": "IPY_MODEL_c45c6a6946094f42a1f7d73e6d190a99",
            "_model_module": "@jupyter-widgets/controls",
            "children": [
              "IPY_MODEL_f457c493cae44de78a4120fa9baced5c",
              "IPY_MODEL_b75ddb34122a484cbc46059137e1fbb9"
            ]
          }
        },
        "c45c6a6946094f42a1f7d73e6d190a99": {
          "model_module": "@jupyter-widgets/base",
          "model_name": "LayoutModel",
          "state": {
            "_view_name": "LayoutView",
            "grid_template_rows": null,
            "right": null,
            "justify_content": null,
            "_view_module": "@jupyter-widgets/base",
            "overflow": null,
            "_model_module_version": "1.2.0",
            "_view_count": null,
            "flex_flow": null,
            "width": null,
            "min_width": null,
            "border": null,
            "align_items": null,
            "bottom": null,
            "_model_module": "@jupyter-widgets/base",
            "top": null,
            "grid_column": null,
            "overflow_y": null,
            "overflow_x": null,
            "grid_auto_flow": null,
            "grid_area": null,
            "grid_template_columns": null,
            "flex": null,
            "_model_name": "LayoutModel",
            "justify_items": null,
            "grid_row": null,
            "max_height": null,
            "align_content": null,
            "visibility": null,
            "align_self": null,
            "height": null,
            "min_height": null,
            "padding": null,
            "grid_auto_rows": null,
            "grid_gap": null,
            "max_width": null,
            "order": null,
            "_view_module_version": "1.2.0",
            "grid_template_areas": null,
            "object_position": null,
            "object_fit": null,
            "grid_auto_columns": null,
            "margin": null,
            "display": null,
            "left": null
          }
        },
        "f457c493cae44de78a4120fa9baced5c": {
          "model_module": "@jupyter-widgets/controls",
          "model_name": "FloatProgressModel",
          "state": {
            "_view_name": "ProgressView",
            "style": "IPY_MODEL_e556fbf0eae249f4a4fa20ff59aef5cb",
            "_dom_classes": [],
            "description": "Downloading: ",
            "_model_name": "FloatProgressModel",
            "bar_style": "success",
            "max": 1193,
            "_view_module": "@jupyter-widgets/controls",
            "_model_module_version": "1.5.0",
            "value": 1193,
            "_view_count": null,
            "_view_module_version": "1.5.0",
            "orientation": "horizontal",
            "min": 0,
            "description_tooltip": null,
            "_model_module": "@jupyter-widgets/controls",
            "layout": "IPY_MODEL_a0afd943e0c64d678402cc813cc4a71b"
          }
        },
        "b75ddb34122a484cbc46059137e1fbb9": {
          "model_module": "@jupyter-widgets/controls",
          "model_name": "HTMLModel",
          "state": {
            "_view_name": "HTMLView",
            "style": "IPY_MODEL_9778cfdb451540349738b11b9dce0c64",
            "_dom_classes": [],
            "description": "",
            "_model_name": "HTMLModel",
            "placeholder": "​",
            "_view_module": "@jupyter-widgets/controls",
            "_model_module_version": "1.5.0",
            "value": " 2.88k/? [00:00&lt;00:00, 39.3kB/s]",
            "_view_count": null,
            "_view_module_version": "1.5.0",
            "description_tooltip": null,
            "_model_module": "@jupyter-widgets/controls",
            "layout": "IPY_MODEL_c930ac71c30d4c95a44f0208449541a9"
          }
        },
        "e556fbf0eae249f4a4fa20ff59aef5cb": {
          "model_module": "@jupyter-widgets/controls",
          "model_name": "ProgressStyleModel",
          "state": {
            "_view_name": "StyleView",
            "_model_name": "ProgressStyleModel",
            "description_width": "initial",
            "_view_module": "@jupyter-widgets/base",
            "_model_module_version": "1.5.0",
            "_view_count": null,
            "_view_module_version": "1.2.0",
            "bar_color": null,
            "_model_module": "@jupyter-widgets/controls"
          }
        },
        "a0afd943e0c64d678402cc813cc4a71b": {
          "model_module": "@jupyter-widgets/base",
          "model_name": "LayoutModel",
          "state": {
            "_view_name": "LayoutView",
            "grid_template_rows": null,
            "right": null,
            "justify_content": null,
            "_view_module": "@jupyter-widgets/base",
            "overflow": null,
            "_model_module_version": "1.2.0",
            "_view_count": null,
            "flex_flow": null,
            "width": null,
            "min_width": null,
            "border": null,
            "align_items": null,
            "bottom": null,
            "_model_module": "@jupyter-widgets/base",
            "top": null,
            "grid_column": null,
            "overflow_y": null,
            "overflow_x": null,
            "grid_auto_flow": null,
            "grid_area": null,
            "grid_template_columns": null,
            "flex": null,
            "_model_name": "LayoutModel",
            "justify_items": null,
            "grid_row": null,
            "max_height": null,
            "align_content": null,
            "visibility": null,
            "align_self": null,
            "height": null,
            "min_height": null,
            "padding": null,
            "grid_auto_rows": null,
            "grid_gap": null,
            "max_width": null,
            "order": null,
            "_view_module_version": "1.2.0",
            "grid_template_areas": null,
            "object_position": null,
            "object_fit": null,
            "grid_auto_columns": null,
            "margin": null,
            "display": null,
            "left": null
          }
        },
        "9778cfdb451540349738b11b9dce0c64": {
          "model_module": "@jupyter-widgets/controls",
          "model_name": "DescriptionStyleModel",
          "state": {
            "_view_name": "StyleView",
            "_model_name": "DescriptionStyleModel",
            "description_width": "",
            "_view_module": "@jupyter-widgets/base",
            "_model_module_version": "1.5.0",
            "_view_count": null,
            "_view_module_version": "1.2.0",
            "_model_module": "@jupyter-widgets/controls"
          }
        },
        "c930ac71c30d4c95a44f0208449541a9": {
          "model_module": "@jupyter-widgets/base",
          "model_name": "LayoutModel",
          "state": {
            "_view_name": "LayoutView",
            "grid_template_rows": null,
            "right": null,
            "justify_content": null,
            "_view_module": "@jupyter-widgets/base",
            "overflow": null,
            "_model_module_version": "1.2.0",
            "_view_count": null,
            "flex_flow": null,
            "width": null,
            "min_width": null,
            "border": null,
            "align_items": null,
            "bottom": null,
            "_model_module": "@jupyter-widgets/base",
            "top": null,
            "grid_column": null,
            "overflow_y": null,
            "overflow_x": null,
            "grid_auto_flow": null,
            "grid_area": null,
            "grid_template_columns": null,
            "flex": null,
            "_model_name": "LayoutModel",
            "justify_items": null,
            "grid_row": null,
            "max_height": null,
            "align_content": null,
            "visibility": null,
            "align_self": null,
            "height": null,
            "min_height": null,
            "padding": null,
            "grid_auto_rows": null,
            "grid_gap": null,
            "max_width": null,
            "order": null,
            "_view_module_version": "1.2.0",
            "grid_template_areas": null,
            "object_position": null,
            "object_fit": null,
            "grid_auto_columns": null,
            "margin": null,
            "display": null,
            "left": null
          }
        },
        "f81844243c534f5a8c87797c86213b8f": {
          "model_module": "@jupyter-widgets/controls",
          "model_name": "HBoxModel",
          "state": {
            "_view_name": "HBoxView",
            "_dom_classes": [],
            "_model_name": "HBoxModel",
            "_view_module": "@jupyter-widgets/controls",
            "_model_module_version": "1.5.0",
            "_view_count": null,
            "_view_module_version": "1.5.0",
            "box_style": "",
            "layout": "IPY_MODEL_c69c617aeba34595a9a3a8b0fda5ae12",
            "_model_module": "@jupyter-widgets/controls",
            "children": [
              "IPY_MODEL_f49381515f8a42ceb3ac7bbdbbb6239a",
              "IPY_MODEL_35527aa3ae6249f7a7dcde527fff6046"
            ]
          }
        },
        "c69c617aeba34595a9a3a8b0fda5ae12": {
          "model_module": "@jupyter-widgets/base",
          "model_name": "LayoutModel",
          "state": {
            "_view_name": "LayoutView",
            "grid_template_rows": null,
            "right": null,
            "justify_content": null,
            "_view_module": "@jupyter-widgets/base",
            "overflow": null,
            "_model_module_version": "1.2.0",
            "_view_count": null,
            "flex_flow": null,
            "width": null,
            "min_width": null,
            "border": null,
            "align_items": null,
            "bottom": null,
            "_model_module": "@jupyter-widgets/base",
            "top": null,
            "grid_column": null,
            "overflow_y": null,
            "overflow_x": null,
            "grid_auto_flow": null,
            "grid_area": null,
            "grid_template_columns": null,
            "flex": null,
            "_model_name": "LayoutModel",
            "justify_items": null,
            "grid_row": null,
            "max_height": null,
            "align_content": null,
            "visibility": null,
            "align_self": null,
            "height": null,
            "min_height": null,
            "padding": null,
            "grid_auto_rows": null,
            "grid_gap": null,
            "max_width": null,
            "order": null,
            "_view_module_version": "1.2.0",
            "grid_template_areas": null,
            "object_position": null,
            "object_fit": null,
            "grid_auto_columns": null,
            "margin": null,
            "display": null,
            "left": null
          }
        },
        "f49381515f8a42ceb3ac7bbdbbb6239a": {
          "model_module": "@jupyter-widgets/controls",
          "model_name": "FloatProgressModel",
          "state": {
            "_view_name": "ProgressView",
            "style": "IPY_MODEL_65f9433233a14637af8bf326e04e679d",
            "_dom_classes": [],
            "description": "Downloading: 100%",
            "_model_name": "FloatProgressModel",
            "bar_style": "success",
            "max": 226850426,
            "_view_module": "@jupyter-widgets/controls",
            "_model_module_version": "1.5.0",
            "value": 226850426,
            "_view_count": null,
            "_view_module_version": "1.5.0",
            "orientation": "horizontal",
            "min": 0,
            "description_tooltip": null,
            "_model_module": "@jupyter-widgets/controls",
            "layout": "IPY_MODEL_aafe1d1999884c64bf9b48878e63a891"
          }
        },
        "35527aa3ae6249f7a7dcde527fff6046": {
          "model_module": "@jupyter-widgets/controls",
          "model_name": "HTMLModel",
          "state": {
            "_view_name": "HTMLView",
            "style": "IPY_MODEL_1470394a6e0b46099ae9e92772980f51",
            "_dom_classes": [],
            "description": "",
            "_model_name": "HTMLModel",
            "placeholder": "​",
            "_view_module": "@jupyter-widgets/controls",
            "_model_module_version": "1.5.0",
            "value": " 227M/227M [00:21&lt;00:00, 10.4MB/s]",
            "_view_count": null,
            "_view_module_version": "1.5.0",
            "description_tooltip": null,
            "_model_module": "@jupyter-widgets/controls",
            "layout": "IPY_MODEL_0d88795e179f4518a2dbc64efab90a76"
          }
        },
        "65f9433233a14637af8bf326e04e679d": {
          "model_module": "@jupyter-widgets/controls",
          "model_name": "ProgressStyleModel",
          "state": {
            "_view_name": "StyleView",
            "_model_name": "ProgressStyleModel",
            "description_width": "initial",
            "_view_module": "@jupyter-widgets/base",
            "_model_module_version": "1.5.0",
            "_view_count": null,
            "_view_module_version": "1.2.0",
            "bar_color": null,
            "_model_module": "@jupyter-widgets/controls"
          }
        },
        "aafe1d1999884c64bf9b48878e63a891": {
          "model_module": "@jupyter-widgets/base",
          "model_name": "LayoutModel",
          "state": {
            "_view_name": "LayoutView",
            "grid_template_rows": null,
            "right": null,
            "justify_content": null,
            "_view_module": "@jupyter-widgets/base",
            "overflow": null,
            "_model_module_version": "1.2.0",
            "_view_count": null,
            "flex_flow": null,
            "width": null,
            "min_width": null,
            "border": null,
            "align_items": null,
            "bottom": null,
            "_model_module": "@jupyter-widgets/base",
            "top": null,
            "grid_column": null,
            "overflow_y": null,
            "overflow_x": null,
            "grid_auto_flow": null,
            "grid_area": null,
            "grid_template_columns": null,
            "flex": null,
            "_model_name": "LayoutModel",
            "justify_items": null,
            "grid_row": null,
            "max_height": null,
            "align_content": null,
            "visibility": null,
            "align_self": null,
            "height": null,
            "min_height": null,
            "padding": null,
            "grid_auto_rows": null,
            "grid_gap": null,
            "max_width": null,
            "order": null,
            "_view_module_version": "1.2.0",
            "grid_template_areas": null,
            "object_position": null,
            "object_fit": null,
            "grid_auto_columns": null,
            "margin": null,
            "display": null,
            "left": null
          }
        },
        "1470394a6e0b46099ae9e92772980f51": {
          "model_module": "@jupyter-widgets/controls",
          "model_name": "DescriptionStyleModel",
          "state": {
            "_view_name": "StyleView",
            "_model_name": "DescriptionStyleModel",
            "description_width": "",
            "_view_module": "@jupyter-widgets/base",
            "_model_module_version": "1.5.0",
            "_view_count": null,
            "_view_module_version": "1.2.0",
            "_model_module": "@jupyter-widgets/controls"
          }
        },
        "0d88795e179f4518a2dbc64efab90a76": {
          "model_module": "@jupyter-widgets/base",
          "model_name": "LayoutModel",
          "state": {
            "_view_name": "LayoutView",
            "grid_template_rows": null,
            "right": null,
            "justify_content": null,
            "_view_module": "@jupyter-widgets/base",
            "overflow": null,
            "_model_module_version": "1.2.0",
            "_view_count": null,
            "flex_flow": null,
            "width": null,
            "min_width": null,
            "border": null,
            "align_items": null,
            "bottom": null,
            "_model_module": "@jupyter-widgets/base",
            "top": null,
            "grid_column": null,
            "overflow_y": null,
            "overflow_x": null,
            "grid_auto_flow": null,
            "grid_area": null,
            "grid_template_columns": null,
            "flex": null,
            "_model_name": "LayoutModel",
            "justify_items": null,
            "grid_row": null,
            "max_height": null,
            "align_content": null,
            "visibility": null,
            "align_self": null,
            "height": null,
            "min_height": null,
            "padding": null,
            "grid_auto_rows": null,
            "grid_gap": null,
            "max_width": null,
            "order": null,
            "_view_module_version": "1.2.0",
            "grid_template_areas": null,
            "object_position": null,
            "object_fit": null,
            "grid_auto_columns": null,
            "margin": null,
            "display": null,
            "left": null
          }
        },
        "5e4fef19b9854f5ca029474c4f627d5e": {
          "model_module": "@jupyter-widgets/controls",
          "model_name": "HBoxModel",
          "state": {
            "_view_name": "HBoxView",
            "_dom_classes": [],
            "_model_name": "HBoxModel",
            "_view_module": "@jupyter-widgets/controls",
            "_model_module_version": "1.5.0",
            "_view_count": null,
            "_view_module_version": "1.5.0",
            "box_style": "",
            "layout": "IPY_MODEL_52052b5f63874494bd67b086d638ee9d",
            "_model_module": "@jupyter-widgets/controls",
            "children": [
              "IPY_MODEL_89c5c749f4fb40148a1db64e7b111264",
              "IPY_MODEL_1fc6dc09fac9491e8616728efbfa2a95"
            ]
          }
        },
        "52052b5f63874494bd67b086d638ee9d": {
          "model_module": "@jupyter-widgets/base",
          "model_name": "LayoutModel",
          "state": {
            "_view_name": "LayoutView",
            "grid_template_rows": null,
            "right": null,
            "justify_content": null,
            "_view_module": "@jupyter-widgets/base",
            "overflow": null,
            "_model_module_version": "1.2.0",
            "_view_count": null,
            "flex_flow": null,
            "width": null,
            "min_width": null,
            "border": null,
            "align_items": null,
            "bottom": null,
            "_model_module": "@jupyter-widgets/base",
            "top": null,
            "grid_column": null,
            "overflow_y": null,
            "overflow_x": null,
            "grid_auto_flow": null,
            "grid_area": null,
            "grid_template_columns": null,
            "flex": null,
            "_model_name": "LayoutModel",
            "justify_items": null,
            "grid_row": null,
            "max_height": null,
            "align_content": null,
            "visibility": null,
            "align_self": null,
            "height": null,
            "min_height": null,
            "padding": null,
            "grid_auto_rows": null,
            "grid_gap": null,
            "max_width": null,
            "order": null,
            "_view_module_version": "1.2.0",
            "grid_template_areas": null,
            "object_position": null,
            "object_fit": null,
            "grid_auto_columns": null,
            "margin": null,
            "display": null,
            "left": null
          }
        },
        "89c5c749f4fb40148a1db64e7b111264": {
          "model_module": "@jupyter-widgets/controls",
          "model_name": "FloatProgressModel",
          "state": {
            "_view_name": "ProgressView",
            "style": "IPY_MODEL_e1d98921ab934bb0b245af4ec165170e",
            "_dom_classes": [],
            "description": "",
            "_model_name": "FloatProgressModel",
            "bar_style": "info",
            "max": 1,
            "_view_module": "@jupyter-widgets/controls",
            "_model_module_version": "1.5.0",
            "value": 1,
            "_view_count": null,
            "_view_module_version": "1.5.0",
            "orientation": "horizontal",
            "min": 0,
            "description_tooltip": null,
            "_model_module": "@jupyter-widgets/controls",
            "layout": "IPY_MODEL_445b4935bd8d41acb576f2bce65f6c9e"
          }
        },
        "1fc6dc09fac9491e8616728efbfa2a95": {
          "model_module": "@jupyter-widgets/controls",
          "model_name": "HTMLModel",
          "state": {
            "_view_name": "HTMLView",
            "style": "IPY_MODEL_73d95cccc23d493582483f1cbae0f5e6",
            "_dom_classes": [],
            "description": "",
            "_model_name": "HTMLModel",
            "placeholder": "​",
            "_view_module": "@jupyter-widgets/controls",
            "_model_module_version": "1.5.0",
            "value": " 392702/0 [00:27&lt;00:00, 14258.94 examples/s]",
            "_view_count": null,
            "_view_module_version": "1.5.0",
            "description_tooltip": null,
            "_model_module": "@jupyter-widgets/controls",
            "layout": "IPY_MODEL_fcf47456d9b548bb88e83de593cc1c06"
          }
        },
        "e1d98921ab934bb0b245af4ec165170e": {
          "model_module": "@jupyter-widgets/controls",
          "model_name": "ProgressStyleModel",
          "state": {
            "_view_name": "StyleView",
            "_model_name": "ProgressStyleModel",
            "description_width": "initial",
            "_view_module": "@jupyter-widgets/base",
            "_model_module_version": "1.5.0",
            "_view_count": null,
            "_view_module_version": "1.2.0",
            "bar_color": null,
            "_model_module": "@jupyter-widgets/controls"
          }
        },
        "445b4935bd8d41acb576f2bce65f6c9e": {
          "model_module": "@jupyter-widgets/base",
          "model_name": "LayoutModel",
          "state": {
            "_view_name": "LayoutView",
            "grid_template_rows": null,
            "right": null,
            "justify_content": null,
            "_view_module": "@jupyter-widgets/base",
            "overflow": null,
            "_model_module_version": "1.2.0",
            "_view_count": null,
            "flex_flow": null,
            "width": null,
            "min_width": null,
            "border": null,
            "align_items": null,
            "bottom": null,
            "_model_module": "@jupyter-widgets/base",
            "top": null,
            "grid_column": null,
            "overflow_y": null,
            "overflow_x": null,
            "grid_auto_flow": null,
            "grid_area": null,
            "grid_template_columns": null,
            "flex": null,
            "_model_name": "LayoutModel",
            "justify_items": null,
            "grid_row": null,
            "max_height": null,
            "align_content": null,
            "visibility": null,
            "align_self": null,
            "height": null,
            "min_height": null,
            "padding": null,
            "grid_auto_rows": null,
            "grid_gap": null,
            "max_width": null,
            "order": null,
            "_view_module_version": "1.2.0",
            "grid_template_areas": null,
            "object_position": null,
            "object_fit": null,
            "grid_auto_columns": null,
            "margin": null,
            "display": null,
            "left": null
          }
        },
        "73d95cccc23d493582483f1cbae0f5e6": {
          "model_module": "@jupyter-widgets/controls",
          "model_name": "DescriptionStyleModel",
          "state": {
            "_view_name": "StyleView",
            "_model_name": "DescriptionStyleModel",
            "description_width": "",
            "_view_module": "@jupyter-widgets/base",
            "_model_module_version": "1.5.0",
            "_view_count": null,
            "_view_module_version": "1.2.0",
            "_model_module": "@jupyter-widgets/controls"
          }
        },
        "fcf47456d9b548bb88e83de593cc1c06": {
          "model_module": "@jupyter-widgets/base",
          "model_name": "LayoutModel",
          "state": {
            "_view_name": "LayoutView",
            "grid_template_rows": null,
            "right": null,
            "justify_content": null,
            "_view_module": "@jupyter-widgets/base",
            "overflow": null,
            "_model_module_version": "1.2.0",
            "_view_count": null,
            "flex_flow": null,
            "width": null,
            "min_width": null,
            "border": null,
            "align_items": null,
            "bottom": null,
            "_model_module": "@jupyter-widgets/base",
            "top": null,
            "grid_column": null,
            "overflow_y": null,
            "overflow_x": null,
            "grid_auto_flow": null,
            "grid_area": null,
            "grid_template_columns": null,
            "flex": null,
            "_model_name": "LayoutModel",
            "justify_items": null,
            "grid_row": null,
            "max_height": null,
            "align_content": null,
            "visibility": null,
            "align_self": null,
            "height": null,
            "min_height": null,
            "padding": null,
            "grid_auto_rows": null,
            "grid_gap": null,
            "max_width": null,
            "order": null,
            "_view_module_version": "1.2.0",
            "grid_template_areas": null,
            "object_position": null,
            "object_fit": null,
            "grid_auto_columns": null,
            "margin": null,
            "display": null,
            "left": null
          }
        },
        "e2536293ce0540d195460495ddc0bbaa": {
          "model_module": "@jupyter-widgets/controls",
          "model_name": "HBoxModel",
          "state": {
            "_view_name": "HBoxView",
            "_dom_classes": [],
            "_model_name": "HBoxModel",
            "_view_module": "@jupyter-widgets/controls",
            "_model_module_version": "1.5.0",
            "_view_count": null,
            "_view_module_version": "1.5.0",
            "box_style": "",
            "layout": "IPY_MODEL_a3412d86d1e84e39a4aa7e5e15891d5b",
            "_model_module": "@jupyter-widgets/controls",
            "children": [
              "IPY_MODEL_4e6c2f4595a84f1ba6034e38b658c8d1",
              "IPY_MODEL_bca1d6861c8f4c7fa1e2f6aaef584ba4"
            ]
          }
        },
        "a3412d86d1e84e39a4aa7e5e15891d5b": {
          "model_module": "@jupyter-widgets/base",
          "model_name": "LayoutModel",
          "state": {
            "_view_name": "LayoutView",
            "grid_template_rows": null,
            "right": null,
            "justify_content": null,
            "_view_module": "@jupyter-widgets/base",
            "overflow": null,
            "_model_module_version": "1.2.0",
            "_view_count": null,
            "flex_flow": null,
            "width": null,
            "min_width": null,
            "border": null,
            "align_items": null,
            "bottom": null,
            "_model_module": "@jupyter-widgets/base",
            "top": null,
            "grid_column": null,
            "overflow_y": null,
            "overflow_x": null,
            "grid_auto_flow": null,
            "grid_area": null,
            "grid_template_columns": null,
            "flex": null,
            "_model_name": "LayoutModel",
            "justify_items": null,
            "grid_row": null,
            "max_height": null,
            "align_content": null,
            "visibility": null,
            "align_self": null,
            "height": null,
            "min_height": null,
            "padding": null,
            "grid_auto_rows": null,
            "grid_gap": null,
            "max_width": null,
            "order": null,
            "_view_module_version": "1.2.0",
            "grid_template_areas": null,
            "object_position": null,
            "object_fit": null,
            "grid_auto_columns": null,
            "margin": null,
            "display": null,
            "left": null
          }
        },
        "4e6c2f4595a84f1ba6034e38b658c8d1": {
          "model_module": "@jupyter-widgets/controls",
          "model_name": "FloatProgressModel",
          "state": {
            "_view_name": "ProgressView",
            "style": "IPY_MODEL_192f508dac21451cbe45e4cd5aa5f3ad",
            "_dom_classes": [],
            "description": "",
            "_model_name": "FloatProgressModel",
            "bar_style": "info",
            "max": 1,
            "_view_module": "@jupyter-widgets/controls",
            "_model_module_version": "1.5.0",
            "value": 1,
            "_view_count": null,
            "_view_module_version": "1.5.0",
            "orientation": "horizontal",
            "min": 0,
            "description_tooltip": null,
            "_model_module": "@jupyter-widgets/controls",
            "layout": "IPY_MODEL_0ab98cd25ac244d38a6aaab54bada2fb"
          }
        },
        "bca1d6861c8f4c7fa1e2f6aaef584ba4": {
          "model_module": "@jupyter-widgets/controls",
          "model_name": "HTMLModel",
          "state": {
            "_view_name": "HTMLView",
            "style": "IPY_MODEL_0f35ab2dd02e4a01a568483f6d47c2c7",
            "_dom_classes": [],
            "description": "",
            "_model_name": "HTMLModel",
            "placeholder": "​",
            "_view_module": "@jupyter-widgets/controls",
            "_model_module_version": "1.5.0",
            "value": " 9815/0 [00:00&lt;00:00, 12642.89 examples/s]",
            "_view_count": null,
            "_view_module_version": "1.5.0",
            "description_tooltip": null,
            "_model_module": "@jupyter-widgets/controls",
            "layout": "IPY_MODEL_2e13ea3c42664da2831642645a995cc1"
          }
        },
        "192f508dac21451cbe45e4cd5aa5f3ad": {
          "model_module": "@jupyter-widgets/controls",
          "model_name": "ProgressStyleModel",
          "state": {
            "_view_name": "StyleView",
            "_model_name": "ProgressStyleModel",
            "description_width": "initial",
            "_view_module": "@jupyter-widgets/base",
            "_model_module_version": "1.5.0",
            "_view_count": null,
            "_view_module_version": "1.2.0",
            "bar_color": null,
            "_model_module": "@jupyter-widgets/controls"
          }
        },
        "0ab98cd25ac244d38a6aaab54bada2fb": {
          "model_module": "@jupyter-widgets/base",
          "model_name": "LayoutModel",
          "state": {
            "_view_name": "LayoutView",
            "grid_template_rows": null,
            "right": null,
            "justify_content": null,
            "_view_module": "@jupyter-widgets/base",
            "overflow": null,
            "_model_module_version": "1.2.0",
            "_view_count": null,
            "flex_flow": null,
            "width": null,
            "min_width": null,
            "border": null,
            "align_items": null,
            "bottom": null,
            "_model_module": "@jupyter-widgets/base",
            "top": null,
            "grid_column": null,
            "overflow_y": null,
            "overflow_x": null,
            "grid_auto_flow": null,
            "grid_area": null,
            "grid_template_columns": null,
            "flex": null,
            "_model_name": "LayoutModel",
            "justify_items": null,
            "grid_row": null,
            "max_height": null,
            "align_content": null,
            "visibility": null,
            "align_self": null,
            "height": null,
            "min_height": null,
            "padding": null,
            "grid_auto_rows": null,
            "grid_gap": null,
            "max_width": null,
            "order": null,
            "_view_module_version": "1.2.0",
            "grid_template_areas": null,
            "object_position": null,
            "object_fit": null,
            "grid_auto_columns": null,
            "margin": null,
            "display": null,
            "left": null
          }
        },
        "0f35ab2dd02e4a01a568483f6d47c2c7": {
          "model_module": "@jupyter-widgets/controls",
          "model_name": "DescriptionStyleModel",
          "state": {
            "_view_name": "StyleView",
            "_model_name": "DescriptionStyleModel",
            "description_width": "",
            "_view_module": "@jupyter-widgets/base",
            "_model_module_version": "1.5.0",
            "_view_count": null,
            "_view_module_version": "1.2.0",
            "_model_module": "@jupyter-widgets/controls"
          }
        },
        "2e13ea3c42664da2831642645a995cc1": {
          "model_module": "@jupyter-widgets/base",
          "model_name": "LayoutModel",
          "state": {
            "_view_name": "LayoutView",
            "grid_template_rows": null,
            "right": null,
            "justify_content": null,
            "_view_module": "@jupyter-widgets/base",
            "overflow": null,
            "_model_module_version": "1.2.0",
            "_view_count": null,
            "flex_flow": null,
            "width": null,
            "min_width": null,
            "border": null,
            "align_items": null,
            "bottom": null,
            "_model_module": "@jupyter-widgets/base",
            "top": null,
            "grid_column": null,
            "overflow_y": null,
            "overflow_x": null,
            "grid_auto_flow": null,
            "grid_area": null,
            "grid_template_columns": null,
            "flex": null,
            "_model_name": "LayoutModel",
            "justify_items": null,
            "grid_row": null,
            "max_height": null,
            "align_content": null,
            "visibility": null,
            "align_self": null,
            "height": null,
            "min_height": null,
            "padding": null,
            "grid_auto_rows": null,
            "grid_gap": null,
            "max_width": null,
            "order": null,
            "_view_module_version": "1.2.0",
            "grid_template_areas": null,
            "object_position": null,
            "object_fit": null,
            "grid_auto_columns": null,
            "margin": null,
            "display": null,
            "left": null
          }
        },
        "31d7dcd8b0ad43258a60419714a68590": {
          "model_module": "@jupyter-widgets/controls",
          "model_name": "HBoxModel",
          "state": {
            "_view_name": "HBoxView",
            "_dom_classes": [],
            "_model_name": "HBoxModel",
            "_view_module": "@jupyter-widgets/controls",
            "_model_module_version": "1.5.0",
            "_view_count": null,
            "_view_module_version": "1.5.0",
            "box_style": "",
            "layout": "IPY_MODEL_3c2a1d1abb6c449cace33a80bfa32c46",
            "_model_module": "@jupyter-widgets/controls",
            "children": [
              "IPY_MODEL_4da61ac3474e4e1690881d04e44d5108",
              "IPY_MODEL_7f31d8a4281e4d5d9829b3f6efc32ea8"
            ]
          }
        },
        "3c2a1d1abb6c449cace33a80bfa32c46": {
          "model_module": "@jupyter-widgets/base",
          "model_name": "LayoutModel",
          "state": {
            "_view_name": "LayoutView",
            "grid_template_rows": null,
            "right": null,
            "justify_content": null,
            "_view_module": "@jupyter-widgets/base",
            "overflow": null,
            "_model_module_version": "1.2.0",
            "_view_count": null,
            "flex_flow": null,
            "width": null,
            "min_width": null,
            "border": null,
            "align_items": null,
            "bottom": null,
            "_model_module": "@jupyter-widgets/base",
            "top": null,
            "grid_column": null,
            "overflow_y": null,
            "overflow_x": null,
            "grid_auto_flow": null,
            "grid_area": null,
            "grid_template_columns": null,
            "flex": null,
            "_model_name": "LayoutModel",
            "justify_items": null,
            "grid_row": null,
            "max_height": null,
            "align_content": null,
            "visibility": null,
            "align_self": null,
            "height": null,
            "min_height": null,
            "padding": null,
            "grid_auto_rows": null,
            "grid_gap": null,
            "max_width": null,
            "order": null,
            "_view_module_version": "1.2.0",
            "grid_template_areas": null,
            "object_position": null,
            "object_fit": null,
            "grid_auto_columns": null,
            "margin": null,
            "display": null,
            "left": null
          }
        },
        "4da61ac3474e4e1690881d04e44d5108": {
          "model_module": "@jupyter-widgets/controls",
          "model_name": "FloatProgressModel",
          "state": {
            "_view_name": "ProgressView",
            "style": "IPY_MODEL_fa674558f32040a3a14db8bc0787d29e",
            "_dom_classes": [],
            "description": "",
            "_model_name": "FloatProgressModel",
            "bar_style": "info",
            "max": 1,
            "_view_module": "@jupyter-widgets/controls",
            "_model_module_version": "1.5.0",
            "value": 1,
            "_view_count": null,
            "_view_module_version": "1.5.0",
            "orientation": "horizontal",
            "min": 0,
            "description_tooltip": null,
            "_model_module": "@jupyter-widgets/controls",
            "layout": "IPY_MODEL_3dff43ca6b0c4b329f4e2f53a00d0d37"
          }
        },
        "7f31d8a4281e4d5d9829b3f6efc32ea8": {
          "model_module": "@jupyter-widgets/controls",
          "model_name": "HTMLModel",
          "state": {
            "_view_name": "HTMLView",
            "style": "IPY_MODEL_69294bbeed6840c9a127bcf1d2a15c0e",
            "_dom_classes": [],
            "description": "",
            "_model_name": "HTMLModel",
            "placeholder": "​",
            "_view_module": "@jupyter-widgets/controls",
            "_model_module_version": "1.5.0",
            "value": " 9832/0 [00:00&lt;00:00, 11767.12 examples/s]",
            "_view_count": null,
            "_view_module_version": "1.5.0",
            "description_tooltip": null,
            "_model_module": "@jupyter-widgets/controls",
            "layout": "IPY_MODEL_c602d095ade54cdd8a6ba2ee123ebc6f"
          }
        },
        "fa674558f32040a3a14db8bc0787d29e": {
          "model_module": "@jupyter-widgets/controls",
          "model_name": "ProgressStyleModel",
          "state": {
            "_view_name": "StyleView",
            "_model_name": "ProgressStyleModel",
            "description_width": "initial",
            "_view_module": "@jupyter-widgets/base",
            "_model_module_version": "1.5.0",
            "_view_count": null,
            "_view_module_version": "1.2.0",
            "bar_color": null,
            "_model_module": "@jupyter-widgets/controls"
          }
        },
        "3dff43ca6b0c4b329f4e2f53a00d0d37": {
          "model_module": "@jupyter-widgets/base",
          "model_name": "LayoutModel",
          "state": {
            "_view_name": "LayoutView",
            "grid_template_rows": null,
            "right": null,
            "justify_content": null,
            "_view_module": "@jupyter-widgets/base",
            "overflow": null,
            "_model_module_version": "1.2.0",
            "_view_count": null,
            "flex_flow": null,
            "width": null,
            "min_width": null,
            "border": null,
            "align_items": null,
            "bottom": null,
            "_model_module": "@jupyter-widgets/base",
            "top": null,
            "grid_column": null,
            "overflow_y": null,
            "overflow_x": null,
            "grid_auto_flow": null,
            "grid_area": null,
            "grid_template_columns": null,
            "flex": null,
            "_model_name": "LayoutModel",
            "justify_items": null,
            "grid_row": null,
            "max_height": null,
            "align_content": null,
            "visibility": null,
            "align_self": null,
            "height": null,
            "min_height": null,
            "padding": null,
            "grid_auto_rows": null,
            "grid_gap": null,
            "max_width": null,
            "order": null,
            "_view_module_version": "1.2.0",
            "grid_template_areas": null,
            "object_position": null,
            "object_fit": null,
            "grid_auto_columns": null,
            "margin": null,
            "display": null,
            "left": null
          }
        },
        "69294bbeed6840c9a127bcf1d2a15c0e": {
          "model_module": "@jupyter-widgets/controls",
          "model_name": "DescriptionStyleModel",
          "state": {
            "_view_name": "StyleView",
            "_model_name": "DescriptionStyleModel",
            "description_width": "",
            "_view_module": "@jupyter-widgets/base",
            "_model_module_version": "1.5.0",
            "_view_count": null,
            "_view_module_version": "1.2.0",
            "_model_module": "@jupyter-widgets/controls"
          }
        },
        "c602d095ade54cdd8a6ba2ee123ebc6f": {
          "model_module": "@jupyter-widgets/base",
          "model_name": "LayoutModel",
          "state": {
            "_view_name": "LayoutView",
            "grid_template_rows": null,
            "right": null,
            "justify_content": null,
            "_view_module": "@jupyter-widgets/base",
            "overflow": null,
            "_model_module_version": "1.2.0",
            "_view_count": null,
            "flex_flow": null,
            "width": null,
            "min_width": null,
            "border": null,
            "align_items": null,
            "bottom": null,
            "_model_module": "@jupyter-widgets/base",
            "top": null,
            "grid_column": null,
            "overflow_y": null,
            "overflow_x": null,
            "grid_auto_flow": null,
            "grid_area": null,
            "grid_template_columns": null,
            "flex": null,
            "_model_name": "LayoutModel",
            "justify_items": null,
            "grid_row": null,
            "max_height": null,
            "align_content": null,
            "visibility": null,
            "align_self": null,
            "height": null,
            "min_height": null,
            "padding": null,
            "grid_auto_rows": null,
            "grid_gap": null,
            "max_width": null,
            "order": null,
            "_view_module_version": "1.2.0",
            "grid_template_areas": null,
            "object_position": null,
            "object_fit": null,
            "grid_auto_columns": null,
            "margin": null,
            "display": null,
            "left": null
          }
        },
        "c3cfb66a580c447fa39b2c1057e832c4": {
          "model_module": "@jupyter-widgets/controls",
          "model_name": "HBoxModel",
          "state": {
            "_view_name": "HBoxView",
            "_dom_classes": [],
            "_model_name": "HBoxModel",
            "_view_module": "@jupyter-widgets/controls",
            "_model_module_version": "1.5.0",
            "_view_count": null,
            "_view_module_version": "1.5.0",
            "box_style": "",
            "layout": "IPY_MODEL_ad50b8d75ca242b28a579c9e3248ca2a",
            "_model_module": "@jupyter-widgets/controls",
            "children": [
              "IPY_MODEL_fd1dccc95c5545fbaefef681a90887cb",
              "IPY_MODEL_b280332201bd45a89a5d668f63f3ce20"
            ]
          }
        },
        "ad50b8d75ca242b28a579c9e3248ca2a": {
          "model_module": "@jupyter-widgets/base",
          "model_name": "LayoutModel",
          "state": {
            "_view_name": "LayoutView",
            "grid_template_rows": null,
            "right": null,
            "justify_content": null,
            "_view_module": "@jupyter-widgets/base",
            "overflow": null,
            "_model_module_version": "1.2.0",
            "_view_count": null,
            "flex_flow": null,
            "width": null,
            "min_width": null,
            "border": null,
            "align_items": null,
            "bottom": null,
            "_model_module": "@jupyter-widgets/base",
            "top": null,
            "grid_column": null,
            "overflow_y": null,
            "overflow_x": null,
            "grid_auto_flow": null,
            "grid_area": null,
            "grid_template_columns": null,
            "flex": null,
            "_model_name": "LayoutModel",
            "justify_items": null,
            "grid_row": null,
            "max_height": null,
            "align_content": null,
            "visibility": null,
            "align_self": null,
            "height": null,
            "min_height": null,
            "padding": null,
            "grid_auto_rows": null,
            "grid_gap": null,
            "max_width": null,
            "order": null,
            "_view_module_version": "1.2.0",
            "grid_template_areas": null,
            "object_position": null,
            "object_fit": null,
            "grid_auto_columns": null,
            "margin": null,
            "display": null,
            "left": null
          }
        },
        "fd1dccc95c5545fbaefef681a90887cb": {
          "model_module": "@jupyter-widgets/controls",
          "model_name": "FloatProgressModel",
          "state": {
            "_view_name": "ProgressView",
            "style": "IPY_MODEL_73e0d6f4061444ae9a9658d476a70c43",
            "_dom_classes": [],
            "description": "100%",
            "_model_name": "FloatProgressModel",
            "bar_style": "success",
            "max": 9815,
            "_view_module": "@jupyter-widgets/controls",
            "_model_module_version": "1.5.0",
            "value": 9815,
            "_view_count": null,
            "_view_module_version": "1.5.0",
            "orientation": "horizontal",
            "min": 0,
            "description_tooltip": null,
            "_model_module": "@jupyter-widgets/controls",
            "layout": "IPY_MODEL_cc2e45c7a474491797fae5d662fd457d"
          }
        },
        "b280332201bd45a89a5d668f63f3ce20": {
          "model_module": "@jupyter-widgets/controls",
          "model_name": "HTMLModel",
          "state": {
            "_view_name": "HTMLView",
            "style": "IPY_MODEL_8b4ed76a0c4c4631b0b2a1c5ee911fe3",
            "_dom_classes": [],
            "description": "",
            "_model_name": "HTMLModel",
            "placeholder": "​",
            "_view_module": "@jupyter-widgets/controls",
            "_model_module_version": "1.5.0",
            "value": " 9815/9815 [03:23&lt;00:00, 48.15ex/s]",
            "_view_count": null,
            "_view_module_version": "1.5.0",
            "description_tooltip": null,
            "_model_module": "@jupyter-widgets/controls",
            "layout": "IPY_MODEL_5b51e56903ce4974b9e149211217832d"
          }
        },
        "73e0d6f4061444ae9a9658d476a70c43": {
          "model_module": "@jupyter-widgets/controls",
          "model_name": "ProgressStyleModel",
          "state": {
            "_view_name": "StyleView",
            "_model_name": "ProgressStyleModel",
            "description_width": "initial",
            "_view_module": "@jupyter-widgets/base",
            "_model_module_version": "1.5.0",
            "_view_count": null,
            "_view_module_version": "1.2.0",
            "bar_color": null,
            "_model_module": "@jupyter-widgets/controls"
          }
        },
        "cc2e45c7a474491797fae5d662fd457d": {
          "model_module": "@jupyter-widgets/base",
          "model_name": "LayoutModel",
          "state": {
            "_view_name": "LayoutView",
            "grid_template_rows": null,
            "right": null,
            "justify_content": null,
            "_view_module": "@jupyter-widgets/base",
            "overflow": null,
            "_model_module_version": "1.2.0",
            "_view_count": null,
            "flex_flow": null,
            "width": null,
            "min_width": null,
            "border": null,
            "align_items": null,
            "bottom": null,
            "_model_module": "@jupyter-widgets/base",
            "top": null,
            "grid_column": null,
            "overflow_y": null,
            "overflow_x": null,
            "grid_auto_flow": null,
            "grid_area": null,
            "grid_template_columns": null,
            "flex": null,
            "_model_name": "LayoutModel",
            "justify_items": null,
            "grid_row": null,
            "max_height": null,
            "align_content": null,
            "visibility": null,
            "align_self": null,
            "height": null,
            "min_height": null,
            "padding": null,
            "grid_auto_rows": null,
            "grid_gap": null,
            "max_width": null,
            "order": null,
            "_view_module_version": "1.2.0",
            "grid_template_areas": null,
            "object_position": null,
            "object_fit": null,
            "grid_auto_columns": null,
            "margin": null,
            "display": null,
            "left": null
          }
        },
        "8b4ed76a0c4c4631b0b2a1c5ee911fe3": {
          "model_module": "@jupyter-widgets/controls",
          "model_name": "DescriptionStyleModel",
          "state": {
            "_view_name": "StyleView",
            "_model_name": "DescriptionStyleModel",
            "description_width": "",
            "_view_module": "@jupyter-widgets/base",
            "_model_module_version": "1.5.0",
            "_view_count": null,
            "_view_module_version": "1.2.0",
            "_model_module": "@jupyter-widgets/controls"
          }
        },
        "5b51e56903ce4974b9e149211217832d": {
          "model_module": "@jupyter-widgets/base",
          "model_name": "LayoutModel",
          "state": {
            "_view_name": "LayoutView",
            "grid_template_rows": null,
            "right": null,
            "justify_content": null,
            "_view_module": "@jupyter-widgets/base",
            "overflow": null,
            "_model_module_version": "1.2.0",
            "_view_count": null,
            "flex_flow": null,
            "width": null,
            "min_width": null,
            "border": null,
            "align_items": null,
            "bottom": null,
            "_model_module": "@jupyter-widgets/base",
            "top": null,
            "grid_column": null,
            "overflow_y": null,
            "overflow_x": null,
            "grid_auto_flow": null,
            "grid_area": null,
            "grid_template_columns": null,
            "flex": null,
            "_model_name": "LayoutModel",
            "justify_items": null,
            "grid_row": null,
            "max_height": null,
            "align_content": null,
            "visibility": null,
            "align_self": null,
            "height": null,
            "min_height": null,
            "padding": null,
            "grid_auto_rows": null,
            "grid_gap": null,
            "max_width": null,
            "order": null,
            "_view_module_version": "1.2.0",
            "grid_template_areas": null,
            "object_position": null,
            "object_fit": null,
            "grid_auto_columns": null,
            "margin": null,
            "display": null,
            "left": null
          }
        },
        "8b30612977b349c99e75629724c92834": {
          "model_module": "@jupyter-widgets/controls",
          "model_name": "HBoxModel",
          "state": {
            "_view_name": "HBoxView",
            "_dom_classes": [],
            "_model_name": "HBoxModel",
            "_view_module": "@jupyter-widgets/controls",
            "_model_module_version": "1.5.0",
            "_view_count": null,
            "_view_module_version": "1.5.0",
            "box_style": "",
            "layout": "IPY_MODEL_5d66bb7c6572455c838784bf5efd1978",
            "_model_module": "@jupyter-widgets/controls",
            "children": [
              "IPY_MODEL_635208d44cbc4c0dad326da65c357893",
              "IPY_MODEL_2ebb66ab238744259f32bdb0d300ac46"
            ]
          }
        },
        "5d66bb7c6572455c838784bf5efd1978": {
          "model_module": "@jupyter-widgets/base",
          "model_name": "LayoutModel",
          "state": {
            "_view_name": "LayoutView",
            "grid_template_rows": null,
            "right": null,
            "justify_content": null,
            "_view_module": "@jupyter-widgets/base",
            "overflow": null,
            "_model_module_version": "1.2.0",
            "_view_count": null,
            "flex_flow": null,
            "width": null,
            "min_width": null,
            "border": null,
            "align_items": null,
            "bottom": null,
            "_model_module": "@jupyter-widgets/base",
            "top": null,
            "grid_column": null,
            "overflow_y": null,
            "overflow_x": null,
            "grid_auto_flow": null,
            "grid_area": null,
            "grid_template_columns": null,
            "flex": null,
            "_model_name": "LayoutModel",
            "justify_items": null,
            "grid_row": null,
            "max_height": null,
            "align_content": null,
            "visibility": null,
            "align_self": null,
            "height": null,
            "min_height": null,
            "padding": null,
            "grid_auto_rows": null,
            "grid_gap": null,
            "max_width": null,
            "order": null,
            "_view_module_version": "1.2.0",
            "grid_template_areas": null,
            "object_position": null,
            "object_fit": null,
            "grid_auto_columns": null,
            "margin": null,
            "display": null,
            "left": null
          }
        },
        "635208d44cbc4c0dad326da65c357893": {
          "model_module": "@jupyter-widgets/controls",
          "model_name": "FloatProgressModel",
          "state": {
            "_view_name": "ProgressView",
            "style": "IPY_MODEL_a11c1a534eb84670b823570b46e72713",
            "_dom_classes": [],
            "description": "Downloading: 100%",
            "_model_name": "FloatProgressModel",
            "bar_style": "success",
            "max": 688,
            "_view_module": "@jupyter-widgets/controls",
            "_model_module_version": "1.5.0",
            "value": 688,
            "_view_count": null,
            "_view_module_version": "1.5.0",
            "orientation": "horizontal",
            "min": 0,
            "description_tooltip": null,
            "_model_module": "@jupyter-widgets/controls",
            "layout": "IPY_MODEL_adfb2f47a4554012b7322277b0c3e2d2"
          }
        },
        "2ebb66ab238744259f32bdb0d300ac46": {
          "model_module": "@jupyter-widgets/controls",
          "model_name": "HTMLModel",
          "state": {
            "_view_name": "HTMLView",
            "style": "IPY_MODEL_38f02057ec264767a8d61272e5ccf58e",
            "_dom_classes": [],
            "description": "",
            "_model_name": "HTMLModel",
            "placeholder": "​",
            "_view_module": "@jupyter-widgets/controls",
            "_model_module_version": "1.5.0",
            "value": " 688/688 [00:00&lt;00:00, 1.94kB/s]",
            "_view_count": null,
            "_view_module_version": "1.5.0",
            "description_tooltip": null,
            "_model_module": "@jupyter-widgets/controls",
            "layout": "IPY_MODEL_65a1dc5539a4406e89e2be1be56a3a08"
          }
        },
        "a11c1a534eb84670b823570b46e72713": {
          "model_module": "@jupyter-widgets/controls",
          "model_name": "ProgressStyleModel",
          "state": {
            "_view_name": "StyleView",
            "_model_name": "ProgressStyleModel",
            "description_width": "initial",
            "_view_module": "@jupyter-widgets/base",
            "_model_module_version": "1.5.0",
            "_view_count": null,
            "_view_module_version": "1.2.0",
            "bar_color": null,
            "_model_module": "@jupyter-widgets/controls"
          }
        },
        "adfb2f47a4554012b7322277b0c3e2d2": {
          "model_module": "@jupyter-widgets/base",
          "model_name": "LayoutModel",
          "state": {
            "_view_name": "LayoutView",
            "grid_template_rows": null,
            "right": null,
            "justify_content": null,
            "_view_module": "@jupyter-widgets/base",
            "overflow": null,
            "_model_module_version": "1.2.0",
            "_view_count": null,
            "flex_flow": null,
            "width": null,
            "min_width": null,
            "border": null,
            "align_items": null,
            "bottom": null,
            "_model_module": "@jupyter-widgets/base",
            "top": null,
            "grid_column": null,
            "overflow_y": null,
            "overflow_x": null,
            "grid_auto_flow": null,
            "grid_area": null,
            "grid_template_columns": null,
            "flex": null,
            "_model_name": "LayoutModel",
            "justify_items": null,
            "grid_row": null,
            "max_height": null,
            "align_content": null,
            "visibility": null,
            "align_self": null,
            "height": null,
            "min_height": null,
            "padding": null,
            "grid_auto_rows": null,
            "grid_gap": null,
            "max_width": null,
            "order": null,
            "_view_module_version": "1.2.0",
            "grid_template_areas": null,
            "object_position": null,
            "object_fit": null,
            "grid_auto_columns": null,
            "margin": null,
            "display": null,
            "left": null
          }
        },
        "38f02057ec264767a8d61272e5ccf58e": {
          "model_module": "@jupyter-widgets/controls",
          "model_name": "DescriptionStyleModel",
          "state": {
            "_view_name": "StyleView",
            "_model_name": "DescriptionStyleModel",
            "description_width": "",
            "_view_module": "@jupyter-widgets/base",
            "_model_module_version": "1.5.0",
            "_view_count": null,
            "_view_module_version": "1.2.0",
            "_model_module": "@jupyter-widgets/controls"
          }
        },
        "65a1dc5539a4406e89e2be1be56a3a08": {
          "model_module": "@jupyter-widgets/base",
          "model_name": "LayoutModel",
          "state": {
            "_view_name": "LayoutView",
            "grid_template_rows": null,
            "right": null,
            "justify_content": null,
            "_view_module": "@jupyter-widgets/base",
            "overflow": null,
            "_model_module_version": "1.2.0",
            "_view_count": null,
            "flex_flow": null,
            "width": null,
            "min_width": null,
            "border": null,
            "align_items": null,
            "bottom": null,
            "_model_module": "@jupyter-widgets/base",
            "top": null,
            "grid_column": null,
            "overflow_y": null,
            "overflow_x": null,
            "grid_auto_flow": null,
            "grid_area": null,
            "grid_template_columns": null,
            "flex": null,
            "_model_name": "LayoutModel",
            "justify_items": null,
            "grid_row": null,
            "max_height": null,
            "align_content": null,
            "visibility": null,
            "align_self": null,
            "height": null,
            "min_height": null,
            "padding": null,
            "grid_auto_rows": null,
            "grid_gap": null,
            "max_width": null,
            "order": null,
            "_view_module_version": "1.2.0",
            "grid_template_areas": null,
            "object_position": null,
            "object_fit": null,
            "grid_auto_columns": null,
            "margin": null,
            "display": null,
            "left": null
          }
        },
        "7ff8cd7e743f42169977b8c7545838b7": {
          "model_module": "@jupyter-widgets/controls",
          "model_name": "HBoxModel",
          "state": {
            "_view_name": "HBoxView",
            "_dom_classes": [],
            "_model_name": "HBoxModel",
            "_view_module": "@jupyter-widgets/controls",
            "_model_module_version": "1.5.0",
            "_view_count": null,
            "_view_module_version": "1.5.0",
            "box_style": "",
            "layout": "IPY_MODEL_90116f8770b84a108584d26bffd86ebd",
            "_model_module": "@jupyter-widgets/controls",
            "children": [
              "IPY_MODEL_e322f72e8611431287db88a999ba613b",
              "IPY_MODEL_d47e746fec5e424199bab5429efcde8b"
            ]
          }
        },
        "90116f8770b84a108584d26bffd86ebd": {
          "model_module": "@jupyter-widgets/base",
          "model_name": "LayoutModel",
          "state": {
            "_view_name": "LayoutView",
            "grid_template_rows": null,
            "right": null,
            "justify_content": null,
            "_view_module": "@jupyter-widgets/base",
            "overflow": null,
            "_model_module_version": "1.2.0",
            "_view_count": null,
            "flex_flow": null,
            "width": null,
            "min_width": null,
            "border": null,
            "align_items": null,
            "bottom": null,
            "_model_module": "@jupyter-widgets/base",
            "top": null,
            "grid_column": null,
            "overflow_y": null,
            "overflow_x": null,
            "grid_auto_flow": null,
            "grid_area": null,
            "grid_template_columns": null,
            "flex": null,
            "_model_name": "LayoutModel",
            "justify_items": null,
            "grid_row": null,
            "max_height": null,
            "align_content": null,
            "visibility": null,
            "align_self": null,
            "height": null,
            "min_height": null,
            "padding": null,
            "grid_auto_rows": null,
            "grid_gap": null,
            "max_width": null,
            "order": null,
            "_view_module_version": "1.2.0",
            "grid_template_areas": null,
            "object_position": null,
            "object_fit": null,
            "grid_auto_columns": null,
            "margin": null,
            "display": null,
            "left": null
          }
        },
        "e322f72e8611431287db88a999ba613b": {
          "model_module": "@jupyter-widgets/controls",
          "model_name": "FloatProgressModel",
          "state": {
            "_view_name": "ProgressView",
            "style": "IPY_MODEL_378e05f05d59427abe84525a21dfefdb",
            "_dom_classes": [],
            "description": "Downloading: 100%",
            "_model_name": "FloatProgressModel",
            "bar_style": "success",
            "max": 898823,
            "_view_module": "@jupyter-widgets/controls",
            "_model_module_version": "1.5.0",
            "value": 898823,
            "_view_count": null,
            "_view_module_version": "1.5.0",
            "orientation": "horizontal",
            "min": 0,
            "description_tooltip": null,
            "_model_module": "@jupyter-widgets/controls",
            "layout": "IPY_MODEL_0184cd7d83494dc2ad7ab7815abfcfaa"
          }
        },
        "d47e746fec5e424199bab5429efcde8b": {
          "model_module": "@jupyter-widgets/controls",
          "model_name": "HTMLModel",
          "state": {
            "_view_name": "HTMLView",
            "style": "IPY_MODEL_97110e1f1d4949b48bd25595519263c7",
            "_dom_classes": [],
            "description": "",
            "_model_name": "HTMLModel",
            "placeholder": "​",
            "_view_module": "@jupyter-widgets/controls",
            "_model_module_version": "1.5.0",
            "value": " 899k/899k [00:00&lt;00:00, 3.97MB/s]",
            "_view_count": null,
            "_view_module_version": "1.5.0",
            "description_tooltip": null,
            "_model_module": "@jupyter-widgets/controls",
            "layout": "IPY_MODEL_97dffbe3ab1445a299e228ecf70cfda5"
          }
        },
        "378e05f05d59427abe84525a21dfefdb": {
          "model_module": "@jupyter-widgets/controls",
          "model_name": "ProgressStyleModel",
          "state": {
            "_view_name": "StyleView",
            "_model_name": "ProgressStyleModel",
            "description_width": "initial",
            "_view_module": "@jupyter-widgets/base",
            "_model_module_version": "1.5.0",
            "_view_count": null,
            "_view_module_version": "1.2.0",
            "bar_color": null,
            "_model_module": "@jupyter-widgets/controls"
          }
        },
        "0184cd7d83494dc2ad7ab7815abfcfaa": {
          "model_module": "@jupyter-widgets/base",
          "model_name": "LayoutModel",
          "state": {
            "_view_name": "LayoutView",
            "grid_template_rows": null,
            "right": null,
            "justify_content": null,
            "_view_module": "@jupyter-widgets/base",
            "overflow": null,
            "_model_module_version": "1.2.0",
            "_view_count": null,
            "flex_flow": null,
            "width": null,
            "min_width": null,
            "border": null,
            "align_items": null,
            "bottom": null,
            "_model_module": "@jupyter-widgets/base",
            "top": null,
            "grid_column": null,
            "overflow_y": null,
            "overflow_x": null,
            "grid_auto_flow": null,
            "grid_area": null,
            "grid_template_columns": null,
            "flex": null,
            "_model_name": "LayoutModel",
            "justify_items": null,
            "grid_row": null,
            "max_height": null,
            "align_content": null,
            "visibility": null,
            "align_self": null,
            "height": null,
            "min_height": null,
            "padding": null,
            "grid_auto_rows": null,
            "grid_gap": null,
            "max_width": null,
            "order": null,
            "_view_module_version": "1.2.0",
            "grid_template_areas": null,
            "object_position": null,
            "object_fit": null,
            "grid_auto_columns": null,
            "margin": null,
            "display": null,
            "left": null
          }
        },
        "97110e1f1d4949b48bd25595519263c7": {
          "model_module": "@jupyter-widgets/controls",
          "model_name": "DescriptionStyleModel",
          "state": {
            "_view_name": "StyleView",
            "_model_name": "DescriptionStyleModel",
            "description_width": "",
            "_view_module": "@jupyter-widgets/base",
            "_model_module_version": "1.5.0",
            "_view_count": null,
            "_view_module_version": "1.2.0",
            "_model_module": "@jupyter-widgets/controls"
          }
        },
        "97dffbe3ab1445a299e228ecf70cfda5": {
          "model_module": "@jupyter-widgets/base",
          "model_name": "LayoutModel",
          "state": {
            "_view_name": "LayoutView",
            "grid_template_rows": null,
            "right": null,
            "justify_content": null,
            "_view_module": "@jupyter-widgets/base",
            "overflow": null,
            "_model_module_version": "1.2.0",
            "_view_count": null,
            "flex_flow": null,
            "width": null,
            "min_width": null,
            "border": null,
            "align_items": null,
            "bottom": null,
            "_model_module": "@jupyter-widgets/base",
            "top": null,
            "grid_column": null,
            "overflow_y": null,
            "overflow_x": null,
            "grid_auto_flow": null,
            "grid_area": null,
            "grid_template_columns": null,
            "flex": null,
            "_model_name": "LayoutModel",
            "justify_items": null,
            "grid_row": null,
            "max_height": null,
            "align_content": null,
            "visibility": null,
            "align_self": null,
            "height": null,
            "min_height": null,
            "padding": null,
            "grid_auto_rows": null,
            "grid_gap": null,
            "max_width": null,
            "order": null,
            "_view_module_version": "1.2.0",
            "grid_template_areas": null,
            "object_position": null,
            "object_fit": null,
            "grid_auto_columns": null,
            "margin": null,
            "display": null,
            "left": null
          }
        },
        "dd36a4dbec1445aaaa551d4e046ba51d": {
          "model_module": "@jupyter-widgets/controls",
          "model_name": "HBoxModel",
          "state": {
            "_view_name": "HBoxView",
            "_dom_classes": [],
            "_model_name": "HBoxModel",
            "_view_module": "@jupyter-widgets/controls",
            "_model_module_version": "1.5.0",
            "_view_count": null,
            "_view_module_version": "1.5.0",
            "box_style": "",
            "layout": "IPY_MODEL_4f950b33852f4cc1a7c55fcf04e95559",
            "_model_module": "@jupyter-widgets/controls",
            "children": [
              "IPY_MODEL_bf03b5bad4214b50b55a00b7dd770e60",
              "IPY_MODEL_f278886cb4264512948c33de7282c06f"
            ]
          }
        },
        "4f950b33852f4cc1a7c55fcf04e95559": {
          "model_module": "@jupyter-widgets/base",
          "model_name": "LayoutModel",
          "state": {
            "_view_name": "LayoutView",
            "grid_template_rows": null,
            "right": null,
            "justify_content": null,
            "_view_module": "@jupyter-widgets/base",
            "overflow": null,
            "_model_module_version": "1.2.0",
            "_view_count": null,
            "flex_flow": null,
            "width": null,
            "min_width": null,
            "border": null,
            "align_items": null,
            "bottom": null,
            "_model_module": "@jupyter-widgets/base",
            "top": null,
            "grid_column": null,
            "overflow_y": null,
            "overflow_x": null,
            "grid_auto_flow": null,
            "grid_area": null,
            "grid_template_columns": null,
            "flex": null,
            "_model_name": "LayoutModel",
            "justify_items": null,
            "grid_row": null,
            "max_height": null,
            "align_content": null,
            "visibility": null,
            "align_self": null,
            "height": null,
            "min_height": null,
            "padding": null,
            "grid_auto_rows": null,
            "grid_gap": null,
            "max_width": null,
            "order": null,
            "_view_module_version": "1.2.0",
            "grid_template_areas": null,
            "object_position": null,
            "object_fit": null,
            "grid_auto_columns": null,
            "margin": null,
            "display": null,
            "left": null
          }
        },
        "bf03b5bad4214b50b55a00b7dd770e60": {
          "model_module": "@jupyter-widgets/controls",
          "model_name": "FloatProgressModel",
          "state": {
            "_view_name": "ProgressView",
            "style": "IPY_MODEL_0bfa61a3a654429bb446dd0fee5e4db5",
            "_dom_classes": [],
            "description": "Downloading: 100%",
            "_model_name": "FloatProgressModel",
            "bar_style": "success",
            "max": 456318,
            "_view_module": "@jupyter-widgets/controls",
            "_model_module_version": "1.5.0",
            "value": 456318,
            "_view_count": null,
            "_view_module_version": "1.5.0",
            "orientation": "horizontal",
            "min": 0,
            "description_tooltip": null,
            "_model_module": "@jupyter-widgets/controls",
            "layout": "IPY_MODEL_042e693bfaf14290bde5aca5ca66b868"
          }
        },
        "f278886cb4264512948c33de7282c06f": {
          "model_module": "@jupyter-widgets/controls",
          "model_name": "HTMLModel",
          "state": {
            "_view_name": "HTMLView",
            "style": "IPY_MODEL_96a6eeb9808642e59fd57d1d8940da1f",
            "_dom_classes": [],
            "description": "",
            "_model_name": "HTMLModel",
            "placeholder": "​",
            "_view_module": "@jupyter-widgets/controls",
            "_model_module_version": "1.5.0",
            "value": " 456k/456k [01:36&lt;00:00, 4.73kB/s]",
            "_view_count": null,
            "_view_module_version": "1.5.0",
            "description_tooltip": null,
            "_model_module": "@jupyter-widgets/controls",
            "layout": "IPY_MODEL_464f8eec803144ec8ffcd651c1d0c955"
          }
        },
        "0bfa61a3a654429bb446dd0fee5e4db5": {
          "model_module": "@jupyter-widgets/controls",
          "model_name": "ProgressStyleModel",
          "state": {
            "_view_name": "StyleView",
            "_model_name": "ProgressStyleModel",
            "description_width": "initial",
            "_view_module": "@jupyter-widgets/base",
            "_model_module_version": "1.5.0",
            "_view_count": null,
            "_view_module_version": "1.2.0",
            "bar_color": null,
            "_model_module": "@jupyter-widgets/controls"
          }
        },
        "042e693bfaf14290bde5aca5ca66b868": {
          "model_module": "@jupyter-widgets/base",
          "model_name": "LayoutModel",
          "state": {
            "_view_name": "LayoutView",
            "grid_template_rows": null,
            "right": null,
            "justify_content": null,
            "_view_module": "@jupyter-widgets/base",
            "overflow": null,
            "_model_module_version": "1.2.0",
            "_view_count": null,
            "flex_flow": null,
            "width": null,
            "min_width": null,
            "border": null,
            "align_items": null,
            "bottom": null,
            "_model_module": "@jupyter-widgets/base",
            "top": null,
            "grid_column": null,
            "overflow_y": null,
            "overflow_x": null,
            "grid_auto_flow": null,
            "grid_area": null,
            "grid_template_columns": null,
            "flex": null,
            "_model_name": "LayoutModel",
            "justify_items": null,
            "grid_row": null,
            "max_height": null,
            "align_content": null,
            "visibility": null,
            "align_self": null,
            "height": null,
            "min_height": null,
            "padding": null,
            "grid_auto_rows": null,
            "grid_gap": null,
            "max_width": null,
            "order": null,
            "_view_module_version": "1.2.0",
            "grid_template_areas": null,
            "object_position": null,
            "object_fit": null,
            "grid_auto_columns": null,
            "margin": null,
            "display": null,
            "left": null
          }
        },
        "96a6eeb9808642e59fd57d1d8940da1f": {
          "model_module": "@jupyter-widgets/controls",
          "model_name": "DescriptionStyleModel",
          "state": {
            "_view_name": "StyleView",
            "_model_name": "DescriptionStyleModel",
            "description_width": "",
            "_view_module": "@jupyter-widgets/base",
            "_model_module_version": "1.5.0",
            "_view_count": null,
            "_view_module_version": "1.2.0",
            "_model_module": "@jupyter-widgets/controls"
          }
        },
        "464f8eec803144ec8ffcd651c1d0c955": {
          "model_module": "@jupyter-widgets/base",
          "model_name": "LayoutModel",
          "state": {
            "_view_name": "LayoutView",
            "grid_template_rows": null,
            "right": null,
            "justify_content": null,
            "_view_module": "@jupyter-widgets/base",
            "overflow": null,
            "_model_module_version": "1.2.0",
            "_view_count": null,
            "flex_flow": null,
            "width": null,
            "min_width": null,
            "border": null,
            "align_items": null,
            "bottom": null,
            "_model_module": "@jupyter-widgets/base",
            "top": null,
            "grid_column": null,
            "overflow_y": null,
            "overflow_x": null,
            "grid_auto_flow": null,
            "grid_area": null,
            "grid_template_columns": null,
            "flex": null,
            "_model_name": "LayoutModel",
            "justify_items": null,
            "grid_row": null,
            "max_height": null,
            "align_content": null,
            "visibility": null,
            "align_self": null,
            "height": null,
            "min_height": null,
            "padding": null,
            "grid_auto_rows": null,
            "grid_gap": null,
            "max_width": null,
            "order": null,
            "_view_module_version": "1.2.0",
            "grid_template_areas": null,
            "object_position": null,
            "object_fit": null,
            "grid_auto_columns": null,
            "margin": null,
            "display": null,
            "left": null
          }
        },
        "1ee3ad3785c0410a8b8d7d5e7bc1c9ab": {
          "model_module": "@jupyter-widgets/controls",
          "model_name": "HBoxModel",
          "state": {
            "_view_name": "HBoxView",
            "_dom_classes": [],
            "_model_name": "HBoxModel",
            "_view_module": "@jupyter-widgets/controls",
            "_model_module_version": "1.5.0",
            "_view_count": null,
            "_view_module_version": "1.5.0",
            "box_style": "",
            "layout": "IPY_MODEL_bed63e8e9a6b4d5ca167c24a56482acb",
            "_model_module": "@jupyter-widgets/controls",
            "children": [
              "IPY_MODEL_85bf0a0706a54998a35430075c07bbef",
              "IPY_MODEL_1e8d15f595554e32952e7e1aadcba849"
            ]
          }
        },
        "bed63e8e9a6b4d5ca167c24a56482acb": {
          "model_module": "@jupyter-widgets/base",
          "model_name": "LayoutModel",
          "state": {
            "_view_name": "LayoutView",
            "grid_template_rows": null,
            "right": null,
            "justify_content": null,
            "_view_module": "@jupyter-widgets/base",
            "overflow": null,
            "_model_module_version": "1.2.0",
            "_view_count": null,
            "flex_flow": null,
            "width": null,
            "min_width": null,
            "border": null,
            "align_items": null,
            "bottom": null,
            "_model_module": "@jupyter-widgets/base",
            "top": null,
            "grid_column": null,
            "overflow_y": null,
            "overflow_x": null,
            "grid_auto_flow": null,
            "grid_area": null,
            "grid_template_columns": null,
            "flex": null,
            "_model_name": "LayoutModel",
            "justify_items": null,
            "grid_row": null,
            "max_height": null,
            "align_content": null,
            "visibility": null,
            "align_self": null,
            "height": null,
            "min_height": null,
            "padding": null,
            "grid_auto_rows": null,
            "grid_gap": null,
            "max_width": null,
            "order": null,
            "_view_module_version": "1.2.0",
            "grid_template_areas": null,
            "object_position": null,
            "object_fit": null,
            "grid_auto_columns": null,
            "margin": null,
            "display": null,
            "left": null
          }
        },
        "85bf0a0706a54998a35430075c07bbef": {
          "model_module": "@jupyter-widgets/controls",
          "model_name": "FloatProgressModel",
          "state": {
            "_view_name": "ProgressView",
            "style": "IPY_MODEL_4ce542ef30f044fabc46d65acb285579",
            "_dom_classes": [],
            "description": "Downloading: 100%",
            "_model_name": "FloatProgressModel",
            "bar_style": "success",
            "max": 1355863,
            "_view_module": "@jupyter-widgets/controls",
            "_model_module_version": "1.5.0",
            "value": 1355863,
            "_view_count": null,
            "_view_module_version": "1.5.0",
            "orientation": "horizontal",
            "min": 0,
            "description_tooltip": null,
            "_model_module": "@jupyter-widgets/controls",
            "layout": "IPY_MODEL_ebc95b769ee6447da57a585f8fa6f703"
          }
        },
        "1e8d15f595554e32952e7e1aadcba849": {
          "model_module": "@jupyter-widgets/controls",
          "model_name": "HTMLModel",
          "state": {
            "_view_name": "HTMLView",
            "style": "IPY_MODEL_a4e27fff80684f07b9fc14cd5de4aef9",
            "_dom_classes": [],
            "description": "",
            "_model_name": "HTMLModel",
            "placeholder": "​",
            "_view_module": "@jupyter-widgets/controls",
            "_model_module_version": "1.5.0",
            "value": " 1.36M/1.36M [00:02&lt;00:00, 617kB/s]",
            "_view_count": null,
            "_view_module_version": "1.5.0",
            "description_tooltip": null,
            "_model_module": "@jupyter-widgets/controls",
            "layout": "IPY_MODEL_0fce1fb917954cb8b6150e1142baa2e2"
          }
        },
        "4ce542ef30f044fabc46d65acb285579": {
          "model_module": "@jupyter-widgets/controls",
          "model_name": "ProgressStyleModel",
          "state": {
            "_view_name": "StyleView",
            "_model_name": "ProgressStyleModel",
            "description_width": "initial",
            "_view_module": "@jupyter-widgets/base",
            "_model_module_version": "1.5.0",
            "_view_count": null,
            "_view_module_version": "1.2.0",
            "bar_color": null,
            "_model_module": "@jupyter-widgets/controls"
          }
        },
        "ebc95b769ee6447da57a585f8fa6f703": {
          "model_module": "@jupyter-widgets/base",
          "model_name": "LayoutModel",
          "state": {
            "_view_name": "LayoutView",
            "grid_template_rows": null,
            "right": null,
            "justify_content": null,
            "_view_module": "@jupyter-widgets/base",
            "overflow": null,
            "_model_module_version": "1.2.0",
            "_view_count": null,
            "flex_flow": null,
            "width": null,
            "min_width": null,
            "border": null,
            "align_items": null,
            "bottom": null,
            "_model_module": "@jupyter-widgets/base",
            "top": null,
            "grid_column": null,
            "overflow_y": null,
            "overflow_x": null,
            "grid_auto_flow": null,
            "grid_area": null,
            "grid_template_columns": null,
            "flex": null,
            "_model_name": "LayoutModel",
            "justify_items": null,
            "grid_row": null,
            "max_height": null,
            "align_content": null,
            "visibility": null,
            "align_self": null,
            "height": null,
            "min_height": null,
            "padding": null,
            "grid_auto_rows": null,
            "grid_gap": null,
            "max_width": null,
            "order": null,
            "_view_module_version": "1.2.0",
            "grid_template_areas": null,
            "object_position": null,
            "object_fit": null,
            "grid_auto_columns": null,
            "margin": null,
            "display": null,
            "left": null
          }
        },
        "a4e27fff80684f07b9fc14cd5de4aef9": {
          "model_module": "@jupyter-widgets/controls",
          "model_name": "DescriptionStyleModel",
          "state": {
            "_view_name": "StyleView",
            "_model_name": "DescriptionStyleModel",
            "description_width": "",
            "_view_module": "@jupyter-widgets/base",
            "_model_module_version": "1.5.0",
            "_view_count": null,
            "_view_module_version": "1.2.0",
            "_model_module": "@jupyter-widgets/controls"
          }
        },
        "0fce1fb917954cb8b6150e1142baa2e2": {
          "model_module": "@jupyter-widgets/base",
          "model_name": "LayoutModel",
          "state": {
            "_view_name": "LayoutView",
            "grid_template_rows": null,
            "right": null,
            "justify_content": null,
            "_view_module": "@jupyter-widgets/base",
            "overflow": null,
            "_model_module_version": "1.2.0",
            "_view_count": null,
            "flex_flow": null,
            "width": null,
            "min_width": null,
            "border": null,
            "align_items": null,
            "bottom": null,
            "_model_module": "@jupyter-widgets/base",
            "top": null,
            "grid_column": null,
            "overflow_y": null,
            "overflow_x": null,
            "grid_auto_flow": null,
            "grid_area": null,
            "grid_template_columns": null,
            "flex": null,
            "_model_name": "LayoutModel",
            "justify_items": null,
            "grid_row": null,
            "max_height": null,
            "align_content": null,
            "visibility": null,
            "align_self": null,
            "height": null,
            "min_height": null,
            "padding": null,
            "grid_auto_rows": null,
            "grid_gap": null,
            "max_width": null,
            "order": null,
            "_view_module_version": "1.2.0",
            "grid_template_areas": null,
            "object_position": null,
            "object_fit": null,
            "grid_auto_columns": null,
            "margin": null,
            "display": null,
            "left": null
          }
        },
        "c15fd7a935c54813ad002599c76b2260": {
          "model_module": "@jupyter-widgets/controls",
          "model_name": "HBoxModel",
          "state": {
            "_view_name": "HBoxView",
            "_dom_classes": [],
            "_model_name": "HBoxModel",
            "_view_module": "@jupyter-widgets/controls",
            "_model_module_version": "1.5.0",
            "_view_count": null,
            "_view_module_version": "1.5.0",
            "box_style": "",
            "layout": "IPY_MODEL_4afe3765971a49feb7874804b443e69e",
            "_model_module": "@jupyter-widgets/controls",
            "children": [
              "IPY_MODEL_8c37da91d02b4b4fb86030ec25cd6f11",
              "IPY_MODEL_0ca57b9ea73f47f392ff51f14b2d4ed0"
            ]
          }
        },
        "4afe3765971a49feb7874804b443e69e": {
          "model_module": "@jupyter-widgets/base",
          "model_name": "LayoutModel",
          "state": {
            "_view_name": "LayoutView",
            "grid_template_rows": null,
            "right": null,
            "justify_content": null,
            "_view_module": "@jupyter-widgets/base",
            "overflow": null,
            "_model_module_version": "1.2.0",
            "_view_count": null,
            "flex_flow": null,
            "width": null,
            "min_width": null,
            "border": null,
            "align_items": null,
            "bottom": null,
            "_model_module": "@jupyter-widgets/base",
            "top": null,
            "grid_column": null,
            "overflow_y": null,
            "overflow_x": null,
            "grid_auto_flow": null,
            "grid_area": null,
            "grid_template_columns": null,
            "flex": null,
            "_model_name": "LayoutModel",
            "justify_items": null,
            "grid_row": null,
            "max_height": null,
            "align_content": null,
            "visibility": null,
            "align_self": null,
            "height": null,
            "min_height": null,
            "padding": null,
            "grid_auto_rows": null,
            "grid_gap": null,
            "max_width": null,
            "order": null,
            "_view_module_version": "1.2.0",
            "grid_template_areas": null,
            "object_position": null,
            "object_fit": null,
            "grid_auto_columns": null,
            "margin": null,
            "display": null,
            "left": null
          }
        },
        "8c37da91d02b4b4fb86030ec25cd6f11": {
          "model_module": "@jupyter-widgets/controls",
          "model_name": "FloatProgressModel",
          "state": {
            "_view_name": "ProgressView",
            "style": "IPY_MODEL_13034a08098a49e2a0d2074388cf786a",
            "_dom_classes": [],
            "description": "Downloading: 100%",
            "_model_name": "FloatProgressModel",
            "bar_style": "success",
            "max": 1425744429,
            "_view_module": "@jupyter-widgets/controls",
            "_model_module_version": "1.5.0",
            "value": 1425744429,
            "_view_count": null,
            "_view_module_version": "1.5.0",
            "orientation": "horizontal",
            "min": 0,
            "description_tooltip": null,
            "_model_module": "@jupyter-widgets/controls",
            "layout": "IPY_MODEL_ce9942eb91ab440b96e7ecab7739caab"
          }
        },
        "0ca57b9ea73f47f392ff51f14b2d4ed0": {
          "model_module": "@jupyter-widgets/controls",
          "model_name": "HTMLModel",
          "state": {
            "_view_name": "HTMLView",
            "style": "IPY_MODEL_b9b508f864bc4c949c48eccd29592bf8",
            "_dom_classes": [],
            "description": "",
            "_model_name": "HTMLModel",
            "placeholder": "​",
            "_view_module": "@jupyter-widgets/controls",
            "_model_module_version": "1.5.0",
            "value": " 1.43G/1.43G [01:35&lt;00:00, 14.9MB/s]",
            "_view_count": null,
            "_view_module_version": "1.5.0",
            "description_tooltip": null,
            "_model_module": "@jupyter-widgets/controls",
            "layout": "IPY_MODEL_a6a8f97c67db4756b48e5f23e2515e88"
          }
        },
        "13034a08098a49e2a0d2074388cf786a": {
          "model_module": "@jupyter-widgets/controls",
          "model_name": "ProgressStyleModel",
          "state": {
            "_view_name": "StyleView",
            "_model_name": "ProgressStyleModel",
            "description_width": "initial",
            "_view_module": "@jupyter-widgets/base",
            "_model_module_version": "1.5.0",
            "_view_count": null,
            "_view_module_version": "1.2.0",
            "bar_color": null,
            "_model_module": "@jupyter-widgets/controls"
          }
        },
        "ce9942eb91ab440b96e7ecab7739caab": {
          "model_module": "@jupyter-widgets/base",
          "model_name": "LayoutModel",
          "state": {
            "_view_name": "LayoutView",
            "grid_template_rows": null,
            "right": null,
            "justify_content": null,
            "_view_module": "@jupyter-widgets/base",
            "overflow": null,
            "_model_module_version": "1.2.0",
            "_view_count": null,
            "flex_flow": null,
            "width": null,
            "min_width": null,
            "border": null,
            "align_items": null,
            "bottom": null,
            "_model_module": "@jupyter-widgets/base",
            "top": null,
            "grid_column": null,
            "overflow_y": null,
            "overflow_x": null,
            "grid_auto_flow": null,
            "grid_area": null,
            "grid_template_columns": null,
            "flex": null,
            "_model_name": "LayoutModel",
            "justify_items": null,
            "grid_row": null,
            "max_height": null,
            "align_content": null,
            "visibility": null,
            "align_self": null,
            "height": null,
            "min_height": null,
            "padding": null,
            "grid_auto_rows": null,
            "grid_gap": null,
            "max_width": null,
            "order": null,
            "_view_module_version": "1.2.0",
            "grid_template_areas": null,
            "object_position": null,
            "object_fit": null,
            "grid_auto_columns": null,
            "margin": null,
            "display": null,
            "left": null
          }
        },
        "b9b508f864bc4c949c48eccd29592bf8": {
          "model_module": "@jupyter-widgets/controls",
          "model_name": "DescriptionStyleModel",
          "state": {
            "_view_name": "StyleView",
            "_model_name": "DescriptionStyleModel",
            "description_width": "",
            "_view_module": "@jupyter-widgets/base",
            "_model_module_version": "1.5.0",
            "_view_count": null,
            "_view_module_version": "1.2.0",
            "_model_module": "@jupyter-widgets/controls"
          }
        },
        "a6a8f97c67db4756b48e5f23e2515e88": {
          "model_module": "@jupyter-widgets/base",
          "model_name": "LayoutModel",
          "state": {
            "_view_name": "LayoutView",
            "grid_template_rows": null,
            "right": null,
            "justify_content": null,
            "_view_module": "@jupyter-widgets/base",
            "overflow": null,
            "_model_module_version": "1.2.0",
            "_view_count": null,
            "flex_flow": null,
            "width": null,
            "min_width": null,
            "border": null,
            "align_items": null,
            "bottom": null,
            "_model_module": "@jupyter-widgets/base",
            "top": null,
            "grid_column": null,
            "overflow_y": null,
            "overflow_x": null,
            "grid_auto_flow": null,
            "grid_area": null,
            "grid_template_columns": null,
            "flex": null,
            "_model_name": "LayoutModel",
            "justify_items": null,
            "grid_row": null,
            "max_height": null,
            "align_content": null,
            "visibility": null,
            "align_self": null,
            "height": null,
            "min_height": null,
            "padding": null,
            "grid_auto_rows": null,
            "grid_gap": null,
            "max_width": null,
            "order": null,
            "_view_module_version": "1.2.0",
            "grid_template_areas": null,
            "object_position": null,
            "object_fit": null,
            "grid_auto_columns": null,
            "margin": null,
            "display": null,
            "left": null
          }
        }
      }
    }
  },
  "cells": [
    {
      "cell_type": "markdown",
      "metadata": {
        "id": "NfqUObyJMTka"
      },
      "source": [
        "## GENERATING CHALLENGE SETS\n"
      ]
    },
    {
      "cell_type": "code",
      "metadata": {
        "id": "357iVcwIJf--"
      },
      "source": [
        "import pandas as pd\n",
        "import numpy as np"
      ],
      "execution_count": null,
      "outputs": []
    },
    {
      "cell_type": "code",
      "metadata": {
        "id": "UEUTMjyLZguI"
      },
      "source": [
        "dayTimeList_12HR = ['12 AM'] + [str(elem) + ' AM' for elem in range(1, 12)] + ['12 PM'] + [str(elem) + ' PM' for elem in range(1, 12)]\n",
        "dayTimeList_24HR = ['{:02d}'.format(elem) + ':00' for elem in range(0, 24)]\n",
        "weekdayList = ['Sunday', 'Monday', 'Tuesday', 'Wednesday', 'Thursday', 'Friday', 'Saturday']\n",
        "datesList = ['1st', '2nd', '3rd', '4th', '5th', '6th', '7th', '8th', '9th', '10th', '11th', '12th', '13th', '14th', '15th', \n",
        "             '16th', '17th', '18th', '19th', '20th', '21st', '22nd', '23rd', '24th', '25th', '26th', '27th', '28th']\n",
        "monthsList_Full = ['January', 'February', 'March', 'April', 'May', 'June', 'July', 'August', 'September', 'October', \n",
        "                   'November', 'December']\n",
        "monthsList_Abv = ['Jan', 'Feb', 'Mar', 'Apr', 'May', 'Jun', 'Jul', 'Aug', 'Sep', 'Oct', 'Nov', 'Dec']\n",
        "yearsList = [str(year) for year in range(1900, 2001)]"
      ],
      "execution_count": null,
      "outputs": []
    },
    {
      "cell_type": "code",
      "metadata": {
        "id": "9KI3355wJcXs"
      },
      "source": [
        "allListDict = {\n",
        "    'day_time_12' : np.array(dayTimeList_12HR),\n",
        "    'day_time_24' : np.array(dayTimeList_24HR),\n",
        "    'weekday' : np.array(weekdayList),\n",
        "    'date' : np.array(datesList),\n",
        "    'month_full' : np.array(monthsList_Full),\n",
        "    'month_abv' : np.array(monthsList_Abv),\n",
        "    'year' : np.array(yearsList),\n",
        "}"
      ],
      "execution_count": null,
      "outputs": []
    },
    {
      "cell_type": "markdown",
      "metadata": {
        "id": "TdQ2hBoqgVJR"
      },
      "source": [
        "### 1. Challenge Set 1"
      ]
    },
    {
      "cell_type": "code",
      "metadata": {
        "id": "a8OO1bc5JkVr"
      },
      "source": [
        "trainTempListDict = {\n",
        "    'forward' : [\"They got married\", \"We went to Disneyland\", \"Michael will buy the house\", \"Lily flew to New York\", \"The music concert starts\", \n",
        "                 \"The tiger was last spotted\", \"I last had dinner with my friends\", \"He left his job\", \"The conference was held\", \n",
        "                 \"The city had a huge power outage\", \"A tsunami hit the coast\", \"This team won the world cup\", \"Her internship at Google began\", \n",
        "                 \"The country declared martial law\", \"The price of this stock peaked\", \"The failing company issued major layoffs\",\n",
        "                 \"The government budget comes out\", \"The prison sentence of that convict ends\", \"This article was published\", \n",
        "                 \"I posted this picture on Instagram\"],\n",
        "    'backward' : [\"they got married\", \"we went to Disneyland\", \"Michael will buy the house\", \"Lily flew to New York\", \"the music concert starts\", \n",
        "                  \"the tiger was last spotted\", \"I last had dinner with my friends\", \"he left his job\", \"the conference was held\", \n",
        "                 \"the city had a huge power outage\", \"a tsunami hit the coast\", \"this team won the world cup\", \"her internship at Google began\", \n",
        "                 \"the country declared martial law\", \"the price of this stock peaked\", \"the failing company issued major layoffs\",\n",
        "                 \"the government budget comes out\", \"the prison sentence of that convict ends\", \"this article was published\", \n",
        "                 \"I posted this picture on Instagram\"]\n",
        "}\n",
        "\n",
        "devTempListDict = {\n",
        "    'forward' : [\"I graduated\", \"The tournament was held\", \"Robin will visit her parents\", \"They are planning to go to Singapore\",\n",
        "                 \"I submitted my PhD dissertation\", \"He was sworn in as the Prime Minister\", \"The startup received funding\", \n",
        "                 \"The government issued new labor policies\"],\n",
        "    'backward' : [\"I graduated\", \"the tournament was held\", \"Robin will visit her parents\", \"they are planning to go to Singapore\", \n",
        "                  \"I submitted my PhD dissertation\", \"he was sworn in as the Prime Minister\", \"the startup received funding\", \n",
        "                  \"the government issued new labor policies\"]\n",
        "}\n",
        "\n",
        "relativePrepList = ['before', 'after']"
      ],
      "execution_count": null,
      "outputs": []
    },
    {
      "cell_type": "code",
      "metadata": {
        "id": "eL8FAs4nxWSO"
      },
      "source": [
        "def relationString(ind1, ind2):\n",
        "\n",
        "  if ind1 < ind2:\n",
        "    return '<'\n",
        "  elif ind1 > ind2:\n",
        "    return '>'\n",
        "  else:\n",
        "    return '='\n",
        "\n",
        "\n",
        "def genOrderingPairList(listType, premFixed=True, tempFirst=True, devSet=False):\n",
        "\n",
        "  if not devSet:\n",
        "    tempList = trainTempListDict['forward' if tempFirst else 'backward']\n",
        "  else:\n",
        "    tempList = devTempListDict['forward' if tempFirst else 'backward']\n",
        "  pairList = []\n",
        "  multiTimeListCond = listType in ['day_time', 'month']\n",
        "\n",
        "  for tempSent in tempList:\n",
        "\n",
        "    pairFound = False\n",
        "    while not pairFound:\n",
        "\n",
        "      if listType == 'day_time':\n",
        "        timeList1, timeList2 = (allListDict['day_time_12'], allListDict['day_time_24']) if (np.random.rand() > 0.5) else (allListDict['day_time_24'], allListDict['day_time_12'])\n",
        "      elif listType == 'month':\n",
        "        timeList1, timeList2 = (allListDict['month_full'], allListDict['month_abv']) if (np.random.rand() > 0.5) else (allListDict['month_abv'], allListDict['month_full'])\n",
        "      else:\n",
        "        timeList = allListDict[listType]\n",
        "\n",
        "      timeInd1, timeInd2 = np.random.choice((range(len(timeList1)) if multiTimeListCond else range(len(timeList))), size=2, replace=True)\n",
        "      premTime, hypTime = (timeList1[timeInd1], timeList2[timeInd2]) if multiTimeListCond else (timeList[timeInd1], timeList[timeInd2])\n",
        "\n",
        "      if premFixed:\n",
        "        if listType.startswith('day_time'):\n",
        "          premPrep = 'at'\n",
        "        elif listType in ['weekday', 'date']:\n",
        "          premPrep = 'on'\n",
        "        else:\n",
        "          premPrep = 'in'\n",
        "        hypPrep = np.random.choice(relativePrepList, size=1)[0]\n",
        "\n",
        "      else:\n",
        "        hypPrep, premPrep = np.random.choice(relativePrepList, 2, replace=True)\n",
        "\n",
        "      if tempFirst:\n",
        "        premSent = tempSent + ' ' + premPrep + ' ' + premTime + '.'\n",
        "        hypoSent = tempSent + ' ' + hypPrep + ' ' + hypTime + '.'\n",
        "      else:\n",
        "        premSent = premPrep.capitalize() + ' ' + premTime + ', ' + tempSent + '.'\n",
        "        hypoSent = hypPrep.capitalize() + ' ' + hypTime + ', ' + tempSent + '.'\n",
        "\n",
        "      if premSent != hypoSent:\n",
        "        pairFound = True\n",
        "      \n",
        "      if (listType != 'year') and (abs(timeInd1 - timeInd2) > (len(timeList1) if multiTimeListCond else len(timeList))/2):\n",
        "        pairFound = False\n",
        "      \n",
        "    relation = relationString(timeInd1, timeInd2)\n",
        "\n",
        "    if premFixed:\n",
        "      if (relation == '<') and (hypPrep == 'before'):\n",
        "        label = 'Entailment'\n",
        "      elif (relation == '>') and (hypPrep == 'after'):\n",
        "        label = 'Entailment'\n",
        "      else:\n",
        "        label = 'Contradiction'\n",
        "    else:\n",
        "      if (relation == '<') and (premPrep == 'before') and (hypPrep == 'before'):\n",
        "        label = 'Entailment'\n",
        "      elif (relation == '>') and (premPrep == 'after') and (hypPrep == 'after'):\n",
        "        label = 'Entailment'\n",
        "      elif (relation in ['<','=']) and (premPrep == 'before') and (hypPrep == 'after'):\n",
        "        label = 'Contradiction'\n",
        "      elif (relation in ['>','=']) and (premPrep == 'after') and (hypPrep == 'before'):\n",
        "        label = 'Contradiction'\n",
        "      else:\n",
        "        label = 'Neutral'\n",
        "\n",
        "    pairList.append((premSent, hypoSent, label))\n",
        "\n",
        "  return pairList\n",
        "\n",
        "\n",
        "def genOrderingDatePairs(monthListType='full', premFixed=True, includeDate=False, tempFirst=True, devSet=False):\n",
        "\n",
        "  pairList = []\n",
        "  if not devSet:\n",
        "    tempList = trainTempListDict['forward' if tempFirst else 'backward']\n",
        "  else:\n",
        "    tempList = devTempListDict['forward' if tempFirst else 'backward']\n",
        "  yearList = allListDict['year']\n",
        "  dateList = allListDict['date']\n",
        "\n",
        "  for tempSent in tempList:\n",
        "\n",
        "    pairFound = False\n",
        "    premDate, hypDate = '', ''\n",
        "\n",
        "    while not pairFound:\n",
        "\n",
        "      if monthListType == 'both':\n",
        "        monthList1, monthList2 = (allListDict['month_full'], allListDict['month_abv']) if (np.random.rand() > 0.5) else (allListDict['month_abv'], allListDict['month_full'])\n",
        "      else:\n",
        "        monthList = allListDict['month_' + monthListType]\n",
        "\n",
        "      monthInd1, monthInd2 = np.random.choice((range(len(monthList1)) if (monthListType == 'both') else range(len(monthList))), size=2, replace=True)\n",
        "      yearInd1, yearInd2 = np.random.choice(range(len(yearList)), size=2, replace=True)\n",
        "      premYear, hypYear = yearList[yearInd1], yearList[yearInd2]\n",
        "      premMonth, hypMonth = (monthList1[monthInd1], monthList2[monthInd2]) if (monthListType == 'both') else (monthList[monthInd1], monthList[monthInd2])\n",
        "    \n",
        "      if includeDate:\n",
        "        dateInd1, dateInd2 = np.random.choice(range(len(dateList)), size=2, replace=True)\n",
        "        premDate, hypDate = dateList[dateInd1], dateList[dateInd2]\n",
        "\n",
        "      if premFixed:\n",
        "        if includeDate:\n",
        "          premPrep = 'on'\n",
        "        else:\n",
        "          premPrep = 'in'\n",
        "\n",
        "        hypPrep = np.random.choice(relativePrepList, size=1)[0]\n",
        "\n",
        "      else:\n",
        "        hypPrep, premPrep = np.random.choice(relativePrepList, size=2)\n",
        "\n",
        "      if tempFirst:\n",
        "        premSent = tempSent + ' ' + premPrep + ' ' + (premDate + ' ' if premDate != '' else '') + premMonth + ' ' + premYear + '.'\n",
        "        hypoSent = tempSent + ' ' + hypPrep + ' ' + (hypDate + ' ' if hypDate != '' else '') + hypMonth + ' ' + hypYear + '.'\n",
        "      else:\n",
        "        premSent = premPrep.capitalize() + ' ' + (premDate + ' ' if premDate != '' else '') + premMonth + ' ' + premYear + ', ' + tempSent + '.'\n",
        "        hypoSent = hypPrep.capitalize() + ' ' + (hypDate + ' ' if hypDate != '' else '') + hypMonth + ' ' + hypYear + ', ' + tempSent + '.'\n",
        "\n",
        "      if premSent != hypoSent:\n",
        "        pairFound = True\n",
        "\n",
        "    yearRelation = relationString(yearInd1, yearInd2)\n",
        "    monthRelation = relationString(monthInd1, monthInd2)\n",
        "    if includeDate:\n",
        "      dateRelation = relationString(dateInd1, dateInd2)\n",
        "\n",
        "    if yearRelation != '=':\n",
        "      relation = yearRelation\n",
        "    elif (yearRelation == '=') and (monthRelation != '='):\n",
        "      relation = monthRelation\n",
        "    elif (includeDate) and (monthRelation == '=') and (dateRelation != '='):\n",
        "      relation = dateRelation\n",
        "    else:\n",
        "      relation = monthRelation\n",
        "\n",
        "    if premFixed:\n",
        "      if (relation == '<') and (hypPrep == 'before'):\n",
        "        label = 'Entailment'\n",
        "      elif (relation == '>') and (hypPrep == 'after'):\n",
        "        label = 'Entailment'\n",
        "      else:\n",
        "        label = 'Contradiction'\n",
        "    else:\n",
        "      if (relation == '<') and (premPrep == 'before') and (hypPrep == 'before'):\n",
        "        label = 'Entailment'\n",
        "      elif (relation == '>') and (premPrep == 'after') and (hypPrep == 'after'):\n",
        "        label = 'Entailment'\n",
        "      elif (relation in ['<', '=']) and (premPrep == 'before') and (hypPrep == 'after'):\n",
        "        label = 'Contradiction'\n",
        "      elif (relation in ['>', '=']) and (premPrep == 'after') and (hypPrep == 'before'):\n",
        "        label = 'Contradiction'\n",
        "      else:\n",
        "        label = 'Neutral'\n",
        "\n",
        "    pairList.append((premSent, hypoSent, label))\n",
        "\n",
        "  return pairList"
      ],
      "execution_count": null,
      "outputs": []
    },
    {
      "cell_type": "code",
      "metadata": {
        "colab": {
          "base_uri": "https://localhost:8080/"
        },
        "id": "cvz0OMG62v9z",
        "outputId": "76e76a2f-63f9-432e-e732-afecc7953b5e"
      },
      "source": [
        "genOrderingPairList(listType='month', premFixed=True, tempFirst=True, devSet=True)"
      ],
      "execution_count": null,
      "outputs": [
        {
          "output_type": "execute_result",
          "data": {
            "text/plain": [
              "[('I graduated in June.', 'I graduated after Feb.', 'Entailment'),\n",
              " ('The tournament was held in March.',\n",
              "  'The tournament was held before Apr.',\n",
              "  'Entailment'),\n",
              " ('Robin will visit her parents in May.',\n",
              "  'Robin will visit her parents before Oct.',\n",
              "  'Entailment'),\n",
              " ('They are planning to go to Singapore in Mar.',\n",
              "  'They are planning to go to Singapore after February.',\n",
              "  'Entailment'),\n",
              " ('I submitted my PhD dissertation in Jun.',\n",
              "  'I submitted my PhD dissertation after February.',\n",
              "  'Entailment'),\n",
              " ('He was sworn in as the Prime Minister in February.',\n",
              "  'He was sworn in as the Prime Minister after Jan.',\n",
              "  'Entailment'),\n",
              " ('The startup received funding in Sep.',\n",
              "  'The startup received funding after March.',\n",
              "  'Entailment'),\n",
              " ('The government issued new labor policies in Oct.',\n",
              "  'The government issued new labor policies before October.',\n",
              "  'Contradiction')]"
            ]
          },
          "metadata": {
            "tags": []
          },
          "execution_count": 7
        }
      ]
    },
    {
      "cell_type": "code",
      "metadata": {
        "colab": {
          "base_uri": "https://localhost:8080/"
        },
        "id": "l-sm-ciahMbu",
        "outputId": "0c921e13-6135-4b8e-d408-61da88867fec"
      },
      "source": [
        "genOrderingDatePairs(monthListType='both', premFixed=True, includeDate=True, tempFirst=True, devSet=True)"
      ],
      "execution_count": null,
      "outputs": [
        {
          "output_type": "execute_result",
          "data": {
            "text/plain": [
              "[('I graduated on 17th Jun 1964.',\n",
              "  'I graduated after 5th December 1949.',\n",
              "  'Entailment'),\n",
              " ('The tournament was held on 17th February 1900.',\n",
              "  'The tournament was held after 2nd Apr 1915.',\n",
              "  'Contradiction'),\n",
              " ('Robin will visit her parents on 11th Mar 1904.',\n",
              "  'Robin will visit her parents after 9th November 1972.',\n",
              "  'Contradiction'),\n",
              " ('They are planning to go to Singapore on 20th June 1963.',\n",
              "  'They are planning to go to Singapore before 3rd Oct 1907.',\n",
              "  'Contradiction'),\n",
              " ('I submitted my PhD dissertation on 13th Nov 1920.',\n",
              "  'I submitted my PhD dissertation before 8th February 1973.',\n",
              "  'Entailment'),\n",
              " ('He was sworn in as the Prime Minister on 25th Mar 1976.',\n",
              "  'He was sworn in as the Prime Minister before 1st August 1913.',\n",
              "  'Contradiction'),\n",
              " ('The startup received funding on 23rd Feb 1978.',\n",
              "  'The startup received funding before 19th January 1972.',\n",
              "  'Contradiction'),\n",
              " ('The government issued new labor policies on 2nd April 1993.',\n",
              "  'The government issued new labor policies after 3rd Oct 1908.',\n",
              "  'Entailment')]"
            ]
          },
          "metadata": {
            "tags": []
          },
          "execution_count": 8
        }
      ]
    },
    {
      "cell_type": "code",
      "metadata": {
        "id": "pZjUQqI63iVV"
      },
      "source": [
        "# GENERATING TRAIN SET\n",
        "\n",
        "challengeSetDF = pd.DataFrame()\n",
        "EPOCH_NUM = 5\n",
        "\n",
        "# GENERATING PAIRS OF SINGLE LISTS\n",
        "\n",
        "for key in allListDict.keys():\n",
        "  for epoch in range(EPOCH_NUM):\n",
        "    for tempFirstVal in [True, False]:\n",
        "      for premFixVal in [True, False]:\n",
        "        returnedList = genOrderingPairList(listType=key, premFixed=premFixVal, tempFirst=tempFirstVal, devSet=False)\n",
        "        premList, hypoList, labelList = zip(*returnedList)\n",
        "        currDF = pd.DataFrame({'Premise' : premList, 'Hypothesis' : hypoList, 'Label' : labelList, 'Type' : 'SINGLE_' + key, \n",
        "                               'Prem Fixed' : premFixVal, 'Temp Type' : 'Forward' if tempFirstVal else 'Backward'})\n",
        "        challengeSetDF = pd.concat([challengeSetDF, currDF])\n",
        "\n",
        "\n",
        "# GENERATING PAIRS ACROSS LISTS (DAY TIME / MONTH)\n",
        "\n",
        "for key in ['day_time', 'month']:\n",
        "  for epoch in range(EPOCH_NUM):\n",
        "    for tempFirstVal in [True, False]:\n",
        "      for premFixVal in [True, False]:\n",
        "        returnedList = genOrderingPairList(listType=key, premFixed=premFixVal, tempFirst=tempFirstVal, devSet=False)\n",
        "        premList, hypoList, labelList = zip(*returnedList)\n",
        "        currDF = pd.DataFrame({'Premise' : premList, 'Hypothesis' : hypoList, 'Label' : labelList, 'Type' : 'MULTI_' + key, \n",
        "                               'Prem Fixed' : premFixVal, 'Temp Type' : 'Forward' if tempFirstVal else 'Backward'})\n",
        "        challengeSetDF = pd.concat([challengeSetDF, currDF])\n",
        "\n",
        "\n",
        "# GENERATING PAIRS OF DATE TYPES\n",
        "\n",
        "for monthListTypeVal in ['full', 'abv', 'both']:\n",
        "  for epoch in range(EPOCH_NUM):\n",
        "    for includeDateVal in [True, False]:\n",
        "      for tempFirstVal in [True, False]:\n",
        "        for premFixVal in [True, False]:\n",
        "          returnedList = genOrderingDatePairs(monthListType=monthListTypeVal, premFixed=premFixVal, includeDate=includeDateVal, tempFirst=tempFirstVal, devSet=False)\n",
        "          premList, hypoList, labelList = zip(*returnedList)\n",
        "          currDF = pd.DataFrame({'Premise' : premList, 'Hypothesis' : hypoList, 'Label' : labelList, 'Type' : ('DATE_DMY_'+monthListTypeVal) if includeDateVal else ('DATE_MY_'+monthListTypeVal), \n",
        "                                'Prem Fixed' : premFixVal, 'Temp Type' : 'Forward' if tempFirstVal else 'Backward'})\n",
        "          challengeSetDF = pd.concat([challengeSetDF, currDF], ignore_index=True)"
      ],
      "execution_count": null,
      "outputs": []
    },
    {
      "cell_type": "code",
      "metadata": {
        "colab": {
          "base_uri": "https://localhost:8080/",
          "height": 452
        },
        "id": "cH8q88DqKxQZ",
        "outputId": "2f38bd23-988b-4c84-e1fc-82a49e99b9c8"
      },
      "source": [
        "challengeSetDF"
      ],
      "execution_count": null,
      "outputs": [
        {
          "output_type": "execute_result",
          "data": {
            "text/html": [
              "<div>\n",
              "<style scoped>\n",
              "    .dataframe tbody tr th:only-of-type {\n",
              "        vertical-align: middle;\n",
              "    }\n",
              "\n",
              "    .dataframe tbody tr th {\n",
              "        vertical-align: top;\n",
              "    }\n",
              "\n",
              "    .dataframe thead th {\n",
              "        text-align: right;\n",
              "    }\n",
              "</style>\n",
              "<table border=\"1\" class=\"dataframe\">\n",
              "  <thead>\n",
              "    <tr style=\"text-align: right;\">\n",
              "      <th></th>\n",
              "      <th>Premise</th>\n",
              "      <th>Hypothesis</th>\n",
              "      <th>Label</th>\n",
              "      <th>Type</th>\n",
              "      <th>Prem Fixed</th>\n",
              "      <th>Temp Type</th>\n",
              "    </tr>\n",
              "  </thead>\n",
              "  <tbody>\n",
              "    <tr>\n",
              "      <th>0</th>\n",
              "      <td>They got married at 12 PM.</td>\n",
              "      <td>They got married after 7 PM.</td>\n",
              "      <td>Contradiction</td>\n",
              "      <td>SINGLE_day_time_12</td>\n",
              "      <td>True</td>\n",
              "      <td>Forward</td>\n",
              "    </tr>\n",
              "    <tr>\n",
              "      <th>1</th>\n",
              "      <td>We went to Disneyland at 12 AM.</td>\n",
              "      <td>We went to Disneyland before 2 AM.</td>\n",
              "      <td>Entailment</td>\n",
              "      <td>SINGLE_day_time_12</td>\n",
              "      <td>True</td>\n",
              "      <td>Forward</td>\n",
              "    </tr>\n",
              "    <tr>\n",
              "      <th>2</th>\n",
              "      <td>Michael will buy the house at 7 PM.</td>\n",
              "      <td>Michael will buy the house after 11 PM.</td>\n",
              "      <td>Contradiction</td>\n",
              "      <td>SINGLE_day_time_12</td>\n",
              "      <td>True</td>\n",
              "      <td>Forward</td>\n",
              "    </tr>\n",
              "    <tr>\n",
              "      <th>3</th>\n",
              "      <td>Lily flew to New York at 8 PM.</td>\n",
              "      <td>Lily flew to New York before 4 PM.</td>\n",
              "      <td>Contradiction</td>\n",
              "      <td>SINGLE_day_time_12</td>\n",
              "      <td>True</td>\n",
              "      <td>Forward</td>\n",
              "    </tr>\n",
              "    <tr>\n",
              "      <th>4</th>\n",
              "      <td>The music concert starts at 10 PM.</td>\n",
              "      <td>The music concert starts before 11 AM.</td>\n",
              "      <td>Contradiction</td>\n",
              "      <td>SINGLE_day_time_12</td>\n",
              "      <td>True</td>\n",
              "      <td>Forward</td>\n",
              "    </tr>\n",
              "    <tr>\n",
              "      <th>...</th>\n",
              "      <td>...</td>\n",
              "      <td>...</td>\n",
              "      <td>...</td>\n",
              "      <td>...</td>\n",
              "      <td>...</td>\n",
              "      <td>...</td>\n",
              "    </tr>\n",
              "    <tr>\n",
              "      <th>5995</th>\n",
              "      <td>Before Jan 1933, the failing company issued ma...</td>\n",
              "      <td>Before May 1983, the failing company issued ma...</td>\n",
              "      <td>Entailment</td>\n",
              "      <td>DATE_MY_both</td>\n",
              "      <td>False</td>\n",
              "      <td>Backward</td>\n",
              "    </tr>\n",
              "    <tr>\n",
              "      <th>5996</th>\n",
              "      <td>After Oct 1902, the government budget comes out.</td>\n",
              "      <td>After December 1989, the government budget com...</td>\n",
              "      <td>Neutral</td>\n",
              "      <td>DATE_MY_both</td>\n",
              "      <td>False</td>\n",
              "      <td>Backward</td>\n",
              "    </tr>\n",
              "    <tr>\n",
              "      <th>5997</th>\n",
              "      <td>After Nov 1954, the prison sentence of that co...</td>\n",
              "      <td>Before February 1907, the prison sentence of t...</td>\n",
              "      <td>Contradiction</td>\n",
              "      <td>DATE_MY_both</td>\n",
              "      <td>False</td>\n",
              "      <td>Backward</td>\n",
              "    </tr>\n",
              "    <tr>\n",
              "      <th>5998</th>\n",
              "      <td>After Apr 1979, this article was published.</td>\n",
              "      <td>Before July 1901, this article was published.</td>\n",
              "      <td>Contradiction</td>\n",
              "      <td>DATE_MY_both</td>\n",
              "      <td>False</td>\n",
              "      <td>Backward</td>\n",
              "    </tr>\n",
              "    <tr>\n",
              "      <th>5999</th>\n",
              "      <td>Before Jan 1957, I posted this picture on Inst...</td>\n",
              "      <td>After February 1951, I posted this picture on ...</td>\n",
              "      <td>Neutral</td>\n",
              "      <td>DATE_MY_both</td>\n",
              "      <td>False</td>\n",
              "      <td>Backward</td>\n",
              "    </tr>\n",
              "  </tbody>\n",
              "</table>\n",
              "<p>6000 rows × 6 columns</p>\n",
              "</div>"
            ],
            "text/plain": [
              "                                                Premise  ... Temp Type\n",
              "0                            They got married at 12 PM.  ...   Forward\n",
              "1                       We went to Disneyland at 12 AM.  ...   Forward\n",
              "2                   Michael will buy the house at 7 PM.  ...   Forward\n",
              "3                        Lily flew to New York at 8 PM.  ...   Forward\n",
              "4                    The music concert starts at 10 PM.  ...   Forward\n",
              "...                                                 ...  ...       ...\n",
              "5995  Before Jan 1933, the failing company issued ma...  ...  Backward\n",
              "5996   After Oct 1902, the government budget comes out.  ...  Backward\n",
              "5997  After Nov 1954, the prison sentence of that co...  ...  Backward\n",
              "5998        After Apr 1979, this article was published.  ...  Backward\n",
              "5999  Before Jan 1957, I posted this picture on Inst...  ...  Backward\n",
              "\n",
              "[6000 rows x 6 columns]"
            ]
          },
          "metadata": {
            "tags": []
          },
          "execution_count": 10
        }
      ]
    },
    {
      "cell_type": "code",
      "metadata": {
        "id": "EYiBnWUk8HB6",
        "colab": {
          "base_uri": "https://localhost:8080/"
        },
        "outputId": "326d7e8f-b07a-475e-f286-a6e71c3774fa"
      },
      "source": [
        "challengeSetDF['Label'].value_counts()"
      ],
      "execution_count": null,
      "outputs": [
        {
          "output_type": "execute_result",
          "data": {
            "text/plain": [
              "Contradiction    2392\n",
              "Entailment       2133\n",
              "Neutral          1475\n",
              "Name: Label, dtype: int64"
            ]
          },
          "metadata": {
            "tags": []
          },
          "execution_count": 11
        }
      ]
    },
    {
      "cell_type": "code",
      "metadata": {
        "colab": {
          "base_uri": "https://localhost:8080/"
        },
        "id": "hP5GG15u8LBS",
        "outputId": "54ede3cb-3bf8-486e-8a98-f2e52dfb74a9"
      },
      "source": [
        "challengeSetDF['Type'].value_counts()"
      ],
      "execution_count": null,
      "outputs": [
        {
          "output_type": "execute_result",
          "data": {
            "text/plain": [
              "SINGLE_month_abv      400\n",
              "DATE_DMY_abv          400\n",
              "SINGLE_year           400\n",
              "MULTI_month           400\n",
              "SINGLE_weekday        400\n",
              "DATE_MY_full          400\n",
              "DATE_MY_both          400\n",
              "DATE_DMY_both         400\n",
              "SINGLE_day_time_12    400\n",
              "SINGLE_date           400\n",
              "SINGLE_day_time_24    400\n",
              "MULTI_day_time        400\n",
              "DATE_DMY_full         400\n",
              "DATE_MY_abv           400\n",
              "SINGLE_month_full     400\n",
              "Name: Type, dtype: int64"
            ]
          },
          "metadata": {
            "tags": []
          },
          "execution_count": 12
        }
      ]
    },
    {
      "cell_type": "code",
      "metadata": {
        "id": "XDa92nO77rVp"
      },
      "source": [
        "# challengeSetDF.to_csv('/content/drive/MyDrive/Projects/Temporal Awareness/challengeSet1DF_train.csv')"
      ],
      "execution_count": null,
      "outputs": []
    },
    {
      "cell_type": "code",
      "metadata": {
        "id": "8NxaKVlpcnRh"
      },
      "source": [
        "# GENERATING TRAIN SET\n",
        "\n",
        "challengeSetDF = pd.DataFrame()\n",
        "EPOCH_NUM = 5\n",
        "\n",
        "# GENERATING PAIRS OF SINGLE LISTS\n",
        "\n",
        "for key in allListDict.keys():\n",
        "  for epoch in range(EPOCH_NUM):\n",
        "    for tempFirstVal in [True, False]:\n",
        "      for premFixVal in [True, False]:\n",
        "        returnedList = genOrderingPairList(listType=key, premFixed=premFixVal, tempFirst=tempFirstVal, devSet=True)\n",
        "        premList, hypoList, labelList = zip(*returnedList)\n",
        "        currDF = pd.DataFrame({'Premise' : premList, 'Hypothesis' : hypoList, 'Label' : labelList, 'Type' : 'SINGLE_' + key, \n",
        "                               'Prem Fixed' : premFixVal, 'Temp Type' : 'Forward' if tempFirstVal else 'Backward'})\n",
        "        challengeSetDF = pd.concat([challengeSetDF, currDF])\n",
        "\n",
        "\n",
        "# GENERATING PAIRS ACROSS LISTS (DAY TIME / MONTH)\n",
        "\n",
        "for key in ['day_time', 'month']:\n",
        "  for epoch in range(EPOCH_NUM):\n",
        "    for tempFirstVal in [True, False]:\n",
        "      for premFixVal in [True, False]:\n",
        "        returnedList = genOrderingPairList(listType=key, premFixed=premFixVal, tempFirst=tempFirstVal, devSet=True)\n",
        "        premList, hypoList, labelList = zip(*returnedList)\n",
        "        currDF = pd.DataFrame({'Premise' : premList, 'Hypothesis' : hypoList, 'Label' : labelList, 'Type' : 'MULTI_' + key, \n",
        "                               'Prem Fixed' : premFixVal, 'Temp Type' : 'Forward' if tempFirstVal else 'Backward'})\n",
        "        challengeSetDF = pd.concat([challengeSetDF, currDF])\n",
        "\n",
        "\n",
        "# GENERATING PAIRS OF DATE TYPES\n",
        "\n",
        "for monthListTypeVal in ['full', 'abv', 'both']:\n",
        "  for epoch in range(EPOCH_NUM):\n",
        "    for includeDateVal in [True, False]:\n",
        "      for tempFirstVal in [True, False]:\n",
        "        for premFixVal in [True, False]:\n",
        "          returnedList = genOrderingDatePairs(monthListType=monthListTypeVal, premFixed=premFixVal, includeDate=includeDateVal, tempFirst=tempFirstVal, devSet=True)\n",
        "          premList, hypoList, labelList = zip(*returnedList)\n",
        "          currDF = pd.DataFrame({'Premise' : premList, 'Hypothesis' : hypoList, 'Label' : labelList, 'Type' : ('DATE_DMY_'+monthListTypeVal) if includeDateVal else ('DATE_MY_'+monthListTypeVal), \n",
        "                                'Prem Fixed' : premFixVal, 'Temp Type' : 'Forward' if tempFirstVal else 'Backward'})\n",
        "          challengeSetDF = pd.concat([challengeSetDF, currDF], ignore_index=True)"
      ],
      "execution_count": null,
      "outputs": []
    },
    {
      "cell_type": "code",
      "metadata": {
        "colab": {
          "base_uri": "https://localhost:8080/",
          "height": 452
        },
        "id": "W9k2IzQecnRj",
        "outputId": "c3958ffd-b424-41d1-b610-f8a3d94e9ae5"
      },
      "source": [
        "challengeSetDF"
      ],
      "execution_count": null,
      "outputs": [
        {
          "output_type": "execute_result",
          "data": {
            "text/html": [
              "<div>\n",
              "<style scoped>\n",
              "    .dataframe tbody tr th:only-of-type {\n",
              "        vertical-align: middle;\n",
              "    }\n",
              "\n",
              "    .dataframe tbody tr th {\n",
              "        vertical-align: top;\n",
              "    }\n",
              "\n",
              "    .dataframe thead th {\n",
              "        text-align: right;\n",
              "    }\n",
              "</style>\n",
              "<table border=\"1\" class=\"dataframe\">\n",
              "  <thead>\n",
              "    <tr style=\"text-align: right;\">\n",
              "      <th></th>\n",
              "      <th>Premise</th>\n",
              "      <th>Hypothesis</th>\n",
              "      <th>Label</th>\n",
              "      <th>Type</th>\n",
              "      <th>Prem Fixed</th>\n",
              "      <th>Temp Type</th>\n",
              "    </tr>\n",
              "  </thead>\n",
              "  <tbody>\n",
              "    <tr>\n",
              "      <th>0</th>\n",
              "      <td>I graduated at 11 AM.</td>\n",
              "      <td>I graduated after 12 AM.</td>\n",
              "      <td>Entailment</td>\n",
              "      <td>SINGLE_day_time_12</td>\n",
              "      <td>True</td>\n",
              "      <td>Forward</td>\n",
              "    </tr>\n",
              "    <tr>\n",
              "      <th>1</th>\n",
              "      <td>The tournament was held at 8 AM.</td>\n",
              "      <td>The tournament was held before 5 PM.</td>\n",
              "      <td>Entailment</td>\n",
              "      <td>SINGLE_day_time_12</td>\n",
              "      <td>True</td>\n",
              "      <td>Forward</td>\n",
              "    </tr>\n",
              "    <tr>\n",
              "      <th>2</th>\n",
              "      <td>Robin will visit her parents at 2 PM.</td>\n",
              "      <td>Robin will visit her parents before 6 AM.</td>\n",
              "      <td>Contradiction</td>\n",
              "      <td>SINGLE_day_time_12</td>\n",
              "      <td>True</td>\n",
              "      <td>Forward</td>\n",
              "    </tr>\n",
              "    <tr>\n",
              "      <th>3</th>\n",
              "      <td>They are planning to go to Singapore at 4 PM.</td>\n",
              "      <td>They are planning to go to Singapore before 6 AM.</td>\n",
              "      <td>Contradiction</td>\n",
              "      <td>SINGLE_day_time_12</td>\n",
              "      <td>True</td>\n",
              "      <td>Forward</td>\n",
              "    </tr>\n",
              "    <tr>\n",
              "      <th>4</th>\n",
              "      <td>I submitted my PhD dissertation at 9 PM.</td>\n",
              "      <td>I submitted my PhD dissertation after 10 PM.</td>\n",
              "      <td>Contradiction</td>\n",
              "      <td>SINGLE_day_time_12</td>\n",
              "      <td>True</td>\n",
              "      <td>Forward</td>\n",
              "    </tr>\n",
              "    <tr>\n",
              "      <th>...</th>\n",
              "      <td>...</td>\n",
              "      <td>...</td>\n",
              "      <td>...</td>\n",
              "      <td>...</td>\n",
              "      <td>...</td>\n",
              "      <td>...</td>\n",
              "    </tr>\n",
              "    <tr>\n",
              "      <th>2395</th>\n",
              "      <td>Before August 1907, they are planning to go to...</td>\n",
              "      <td>Before Sep 1966, they are planning to go to Si...</td>\n",
              "      <td>Entailment</td>\n",
              "      <td>DATE_MY_both</td>\n",
              "      <td>False</td>\n",
              "      <td>Backward</td>\n",
              "    </tr>\n",
              "    <tr>\n",
              "      <th>2396</th>\n",
              "      <td>After Jan 1954, I submitted my PhD dissertation.</td>\n",
              "      <td>Before October 1980, I submitted my PhD disser...</td>\n",
              "      <td>Neutral</td>\n",
              "      <td>DATE_MY_both</td>\n",
              "      <td>False</td>\n",
              "      <td>Backward</td>\n",
              "    </tr>\n",
              "    <tr>\n",
              "      <th>2397</th>\n",
              "      <td>Before November 1995, he was sworn in as the P...</td>\n",
              "      <td>After Oct 1998, he was sworn in as the Prime M...</td>\n",
              "      <td>Contradiction</td>\n",
              "      <td>DATE_MY_both</td>\n",
              "      <td>False</td>\n",
              "      <td>Backward</td>\n",
              "    </tr>\n",
              "    <tr>\n",
              "      <th>2398</th>\n",
              "      <td>Before Sep 1942, the startup received funding.</td>\n",
              "      <td>After May 1996, the startup received funding.</td>\n",
              "      <td>Contradiction</td>\n",
              "      <td>DATE_MY_both</td>\n",
              "      <td>False</td>\n",
              "      <td>Backward</td>\n",
              "    </tr>\n",
              "    <tr>\n",
              "      <th>2399</th>\n",
              "      <td>After Oct 1999, the government issued new labo...</td>\n",
              "      <td>Before December 1990, the government issued ne...</td>\n",
              "      <td>Contradiction</td>\n",
              "      <td>DATE_MY_both</td>\n",
              "      <td>False</td>\n",
              "      <td>Backward</td>\n",
              "    </tr>\n",
              "  </tbody>\n",
              "</table>\n",
              "<p>2400 rows × 6 columns</p>\n",
              "</div>"
            ],
            "text/plain": [
              "                                                Premise  ... Temp Type\n",
              "0                                 I graduated at 11 AM.  ...   Forward\n",
              "1                      The tournament was held at 8 AM.  ...   Forward\n",
              "2                 Robin will visit her parents at 2 PM.  ...   Forward\n",
              "3         They are planning to go to Singapore at 4 PM.  ...   Forward\n",
              "4              I submitted my PhD dissertation at 9 PM.  ...   Forward\n",
              "...                                                 ...  ...       ...\n",
              "2395  Before August 1907, they are planning to go to...  ...  Backward\n",
              "2396   After Jan 1954, I submitted my PhD dissertation.  ...  Backward\n",
              "2397  Before November 1995, he was sworn in as the P...  ...  Backward\n",
              "2398     Before Sep 1942, the startup received funding.  ...  Backward\n",
              "2399  After Oct 1999, the government issued new labo...  ...  Backward\n",
              "\n",
              "[2400 rows x 6 columns]"
            ]
          },
          "metadata": {
            "tags": []
          },
          "execution_count": 15
        }
      ]
    },
    {
      "cell_type": "code",
      "metadata": {
        "colab": {
          "base_uri": "https://localhost:8080/"
        },
        "id": "R92oR8ivcnRk",
        "outputId": "4f3dc8b6-0903-489d-9520-da4547f02bfc"
      },
      "source": [
        "challengeSetDF['Label'].value_counts()"
      ],
      "execution_count": null,
      "outputs": [
        {
          "output_type": "execute_result",
          "data": {
            "text/plain": [
              "Contradiction    976\n",
              "Entailment       855\n",
              "Neutral          569\n",
              "Name: Label, dtype: int64"
            ]
          },
          "metadata": {
            "tags": []
          },
          "execution_count": 16
        }
      ]
    },
    {
      "cell_type": "code",
      "metadata": {
        "colab": {
          "base_uri": "https://localhost:8080/"
        },
        "id": "A-2tM0oQcnRk",
        "outputId": "d6556bcc-e6c9-4218-9dc4-aaa8cc03674b"
      },
      "source": [
        "challengeSetDF['Type'].value_counts()"
      ],
      "execution_count": null,
      "outputs": [
        {
          "output_type": "execute_result",
          "data": {
            "text/plain": [
              "DATE_MY_full          160\n",
              "SINGLE_day_time_24    160\n",
              "DATE_MY_both          160\n",
              "MULTI_day_time        160\n",
              "SINGLE_month_abv      160\n",
              "DATE_DMY_abv          160\n",
              "DATE_MY_abv           160\n",
              "SINGLE_month_full     160\n",
              "SINGLE_year           160\n",
              "DATE_DMY_full         160\n",
              "MULTI_month           160\n",
              "DATE_DMY_both         160\n",
              "SINGLE_day_time_12    160\n",
              "SINGLE_date           160\n",
              "SINGLE_weekday        160\n",
              "Name: Type, dtype: int64"
            ]
          },
          "metadata": {
            "tags": []
          },
          "execution_count": 17
        }
      ]
    },
    {
      "cell_type": "code",
      "metadata": {
        "id": "8zNiIrgzcnRk"
      },
      "source": [
        "# challengeSetDF.to_csv('/content/drive/MyDrive/Projects/Temporal Awareness/challengeSet1DF_test.csv')"
      ],
      "execution_count": null,
      "outputs": []
    },
    {
      "cell_type": "markdown",
      "metadata": {
        "id": "gAdjOnZtXrrI"
      },
      "source": [
        "### 2. Challenge Set 2"
      ]
    },
    {
      "cell_type": "code",
      "metadata": {
        "id": "2Th2BsZXJ3vj"
      },
      "source": [
        "trainTempListDict = {\n",
        "    'day_time' : {\n",
        "        'time_spread' : [(\"Michael reached my house at\", \"and left at\"), (\"The football game will begin at\", \"and end at\"), \n",
        "                         (\"My English class begins at\", \"and ends at\"), (\"The coding competition started at\", \"and ended at\"), \n",
        "                         (\"The meeting began at\", \"and lasted until\")],\n",
        "        'time_near' : [\"Michael visited my house\", \"The football game will be telecasted\", \"My English class is scheduled\", \n",
        "                       \"The coding competition was held\", \"The meeting lasted\"]\n",
        "    },\n",
        "    'day' : {\n",
        "        'time_spread' : [(\"Lily will reach her parent's house on\", \"and will leave on\"), (\"I will start my office leave on\", \"and be back on\"), \n",
        "                         (\"The sports tournament is starting on\", \"and will end on\"), (\"The conference begins on\", \"and will conclude on\"), \n",
        "                         (\"The power outage started on\", \"and ended on\")],\n",
        "        'time_near' : [\"Lily will stay at her parent's house\", \"I will be on my office leave\", \"The sports tournament is taking place\", \n",
        "                       \"The conference is being held\", \"The power outage lasted\"]\n",
        "    },\n",
        "    'month' : {\n",
        "        'time_spread' : [(\"I will be leaving on a long vacation in\", \"and be back in\"), (\"The pleasant weather here starts in\", \"and ends in\"), \n",
        "                         (\"Jeremy will start his internship in\", \"which will end in\"), (\"The spring quarter begins in\", \"and ends in\"), \n",
        "                         (\"I started working on my PhD application in\", \"and got done in\")],\n",
        "        'time_near' : [\"I will be going on a long vacation\", \"The weather here is pleasant\", \"Jeremy will be doing an internship\", \n",
        "                       \"The spring quarter lasts\", \"I worked on my PhD application\"]\n",
        "    },\n",
        "    'year' : {\n",
        "        'time_spread' : [(\"The war began in\", \"and ended in\"), (\"My grandfather was born in\", \"and died in\"), \n",
        "                         (\"The country became a dictatorship in\", \"which ended in\"), (\"The pandemic began in\", \"and ended in\"),\n",
        "                         (\"She became the president of our country in\", \"and stayed until\")],\n",
        "        'time_near' : [\"The war lasted\", \"My grandfather lived\", \"The country was under a dictatorship\", \n",
        "                       \"The pandemic lasted\", \"She was the president of our country\"]\n",
        "    }\n",
        "}\n",
        "\n",
        "devTempListDict = {\n",
        "    'day_time' : {\n",
        "        'time_spread' : [(\"The train from Seattle started at\", \"and reached Portland at\"), (\"The dinner with my friends began at\", \"and lasted until\")],\n",
        "        'time_near' : [\"The train journey from Seattle to Portland lasted\", \"I went to dinner with my friends\"]\n",
        "    },\n",
        "    'day' : {\n",
        "        'time_spread' : [(\"The storm began at\", \"and lasted until\"), (\"The match between India and Australia began on\", \"and ended on\")],\n",
        "        'time_near' : [\"The storm lasted\", \"India played Australia\"]\n",
        "    },\n",
        "    'month' : {\n",
        "        'time_spread' : [(\"Their tour of Europe started in\", \"and lasted until\"), (\"The competition started in\", \"and will conclude with the final scheduled in\")],\n",
        "        'time_near' : [\"They toured parts of Europe\", \"The competition lasted\"]\n",
        "    },\n",
        "    'year' : {\n",
        "        'time_spread' : [(\"The became the top football team in\", \"and remained so until\"), (\"I started my bachelors in\", \"and graduated in\")],\n",
        "        'time_near' : [\"They were the top football team\", \"I pursued my bachelors degree\"]\n",
        "    }\n",
        "}"
      ],
      "execution_count": null,
      "outputs": []
    },
    {
      "cell_type": "code",
      "metadata": {
        "id": "ySgbd1YnJNLx"
      },
      "source": [
        "def genDurationPairList(listType, tempType, nextCycle=False, timeSpread=False, devSet=False):\n",
        "\n",
        "  if not devSet:\n",
        "    tempListNear = trainTempListDict[tempType]['time_near']\n",
        "    tempListSpread = trainTempListDict[tempType]['time_spread']\n",
        "  else:\n",
        "    tempListNear = devTempListDict[tempType]['time_near']\n",
        "    tempListSpread = devTempListDict[tempType]['time_spread']\n",
        "  pairList = []\n",
        "  multiTimeListCond = listType in ['day_time', 'month']\n",
        "\n",
        "  for ind, template in enumerate(tempListNear):\n",
        "\n",
        "    if listType == 'day_time':\n",
        "      timeList1, timeList2 = (allListDict['day_time_12'], allListDict['day_time_24']) if (np.random.rand() > 0.5) else (allListDict['day_time_24'], allListDict['day_time_12'])\n",
        "    elif listType == 'month':\n",
        "      timeList1, timeList2 = (allListDict['month_full'], allListDict['month_abv']) if (np.random.rand() > 0.5) else (allListDict['month_abv'], allListDict['month_full'])\n",
        "    else:\n",
        "      timeList = allListDict[listType]\n",
        "\n",
        "    timeInd1, timeInd2 = np.random.choice((range(len(timeList1)) if multiTimeListCond else range(len(timeList))), size=2, replace=False)\n",
        "\n",
        "    if not nextCycle:\n",
        "      timeInd1, timeInd2 = (timeInd1, timeInd2) if (timeInd1 < timeInd2) else (timeInd2, timeInd1)\n",
        "      goldDuration = timeInd2 - timeInd1\n",
        "    else:\n",
        "      timeInd1, timeInd2 = (timeInd1, timeInd2) if (timeInd1 > timeInd2) else (timeInd2, timeInd1)\n",
        "      goldDuration = (len(timeList1) if multiTimeListCond else len(timeList)) - timeInd1 + timeInd2\n",
        "    \n",
        "    time1, time2 = (timeList1[timeInd1], timeList2[timeInd2]) if multiTimeListCond else (timeList[timeInd1], timeList[timeInd2])\n",
        "\n",
        "    if listType.startswith('day_time'):\n",
        "      durationMag = 'hours'\n",
        "    elif listType in ['weekday', 'date']:\n",
        "      durationMag = 'days'\n",
        "    elif listType.startswith('month'):\n",
        "      durationMag = 'months'\n",
        "    elif listType == 'year':\n",
        "      durationMag = 'years'\n",
        "\n",
        "    durationDict = {'GOLD' : goldDuration, 'GOLD+1' : goldDuration+1, 'GOLD*10' : 10*goldDuration}\n",
        "    if goldDuration-1 != 0:\n",
        "      durationDict['GOLD-1'] = goldDuration-1\n",
        "    durationTypeDict = {'EQUAL' : 'for', 'MORE' : 'for more than', 'LESS' : 'for less than'}\n",
        "\n",
        "    for durTypeKey, durType in durationTypeDict.items():\n",
        "      for durationKey, duration in durationDict.items():\n",
        "        if not timeSpread:\n",
        "          premiseSent = template + ' from ' + time1 + ' to ' + time2 + '.'\n",
        "        else:\n",
        "          premiseSent = tempListSpread[ind][0] + ' ' + time1 + ' ' + tempListSpread[ind][1] + ' ' + time2 + '.'\n",
        "        hypSent = template + ' ' + durType + ' ' + str(duration) + ' ' + (durationMag if (duration != 1) else durationMag[:-1]) + '.'\n",
        "        if 'more' in durType:\n",
        "          label = 'Entailment' if (goldDuration > duration) else 'Contradiction'\n",
        "        elif 'less' in durType:\n",
        "          label = 'Entailment' if (goldDuration < duration) else 'Contradiction'\n",
        "        else:\n",
        "          label = 'Entailment' if (goldDuration == duration) else 'Contradiction'\n",
        "        hypType = durTypeKey + '_' + durationKey        \n",
        "\n",
        "        pairList.append((premiseSent, hypSent, label, hypType))\n",
        "\n",
        "  return pairList\n",
        "\n",
        "\n",
        "\n",
        "def genDurationDatePairs(monthListType='full', timeSpread=False, durationMonths=True, devSet=False):\n",
        "\n",
        "  if not devSet:\n",
        "    tempListNear = trainTempListDict['year']['time_near']\n",
        "    tempListSpread = trainTempListDict['year']['time_spread']\n",
        "  else:\n",
        "    tempListNear = devTempListDict['year']['time_near']\n",
        "    tempListSpread = devTempListDict['year']['time_spread']\n",
        "  pairList = []\n",
        "  yearList = allListDict['year']\n",
        "  \n",
        "  for ind, template in enumerate(tempListNear):\n",
        "\n",
        "    if monthListType == 'both':\n",
        "      monthList1, monthList2 = (allListDict['month_full'], allListDict['month_abv']) if (np.random.rand() > 0.5) else (allListDict['month_abv'], allListDict['month_full'])\n",
        "    else:\n",
        "      monthList = allListDict['month_' + monthListType]\n",
        "\n",
        "    monthInd1, monthInd2 = np.random.choice((range(len(monthList1)) if (monthListType == 'both') else range(len(monthList))), size=2, replace=True)\n",
        "    yearInd1, yearInd2 = np.random.choice(range(len(yearList)), size=2, replace=False)\n",
        "    yearInd1, yearInd2 = (yearInd1, yearInd2) if (yearInd1 < yearInd2) else (yearInd2, yearInd1)\n",
        "    year1, year2 = yearList[yearInd1], yearList[yearInd2]\n",
        "    month1, month2 = (monthList1[monthInd1], monthList2[monthInd2]) if (monthListType == 'both') else (monthList[monthInd1], monthList[monthInd2])\n",
        "    goldDuration = (yearInd2 - yearInd1)*12 + ((monthInd2 - monthInd1) if (monthInd2 >= monthInd1) else (- monthInd1 + monthInd2))\n",
        "\n",
        "    durationDict = {'GOLD' : goldDuration, 'GOLD+1' : goldDuration+1, 'GOLD*10' : 10*goldDuration, 'GOLD-1' : goldDuration-1}\n",
        "    durationTypeDict = {'EQUAL' : 'for', 'MORE' : 'for more than', 'LESS' : 'for less than'}\n",
        "\n",
        "    for durTypeKey, durType in durationTypeDict.items():\n",
        "      for durationKey, duration in durationDict.items():\n",
        "        if not timeSpread:\n",
        "          premiseSent = template + ' from ' + month1 + ' ' + year1 + ' to ' + month2 + ' ' + year2 + '.'\n",
        "        else:\n",
        "          premiseSent = tempListSpread[ind][0] + ' ' + month1 + ' ' + year1 + ' ' + tempListSpread[ind][1] + ' ' + month2 + ' ' + year2 + '.'\n",
        "        if durationMonths:\n",
        "          yearString = ''\n",
        "          monthString = str(duration) + ' months'\n",
        "        else:\n",
        "          durYears, durMonths = int(duration/12), duration%12\n",
        "          yearString = str(durYears) + (' years' if durYears != 1 else ' year')\n",
        "          if durMonths == 0:\n",
        "            monthString = ''\n",
        "          elif durMonths == 1:\n",
        "            monthString = ' 1 month'\n",
        "          else:\n",
        "            monthString = ' ' + str(durMonths) + ' months'\n",
        "        hypSent = template + ' ' + durType + ' ' + yearString + monthString + '.'\n",
        "        if 'more' in durType:\n",
        "          label = 'Entailment' if (goldDuration > duration) else 'Contradiction'\n",
        "        elif 'less' in durType:\n",
        "          label = 'Entailment' if (goldDuration < duration) else 'Contradiction'\n",
        "        else:\n",
        "          label = 'Entailment' if (goldDuration == duration) else 'Contradiction'\n",
        "        \n",
        "        hypType = durTypeKey + '_' + durationKey        \n",
        "\n",
        "        pairList.append((premiseSent, hypSent, label, hypType))\n",
        "\n",
        "  return pairList"
      ],
      "execution_count": null,
      "outputs": []
    },
    {
      "cell_type": "code",
      "metadata": {
        "colab": {
          "base_uri": "https://localhost:8080/"
        },
        "id": "fe12o2MTf7u4",
        "outputId": "78a6f532-5766-482a-e90b-1f7ad95f36c0"
      },
      "source": [
        "genDurationPairList('date' ,'day', nextCycle=False, timeSpread=False)"
      ],
      "execution_count": null,
      "outputs": [
        {
          "output_type": "execute_result",
          "data": {
            "text/plain": [
              "[(\"Lily will stay at her parent's house from 3rd to 5th.\",\n",
              "  \"Lily will stay at her parent's house for 2 days.\",\n",
              "  'Entailment',\n",
              "  'EQUAL_GOLD'),\n",
              " (\"Lily will stay at her parent's house from 3rd to 5th.\",\n",
              "  \"Lily will stay at her parent's house for 3 days.\",\n",
              "  'Contradiction',\n",
              "  'EQUAL_GOLD+1'),\n",
              " (\"Lily will stay at her parent's house from 3rd to 5th.\",\n",
              "  \"Lily will stay at her parent's house for 20 days.\",\n",
              "  'Contradiction',\n",
              "  'EQUAL_GOLD*10'),\n",
              " (\"Lily will stay at her parent's house from 3rd to 5th.\",\n",
              "  \"Lily will stay at her parent's house for 1 day.\",\n",
              "  'Contradiction',\n",
              "  'EQUAL_GOLD-1'),\n",
              " (\"Lily will stay at her parent's house from 3rd to 5th.\",\n",
              "  \"Lily will stay at her parent's house for more than 2 days.\",\n",
              "  'Contradiction',\n",
              "  'MORE_GOLD'),\n",
              " (\"Lily will stay at her parent's house from 3rd to 5th.\",\n",
              "  \"Lily will stay at her parent's house for more than 3 days.\",\n",
              "  'Contradiction',\n",
              "  'MORE_GOLD+1'),\n",
              " (\"Lily will stay at her parent's house from 3rd to 5th.\",\n",
              "  \"Lily will stay at her parent's house for more than 20 days.\",\n",
              "  'Contradiction',\n",
              "  'MORE_GOLD*10'),\n",
              " (\"Lily will stay at her parent's house from 3rd to 5th.\",\n",
              "  \"Lily will stay at her parent's house for more than 1 day.\",\n",
              "  'Entailment',\n",
              "  'MORE_GOLD-1'),\n",
              " (\"Lily will stay at her parent's house from 3rd to 5th.\",\n",
              "  \"Lily will stay at her parent's house for less than 2 days.\",\n",
              "  'Contradiction',\n",
              "  'LESS_GOLD'),\n",
              " (\"Lily will stay at her parent's house from 3rd to 5th.\",\n",
              "  \"Lily will stay at her parent's house for less than 3 days.\",\n",
              "  'Entailment',\n",
              "  'LESS_GOLD+1'),\n",
              " (\"Lily will stay at her parent's house from 3rd to 5th.\",\n",
              "  \"Lily will stay at her parent's house for less than 20 days.\",\n",
              "  'Entailment',\n",
              "  'LESS_GOLD*10'),\n",
              " (\"Lily will stay at her parent's house from 3rd to 5th.\",\n",
              "  \"Lily will stay at her parent's house for less than 1 day.\",\n",
              "  'Contradiction',\n",
              "  'LESS_GOLD-1'),\n",
              " ('I will be on my office leave from 6th to 25th.',\n",
              "  'I will be on my office leave for 19 days.',\n",
              "  'Entailment',\n",
              "  'EQUAL_GOLD'),\n",
              " ('I will be on my office leave from 6th to 25th.',\n",
              "  'I will be on my office leave for 20 days.',\n",
              "  'Contradiction',\n",
              "  'EQUAL_GOLD+1'),\n",
              " ('I will be on my office leave from 6th to 25th.',\n",
              "  'I will be on my office leave for 190 days.',\n",
              "  'Contradiction',\n",
              "  'EQUAL_GOLD*10'),\n",
              " ('I will be on my office leave from 6th to 25th.',\n",
              "  'I will be on my office leave for 18 days.',\n",
              "  'Contradiction',\n",
              "  'EQUAL_GOLD-1'),\n",
              " ('I will be on my office leave from 6th to 25th.',\n",
              "  'I will be on my office leave for more than 19 days.',\n",
              "  'Contradiction',\n",
              "  'MORE_GOLD'),\n",
              " ('I will be on my office leave from 6th to 25th.',\n",
              "  'I will be on my office leave for more than 20 days.',\n",
              "  'Contradiction',\n",
              "  'MORE_GOLD+1'),\n",
              " ('I will be on my office leave from 6th to 25th.',\n",
              "  'I will be on my office leave for more than 190 days.',\n",
              "  'Contradiction',\n",
              "  'MORE_GOLD*10'),\n",
              " ('I will be on my office leave from 6th to 25th.',\n",
              "  'I will be on my office leave for more than 18 days.',\n",
              "  'Entailment',\n",
              "  'MORE_GOLD-1'),\n",
              " ('I will be on my office leave from 6th to 25th.',\n",
              "  'I will be on my office leave for less than 19 days.',\n",
              "  'Contradiction',\n",
              "  'LESS_GOLD'),\n",
              " ('I will be on my office leave from 6th to 25th.',\n",
              "  'I will be on my office leave for less than 20 days.',\n",
              "  'Entailment',\n",
              "  'LESS_GOLD+1'),\n",
              " ('I will be on my office leave from 6th to 25th.',\n",
              "  'I will be on my office leave for less than 190 days.',\n",
              "  'Entailment',\n",
              "  'LESS_GOLD*10'),\n",
              " ('I will be on my office leave from 6th to 25th.',\n",
              "  'I will be on my office leave for less than 18 days.',\n",
              "  'Contradiction',\n",
              "  'LESS_GOLD-1'),\n",
              " ('The sports tournament is taking place from 10th to 16th.',\n",
              "  'The sports tournament is taking place for 6 days.',\n",
              "  'Entailment',\n",
              "  'EQUAL_GOLD'),\n",
              " ('The sports tournament is taking place from 10th to 16th.',\n",
              "  'The sports tournament is taking place for 7 days.',\n",
              "  'Contradiction',\n",
              "  'EQUAL_GOLD+1'),\n",
              " ('The sports tournament is taking place from 10th to 16th.',\n",
              "  'The sports tournament is taking place for 60 days.',\n",
              "  'Contradiction',\n",
              "  'EQUAL_GOLD*10'),\n",
              " ('The sports tournament is taking place from 10th to 16th.',\n",
              "  'The sports tournament is taking place for 5 days.',\n",
              "  'Contradiction',\n",
              "  'EQUAL_GOLD-1'),\n",
              " ('The sports tournament is taking place from 10th to 16th.',\n",
              "  'The sports tournament is taking place for more than 6 days.',\n",
              "  'Contradiction',\n",
              "  'MORE_GOLD'),\n",
              " ('The sports tournament is taking place from 10th to 16th.',\n",
              "  'The sports tournament is taking place for more than 7 days.',\n",
              "  'Contradiction',\n",
              "  'MORE_GOLD+1'),\n",
              " ('The sports tournament is taking place from 10th to 16th.',\n",
              "  'The sports tournament is taking place for more than 60 days.',\n",
              "  'Contradiction',\n",
              "  'MORE_GOLD*10'),\n",
              " ('The sports tournament is taking place from 10th to 16th.',\n",
              "  'The sports tournament is taking place for more than 5 days.',\n",
              "  'Entailment',\n",
              "  'MORE_GOLD-1'),\n",
              " ('The sports tournament is taking place from 10th to 16th.',\n",
              "  'The sports tournament is taking place for less than 6 days.',\n",
              "  'Contradiction',\n",
              "  'LESS_GOLD'),\n",
              " ('The sports tournament is taking place from 10th to 16th.',\n",
              "  'The sports tournament is taking place for less than 7 days.',\n",
              "  'Entailment',\n",
              "  'LESS_GOLD+1'),\n",
              " ('The sports tournament is taking place from 10th to 16th.',\n",
              "  'The sports tournament is taking place for less than 60 days.',\n",
              "  'Entailment',\n",
              "  'LESS_GOLD*10'),\n",
              " ('The sports tournament is taking place from 10th to 16th.',\n",
              "  'The sports tournament is taking place for less than 5 days.',\n",
              "  'Contradiction',\n",
              "  'LESS_GOLD-1'),\n",
              " ('The conference is being held from 21st to 27th.',\n",
              "  'The conference is being held for 6 days.',\n",
              "  'Entailment',\n",
              "  'EQUAL_GOLD'),\n",
              " ('The conference is being held from 21st to 27th.',\n",
              "  'The conference is being held for 7 days.',\n",
              "  'Contradiction',\n",
              "  'EQUAL_GOLD+1'),\n",
              " ('The conference is being held from 21st to 27th.',\n",
              "  'The conference is being held for 60 days.',\n",
              "  'Contradiction',\n",
              "  'EQUAL_GOLD*10'),\n",
              " ('The conference is being held from 21st to 27th.',\n",
              "  'The conference is being held for 5 days.',\n",
              "  'Contradiction',\n",
              "  'EQUAL_GOLD-1'),\n",
              " ('The conference is being held from 21st to 27th.',\n",
              "  'The conference is being held for more than 6 days.',\n",
              "  'Contradiction',\n",
              "  'MORE_GOLD'),\n",
              " ('The conference is being held from 21st to 27th.',\n",
              "  'The conference is being held for more than 7 days.',\n",
              "  'Contradiction',\n",
              "  'MORE_GOLD+1'),\n",
              " ('The conference is being held from 21st to 27th.',\n",
              "  'The conference is being held for more than 60 days.',\n",
              "  'Contradiction',\n",
              "  'MORE_GOLD*10'),\n",
              " ('The conference is being held from 21st to 27th.',\n",
              "  'The conference is being held for more than 5 days.',\n",
              "  'Entailment',\n",
              "  'MORE_GOLD-1'),\n",
              " ('The conference is being held from 21st to 27th.',\n",
              "  'The conference is being held for less than 6 days.',\n",
              "  'Contradiction',\n",
              "  'LESS_GOLD'),\n",
              " ('The conference is being held from 21st to 27th.',\n",
              "  'The conference is being held for less than 7 days.',\n",
              "  'Entailment',\n",
              "  'LESS_GOLD+1'),\n",
              " ('The conference is being held from 21st to 27th.',\n",
              "  'The conference is being held for less than 60 days.',\n",
              "  'Entailment',\n",
              "  'LESS_GOLD*10'),\n",
              " ('The conference is being held from 21st to 27th.',\n",
              "  'The conference is being held for less than 5 days.',\n",
              "  'Contradiction',\n",
              "  'LESS_GOLD-1'),\n",
              " ('The power outage lasted from 16th to 27th.',\n",
              "  'The power outage lasted for 11 days.',\n",
              "  'Entailment',\n",
              "  'EQUAL_GOLD'),\n",
              " ('The power outage lasted from 16th to 27th.',\n",
              "  'The power outage lasted for 12 days.',\n",
              "  'Contradiction',\n",
              "  'EQUAL_GOLD+1'),\n",
              " ('The power outage lasted from 16th to 27th.',\n",
              "  'The power outage lasted for 110 days.',\n",
              "  'Contradiction',\n",
              "  'EQUAL_GOLD*10'),\n",
              " ('The power outage lasted from 16th to 27th.',\n",
              "  'The power outage lasted for 10 days.',\n",
              "  'Contradiction',\n",
              "  'EQUAL_GOLD-1'),\n",
              " ('The power outage lasted from 16th to 27th.',\n",
              "  'The power outage lasted for more than 11 days.',\n",
              "  'Contradiction',\n",
              "  'MORE_GOLD'),\n",
              " ('The power outage lasted from 16th to 27th.',\n",
              "  'The power outage lasted for more than 12 days.',\n",
              "  'Contradiction',\n",
              "  'MORE_GOLD+1'),\n",
              " ('The power outage lasted from 16th to 27th.',\n",
              "  'The power outage lasted for more than 110 days.',\n",
              "  'Contradiction',\n",
              "  'MORE_GOLD*10'),\n",
              " ('The power outage lasted from 16th to 27th.',\n",
              "  'The power outage lasted for more than 10 days.',\n",
              "  'Entailment',\n",
              "  'MORE_GOLD-1'),\n",
              " ('The power outage lasted from 16th to 27th.',\n",
              "  'The power outage lasted for less than 11 days.',\n",
              "  'Contradiction',\n",
              "  'LESS_GOLD'),\n",
              " ('The power outage lasted from 16th to 27th.',\n",
              "  'The power outage lasted for less than 12 days.',\n",
              "  'Entailment',\n",
              "  'LESS_GOLD+1'),\n",
              " ('The power outage lasted from 16th to 27th.',\n",
              "  'The power outage lasted for less than 110 days.',\n",
              "  'Entailment',\n",
              "  'LESS_GOLD*10'),\n",
              " ('The power outage lasted from 16th to 27th.',\n",
              "  'The power outage lasted for less than 10 days.',\n",
              "  'Contradiction',\n",
              "  'LESS_GOLD-1')]"
            ]
          },
          "metadata": {
            "tags": []
          },
          "execution_count": 6
        }
      ]
    },
    {
      "cell_type": "code",
      "metadata": {
        "colab": {
          "base_uri": "https://localhost:8080/"
        },
        "id": "SqQ1KFoJn4ux",
        "outputId": "a50aa522-3808-46c7-9914-28c0ceb25208"
      },
      "source": [
        "genDurationDatePairs(monthListType='both', timeSpread=False, durationMonths=True)"
      ],
      "execution_count": null,
      "outputs": [
        {
          "output_type": "execute_result",
          "data": {
            "text/plain": [
              "[('The war lasted from Jan 1914 to March 1943.',\n",
              "  'The war lasted for 350 months.',\n",
              "  'Entailment',\n",
              "  'EQUAL_GOLD'),\n",
              " ('The war lasted from Jan 1914 to March 1943.',\n",
              "  'The war lasted for 351 months.',\n",
              "  'Contradiction',\n",
              "  'EQUAL_GOLD+1'),\n",
              " ('The war lasted from Jan 1914 to March 1943.',\n",
              "  'The war lasted for 3500 months.',\n",
              "  'Contradiction',\n",
              "  'EQUAL_GOLD*10'),\n",
              " ('The war lasted from Jan 1914 to March 1943.',\n",
              "  'The war lasted for 349 months.',\n",
              "  'Contradiction',\n",
              "  'EQUAL_GOLD-1'),\n",
              " ('The war lasted from Jan 1914 to March 1943.',\n",
              "  'The war lasted for more than 350 months.',\n",
              "  'Contradiction',\n",
              "  'MORE_GOLD'),\n",
              " ('The war lasted from Jan 1914 to March 1943.',\n",
              "  'The war lasted for more than 351 months.',\n",
              "  'Contradiction',\n",
              "  'MORE_GOLD+1'),\n",
              " ('The war lasted from Jan 1914 to March 1943.',\n",
              "  'The war lasted for more than 3500 months.',\n",
              "  'Contradiction',\n",
              "  'MORE_GOLD*10'),\n",
              " ('The war lasted from Jan 1914 to March 1943.',\n",
              "  'The war lasted for more than 349 months.',\n",
              "  'Entailment',\n",
              "  'MORE_GOLD-1'),\n",
              " ('The war lasted from Jan 1914 to March 1943.',\n",
              "  'The war lasted for less than 350 months.',\n",
              "  'Contradiction',\n",
              "  'LESS_GOLD'),\n",
              " ('The war lasted from Jan 1914 to March 1943.',\n",
              "  'The war lasted for less than 351 months.',\n",
              "  'Entailment',\n",
              "  'LESS_GOLD+1'),\n",
              " ('The war lasted from Jan 1914 to March 1943.',\n",
              "  'The war lasted for less than 3500 months.',\n",
              "  'Entailment',\n",
              "  'LESS_GOLD*10'),\n",
              " ('The war lasted from Jan 1914 to March 1943.',\n",
              "  'The war lasted for less than 349 months.',\n",
              "  'Contradiction',\n",
              "  'LESS_GOLD-1'),\n",
              " ('My grandfather lived from Jan 1971 to October 1983.',\n",
              "  'My grandfather lived for 153 months.',\n",
              "  'Entailment',\n",
              "  'EQUAL_GOLD'),\n",
              " ('My grandfather lived from Jan 1971 to October 1983.',\n",
              "  'My grandfather lived for 154 months.',\n",
              "  'Contradiction',\n",
              "  'EQUAL_GOLD+1'),\n",
              " ('My grandfather lived from Jan 1971 to October 1983.',\n",
              "  'My grandfather lived for 1530 months.',\n",
              "  'Contradiction',\n",
              "  'EQUAL_GOLD*10'),\n",
              " ('My grandfather lived from Jan 1971 to October 1983.',\n",
              "  'My grandfather lived for 152 months.',\n",
              "  'Contradiction',\n",
              "  'EQUAL_GOLD-1'),\n",
              " ('My grandfather lived from Jan 1971 to October 1983.',\n",
              "  'My grandfather lived for more than 153 months.',\n",
              "  'Contradiction',\n",
              "  'MORE_GOLD'),\n",
              " ('My grandfather lived from Jan 1971 to October 1983.',\n",
              "  'My grandfather lived for more than 154 months.',\n",
              "  'Contradiction',\n",
              "  'MORE_GOLD+1'),\n",
              " ('My grandfather lived from Jan 1971 to October 1983.',\n",
              "  'My grandfather lived for more than 1530 months.',\n",
              "  'Contradiction',\n",
              "  'MORE_GOLD*10'),\n",
              " ('My grandfather lived from Jan 1971 to October 1983.',\n",
              "  'My grandfather lived for more than 152 months.',\n",
              "  'Entailment',\n",
              "  'MORE_GOLD-1'),\n",
              " ('My grandfather lived from Jan 1971 to October 1983.',\n",
              "  'My grandfather lived for less than 153 months.',\n",
              "  'Contradiction',\n",
              "  'LESS_GOLD'),\n",
              " ('My grandfather lived from Jan 1971 to October 1983.',\n",
              "  'My grandfather lived for less than 154 months.',\n",
              "  'Entailment',\n",
              "  'LESS_GOLD+1'),\n",
              " ('My grandfather lived from Jan 1971 to October 1983.',\n",
              "  'My grandfather lived for less than 1530 months.',\n",
              "  'Entailment',\n",
              "  'LESS_GOLD*10'),\n",
              " ('My grandfather lived from Jan 1971 to October 1983.',\n",
              "  'My grandfather lived for less than 152 months.',\n",
              "  'Contradiction',\n",
              "  'LESS_GOLD-1'),\n",
              " ('The country was under a dictatorship from Nov 1936 to November 1937.',\n",
              "  'The country was under a dictatorship for 12 months.',\n",
              "  'Entailment',\n",
              "  'EQUAL_GOLD'),\n",
              " ('The country was under a dictatorship from Nov 1936 to November 1937.',\n",
              "  'The country was under a dictatorship for 13 months.',\n",
              "  'Contradiction',\n",
              "  'EQUAL_GOLD+1'),\n",
              " ('The country was under a dictatorship from Nov 1936 to November 1937.',\n",
              "  'The country was under a dictatorship for 120 months.',\n",
              "  'Contradiction',\n",
              "  'EQUAL_GOLD*10'),\n",
              " ('The country was under a dictatorship from Nov 1936 to November 1937.',\n",
              "  'The country was under a dictatorship for 11 months.',\n",
              "  'Contradiction',\n",
              "  'EQUAL_GOLD-1'),\n",
              " ('The country was under a dictatorship from Nov 1936 to November 1937.',\n",
              "  'The country was under a dictatorship for more than 12 months.',\n",
              "  'Contradiction',\n",
              "  'MORE_GOLD'),\n",
              " ('The country was under a dictatorship from Nov 1936 to November 1937.',\n",
              "  'The country was under a dictatorship for more than 13 months.',\n",
              "  'Contradiction',\n",
              "  'MORE_GOLD+1'),\n",
              " ('The country was under a dictatorship from Nov 1936 to November 1937.',\n",
              "  'The country was under a dictatorship for more than 120 months.',\n",
              "  'Contradiction',\n",
              "  'MORE_GOLD*10'),\n",
              " ('The country was under a dictatorship from Nov 1936 to November 1937.',\n",
              "  'The country was under a dictatorship for more than 11 months.',\n",
              "  'Entailment',\n",
              "  'MORE_GOLD-1'),\n",
              " ('The country was under a dictatorship from Nov 1936 to November 1937.',\n",
              "  'The country was under a dictatorship for less than 12 months.',\n",
              "  'Contradiction',\n",
              "  'LESS_GOLD'),\n",
              " ('The country was under a dictatorship from Nov 1936 to November 1937.',\n",
              "  'The country was under a dictatorship for less than 13 months.',\n",
              "  'Entailment',\n",
              "  'LESS_GOLD+1'),\n",
              " ('The country was under a dictatorship from Nov 1936 to November 1937.',\n",
              "  'The country was under a dictatorship for less than 120 months.',\n",
              "  'Entailment',\n",
              "  'LESS_GOLD*10'),\n",
              " ('The country was under a dictatorship from Nov 1936 to November 1937.',\n",
              "  'The country was under a dictatorship for less than 11 months.',\n",
              "  'Contradiction',\n",
              "  'LESS_GOLD-1'),\n",
              " ('The pandemic lasted from Dec 1938 to February 1960.',\n",
              "  'The pandemic lasted for 254 months.',\n",
              "  'Entailment',\n",
              "  'EQUAL_GOLD'),\n",
              " ('The pandemic lasted from Dec 1938 to February 1960.',\n",
              "  'The pandemic lasted for 255 months.',\n",
              "  'Contradiction',\n",
              "  'EQUAL_GOLD+1'),\n",
              " ('The pandemic lasted from Dec 1938 to February 1960.',\n",
              "  'The pandemic lasted for 2540 months.',\n",
              "  'Contradiction',\n",
              "  'EQUAL_GOLD*10'),\n",
              " ('The pandemic lasted from Dec 1938 to February 1960.',\n",
              "  'The pandemic lasted for 253 months.',\n",
              "  'Contradiction',\n",
              "  'EQUAL_GOLD-1'),\n",
              " ('The pandemic lasted from Dec 1938 to February 1960.',\n",
              "  'The pandemic lasted for more than 254 months.',\n",
              "  'Contradiction',\n",
              "  'MORE_GOLD'),\n",
              " ('The pandemic lasted from Dec 1938 to February 1960.',\n",
              "  'The pandemic lasted for more than 255 months.',\n",
              "  'Contradiction',\n",
              "  'MORE_GOLD+1'),\n",
              " ('The pandemic lasted from Dec 1938 to February 1960.',\n",
              "  'The pandemic lasted for more than 2540 months.',\n",
              "  'Contradiction',\n",
              "  'MORE_GOLD*10'),\n",
              " ('The pandemic lasted from Dec 1938 to February 1960.',\n",
              "  'The pandemic lasted for more than 253 months.',\n",
              "  'Entailment',\n",
              "  'MORE_GOLD-1'),\n",
              " ('The pandemic lasted from Dec 1938 to February 1960.',\n",
              "  'The pandemic lasted for less than 254 months.',\n",
              "  'Contradiction',\n",
              "  'LESS_GOLD'),\n",
              " ('The pandemic lasted from Dec 1938 to February 1960.',\n",
              "  'The pandemic lasted for less than 255 months.',\n",
              "  'Entailment',\n",
              "  'LESS_GOLD+1'),\n",
              " ('The pandemic lasted from Dec 1938 to February 1960.',\n",
              "  'The pandemic lasted for less than 2540 months.',\n",
              "  'Entailment',\n",
              "  'LESS_GOLD*10'),\n",
              " ('The pandemic lasted from Dec 1938 to February 1960.',\n",
              "  'The pandemic lasted for less than 253 months.',\n",
              "  'Contradiction',\n",
              "  'LESS_GOLD-1'),\n",
              " ('She was the president of our country from August 1937 to Apr 1999.',\n",
              "  'She was the president of our country for 740 months.',\n",
              "  'Entailment',\n",
              "  'EQUAL_GOLD'),\n",
              " ('She was the president of our country from August 1937 to Apr 1999.',\n",
              "  'She was the president of our country for 741 months.',\n",
              "  'Contradiction',\n",
              "  'EQUAL_GOLD+1'),\n",
              " ('She was the president of our country from August 1937 to Apr 1999.',\n",
              "  'She was the president of our country for 7400 months.',\n",
              "  'Contradiction',\n",
              "  'EQUAL_GOLD*10'),\n",
              " ('She was the president of our country from August 1937 to Apr 1999.',\n",
              "  'She was the president of our country for 739 months.',\n",
              "  'Contradiction',\n",
              "  'EQUAL_GOLD-1'),\n",
              " ('She was the president of our country from August 1937 to Apr 1999.',\n",
              "  'She was the president of our country for more than 740 months.',\n",
              "  'Contradiction',\n",
              "  'MORE_GOLD'),\n",
              " ('She was the president of our country from August 1937 to Apr 1999.',\n",
              "  'She was the president of our country for more than 741 months.',\n",
              "  'Contradiction',\n",
              "  'MORE_GOLD+1'),\n",
              " ('She was the president of our country from August 1937 to Apr 1999.',\n",
              "  'She was the president of our country for more than 7400 months.',\n",
              "  'Contradiction',\n",
              "  'MORE_GOLD*10'),\n",
              " ('She was the president of our country from August 1937 to Apr 1999.',\n",
              "  'She was the president of our country for more than 739 months.',\n",
              "  'Entailment',\n",
              "  'MORE_GOLD-1'),\n",
              " ('She was the president of our country from August 1937 to Apr 1999.',\n",
              "  'She was the president of our country for less than 740 months.',\n",
              "  'Contradiction',\n",
              "  'LESS_GOLD'),\n",
              " ('She was the president of our country from August 1937 to Apr 1999.',\n",
              "  'She was the president of our country for less than 741 months.',\n",
              "  'Entailment',\n",
              "  'LESS_GOLD+1'),\n",
              " ('She was the president of our country from August 1937 to Apr 1999.',\n",
              "  'She was the president of our country for less than 7400 months.',\n",
              "  'Entailment',\n",
              "  'LESS_GOLD*10'),\n",
              " ('She was the president of our country from August 1937 to Apr 1999.',\n",
              "  'She was the president of our country for less than 739 months.',\n",
              "  'Contradiction',\n",
              "  'LESS_GOLD-1')]"
            ]
          },
          "metadata": {
            "tags": []
          },
          "execution_count": 11
        }
      ]
    },
    {
      "cell_type": "code",
      "metadata": {
        "id": "SxcX_nGYqceF"
      },
      "source": [
        "# GENERATING TRAIN SET\n",
        "\n",
        "challengeSetDF = pd.DataFrame()\n",
        "EPOCH_NUM = 5\n",
        "\n",
        "# GENERATING PAIRS OF SINGLE LISTS\n",
        "\n",
        "for key in allListDict.keys():\n",
        "  for epoch in range(EPOCH_NUM):\n",
        "    for nextCycleVal in [True, False]:\n",
        "      for timeSpreadVal in [True, False]:\n",
        "        if key in ['year', 'date'] and nextCycleVal:\n",
        "          continue\n",
        "  \n",
        "        if key.startswith('day'):\n",
        "          tempTypeVal = 'day_time'\n",
        "        elif key.startswith('month'):\n",
        "          tempTypeVal = 'month'\n",
        "        elif key in ['weekday', 'date']:\n",
        "          tempTypeVal = 'day'\n",
        "        else:\n",
        "          tempTypeVal = 'year'\n",
        "        returnedList = genDurationPairList(listType=key, tempType=tempTypeVal, nextCycle=nextCycleVal, timeSpread=timeSpreadVal, devSet=False)\n",
        "        premList, hypoList, labelList, durTypeList = zip(*returnedList)\n",
        "        currDF = pd.DataFrame({'Premise' : premList, 'Hypothesis' : hypoList, 'Label' : labelList, 'Type' : 'SINGLE_' + key, \n",
        "                               'Dur Type' : durTypeList, 'Next Cycle' : nextCycleVal, 'Temp Type' : 'Spread' if timeSpreadVal else 'Near'})\n",
        "        challengeSetDF = pd.concat([challengeSetDF, currDF])\n",
        "\n",
        "\n",
        "# GENERATING PAIRS ACROSS DAY TIME LIST / MONTH LIST\n",
        "\n",
        "for key in ['day_time', 'month']:\n",
        "  for epoch in range(EPOCH_NUM):\n",
        "    for nextCycleVal in [True, False]:\n",
        "      for timeSpreadVal in [True, False]:\n",
        "        returnedList = genDurationPairList(listType=key, tempType=key, nextCycle=nextCycleVal, timeSpread=timeSpreadVal, devSet=False)\n",
        "        premList, hypoList, labelList, durTypeList = zip(*returnedList)\n",
        "        currDF = pd.DataFrame({'Premise' : premList, 'Hypothesis' : hypoList, 'Label' : labelList, 'Type' : 'MULTI_day_time' if key == 'day_time' else 'MULTI_month', \n",
        "                               'Dur Type' : durTypeList, 'Next Cycle' : nextCycleVal, 'Temp Type' : 'Spread' if timeSpreadVal else 'Near'})\n",
        "        challengeSetDF = pd.concat([challengeSetDF, currDF])\n",
        "\n",
        "\n",
        "# GENERATING PAIRS OF DATE TYPES (MONTH + YEAR)\n",
        "\n",
        "for epoch in range(EPOCH_NUM):\n",
        "  for monthListTypeVal in ['full', 'abv', 'both']:\n",
        "    for durationMonthsVal in [True, False]:\n",
        "      for timeSpreadVal in [True, False]:\n",
        "        returnedList = genDurationDatePairs(monthListType=monthListTypeVal, timeSpread=timeSpreadVal, durationMonths=durationMonthsVal, devSet=False)\n",
        "        premList, hypoList, labelList, durTypeList = zip(*returnedList)\n",
        "        currDF = pd.DataFrame({'Premise' : premList, 'Hypothesis' : hypoList, 'Label' : labelList, 'Type' : ('DATE_M_'+monthListTypeVal) if durationMonthsVal else ('DATE_YM_'+monthListTypeVal), \n",
        "                               'Dur Type' : durTypeList, 'Next Cycle' : False, 'Temp Type' : 'Spread' if timeSpreadVal else 'Near'})\n",
        "        challengeSetDF = pd.concat([challengeSetDF, currDF])"
      ],
      "execution_count": null,
      "outputs": []
    },
    {
      "cell_type": "code",
      "metadata": {
        "colab": {
          "base_uri": "https://localhost:8080/",
          "height": 586
        },
        "id": "76f6H0qkt-3-",
        "outputId": "85bdceee-b708-43fa-f6c7-de7617d645d9"
      },
      "source": [
        "challengeSetDF"
      ],
      "execution_count": null,
      "outputs": [
        {
          "output_type": "execute_result",
          "data": {
            "text/html": [
              "<div>\n",
              "<style scoped>\n",
              "    .dataframe tbody tr th:only-of-type {\n",
              "        vertical-align: middle;\n",
              "    }\n",
              "\n",
              "    .dataframe tbody tr th {\n",
              "        vertical-align: top;\n",
              "    }\n",
              "\n",
              "    .dataframe thead th {\n",
              "        text-align: right;\n",
              "    }\n",
              "</style>\n",
              "<table border=\"1\" class=\"dataframe\">\n",
              "  <thead>\n",
              "    <tr style=\"text-align: right;\">\n",
              "      <th></th>\n",
              "      <th>Premise</th>\n",
              "      <th>Hypothesis</th>\n",
              "      <th>Label</th>\n",
              "      <th>Type</th>\n",
              "      <th>Dur Type</th>\n",
              "      <th>Next Cycle</th>\n",
              "      <th>Temp Type</th>\n",
              "    </tr>\n",
              "  </thead>\n",
              "  <tbody>\n",
              "    <tr>\n",
              "      <th>0</th>\n",
              "      <td>Michael reached my house at 5 PM and left at 9...</td>\n",
              "      <td>Michael visited my house for 16 hours.</td>\n",
              "      <td>Entailment</td>\n",
              "      <td>SINGLE_day_time_12</td>\n",
              "      <td>EQUAL_GOLD</td>\n",
              "      <td>True</td>\n",
              "      <td>Spread</td>\n",
              "    </tr>\n",
              "    <tr>\n",
              "      <th>1</th>\n",
              "      <td>Michael reached my house at 5 PM and left at 9...</td>\n",
              "      <td>Michael visited my house for 17 hours.</td>\n",
              "      <td>Contradiction</td>\n",
              "      <td>SINGLE_day_time_12</td>\n",
              "      <td>EQUAL_GOLD+1</td>\n",
              "      <td>True</td>\n",
              "      <td>Spread</td>\n",
              "    </tr>\n",
              "    <tr>\n",
              "      <th>2</th>\n",
              "      <td>Michael reached my house at 5 PM and left at 9...</td>\n",
              "      <td>Michael visited my house for 160 hours.</td>\n",
              "      <td>Contradiction</td>\n",
              "      <td>SINGLE_day_time_12</td>\n",
              "      <td>EQUAL_GOLD*10</td>\n",
              "      <td>True</td>\n",
              "      <td>Spread</td>\n",
              "    </tr>\n",
              "    <tr>\n",
              "      <th>3</th>\n",
              "      <td>Michael reached my house at 5 PM and left at 9...</td>\n",
              "      <td>Michael visited my house for 15 hours.</td>\n",
              "      <td>Contradiction</td>\n",
              "      <td>SINGLE_day_time_12</td>\n",
              "      <td>EQUAL_GOLD-1</td>\n",
              "      <td>True</td>\n",
              "      <td>Spread</td>\n",
              "    </tr>\n",
              "    <tr>\n",
              "      <th>4</th>\n",
              "      <td>Michael reached my house at 5 PM and left at 9...</td>\n",
              "      <td>Michael visited my house for more than 16 hours.</td>\n",
              "      <td>Contradiction</td>\n",
              "      <td>SINGLE_day_time_12</td>\n",
              "      <td>MORE_GOLD</td>\n",
              "      <td>True</td>\n",
              "      <td>Spread</td>\n",
              "    </tr>\n",
              "    <tr>\n",
              "      <th>...</th>\n",
              "      <td>...</td>\n",
              "      <td>...</td>\n",
              "      <td>...</td>\n",
              "      <td>...</td>\n",
              "      <td>...</td>\n",
              "      <td>...</td>\n",
              "      <td>...</td>\n",
              "    </tr>\n",
              "    <tr>\n",
              "      <th>55</th>\n",
              "      <td>She was the president of our country from Sept...</td>\n",
              "      <td>She was the president of our country for more ...</td>\n",
              "      <td>Entailment</td>\n",
              "      <td>DATE_YM_both</td>\n",
              "      <td>MORE_GOLD-1</td>\n",
              "      <td>False</td>\n",
              "      <td>Near</td>\n",
              "    </tr>\n",
              "    <tr>\n",
              "      <th>56</th>\n",
              "      <td>She was the president of our country from Sept...</td>\n",
              "      <td>She was the president of our country for less ...</td>\n",
              "      <td>Contradiction</td>\n",
              "      <td>DATE_YM_both</td>\n",
              "      <td>LESS_GOLD</td>\n",
              "      <td>False</td>\n",
              "      <td>Near</td>\n",
              "    </tr>\n",
              "    <tr>\n",
              "      <th>57</th>\n",
              "      <td>She was the president of our country from Sept...</td>\n",
              "      <td>She was the president of our country for less ...</td>\n",
              "      <td>Entailment</td>\n",
              "      <td>DATE_YM_both</td>\n",
              "      <td>LESS_GOLD+1</td>\n",
              "      <td>False</td>\n",
              "      <td>Near</td>\n",
              "    </tr>\n",
              "    <tr>\n",
              "      <th>58</th>\n",
              "      <td>She was the president of our country from Sept...</td>\n",
              "      <td>She was the president of our country for less ...</td>\n",
              "      <td>Entailment</td>\n",
              "      <td>DATE_YM_both</td>\n",
              "      <td>LESS_GOLD*10</td>\n",
              "      <td>False</td>\n",
              "      <td>Near</td>\n",
              "    </tr>\n",
              "    <tr>\n",
              "      <th>59</th>\n",
              "      <td>She was the president of our country from Sept...</td>\n",
              "      <td>She was the president of our country for less ...</td>\n",
              "      <td>Contradiction</td>\n",
              "      <td>DATE_YM_both</td>\n",
              "      <td>LESS_GOLD-1</td>\n",
              "      <td>False</td>\n",
              "      <td>Near</td>\n",
              "    </tr>\n",
              "  </tbody>\n",
              "</table>\n",
              "<p>13041 rows × 7 columns</p>\n",
              "</div>"
            ],
            "text/plain": [
              "                                              Premise  ... Temp Type\n",
              "0   Michael reached my house at 5 PM and left at 9...  ...    Spread\n",
              "1   Michael reached my house at 5 PM and left at 9...  ...    Spread\n",
              "2   Michael reached my house at 5 PM and left at 9...  ...    Spread\n",
              "3   Michael reached my house at 5 PM and left at 9...  ...    Spread\n",
              "4   Michael reached my house at 5 PM and left at 9...  ...    Spread\n",
              "..                                                ...  ...       ...\n",
              "55  She was the president of our country from Sept...  ...      Near\n",
              "56  She was the president of our country from Sept...  ...      Near\n",
              "57  She was the president of our country from Sept...  ...      Near\n",
              "58  She was the president of our country from Sept...  ...      Near\n",
              "59  She was the president of our country from Sept...  ...      Near\n",
              "\n",
              "[13041 rows x 7 columns]"
            ]
          },
          "metadata": {
            "tags": []
          },
          "execution_count": 14
        }
      ]
    },
    {
      "cell_type": "code",
      "metadata": {
        "colab": {
          "base_uri": "https://localhost:8080/"
        },
        "id": "iZYcbZnouIQS",
        "outputId": "abebfe4f-ec33-4250-bebf-157ec7f55c22"
      },
      "source": [
        "challengeSetDF['Type'].value_counts()"
      ],
      "execution_count": null,
      "outputs": [
        {
          "output_type": "execute_result",
          "data": {
            "text/plain": [
              "MULTI_day_time        1191\n",
              "SINGLE_month_full     1191\n",
              "SINGLE_day_time_24    1188\n",
              "SINGLE_day_time_12    1185\n",
              "SINGLE_month_abv      1176\n",
              "MULTI_month           1164\n",
              "SINGLE_weekday        1155\n",
              "DATE_YM_both           600\n",
              "DATE_M_abv             600\n",
              "DATE_M_both            600\n",
              "SINGLE_year            600\n",
              "DATE_M_full            600\n",
              "DATE_YM_abv            600\n",
              "DATE_YM_full           600\n",
              "SINGLE_date            591\n",
              "Name: Type, dtype: int64"
            ]
          },
          "metadata": {
            "tags": []
          },
          "execution_count": 15
        }
      ]
    },
    {
      "cell_type": "code",
      "metadata": {
        "id": "UMVeKUhruLCo"
      },
      "source": [
        "# challengeSetDF.to_csv('/content/drive/MyDrive/Projects/Temporal Awareness/challengeSet2DF_train.csv')"
      ],
      "execution_count": null,
      "outputs": []
    },
    {
      "cell_type": "code",
      "metadata": {
        "id": "HqWeyS0K6qql"
      },
      "source": [
        "# GENERATING TEST SET\n",
        "\n",
        "challengeSetDF = pd.DataFrame()\n",
        "EPOCH_NUM = 5\n",
        "\n",
        "# GENERATING PAIRS OF SINGLE LISTS\n",
        "\n",
        "for key in allListDict.keys():\n",
        "  for epoch in range(EPOCH_NUM):\n",
        "    for nextCycleVal in [True, False]:\n",
        "      for timeSpreadVal in [True, False]:\n",
        "        if key in ['year', 'date'] and nextCycleVal:\n",
        "          continue\n",
        "  \n",
        "        if key.startswith('day'):\n",
        "          tempTypeVal = 'day_time'\n",
        "        elif key.startswith('month'):\n",
        "          tempTypeVal = 'month'\n",
        "        elif key in ['weekday', 'date']:\n",
        "          tempTypeVal = 'day'\n",
        "        else:\n",
        "          tempTypeVal = 'year'\n",
        "        returnedList = genDurationPairList(listType=key, tempType=tempTypeVal, nextCycle=nextCycleVal, timeSpread=timeSpreadVal, devSet=True)\n",
        "        premList, hypoList, labelList, durTypeList = zip(*returnedList)\n",
        "        currDF = pd.DataFrame({'Premise' : premList, 'Hypothesis' : hypoList, 'Label' : labelList, 'Type' : 'SINGLE_' + key, \n",
        "                               'Dur Type' : durTypeList, 'Next Cycle' : nextCycleVal, 'Temp Type' : 'Spread' if timeSpreadVal else 'Near'})\n",
        "        challengeSetDF = pd.concat([challengeSetDF, currDF])\n",
        "\n",
        "\n",
        "# GENERATING PAIRS ACROSS DAY TIME LIST / MONTH LIST\n",
        "\n",
        "for key in ['day_time', 'month']:\n",
        "  for epoch in range(EPOCH_NUM):\n",
        "    for nextCycleVal in [True, False]:\n",
        "      for timeSpreadVal in [True, False]:\n",
        "        returnedList = genDurationPairList(listType=key, tempType=key, nextCycle=nextCycleVal, timeSpread=timeSpreadVal, devSet=True)\n",
        "        premList, hypoList, labelList, durTypeList = zip(*returnedList)\n",
        "        currDF = pd.DataFrame({'Premise' : premList, 'Hypothesis' : hypoList, 'Label' : labelList, 'Type' : 'MULTI_day_time' if key == 'day_time' else 'MULTI_month', \n",
        "                               'Dur Type' : durTypeList, 'Next Cycle' : nextCycleVal, 'Temp Type' : 'Spread' if timeSpreadVal else 'Near'})\n",
        "        challengeSetDF = pd.concat([challengeSetDF, currDF])\n",
        "\n",
        "\n",
        "# GENERATING PAIRS OF DATE TYPES (MONTH + YEAR)\n",
        "\n",
        "for epoch in range(EPOCH_NUM):\n",
        "  for monthListTypeVal in ['full', 'abv', 'both']:\n",
        "    for durationMonthsVal in [True, False]:\n",
        "      for timeSpreadVal in [True, False]:\n",
        "        returnedList = genDurationDatePairs(monthListType=monthListTypeVal, timeSpread=timeSpreadVal, durationMonths=durationMonthsVal, devSet=True)\n",
        "        premList, hypoList, labelList, durTypeList = zip(*returnedList)\n",
        "        currDF = pd.DataFrame({'Premise' : premList, 'Hypothesis' : hypoList, 'Label' : labelList, 'Type' : ('DATE_M_'+monthListTypeVal) if durationMonthsVal else ('DATE_YM_'+monthListTypeVal), \n",
        "                               'Dur Type' : durTypeList, 'Next Cycle' : False, 'Temp Type' : 'Spread' if timeSpreadVal else 'Near'})\n",
        "        challengeSetDF = pd.concat([challengeSetDF, currDF])"
      ],
      "execution_count": null,
      "outputs": []
    },
    {
      "cell_type": "code",
      "metadata": {
        "colab": {
          "base_uri": "https://localhost:8080/",
          "height": 586
        },
        "id": "15M8kG0J6qqo",
        "outputId": "f73a29c2-bc73-46f8-9b68-63c6d8c2872c"
      },
      "source": [
        "challengeSetDF"
      ],
      "execution_count": null,
      "outputs": [
        {
          "output_type": "execute_result",
          "data": {
            "text/html": [
              "<div>\n",
              "<style scoped>\n",
              "    .dataframe tbody tr th:only-of-type {\n",
              "        vertical-align: middle;\n",
              "    }\n",
              "\n",
              "    .dataframe tbody tr th {\n",
              "        vertical-align: top;\n",
              "    }\n",
              "\n",
              "    .dataframe thead th {\n",
              "        text-align: right;\n",
              "    }\n",
              "</style>\n",
              "<table border=\"1\" class=\"dataframe\">\n",
              "  <thead>\n",
              "    <tr style=\"text-align: right;\">\n",
              "      <th></th>\n",
              "      <th>Premise</th>\n",
              "      <th>Hypothesis</th>\n",
              "      <th>Label</th>\n",
              "      <th>Type</th>\n",
              "      <th>Dur Type</th>\n",
              "      <th>Next Cycle</th>\n",
              "      <th>Temp Type</th>\n",
              "    </tr>\n",
              "  </thead>\n",
              "  <tbody>\n",
              "    <tr>\n",
              "      <th>0</th>\n",
              "      <td>The train from Seattle started at 3 PM and rea...</td>\n",
              "      <td>The train journey from Seattle to Portland las...</td>\n",
              "      <td>Entailment</td>\n",
              "      <td>SINGLE_day_time_12</td>\n",
              "      <td>EQUAL_GOLD</td>\n",
              "      <td>True</td>\n",
              "      <td>Spread</td>\n",
              "    </tr>\n",
              "    <tr>\n",
              "      <th>1</th>\n",
              "      <td>The train from Seattle started at 3 PM and rea...</td>\n",
              "      <td>The train journey from Seattle to Portland las...</td>\n",
              "      <td>Contradiction</td>\n",
              "      <td>SINGLE_day_time_12</td>\n",
              "      <td>EQUAL_GOLD+1</td>\n",
              "      <td>True</td>\n",
              "      <td>Spread</td>\n",
              "    </tr>\n",
              "    <tr>\n",
              "      <th>2</th>\n",
              "      <td>The train from Seattle started at 3 PM and rea...</td>\n",
              "      <td>The train journey from Seattle to Portland las...</td>\n",
              "      <td>Contradiction</td>\n",
              "      <td>SINGLE_day_time_12</td>\n",
              "      <td>EQUAL_GOLD*10</td>\n",
              "      <td>True</td>\n",
              "      <td>Spread</td>\n",
              "    </tr>\n",
              "    <tr>\n",
              "      <th>3</th>\n",
              "      <td>The train from Seattle started at 3 PM and rea...</td>\n",
              "      <td>The train journey from Seattle to Portland las...</td>\n",
              "      <td>Contradiction</td>\n",
              "      <td>SINGLE_day_time_12</td>\n",
              "      <td>EQUAL_GOLD-1</td>\n",
              "      <td>True</td>\n",
              "      <td>Spread</td>\n",
              "    </tr>\n",
              "    <tr>\n",
              "      <th>4</th>\n",
              "      <td>The train from Seattle started at 3 PM and rea...</td>\n",
              "      <td>The train journey from Seattle to Portland las...</td>\n",
              "      <td>Contradiction</td>\n",
              "      <td>SINGLE_day_time_12</td>\n",
              "      <td>MORE_GOLD</td>\n",
              "      <td>True</td>\n",
              "      <td>Spread</td>\n",
              "    </tr>\n",
              "    <tr>\n",
              "      <th>...</th>\n",
              "      <td>...</td>\n",
              "      <td>...</td>\n",
              "      <td>...</td>\n",
              "      <td>...</td>\n",
              "      <td>...</td>\n",
              "      <td>...</td>\n",
              "      <td>...</td>\n",
              "    </tr>\n",
              "    <tr>\n",
              "      <th>19</th>\n",
              "      <td>I pursued my bachelors degree from Jan 1931 to...</td>\n",
              "      <td>I pursued my bachelors degree for more than 59...</td>\n",
              "      <td>Entailment</td>\n",
              "      <td>DATE_YM_both</td>\n",
              "      <td>MORE_GOLD-1</td>\n",
              "      <td>False</td>\n",
              "      <td>Near</td>\n",
              "    </tr>\n",
              "    <tr>\n",
              "      <th>20</th>\n",
              "      <td>I pursued my bachelors degree from Jan 1931 to...</td>\n",
              "      <td>I pursued my bachelors degree for less than 59...</td>\n",
              "      <td>Contradiction</td>\n",
              "      <td>DATE_YM_both</td>\n",
              "      <td>LESS_GOLD</td>\n",
              "      <td>False</td>\n",
              "      <td>Near</td>\n",
              "    </tr>\n",
              "    <tr>\n",
              "      <th>21</th>\n",
              "      <td>I pursued my bachelors degree from Jan 1931 to...</td>\n",
              "      <td>I pursued my bachelors degree for less than 60...</td>\n",
              "      <td>Entailment</td>\n",
              "      <td>DATE_YM_both</td>\n",
              "      <td>LESS_GOLD+1</td>\n",
              "      <td>False</td>\n",
              "      <td>Near</td>\n",
              "    </tr>\n",
              "    <tr>\n",
              "      <th>22</th>\n",
              "      <td>I pursued my bachelors degree from Jan 1931 to...</td>\n",
              "      <td>I pursued my bachelors degree for less than 59...</td>\n",
              "      <td>Entailment</td>\n",
              "      <td>DATE_YM_both</td>\n",
              "      <td>LESS_GOLD*10</td>\n",
              "      <td>False</td>\n",
              "      <td>Near</td>\n",
              "    </tr>\n",
              "    <tr>\n",
              "      <th>23</th>\n",
              "      <td>I pursued my bachelors degree from Jan 1931 to...</td>\n",
              "      <td>I pursued my bachelors degree for less than 59...</td>\n",
              "      <td>Contradiction</td>\n",
              "      <td>DATE_YM_both</td>\n",
              "      <td>LESS_GOLD-1</td>\n",
              "      <td>False</td>\n",
              "      <td>Near</td>\n",
              "    </tr>\n",
              "  </tbody>\n",
              "</table>\n",
              "<p>5202 rows × 7 columns</p>\n",
              "</div>"
            ],
            "text/plain": [
              "                                              Premise  ... Temp Type\n",
              "0   The train from Seattle started at 3 PM and rea...  ...    Spread\n",
              "1   The train from Seattle started at 3 PM and rea...  ...    Spread\n",
              "2   The train from Seattle started at 3 PM and rea...  ...    Spread\n",
              "3   The train from Seattle started at 3 PM and rea...  ...    Spread\n",
              "4   The train from Seattle started at 3 PM and rea...  ...    Spread\n",
              "..                                                ...  ...       ...\n",
              "19  I pursued my bachelors degree from Jan 1931 to...  ...      Near\n",
              "20  I pursued my bachelors degree from Jan 1931 to...  ...      Near\n",
              "21  I pursued my bachelors degree from Jan 1931 to...  ...      Near\n",
              "22  I pursued my bachelors degree from Jan 1931 to...  ...      Near\n",
              "23  I pursued my bachelors degree from Jan 1931 to...  ...      Near\n",
              "\n",
              "[5202 rows x 7 columns]"
            ]
          },
          "metadata": {
            "tags": []
          },
          "execution_count": 18
        }
      ]
    },
    {
      "cell_type": "code",
      "metadata": {
        "colab": {
          "base_uri": "https://localhost:8080/"
        },
        "id": "30NKlAM16qqo",
        "outputId": "88d819ed-a0df-42f9-a0e3-1447485a093b"
      },
      "source": [
        "challengeSetDF['Type'].value_counts()"
      ],
      "execution_count": null,
      "outputs": [
        {
          "output_type": "execute_result",
          "data": {
            "text/plain": [
              "SINGLE_day_time_12    477\n",
              "MULTI_day_time        474\n",
              "SINGLE_month_abv      474\n",
              "SINGLE_month_full     471\n",
              "SINGLE_day_time_24    471\n",
              "MULTI_month           465\n",
              "SINGLE_weekday        462\n",
              "DATE_YM_both          240\n",
              "DATE_M_abv            240\n",
              "DATE_M_full           240\n",
              "DATE_M_both           240\n",
              "DATE_YM_abv           240\n",
              "DATE_YM_full          240\n",
              "SINGLE_year           237\n",
              "SINGLE_date           231\n",
              "Name: Type, dtype: int64"
            ]
          },
          "metadata": {
            "tags": []
          },
          "execution_count": 19
        }
      ]
    },
    {
      "cell_type": "code",
      "metadata": {
        "id": "g3rNlhqs6qqp"
      },
      "source": [
        "# challengeSetDF.to_csv('/content/drive/MyDrive/Projects/Temporal Awareness/challengeSet2DF_test.csv')"
      ],
      "execution_count": null,
      "outputs": []
    },
    {
      "cell_type": "markdown",
      "metadata": {
        "id": "dt4OALdDxln3"
      },
      "source": [
        "## FINE-TUNING"
      ]
    },
    {
      "cell_type": "code",
      "metadata": {
        "colab": {
          "base_uri": "https://localhost:8080/"
        },
        "id": "4IafBsEYxoWy",
        "outputId": "fb02a230-115a-4e76-b85b-caa5a9a5526a"
      },
      "source": [
        "!pip install transformers sentencepiece"
      ],
      "execution_count": null,
      "outputs": [
        {
          "output_type": "stream",
          "text": [
            "Collecting transformers\n",
            "\u001b[?25l  Downloading https://files.pythonhosted.org/packages/d5/43/cfe4ee779bbd6a678ac6a97c5a5cdeb03c35f9eaebbb9720b036680f9a2d/transformers-4.6.1-py3-none-any.whl (2.2MB)\n",
            "\u001b[K     |████████████████████████████████| 2.3MB 8.1MB/s \n",
            "\u001b[?25hCollecting sentencepiece\n",
            "\u001b[?25l  Downloading https://files.pythonhosted.org/packages/f5/99/e0808cb947ba10f575839c43e8fafc9cc44e4a7a2c8f79c60db48220a577/sentencepiece-0.1.95-cp37-cp37m-manylinux2014_x86_64.whl (1.2MB)\n",
            "\u001b[K     |████████████████████████████████| 1.2MB 30.7MB/s \n",
            "\u001b[?25hRequirement already satisfied: requests in /usr/local/lib/python3.7/dist-packages (from transformers) (2.23.0)\n",
            "Requirement already satisfied: regex!=2019.12.17 in /usr/local/lib/python3.7/dist-packages (from transformers) (2019.12.20)\n",
            "Requirement already satisfied: packaging in /usr/local/lib/python3.7/dist-packages (from transformers) (20.9)\n",
            "Collecting huggingface-hub==0.0.8\n",
            "  Downloading https://files.pythonhosted.org/packages/a1/88/7b1e45720ecf59c6c6737ff332f41c955963090a18e72acbcbeac6b25e86/huggingface_hub-0.0.8-py3-none-any.whl\n",
            "Collecting tokenizers<0.11,>=0.10.1\n",
            "\u001b[?25l  Downloading https://files.pythonhosted.org/packages/d4/e2/df3543e8ffdab68f5acc73f613de9c2b155ac47f162e725dcac87c521c11/tokenizers-0.10.3-cp37-cp37m-manylinux_2_5_x86_64.manylinux1_x86_64.manylinux_2_12_x86_64.manylinux2010_x86_64.whl (3.3MB)\n",
            "\u001b[K     |████████████████████████████████| 3.3MB 35.9MB/s \n",
            "\u001b[?25hRequirement already satisfied: filelock in /usr/local/lib/python3.7/dist-packages (from transformers) (3.0.12)\n",
            "Collecting sacremoses\n",
            "\u001b[?25l  Downloading https://files.pythonhosted.org/packages/75/ee/67241dc87f266093c533a2d4d3d69438e57d7a90abb216fa076e7d475d4a/sacremoses-0.0.45-py3-none-any.whl (895kB)\n",
            "\u001b[K     |████████████████████████████████| 901kB 32.8MB/s \n",
            "\u001b[?25hRequirement already satisfied: importlib-metadata; python_version < \"3.8\" in /usr/local/lib/python3.7/dist-packages (from transformers) (4.0.1)\n",
            "Requirement already satisfied: numpy>=1.17 in /usr/local/lib/python3.7/dist-packages (from transformers) (1.19.5)\n",
            "Requirement already satisfied: tqdm>=4.27 in /usr/local/lib/python3.7/dist-packages (from transformers) (4.41.1)\n",
            "Requirement already satisfied: chardet<4,>=3.0.2 in /usr/local/lib/python3.7/dist-packages (from requests->transformers) (3.0.4)\n",
            "Requirement already satisfied: certifi>=2017.4.17 in /usr/local/lib/python3.7/dist-packages (from requests->transformers) (2020.12.5)\n",
            "Requirement already satisfied: idna<3,>=2.5 in /usr/local/lib/python3.7/dist-packages (from requests->transformers) (2.10)\n",
            "Requirement already satisfied: urllib3!=1.25.0,!=1.25.1,<1.26,>=1.21.1 in /usr/local/lib/python3.7/dist-packages (from requests->transformers) (1.24.3)\n",
            "Requirement already satisfied: pyparsing>=2.0.2 in /usr/local/lib/python3.7/dist-packages (from packaging->transformers) (2.4.7)\n",
            "Requirement already satisfied: click in /usr/local/lib/python3.7/dist-packages (from sacremoses->transformers) (7.1.2)\n",
            "Requirement already satisfied: six in /usr/local/lib/python3.7/dist-packages (from sacremoses->transformers) (1.15.0)\n",
            "Requirement already satisfied: joblib in /usr/local/lib/python3.7/dist-packages (from sacremoses->transformers) (1.0.1)\n",
            "Requirement already satisfied: typing-extensions>=3.6.4; python_version < \"3.8\" in /usr/local/lib/python3.7/dist-packages (from importlib-metadata; python_version < \"3.8\"->transformers) (3.7.4.3)\n",
            "Requirement already satisfied: zipp>=0.5 in /usr/local/lib/python3.7/dist-packages (from importlib-metadata; python_version < \"3.8\"->transformers) (3.4.1)\n",
            "Installing collected packages: huggingface-hub, tokenizers, sacremoses, transformers, sentencepiece\n",
            "Successfully installed huggingface-hub-0.0.8 sacremoses-0.0.45 sentencepiece-0.1.95 tokenizers-0.10.3 transformers-4.6.1\n"
          ],
          "name": "stdout"
        }
      ]
    },
    {
      "cell_type": "code",
      "metadata": {
        "id": "cD36EuuTxxOb"
      },
      "source": [
        "import numpy as np\n",
        "import pandas as pd\n",
        "import os\n",
        "\n",
        "os.environ['CUDA_LAUNCH_BLOCKING'] = \"1\"\n",
        "\n",
        "import torch\n",
        "from torch.utils import data\n",
        "\n",
        "from transformers import AutoTokenizer, AutoModelForSequenceClassification, Trainer, TrainingArguments, EarlyStoppingCallback\n",
        "\n",
        "from sklearn.metrics import accuracy_score, precision_recall_fscore_support, classification_report"
      ],
      "execution_count": null,
      "outputs": []
    },
    {
      "cell_type": "code",
      "metadata": {
        "id": "Cl_SCB90yCwx"
      },
      "source": [
        "if torch.cuda.is_available():\n",
        "  device = torch.device('cuda')\n",
        "else:\n",
        "  device = torch.device('cpu')"
      ],
      "execution_count": null,
      "outputs": []
    },
    {
      "cell_type": "code",
      "metadata": {
        "id": "fhEwThpcyMXw"
      },
      "source": [
        "class CustomDataset(data.Dataset):\n",
        "    def __init__(self, dfObject):\n",
        "        self.dfObject = dfObject  # Pandas dataframe\n",
        "\n",
        "    def __len__(self):\n",
        "        return self.dfObject.shape[0]\n",
        "\n",
        "    def __getitem__(self, idx):\n",
        "        if torch.is_tensor(idx):\n",
        "            idx = idx.tolist()\n",
        "        dfRows = self.dfObject.iloc[idx]\n",
        "        dfPremise = dfRows['premise']\n",
        "        dfHypothesis = dfRows['hypothesis']\n",
        "        dfLabels = dfRows['label']\n",
        "\n",
        "        return dfPremise, dfHypothesis, dfLabels\n",
        "\n",
        "\n",
        "def CustomCollatFunc(data):\n",
        "\n",
        "  premises = [elem[0] for elem in data]\n",
        "  hypothesises = [elem[1] for elem in data]\n",
        "  labels = [elem[2] for elem in data]\n",
        "  encoded_result = modelTokenizer(premises, hypothesises, padding=True, truncation=True, max_length=64, return_tensors='pt', return_attention_mask=True)\n",
        "\n",
        "  output =  {'input_ids': encoded_result['input_ids'],\n",
        "                'attention_mask': encoded_result['attention_mask'],\n",
        "                # 'token_type_ids': encoded_result['token_type_ids'],\n",
        "                'labels': torch.tensor(labels)}\n",
        "  \n",
        "  return output\n",
        "\n",
        "\n",
        "def compute_metrics(pred):\n",
        "    labels = pred.label_ids\n",
        "    preds = pred.predictions.argmax(-1)\n",
        "    precision, recall, f1, _ = precision_recall_fscore_support(labels, preds, average='macro')\n",
        "    acc = accuracy_score(labels, preds)\n",
        "    return {\n",
        "        'accuracy': acc,\n",
        "        'f1': f1,\n",
        "        'precision': precision,\n",
        "        'recall': recall\n",
        "    }"
      ],
      "execution_count": null,
      "outputs": []
    },
    {
      "cell_type": "markdown",
      "metadata": {
        "id": "F5bmrwN_LQHF"
      },
      "source": [
        "### 1. Challenge Set 1"
      ]
    },
    {
      "cell_type": "markdown",
      "metadata": {
        "id": "GzOhHsZndTNP"
      },
      "source": [
        "##### a) Roberta Large Model"
      ]
    },
    {
      "cell_type": "code",
      "metadata": {
        "colab": {
          "base_uri": "https://localhost:8080/",
          "height": 402
        },
        "id": "nFyk404GdTNa",
        "outputId": "d12337d1-817f-4c3f-e27e-2db9fb5d7b6e"
      },
      "source": [
        "challengeSetTrain = pd.read_csv('/content/drive/MyDrive/Projects/Temporal Awareness/challengeSet1DF_train.csv', index_col=0)\n",
        "challengeSetTrain['Label'].replace(to_replace='Entailment', value=2, inplace=True)\n",
        "challengeSetTrain['Label'].replace(to_replace='Neutral', value=1, inplace=True)\n",
        "challengeSetTrain['Label'].replace(to_replace='Contradiction', value=0, inplace=True)\n",
        "challengeSetTrain.rename(columns={'Premise':'premise', 'Hypothesis':'hypothesis', 'Label':'label'}, inplace=True)\n",
        "\n",
        "challengeSetTest = pd.read_csv('/content/drive/MyDrive/Projects/Temporal Awareness/challengeSet1DF_test.csv', index_col=0)\n",
        "challengeSetTest['Label'].replace(to_replace='Entailment', value=2, inplace=True)\n",
        "challengeSetTest['Label'].replace(to_replace='Neutral', value=1, inplace=True)\n",
        "challengeSetTest['Label'].replace(to_replace='Contradiction', value=0, inplace=True)\n",
        "challengeSetTest.rename(columns={'Premise':'premise', 'Hypothesis':'hypothesis', 'Label':'label'}, inplace=True)\n",
        "\n",
        "challengeSetTrain"
      ],
      "execution_count": null,
      "outputs": [
        {
          "output_type": "execute_result",
          "data": {
            "text/html": [
              "<div>\n",
              "<style scoped>\n",
              "    .dataframe tbody tr th:only-of-type {\n",
              "        vertical-align: middle;\n",
              "    }\n",
              "\n",
              "    .dataframe tbody tr th {\n",
              "        vertical-align: top;\n",
              "    }\n",
              "\n",
              "    .dataframe thead th {\n",
              "        text-align: right;\n",
              "    }\n",
              "</style>\n",
              "<table border=\"1\" class=\"dataframe\">\n",
              "  <thead>\n",
              "    <tr style=\"text-align: right;\">\n",
              "      <th></th>\n",
              "      <th>premise</th>\n",
              "      <th>hypothesis</th>\n",
              "      <th>label</th>\n",
              "      <th>Type</th>\n",
              "      <th>Prem Fixed</th>\n",
              "      <th>Temp Type</th>\n",
              "    </tr>\n",
              "  </thead>\n",
              "  <tbody>\n",
              "    <tr>\n",
              "      <th>0</th>\n",
              "      <td>They got married at 12 PM.</td>\n",
              "      <td>They got married after 7 PM.</td>\n",
              "      <td>0</td>\n",
              "      <td>SINGLE_day_time_12</td>\n",
              "      <td>True</td>\n",
              "      <td>Forward</td>\n",
              "    </tr>\n",
              "    <tr>\n",
              "      <th>1</th>\n",
              "      <td>We went to Disneyland at 12 AM.</td>\n",
              "      <td>We went to Disneyland before 2 AM.</td>\n",
              "      <td>2</td>\n",
              "      <td>SINGLE_day_time_12</td>\n",
              "      <td>True</td>\n",
              "      <td>Forward</td>\n",
              "    </tr>\n",
              "    <tr>\n",
              "      <th>2</th>\n",
              "      <td>Michael will buy the house at 7 PM.</td>\n",
              "      <td>Michael will buy the house after 11 PM.</td>\n",
              "      <td>0</td>\n",
              "      <td>SINGLE_day_time_12</td>\n",
              "      <td>True</td>\n",
              "      <td>Forward</td>\n",
              "    </tr>\n",
              "    <tr>\n",
              "      <th>3</th>\n",
              "      <td>Lily flew to New York at 8 PM.</td>\n",
              "      <td>Lily flew to New York before 4 PM.</td>\n",
              "      <td>0</td>\n",
              "      <td>SINGLE_day_time_12</td>\n",
              "      <td>True</td>\n",
              "      <td>Forward</td>\n",
              "    </tr>\n",
              "    <tr>\n",
              "      <th>4</th>\n",
              "      <td>The music concert starts at 10 PM.</td>\n",
              "      <td>The music concert starts before 11 AM.</td>\n",
              "      <td>0</td>\n",
              "      <td>SINGLE_day_time_12</td>\n",
              "      <td>True</td>\n",
              "      <td>Forward</td>\n",
              "    </tr>\n",
              "    <tr>\n",
              "      <th>...</th>\n",
              "      <td>...</td>\n",
              "      <td>...</td>\n",
              "      <td>...</td>\n",
              "      <td>...</td>\n",
              "      <td>...</td>\n",
              "      <td>...</td>\n",
              "    </tr>\n",
              "    <tr>\n",
              "      <th>5995</th>\n",
              "      <td>Before Jan 1933, the failing company issued ma...</td>\n",
              "      <td>Before May 1983, the failing company issued ma...</td>\n",
              "      <td>2</td>\n",
              "      <td>DATE_MY_both</td>\n",
              "      <td>False</td>\n",
              "      <td>Backward</td>\n",
              "    </tr>\n",
              "    <tr>\n",
              "      <th>5996</th>\n",
              "      <td>After Oct 1902, the government budget comes out.</td>\n",
              "      <td>After December 1989, the government budget com...</td>\n",
              "      <td>1</td>\n",
              "      <td>DATE_MY_both</td>\n",
              "      <td>False</td>\n",
              "      <td>Backward</td>\n",
              "    </tr>\n",
              "    <tr>\n",
              "      <th>5997</th>\n",
              "      <td>After Nov 1954, the prison sentence of that co...</td>\n",
              "      <td>Before February 1907, the prison sentence of t...</td>\n",
              "      <td>0</td>\n",
              "      <td>DATE_MY_both</td>\n",
              "      <td>False</td>\n",
              "      <td>Backward</td>\n",
              "    </tr>\n",
              "    <tr>\n",
              "      <th>5998</th>\n",
              "      <td>After Apr 1979, this article was published.</td>\n",
              "      <td>Before July 1901, this article was published.</td>\n",
              "      <td>0</td>\n",
              "      <td>DATE_MY_both</td>\n",
              "      <td>False</td>\n",
              "      <td>Backward</td>\n",
              "    </tr>\n",
              "    <tr>\n",
              "      <th>5999</th>\n",
              "      <td>Before Jan 1957, I posted this picture on Inst...</td>\n",
              "      <td>After February 1951, I posted this picture on ...</td>\n",
              "      <td>1</td>\n",
              "      <td>DATE_MY_both</td>\n",
              "      <td>False</td>\n",
              "      <td>Backward</td>\n",
              "    </tr>\n",
              "  </tbody>\n",
              "</table>\n",
              "<p>6000 rows × 6 columns</p>\n",
              "</div>"
            ],
            "text/plain": [
              "                                                premise  ... Temp Type\n",
              "0                            They got married at 12 PM.  ...   Forward\n",
              "1                       We went to Disneyland at 12 AM.  ...   Forward\n",
              "2                   Michael will buy the house at 7 PM.  ...   Forward\n",
              "3                        Lily flew to New York at 8 PM.  ...   Forward\n",
              "4                    The music concert starts at 10 PM.  ...   Forward\n",
              "...                                                 ...  ...       ...\n",
              "5995  Before Jan 1933, the failing company issued ma...  ...  Backward\n",
              "5996   After Oct 1902, the government budget comes out.  ...  Backward\n",
              "5997  After Nov 1954, the prison sentence of that co...  ...  Backward\n",
              "5998        After Apr 1979, this article was published.  ...  Backward\n",
              "5999  Before Jan 1957, I posted this picture on Inst...  ...  Backward\n",
              "\n",
              "[6000 rows x 6 columns]"
            ]
          },
          "metadata": {
            "tags": []
          },
          "execution_count": 5
        }
      ]
    },
    {
      "cell_type": "code",
      "metadata": {
        "id": "p0Tdkwc_dTNb"
      },
      "source": [
        "challengeTrainDataset = CustomDataset(challengeSetTrain)\n",
        "challengeEvalDataset = CustomDataset(challengeSetTest)"
      ],
      "execution_count": null,
      "outputs": []
    },
    {
      "cell_type": "code",
      "metadata": {
        "colab": {
          "base_uri": "https://localhost:8080/",
          "height": 365,
          "referenced_widgets": [
            "47a2b99ac01044aea5fa0135dd3e42cb",
            "60584adb8b624d62991a9c69e3318e72",
            "38795437fa0640caab3dcfe25f7a19a3",
            "c64167ef97b2437cb50174f6191463d6",
            "e134da93b1d24082b6d5bbfb587d9512",
            "6b48f5a488394fa3b68b468ab18cb989",
            "b1c61e0e48d24e0c98cda4d00ced9ca3",
            "942a004ae27f481d997d8a226111c178",
            "73aef7e264304806acd6e8db8bb90dda",
            "c06483d33b794e31b16b5caf9cdbcd3b",
            "16a48d1c3d87466aad7742b4ff7a170d",
            "d91391737b8040ff8d169d21e5afeeaa",
            "27cb2fc91b29425d96e7aa2248fc4d05",
            "a1fbeefec4d944df8fa39e5397f0457b",
            "bc75f35734b140f7921b0cf2cc3d9b84",
            "0acba68efea441d2b8d45c8ae510d559",
            "45d23f970a7c4c13b8d7b486bed8c3f5",
            "11726130b1054d7c969de0788ad11e9a",
            "348b5e4b7ebc40f791860fabe8c4e805",
            "845f4ad859d9419fb8b33e0422bc013a",
            "6d80d324522440c5936f759b903e6aeb",
            "47329bfede044e8d8f88013e34e4a8d0",
            "d5298a2b4d8b45feb3daefaaa669bed8",
            "9bd9c4f0aedf49a7b23913e432e97d08",
            "03218774c7574d4cbc0c6920b74085a8",
            "fac12fde7aa8490aa718b798c2207bd8",
            "5bb89c180b414e8d97b6368d1f2feb4f",
            "aeb6b1bc1d0b46acb6e1dd0a836b59f5",
            "7ece758bd1fc4a2aa6de4e924eaec58f",
            "b3022f6e1e7944028bea0fce68f96b01",
            "0dc71d7959ef4572bab869d73e5a4d93",
            "d85a87bba91f4b1f8ed0f729539a13fa",
            "59765f5014c8452091c0e8f7cabe1e5f",
            "eba77eedc3d4465c816acb91db5e02e0",
            "50acc3c66aee4e66a88cbc297231b3d8",
            "ae6adbca3a8d4711856d926d7a1606a3",
            "976b881294644eb5bd8ad01ded51a3ff",
            "edb3e152fe32430486c43370babcd09f",
            "9e018e99e5704736a53a769f2ae3565b",
            "0e9efa97403f4fdc8da70430155d29fa"
          ]
        },
        "id": "-mLNjww8dTNb",
        "outputId": "a1d1d65b-7207-4ce6-be2f-2d416da3efe2"
      },
      "source": [
        "MODEL_NAME = 'roberta-large'\n",
        "modelTokenizer = AutoTokenizer.from_pretrained(MODEL_NAME)\n",
        "model = AutoModelForSequenceClassification.from_pretrained(MODEL_NAME, num_labels=3)\n",
        "\n",
        "# for param in model.base_model.parameters():\n",
        "#   param.requires_grad = False"
      ],
      "execution_count": null,
      "outputs": [
        {
          "output_type": "display_data",
          "data": {
            "application/vnd.jupyter.widget-view+json": {
              "model_id": "47a2b99ac01044aea5fa0135dd3e42cb",
              "version_minor": 0,
              "version_major": 2
            },
            "text/plain": [
              "HBox(children=(FloatProgress(value=0.0, description='Downloading', max=482.0, style=ProgressStyle(description_…"
            ]
          },
          "metadata": {
            "tags": []
          }
        },
        {
          "output_type": "stream",
          "text": [
            "\n"
          ],
          "name": "stdout"
        },
        {
          "output_type": "display_data",
          "data": {
            "application/vnd.jupyter.widget-view+json": {
              "model_id": "73aef7e264304806acd6e8db8bb90dda",
              "version_minor": 0,
              "version_major": 2
            },
            "text/plain": [
              "HBox(children=(FloatProgress(value=0.0, description='Downloading', max=898823.0, style=ProgressStyle(descripti…"
            ]
          },
          "metadata": {
            "tags": []
          }
        },
        {
          "output_type": "stream",
          "text": [
            "\n"
          ],
          "name": "stdout"
        },
        {
          "output_type": "display_data",
          "data": {
            "application/vnd.jupyter.widget-view+json": {
              "model_id": "45d23f970a7c4c13b8d7b486bed8c3f5",
              "version_minor": 0,
              "version_major": 2
            },
            "text/plain": [
              "HBox(children=(FloatProgress(value=0.0, description='Downloading', max=456318.0, style=ProgressStyle(descripti…"
            ]
          },
          "metadata": {
            "tags": []
          }
        },
        {
          "output_type": "stream",
          "text": [
            "\n"
          ],
          "name": "stdout"
        },
        {
          "output_type": "display_data",
          "data": {
            "application/vnd.jupyter.widget-view+json": {
              "model_id": "03218774c7574d4cbc0c6920b74085a8",
              "version_minor": 0,
              "version_major": 2
            },
            "text/plain": [
              "HBox(children=(FloatProgress(value=0.0, description='Downloading', max=1355863.0, style=ProgressStyle(descript…"
            ]
          },
          "metadata": {
            "tags": []
          }
        },
        {
          "output_type": "stream",
          "text": [
            "\n"
          ],
          "name": "stdout"
        },
        {
          "output_type": "display_data",
          "data": {
            "application/vnd.jupyter.widget-view+json": {
              "model_id": "59765f5014c8452091c0e8f7cabe1e5f",
              "version_minor": 0,
              "version_major": 2
            },
            "text/plain": [
              "HBox(children=(FloatProgress(value=0.0, description='Downloading', max=1425941629.0, style=ProgressStyle(descr…"
            ]
          },
          "metadata": {
            "tags": []
          }
        },
        {
          "output_type": "stream",
          "text": [
            "\n"
          ],
          "name": "stdout"
        },
        {
          "output_type": "stream",
          "text": [
            "Some weights of the model checkpoint at roberta-large were not used when initializing RobertaForSequenceClassification: ['lm_head.layer_norm.bias', 'roberta.pooler.dense.weight', 'lm_head.bias', 'lm_head.layer_norm.weight', 'lm_head.dense.weight', 'lm_head.dense.bias', 'roberta.pooler.dense.bias', 'lm_head.decoder.weight']\n",
            "- This IS expected if you are initializing RobertaForSequenceClassification from the checkpoint of a model trained on another task or with another architecture (e.g. initializing a BertForSequenceClassification model from a BertForPreTraining model).\n",
            "- This IS NOT expected if you are initializing RobertaForSequenceClassification from the checkpoint of a model that you expect to be exactly identical (initializing a BertForSequenceClassification model from a BertForSequenceClassification model).\n",
            "Some weights of RobertaForSequenceClassification were not initialized from the model checkpoint at roberta-large and are newly initialized: ['classifier.out_proj.weight', 'classifier.out_proj.bias', 'classifier.dense.weight', 'classifier.dense.bias']\n",
            "You should probably TRAIN this model on a down-stream task to be able to use it for predictions and inference.\n"
          ],
          "name": "stderr"
        }
      ]
    },
    {
      "cell_type": "code",
      "metadata": {
        "id": "Ag8hVuqmdTNc"
      },
      "source": [
        "# Training Roberta Large model on Challenge Set 1\n",
        "\n",
        "trainArgs = TrainingArguments(\n",
        "    output_dir = './outputs',\n",
        "    num_train_epochs = 5,\n",
        "    evaluation_strategy = 'epoch',\n",
        "    per_device_train_batch_size = 16,\n",
        "    per_device_eval_batch_size = 128,\n",
        "    learning_rate = 2e-5,\n",
        "    weight_decay = 0.1,\n",
        "    load_best_model_at_end = True,\n",
        "    metric_for_best_model = 'eval_accuracy'\n",
        ")\n",
        "\n",
        "trainer = Trainer(\n",
        "    model = model,\n",
        "    args = trainArgs,\n",
        "    train_dataset = challengeTrainDataset,\n",
        "    eval_dataset = challengeEvalDataset,\n",
        "    data_collator = CustomCollatFunc,\n",
        "    compute_metrics = compute_metrics,\n",
        "    callbacks = [EarlyStoppingCallback(early_stopping_patience=2)]\n",
        ")"
      ],
      "execution_count": null,
      "outputs": []
    },
    {
      "cell_type": "code",
      "metadata": {
        "colab": {
          "base_uri": "https://localhost:8080/",
          "height": 296
        },
        "id": "ZgOty85_dTNc",
        "outputId": "31fe06a4-ab69-4def-d5ac-4d660c1aed67"
      },
      "source": [
        "trainer.train()"
      ],
      "execution_count": null,
      "outputs": [
        {
          "output_type": "display_data",
          "data": {
            "text/html": [
              "\n",
              "    <div>\n",
              "      \n",
              "      <progress value='1500' max='1875' style='width:300px; height:20px; vertical-align: middle;'></progress>\n",
              "      [1500/1875 41:53 < 10:29, 0.60 it/s, Epoch 4/5]\n",
              "    </div>\n",
              "    <table border=\"1\" class=\"dataframe\">\n",
              "  <thead>\n",
              "    <tr style=\"text-align: left;\">\n",
              "      <th>Epoch</th>\n",
              "      <th>Training Loss</th>\n",
              "      <th>Validation Loss</th>\n",
              "      <th>Accuracy</th>\n",
              "      <th>F1</th>\n",
              "      <th>Precision</th>\n",
              "      <th>Recall</th>\n",
              "    </tr>\n",
              "  </thead>\n",
              "  <tbody>\n",
              "    <tr>\n",
              "      <td>1</td>\n",
              "      <td>No log</td>\n",
              "      <td>0.732688</td>\n",
              "      <td>0.500000</td>\n",
              "      <td>0.360279</td>\n",
              "      <td>0.340688</td>\n",
              "      <td>0.451161</td>\n",
              "    </tr>\n",
              "    <tr>\n",
              "      <td>2</td>\n",
              "      <td>0.814300</td>\n",
              "      <td>0.732304</td>\n",
              "      <td>0.518750</td>\n",
              "      <td>0.390200</td>\n",
              "      <td>0.337894</td>\n",
              "      <td>0.490920</td>\n",
              "    </tr>\n",
              "    <tr>\n",
              "      <td>3</td>\n",
              "      <td>0.736300</td>\n",
              "      <td>0.698986</td>\n",
              "      <td>0.482500</td>\n",
              "      <td>0.419101</td>\n",
              "      <td>0.487695</td>\n",
              "      <td>0.506867</td>\n",
              "    </tr>\n",
              "    <tr>\n",
              "      <td>4</td>\n",
              "      <td>0.706600</td>\n",
              "      <td>0.694296</td>\n",
              "      <td>0.507500</td>\n",
              "      <td>0.493644</td>\n",
              "      <td>0.502461</td>\n",
              "      <td>0.503095</td>\n",
              "    </tr>\n",
              "  </tbody>\n",
              "</table><p>"
            ],
            "text/plain": [
              "<IPython.core.display.HTML object>"
            ]
          },
          "metadata": {
            "tags": []
          }
        },
        {
          "output_type": "stream",
          "text": [
            "/usr/local/lib/python3.7/dist-packages/sklearn/metrics/_classification.py:1272: UndefinedMetricWarning: Precision and F-score are ill-defined and being set to 0.0 in labels with no predicted samples. Use `zero_division` parameter to control this behavior.\n",
            "  _warn_prf(average, modifier, msg_start, len(result))\n",
            "/usr/local/lib/python3.7/dist-packages/sklearn/metrics/_classification.py:1272: UndefinedMetricWarning: Precision and F-score are ill-defined and being set to 0.0 in labels with no predicted samples. Use `zero_division` parameter to control this behavior.\n",
            "  _warn_prf(average, modifier, msg_start, len(result))\n"
          ],
          "name": "stderr"
        },
        {
          "output_type": "execute_result",
          "data": {
            "text/plain": [
              "TrainOutput(global_step=1500, training_loss=0.7523785400390625, metrics={'train_runtime': 2515.7976, 'train_samples_per_second': 0.745, 'total_flos': 0, 'epoch': 4.0, 'init_mem_cpu_alloc_delta': 1506078720, 'init_mem_gpu_alloc_delta': 1421456384, 'init_mem_cpu_peaked_delta': 0, 'init_mem_gpu_peaked_delta': 0, 'train_mem_cpu_alloc_delta': -1458257920, 'train_mem_gpu_alloc_delta': 4277185024, 'train_mem_cpu_peaked_delta': 1471950848, 'train_mem_gpu_peaked_delta': 948118528})"
            ]
          },
          "metadata": {
            "tags": []
          },
          "execution_count": 9
        }
      ]
    },
    {
      "cell_type": "code",
      "metadata": {
        "colab": {
          "base_uri": "https://localhost:8080/",
          "height": 90
        },
        "id": "1NH72tlGdTNd",
        "outputId": "60900be3-c7bb-45bd-8104-0f9c79b36ef0"
      },
      "source": [
        "predictions = trainer.predict(challengeEvalDataset)"
      ],
      "execution_count": null,
      "outputs": [
        {
          "output_type": "display_data",
          "data": {
            "text/html": [
              "\n",
              "    <div>\n",
              "      \n",
              "      <progress value='19' max='19' style='width:300px; height:20px; vertical-align: middle;'></progress>\n",
              "      [19/19 00:27]\n",
              "    </div>\n",
              "    "
            ],
            "text/plain": [
              "<IPython.core.display.HTML object>"
            ]
          },
          "metadata": {
            "tags": []
          }
        },
        {
          "output_type": "stream",
          "text": [
            "/usr/local/lib/python3.7/dist-packages/sklearn/metrics/_classification.py:1272: UndefinedMetricWarning: Precision and F-score are ill-defined and being set to 0.0 in labels with no predicted samples. Use `zero_division` parameter to control this behavior.\n",
            "  _warn_prf(average, modifier, msg_start, len(result))\n"
          ],
          "name": "stderr"
        }
      ]
    },
    {
      "cell_type": "code",
      "metadata": {
        "colab": {
          "base_uri": "https://localhost:8080/"
        },
        "id": "lhT3izZLdTNd",
        "outputId": "cb1e74bd-f449-46bc-8864-5a9c57db80d8"
      },
      "source": [
        "predInds = predictions.predictions.argmax(-1)\n",
        "trueInds = challengeSetTest['label'].values\n",
        "print(classification_report(trueInds, predInds))"
      ],
      "execution_count": null,
      "outputs": [
        {
          "output_type": "stream",
          "text": [
            "/usr/local/lib/python3.7/dist-packages/sklearn/metrics/_classification.py:1272: UndefinedMetricWarning: Precision and F-score are ill-defined and being set to 0.0 in labels with no predicted samples. Use `zero_division` parameter to control this behavior.\n",
            "  _warn_prf(average, modifier, msg_start, len(result))\n"
          ],
          "name": "stderr"
        },
        {
          "output_type": "stream",
          "text": [
            "              precision    recall  f1-score   support\n",
            "\n",
            "           0       0.53      1.00      0.69       976\n",
            "           1       0.48      0.47      0.48       569\n",
            "           2       0.00      0.00      0.00       855\n",
            "\n",
            "    accuracy                           0.52      2400\n",
            "   macro avg       0.34      0.49      0.39      2400\n",
            "weighted avg       0.33      0.52      0.39      2400\n",
            "\n"
          ],
          "name": "stdout"
        }
      ]
    },
    {
      "cell_type": "markdown",
      "metadata": {
        "id": "xDQp1keidTNd"
      },
      "source": [
        "##### b) MultiNLI Model"
      ]
    },
    {
      "cell_type": "code",
      "metadata": {
        "colab": {
          "base_uri": "https://localhost:8080/",
          "height": 402
        },
        "id": "pRN1B7CadTNe",
        "outputId": "27ca8408-7edb-4b82-f891-faaca4a18706"
      },
      "source": [
        "challengeSetTrain = pd.read_csv('/content/drive/MyDrive/Projects/Temporal Awareness/challengeSet1DF_train.csv', index_col=0)\n",
        "challengeSetTrain['Label'].replace(to_replace='Entailment', value=2, inplace=True)\n",
        "challengeSetTrain['Label'].replace(to_replace='Neutral', value=1, inplace=True)\n",
        "challengeSetTrain['Label'].replace(to_replace='Contradiction', value=0, inplace=True)\n",
        "challengeSetTrain.rename(columns={'Premise':'premise', 'Hypothesis':'hypothesis', 'Label':'label'}, inplace=True)\n",
        "\n",
        "challengeSetTest = pd.read_csv('/content/drive/MyDrive/Projects/Temporal Awareness/challengeSet1DF_test.csv', index_col=0)\n",
        "challengeSetTest['Label'].replace(to_replace='Entailment', value=2, inplace=True)\n",
        "challengeSetTest['Label'].replace(to_replace='Neutral', value=1, inplace=True)\n",
        "challengeSetTest['Label'].replace(to_replace='Contradiction', value=0, inplace=True)\n",
        "challengeSetTest.rename(columns={'Premise':'premise', 'Hypothesis':'hypothesis', 'Label':'label'}, inplace=True)\n",
        "\n",
        "challengeSetTrain"
      ],
      "execution_count": null,
      "outputs": [
        {
          "output_type": "execute_result",
          "data": {
            "text/html": [
              "<div>\n",
              "<style scoped>\n",
              "    .dataframe tbody tr th:only-of-type {\n",
              "        vertical-align: middle;\n",
              "    }\n",
              "\n",
              "    .dataframe tbody tr th {\n",
              "        vertical-align: top;\n",
              "    }\n",
              "\n",
              "    .dataframe thead th {\n",
              "        text-align: right;\n",
              "    }\n",
              "</style>\n",
              "<table border=\"1\" class=\"dataframe\">\n",
              "  <thead>\n",
              "    <tr style=\"text-align: right;\">\n",
              "      <th></th>\n",
              "      <th>premise</th>\n",
              "      <th>hypothesis</th>\n",
              "      <th>label</th>\n",
              "      <th>Type</th>\n",
              "      <th>Prem Fixed</th>\n",
              "      <th>Temp Type</th>\n",
              "    </tr>\n",
              "  </thead>\n",
              "  <tbody>\n",
              "    <tr>\n",
              "      <th>0</th>\n",
              "      <td>They got married at 12 PM.</td>\n",
              "      <td>They got married after 7 PM.</td>\n",
              "      <td>0</td>\n",
              "      <td>SINGLE_day_time_12</td>\n",
              "      <td>True</td>\n",
              "      <td>Forward</td>\n",
              "    </tr>\n",
              "    <tr>\n",
              "      <th>1</th>\n",
              "      <td>We went to Disneyland at 12 AM.</td>\n",
              "      <td>We went to Disneyland before 2 AM.</td>\n",
              "      <td>2</td>\n",
              "      <td>SINGLE_day_time_12</td>\n",
              "      <td>True</td>\n",
              "      <td>Forward</td>\n",
              "    </tr>\n",
              "    <tr>\n",
              "      <th>2</th>\n",
              "      <td>Michael will buy the house at 7 PM.</td>\n",
              "      <td>Michael will buy the house after 11 PM.</td>\n",
              "      <td>0</td>\n",
              "      <td>SINGLE_day_time_12</td>\n",
              "      <td>True</td>\n",
              "      <td>Forward</td>\n",
              "    </tr>\n",
              "    <tr>\n",
              "      <th>3</th>\n",
              "      <td>Lily flew to New York at 8 PM.</td>\n",
              "      <td>Lily flew to New York before 4 PM.</td>\n",
              "      <td>0</td>\n",
              "      <td>SINGLE_day_time_12</td>\n",
              "      <td>True</td>\n",
              "      <td>Forward</td>\n",
              "    </tr>\n",
              "    <tr>\n",
              "      <th>4</th>\n",
              "      <td>The music concert starts at 10 PM.</td>\n",
              "      <td>The music concert starts before 11 AM.</td>\n",
              "      <td>0</td>\n",
              "      <td>SINGLE_day_time_12</td>\n",
              "      <td>True</td>\n",
              "      <td>Forward</td>\n",
              "    </tr>\n",
              "    <tr>\n",
              "      <th>...</th>\n",
              "      <td>...</td>\n",
              "      <td>...</td>\n",
              "      <td>...</td>\n",
              "      <td>...</td>\n",
              "      <td>...</td>\n",
              "      <td>...</td>\n",
              "    </tr>\n",
              "    <tr>\n",
              "      <th>5995</th>\n",
              "      <td>Before Jan 1933, the failing company issued ma...</td>\n",
              "      <td>Before May 1983, the failing company issued ma...</td>\n",
              "      <td>2</td>\n",
              "      <td>DATE_MY_both</td>\n",
              "      <td>False</td>\n",
              "      <td>Backward</td>\n",
              "    </tr>\n",
              "    <tr>\n",
              "      <th>5996</th>\n",
              "      <td>After Oct 1902, the government budget comes out.</td>\n",
              "      <td>After December 1989, the government budget com...</td>\n",
              "      <td>1</td>\n",
              "      <td>DATE_MY_both</td>\n",
              "      <td>False</td>\n",
              "      <td>Backward</td>\n",
              "    </tr>\n",
              "    <tr>\n",
              "      <th>5997</th>\n",
              "      <td>After Nov 1954, the prison sentence of that co...</td>\n",
              "      <td>Before February 1907, the prison sentence of t...</td>\n",
              "      <td>0</td>\n",
              "      <td>DATE_MY_both</td>\n",
              "      <td>False</td>\n",
              "      <td>Backward</td>\n",
              "    </tr>\n",
              "    <tr>\n",
              "      <th>5998</th>\n",
              "      <td>After Apr 1979, this article was published.</td>\n",
              "      <td>Before July 1901, this article was published.</td>\n",
              "      <td>0</td>\n",
              "      <td>DATE_MY_both</td>\n",
              "      <td>False</td>\n",
              "      <td>Backward</td>\n",
              "    </tr>\n",
              "    <tr>\n",
              "      <th>5999</th>\n",
              "      <td>Before Jan 1957, I posted this picture on Inst...</td>\n",
              "      <td>After February 1951, I posted this picture on ...</td>\n",
              "      <td>1</td>\n",
              "      <td>DATE_MY_both</td>\n",
              "      <td>False</td>\n",
              "      <td>Backward</td>\n",
              "    </tr>\n",
              "  </tbody>\n",
              "</table>\n",
              "<p>6000 rows × 6 columns</p>\n",
              "</div>"
            ],
            "text/plain": [
              "                                                premise  ... Temp Type\n",
              "0                            They got married at 12 PM.  ...   Forward\n",
              "1                       We went to Disneyland at 12 AM.  ...   Forward\n",
              "2                   Michael will buy the house at 7 PM.  ...   Forward\n",
              "3                        Lily flew to New York at 8 PM.  ...   Forward\n",
              "4                    The music concert starts at 10 PM.  ...   Forward\n",
              "...                                                 ...  ...       ...\n",
              "5995  Before Jan 1933, the failing company issued ma...  ...  Backward\n",
              "5996   After Oct 1902, the government budget comes out.  ...  Backward\n",
              "5997  After Nov 1954, the prison sentence of that co...  ...  Backward\n",
              "5998        After Apr 1979, this article was published.  ...  Backward\n",
              "5999  Before Jan 1957, I posted this picture on Inst...  ...  Backward\n",
              "\n",
              "[6000 rows x 6 columns]"
            ]
          },
          "metadata": {
            "tags": []
          },
          "execution_count": 5
        }
      ]
    },
    {
      "cell_type": "code",
      "metadata": {
        "colab": {
          "base_uri": "https://localhost:8080/"
        },
        "id": "SWPUWxOQ_quq",
        "outputId": "63a4c6d6-adae-4919-bf26-a5dda7f79188"
      },
      "source": [
        "challengeSetTest['label'].value_counts() / sum(challengeSetTest['label'].value_counts())"
      ],
      "execution_count": null,
      "outputs": [
        {
          "output_type": "execute_result",
          "data": {
            "text/plain": [
              "0    0.406667\n",
              "2    0.356250\n",
              "1    0.237083\n",
              "Name: label, dtype: float64"
            ]
          },
          "metadata": {
            "tags": []
          },
          "execution_count": 8
        }
      ]
    },
    {
      "cell_type": "code",
      "metadata": {
        "id": "Cj0kRswLdTNf"
      },
      "source": [
        "challengeTrainDataset = CustomDataset(challengeSetTrain)\n",
        "challengeEvalDataset = CustomDataset(challengeSetTest)"
      ],
      "execution_count": null,
      "outputs": []
    },
    {
      "cell_type": "code",
      "metadata": {
        "colab": {
          "base_uri": "https://localhost:8080/",
          "height": 331,
          "referenced_widgets": [
            "27a58b39c314493293caada3c4d2e6fc",
            "22ee606e0fb9482cb42c9680b3f1f082",
            "08563b3117ef432aafe2b49278914242",
            "d9bb180519bc45c49dcba6afdcdf5497",
            "d3061ba51a01404980ca2cd1ce61f1fd",
            "37f90be128574395848fce1ca0a1880c",
            "742bed0cb898429d8f699f1334e4d208",
            "a9032d78e8334885b70dc829f5a861e3",
            "849b7418c7c6456ab0b0d8091b0e2a58",
            "fb0d57392ac741ffaef35dfdcfe0baf8",
            "b44876cbd3664d7ab321e7cfc6ca6c09",
            "e358a305a2a74fd0be86422c6aa8e133",
            "d63cb9b256d74a1aae940a770897342f",
            "ee1521258bff47078a5710234b079ddf",
            "7bb5b698dd054617a0c4c141d534eb31",
            "f113581d125f44eebdac377d24ffa334",
            "b5925a9a952641c7963a9472f83c78df",
            "5b402bacebab492ebb43a91fe18b6686",
            "763d11a833a44b6aad8365a182b3fb9b",
            "ef219340cef549e4b5aa741d6ee91ece",
            "5cab76ae02754b50921b4ce73e67871d",
            "eba07b3c96db4e28b41780d980d054ca",
            "d71f99aacd064d4fab9e358f6187d494",
            "2d90738e956e4ac3aaff9b87c984ea09",
            "15d9dfe1261841eaa5951f5211cb13da",
            "0d923dd982724f45a6b87dc5d1d63cd1",
            "616ae318517d451e8e498328cf12bef2",
            "2123a5777be34e0a930375e21c82fbaa",
            "6afab78ad7c347e09545e4f5316b0e76",
            "74d97832df424eb29e451d3e674be82f",
            "63aa3bc51b664e2c8aee89f542acd55a",
            "8019778bbd1643d9969cbce6348d4a54",
            "e2ca008562eb476584034254f592669b",
            "6e8ea866528c43328bd9a9b3f662565e",
            "6ca6a5a6b8e644adbf0f2037351a53ea",
            "0545bc0959eb4128aee487daf9361fcd",
            "9d9df07a9afb415c944678f177c20a85",
            "97d262f0c13d4d04aa85183d315981f0",
            "952e58e443b64e72958282fdd25f9e8a",
            "6d98e6e0c838447a98c1d65341645bd9"
          ]
        },
        "id": "wItDlvmydTNf",
        "outputId": "bc883995-4aea-43dd-d2ae-eb8e8fd7850d"
      },
      "source": [
        "MODEL_NAME = 'roberta-large-mnli'\n",
        "modelTokenizer = AutoTokenizer.from_pretrained(MODEL_NAME)\n",
        "model = AutoModelForSequenceClassification.from_pretrained(MODEL_NAME)\n",
        "\n",
        "# for param in model.base_model.parameters():\n",
        "#   param.requires_grad = False"
      ],
      "execution_count": null,
      "outputs": [
        {
          "output_type": "display_data",
          "data": {
            "application/vnd.jupyter.widget-view+json": {
              "model_id": "27a58b39c314493293caada3c4d2e6fc",
              "version_minor": 0,
              "version_major": 2
            },
            "text/plain": [
              "HBox(children=(FloatProgress(value=0.0, description='Downloading', max=688.0, style=ProgressStyle(description_…"
            ]
          },
          "metadata": {
            "tags": []
          }
        },
        {
          "output_type": "stream",
          "text": [
            "\n"
          ],
          "name": "stdout"
        },
        {
          "output_type": "display_data",
          "data": {
            "application/vnd.jupyter.widget-view+json": {
              "model_id": "849b7418c7c6456ab0b0d8091b0e2a58",
              "version_minor": 0,
              "version_major": 2
            },
            "text/plain": [
              "HBox(children=(FloatProgress(value=0.0, description='Downloading', max=898823.0, style=ProgressStyle(descripti…"
            ]
          },
          "metadata": {
            "tags": []
          }
        },
        {
          "output_type": "stream",
          "text": [
            "\n"
          ],
          "name": "stdout"
        },
        {
          "output_type": "display_data",
          "data": {
            "application/vnd.jupyter.widget-view+json": {
              "model_id": "b5925a9a952641c7963a9472f83c78df",
              "version_minor": 0,
              "version_major": 2
            },
            "text/plain": [
              "HBox(children=(FloatProgress(value=0.0, description='Downloading', max=456318.0, style=ProgressStyle(descripti…"
            ]
          },
          "metadata": {
            "tags": []
          }
        },
        {
          "output_type": "stream",
          "text": [
            "\n"
          ],
          "name": "stdout"
        },
        {
          "output_type": "display_data",
          "data": {
            "application/vnd.jupyter.widget-view+json": {
              "model_id": "15d9dfe1261841eaa5951f5211cb13da",
              "version_minor": 0,
              "version_major": 2
            },
            "text/plain": [
              "HBox(children=(FloatProgress(value=0.0, description='Downloading', max=1355863.0, style=ProgressStyle(descript…"
            ]
          },
          "metadata": {
            "tags": []
          }
        },
        {
          "output_type": "stream",
          "text": [
            "\n"
          ],
          "name": "stdout"
        },
        {
          "output_type": "display_data",
          "data": {
            "application/vnd.jupyter.widget-view+json": {
              "model_id": "e2ca008562eb476584034254f592669b",
              "version_minor": 0,
              "version_major": 2
            },
            "text/plain": [
              "HBox(children=(FloatProgress(value=0.0, description='Downloading', max=1425744429.0, style=ProgressStyle(descr…"
            ]
          },
          "metadata": {
            "tags": []
          }
        },
        {
          "output_type": "stream",
          "text": [
            "\n"
          ],
          "name": "stdout"
        },
        {
          "output_type": "stream",
          "text": [
            "Some weights of the model checkpoint at roberta-large-mnli were not used when initializing RobertaForSequenceClassification: ['roberta.pooler.dense.bias', 'roberta.pooler.dense.weight']\n",
            "- This IS expected if you are initializing RobertaForSequenceClassification from the checkpoint of a model trained on another task or with another architecture (e.g. initializing a BertForSequenceClassification model from a BertForPreTraining model).\n",
            "- This IS NOT expected if you are initializing RobertaForSequenceClassification from the checkpoint of a model that you expect to be exactly identical (initializing a BertForSequenceClassification model from a BertForSequenceClassification model).\n"
          ],
          "name": "stderr"
        }
      ]
    },
    {
      "cell_type": "code",
      "metadata": {
        "id": "hmVEAcCZdTNf"
      },
      "source": [
        "trainArgs = TrainingArguments(\n",
        "    output_dir = './outputs',\n",
        "    per_device_eval_batch_size = 128,\n",
        ")\n",
        "\n",
        "trainer = Trainer(\n",
        "    model = model,\n",
        "    args = trainArgs,\n",
        "    data_collator = CustomCollatFunc,\n",
        "    compute_metrics = compute_metrics\n",
        ")"
      ],
      "execution_count": null,
      "outputs": []
    },
    {
      "cell_type": "code",
      "metadata": {
        "colab": {
          "base_uri": "https://localhost:8080/",
          "height": 37
        },
        "id": "FECjBz73dTNg",
        "outputId": "280837c7-d893-487a-f144-16795edea31c"
      },
      "source": [
        "# Testing on Challenge Set 1\n",
        "predictions = trainer.predict(challengeEvalDataset)"
      ],
      "execution_count": null,
      "outputs": [
        {
          "output_type": "display_data",
          "data": {
            "text/html": [
              "\n",
              "    <div>\n",
              "      \n",
              "      <progress value='19' max='19' style='width:300px; height:20px; vertical-align: middle;'></progress>\n",
              "      [19/19 00:12]\n",
              "    </div>\n",
              "    "
            ],
            "text/plain": [
              "<IPython.core.display.HTML object>"
            ]
          },
          "metadata": {
            "tags": []
          }
        }
      ]
    },
    {
      "cell_type": "code",
      "metadata": {
        "colab": {
          "base_uri": "https://localhost:8080/"
        },
        "id": "AjgCW2pgdTNg",
        "outputId": "2c3cda91-2f07-4c43-9bd4-7f4c7a621a6c"
      },
      "source": [
        "predInds = predictions.predictions.argmax(-1)\n",
        "trueInds = challengeSetTest['label'].values\n",
        "print(classification_report(trueInds, predInds))"
      ],
      "execution_count": null,
      "outputs": [
        {
          "output_type": "stream",
          "text": [
            "              precision    recall  f1-score   support\n",
            "\n",
            "           0       0.49      0.83      0.61       976\n",
            "           1       0.29      0.00      0.01       569\n",
            "           2       0.65      0.56      0.60       855\n",
            "\n",
            "    accuracy                           0.54      2400\n",
            "   macro avg       0.48      0.46      0.41      2400\n",
            "weighted avg       0.50      0.54      0.47      2400\n",
            "\n"
          ],
          "name": "stdout"
        }
      ]
    },
    {
      "cell_type": "code",
      "metadata": {
        "id": "uV9WIu4IdTNg"
      },
      "source": [
        "# Training MNLI model on Challenge Set 1\n",
        "trainArgs = TrainingArguments(\n",
        "    output_dir = './outputs',\n",
        "    num_train_epochs = 5,\n",
        "    evaluation_strategy = 'epoch',\n",
        "    per_device_train_batch_size = 16,\n",
        "    per_device_eval_batch_size = 128,\n",
        "    learning_rate = 2e-5,\n",
        "    weight_decay = 0.1,\n",
        "    load_best_model_at_end = True,\n",
        "    metric_for_best_model = 'eval_accuracy'\n",
        ")\n",
        "\n",
        "trainer = Trainer(\n",
        "    model = model,\n",
        "    args = trainArgs,\n",
        "    train_dataset = challengeTrainDataset,\n",
        "    eval_dataset = challengeEvalDataset,\n",
        "    data_collator = CustomCollatFunc,\n",
        "    compute_metrics = compute_metrics,\n",
        "    callbacks = [EarlyStoppingCallback(early_stopping_patience=2)]\n",
        ")"
      ],
      "execution_count": null,
      "outputs": []
    },
    {
      "cell_type": "code",
      "metadata": {
        "colab": {
          "base_uri": "https://localhost:8080/",
          "height": 258
        },
        "id": "cvYvmxQ3dTNg",
        "outputId": "f0e4eb34-507b-47cd-c93f-ba8a05f0a75c"
      },
      "source": [
        "trainer.train()"
      ],
      "execution_count": null,
      "outputs": [
        {
          "output_type": "display_data",
          "data": {
            "text/html": [
              "\n",
              "    <div>\n",
              "      \n",
              "      <progress value='1875' max='1875' style='width:300px; height:20px; vertical-align: middle;'></progress>\n",
              "      [1875/1875 37:04, Epoch 5/5]\n",
              "    </div>\n",
              "    <table border=\"1\" class=\"dataframe\">\n",
              "  <thead>\n",
              "    <tr style=\"text-align: left;\">\n",
              "      <th>Epoch</th>\n",
              "      <th>Training Loss</th>\n",
              "      <th>Validation Loss</th>\n",
              "      <th>Accuracy</th>\n",
              "      <th>F1</th>\n",
              "      <th>Precision</th>\n",
              "      <th>Recall</th>\n",
              "    </tr>\n",
              "  </thead>\n",
              "  <tbody>\n",
              "    <tr>\n",
              "      <td>1</td>\n",
              "      <td>No log</td>\n",
              "      <td>0.088207</td>\n",
              "      <td>0.984167</td>\n",
              "      <td>0.984330</td>\n",
              "      <td>0.983298</td>\n",
              "      <td>0.985416</td>\n",
              "    </tr>\n",
              "    <tr>\n",
              "      <td>2</td>\n",
              "      <td>0.164700</td>\n",
              "      <td>0.054067</td>\n",
              "      <td>0.990417</td>\n",
              "      <td>0.989621</td>\n",
              "      <td>0.988449</td>\n",
              "      <td>0.990880</td>\n",
              "    </tr>\n",
              "    <tr>\n",
              "      <td>3</td>\n",
              "      <td>0.063000</td>\n",
              "      <td>0.056782</td>\n",
              "      <td>0.992083</td>\n",
              "      <td>0.991985</td>\n",
              "      <td>0.991083</td>\n",
              "      <td>0.992928</td>\n",
              "    </tr>\n",
              "    <tr>\n",
              "      <td>4</td>\n",
              "      <td>0.020200</td>\n",
              "      <td>0.018246</td>\n",
              "      <td>0.995833</td>\n",
              "      <td>0.995806</td>\n",
              "      <td>0.995617</td>\n",
              "      <td>0.995999</td>\n",
              "    </tr>\n",
              "    <tr>\n",
              "      <td>5</td>\n",
              "      <td>0.020200</td>\n",
              "      <td>0.036550</td>\n",
              "      <td>0.995417</td>\n",
              "      <td>0.995487</td>\n",
              "      <td>0.995041</td>\n",
              "      <td>0.995951</td>\n",
              "    </tr>\n",
              "  </tbody>\n",
              "</table><p>"
            ],
            "text/plain": [
              "<IPython.core.display.HTML object>"
            ]
          },
          "metadata": {
            "tags": []
          }
        },
        {
          "output_type": "execute_result",
          "data": {
            "text/plain": [
              "TrainOutput(global_step=1875, training_loss=0.06760756912231446, metrics={'train_runtime': 2225.3361, 'train_samples_per_second': 0.843, 'total_flos': 0, 'epoch': 5.0, 'init_mem_cpu_alloc_delta': 0, 'init_mem_gpu_alloc_delta': 0, 'init_mem_cpu_peaked_delta': 0, 'init_mem_gpu_peaked_delta': 0, 'train_mem_cpu_alloc_delta': -102334464, 'train_mem_gpu_alloc_delta': 4277446144, 'train_mem_cpu_peaked_delta': 106606592, 'train_mem_gpu_peaked_delta': 948119552})"
            ]
          },
          "metadata": {
            "tags": []
          },
          "execution_count": 12
        }
      ]
    },
    {
      "cell_type": "code",
      "metadata": {
        "colab": {
          "base_uri": "https://localhost:8080/",
          "height": 37
        },
        "id": "ptxi52I5dTNh",
        "outputId": "198decf6-4800-4a60-f4d3-8d1ba8866a9a"
      },
      "source": [
        "predictions = trainer.predict(challengeEvalDataset)"
      ],
      "execution_count": null,
      "outputs": [
        {
          "output_type": "display_data",
          "data": {
            "text/html": [
              "\n",
              "    <div>\n",
              "      \n",
              "      <progress value='19' max='19' style='width:300px; height:20px; vertical-align: middle;'></progress>\n",
              "      [19/19 00:15]\n",
              "    </div>\n",
              "    "
            ],
            "text/plain": [
              "<IPython.core.display.HTML object>"
            ]
          },
          "metadata": {
            "tags": []
          }
        }
      ]
    },
    {
      "cell_type": "code",
      "metadata": {
        "colab": {
          "base_uri": "https://localhost:8080/"
        },
        "id": "xXANofewdTNh",
        "outputId": "e9124f50-07c5-440c-929b-2b47d6ed1f5e"
      },
      "source": [
        "predInds = predictions.predictions.argmax(-1)\n",
        "trueInds = challengeSetTest['label'].values\n",
        "print(classification_report(trueInds, predInds))"
      ],
      "execution_count": null,
      "outputs": [
        {
          "output_type": "stream",
          "text": [
            "              precision    recall  f1-score   support\n",
            "\n",
            "           0       1.00      0.99      1.00       976\n",
            "           1       0.99      1.00      1.00       569\n",
            "           2       0.99      1.00      1.00       855\n",
            "\n",
            "    accuracy                           1.00      2400\n",
            "   macro avg       1.00      1.00      1.00      2400\n",
            "weighted avg       1.00      1.00      1.00      2400\n",
            "\n"
          ],
          "name": "stdout"
        }
      ]
    },
    {
      "cell_type": "markdown",
      "metadata": {
        "id": "6gJqr0lOdTNh"
      },
      "source": [
        "##### c) UDS Ordering Model"
      ]
    },
    {
      "cell_type": "code",
      "metadata": {
        "id": "gwbi11-_dTNh"
      },
      "source": [
        "udsDevDF = pd.read_json('/content/drive/MyDrive/Projects/Temporal Awareness/recast_temporal-relation_data_dev.json', \n",
        "                             orient='records')\n",
        "udsTestDF = pd.read_json('/content/drive/MyDrive/Projects/Temporal Awareness/recast_temporal-relation_data_test.json', \n",
        "                             orient='records')\n",
        "\n",
        "udsDevDF['label'].replace(to_replace='entailed', value=1, inplace=True)\n",
        "udsDevDF['label'].replace(to_replace='not-entailed', value=0, inplace=True)\n",
        "udsTestDF['label'].replace(to_replace='entailed', value=1, inplace=True)\n",
        "udsTestDF['label'].replace(to_replace='not-entailed', value=0, inplace=True)\n",
        "\n",
        "udsDevDF.rename(columns={'context':'premise'}, inplace=True)\n",
        "udsTestDF.rename(columns={'context':'premise'}, inplace=True)"
      ],
      "execution_count": null,
      "outputs": []
    },
    {
      "cell_type": "code",
      "metadata": {
        "colab": {
          "base_uri": "https://localhost:8080/",
          "height": 402
        },
        "id": "A3D6dD0RdTNh",
        "outputId": "5893bc83-e4f6-4f6d-c995-a47dcb5e68a0"
      },
      "source": [
        "challengeSetTrain = pd.read_csv('/content/drive/MyDrive/Projects/Temporal Awareness/challengeSet1DF_train.csv', index_col=0)\n",
        "challengeSetTrain['Label'].replace(to_replace='Entailment', value=1, inplace=True)\n",
        "challengeSetTrain['Label'].replace(to_replace='Neutral', value=0, inplace=True)\n",
        "challengeSetTrain['Label'].replace(to_replace='Contradiction', value=0, inplace=True)\n",
        "challengeSetTrain.rename(columns={'Premise':'premise', 'Hypothesis':'hypothesis', 'Label':'label'}, inplace=True)\n",
        "\n",
        "challengeSetTest = pd.read_csv('/content/drive/MyDrive/Projects/Temporal Awareness/challengeSet1DF_test.csv', index_col=0)\n",
        "challengeSetTest['Label'].replace(to_replace='Entailment', value=1, inplace=True)\n",
        "challengeSetTest['Label'].replace(to_replace='Neutral', value=0, inplace=True)\n",
        "challengeSetTest['Label'].replace(to_replace='Contradiction', value=0, inplace=True)\n",
        "challengeSetTest.rename(columns={'Premise':'premise', 'Hypothesis':'hypothesis', 'Label':'label'}, inplace=True)\n",
        "\n",
        "challengeSetTrain"
      ],
      "execution_count": null,
      "outputs": [
        {
          "output_type": "execute_result",
          "data": {
            "text/html": [
              "<div>\n",
              "<style scoped>\n",
              "    .dataframe tbody tr th:only-of-type {\n",
              "        vertical-align: middle;\n",
              "    }\n",
              "\n",
              "    .dataframe tbody tr th {\n",
              "        vertical-align: top;\n",
              "    }\n",
              "\n",
              "    .dataframe thead th {\n",
              "        text-align: right;\n",
              "    }\n",
              "</style>\n",
              "<table border=\"1\" class=\"dataframe\">\n",
              "  <thead>\n",
              "    <tr style=\"text-align: right;\">\n",
              "      <th></th>\n",
              "      <th>premise</th>\n",
              "      <th>hypothesis</th>\n",
              "      <th>label</th>\n",
              "      <th>Type</th>\n",
              "      <th>Prem Fixed</th>\n",
              "      <th>Temp Type</th>\n",
              "    </tr>\n",
              "  </thead>\n",
              "  <tbody>\n",
              "    <tr>\n",
              "      <th>0</th>\n",
              "      <td>They got married at 12 PM.</td>\n",
              "      <td>They got married after 7 PM.</td>\n",
              "      <td>0</td>\n",
              "      <td>SINGLE_day_time_12</td>\n",
              "      <td>True</td>\n",
              "      <td>Forward</td>\n",
              "    </tr>\n",
              "    <tr>\n",
              "      <th>1</th>\n",
              "      <td>We went to Disneyland at 12 AM.</td>\n",
              "      <td>We went to Disneyland before 2 AM.</td>\n",
              "      <td>1</td>\n",
              "      <td>SINGLE_day_time_12</td>\n",
              "      <td>True</td>\n",
              "      <td>Forward</td>\n",
              "    </tr>\n",
              "    <tr>\n",
              "      <th>2</th>\n",
              "      <td>Michael will buy the house at 7 PM.</td>\n",
              "      <td>Michael will buy the house after 11 PM.</td>\n",
              "      <td>0</td>\n",
              "      <td>SINGLE_day_time_12</td>\n",
              "      <td>True</td>\n",
              "      <td>Forward</td>\n",
              "    </tr>\n",
              "    <tr>\n",
              "      <th>3</th>\n",
              "      <td>Lily flew to New York at 8 PM.</td>\n",
              "      <td>Lily flew to New York before 4 PM.</td>\n",
              "      <td>0</td>\n",
              "      <td>SINGLE_day_time_12</td>\n",
              "      <td>True</td>\n",
              "      <td>Forward</td>\n",
              "    </tr>\n",
              "    <tr>\n",
              "      <th>4</th>\n",
              "      <td>The music concert starts at 10 PM.</td>\n",
              "      <td>The music concert starts before 11 AM.</td>\n",
              "      <td>0</td>\n",
              "      <td>SINGLE_day_time_12</td>\n",
              "      <td>True</td>\n",
              "      <td>Forward</td>\n",
              "    </tr>\n",
              "    <tr>\n",
              "      <th>...</th>\n",
              "      <td>...</td>\n",
              "      <td>...</td>\n",
              "      <td>...</td>\n",
              "      <td>...</td>\n",
              "      <td>...</td>\n",
              "      <td>...</td>\n",
              "    </tr>\n",
              "    <tr>\n",
              "      <th>5995</th>\n",
              "      <td>Before Jan 1933, the failing company issued ma...</td>\n",
              "      <td>Before May 1983, the failing company issued ma...</td>\n",
              "      <td>1</td>\n",
              "      <td>DATE_MY_both</td>\n",
              "      <td>False</td>\n",
              "      <td>Backward</td>\n",
              "    </tr>\n",
              "    <tr>\n",
              "      <th>5996</th>\n",
              "      <td>After Oct 1902, the government budget comes out.</td>\n",
              "      <td>After December 1989, the government budget com...</td>\n",
              "      <td>0</td>\n",
              "      <td>DATE_MY_both</td>\n",
              "      <td>False</td>\n",
              "      <td>Backward</td>\n",
              "    </tr>\n",
              "    <tr>\n",
              "      <th>5997</th>\n",
              "      <td>After Nov 1954, the prison sentence of that co...</td>\n",
              "      <td>Before February 1907, the prison sentence of t...</td>\n",
              "      <td>0</td>\n",
              "      <td>DATE_MY_both</td>\n",
              "      <td>False</td>\n",
              "      <td>Backward</td>\n",
              "    </tr>\n",
              "    <tr>\n",
              "      <th>5998</th>\n",
              "      <td>After Apr 1979, this article was published.</td>\n",
              "      <td>Before July 1901, this article was published.</td>\n",
              "      <td>0</td>\n",
              "      <td>DATE_MY_both</td>\n",
              "      <td>False</td>\n",
              "      <td>Backward</td>\n",
              "    </tr>\n",
              "    <tr>\n",
              "      <th>5999</th>\n",
              "      <td>Before Jan 1957, I posted this picture on Inst...</td>\n",
              "      <td>After February 1951, I posted this picture on ...</td>\n",
              "      <td>0</td>\n",
              "      <td>DATE_MY_both</td>\n",
              "      <td>False</td>\n",
              "      <td>Backward</td>\n",
              "    </tr>\n",
              "  </tbody>\n",
              "</table>\n",
              "<p>6000 rows × 6 columns</p>\n",
              "</div>"
            ],
            "text/plain": [
              "                                                premise  ... Temp Type\n",
              "0                            They got married at 12 PM.  ...   Forward\n",
              "1                       We went to Disneyland at 12 AM.  ...   Forward\n",
              "2                   Michael will buy the house at 7 PM.  ...   Forward\n",
              "3                        Lily flew to New York at 8 PM.  ...   Forward\n",
              "4                    The music concert starts at 10 PM.  ...   Forward\n",
              "...                                                 ...  ...       ...\n",
              "5995  Before Jan 1933, the failing company issued ma...  ...  Backward\n",
              "5996   After Oct 1902, the government budget comes out.  ...  Backward\n",
              "5997  After Nov 1954, the prison sentence of that co...  ...  Backward\n",
              "5998        After Apr 1979, this article was published.  ...  Backward\n",
              "5999  Before Jan 1957, I posted this picture on Inst...  ...  Backward\n",
              "\n",
              "[6000 rows x 6 columns]"
            ]
          },
          "metadata": {
            "tags": []
          },
          "execution_count": 9
        }
      ]
    },
    {
      "cell_type": "code",
      "metadata": {
        "id": "zyERzI6oF8ry",
        "colab": {
          "base_uri": "https://localhost:8080/"
        },
        "outputId": "cf241032-c5a5-4006-ece0-819666e98dd3"
      },
      "source": [
        "challengeSetTest['label'].value_counts() / sum(challengeSetTest['label'].value_counts())"
      ],
      "execution_count": null,
      "outputs": [
        {
          "output_type": "execute_result",
          "data": {
            "text/plain": [
              "0    0.64375\n",
              "1    0.35625\n",
              "Name: label, dtype: float64"
            ]
          },
          "metadata": {
            "tags": []
          },
          "execution_count": 10
        }
      ]
    },
    {
      "cell_type": "code",
      "metadata": {
        "id": "sBA3v_KtdTNh"
      },
      "source": [
        "evalDataset = CustomDataset(udsDevDF)\n",
        "testDataset = CustomDataset(udsTestDF)\n",
        "challengeTrainDataset = CustomDataset(challengeSetTrain)\n",
        "challengeEvalDataset = CustomDataset(challengeSetTest)"
      ],
      "execution_count": null,
      "outputs": []
    },
    {
      "cell_type": "code",
      "metadata": {
        "colab": {
          "base_uri": "https://localhost:8080/"
        },
        "id": "oA2v3FUpdTNi",
        "outputId": "7675e974-62ec-49e5-913a-cb22f88e1a9a"
      },
      "source": [
        "MODEL_NAME = '/content/drive/MyDrive/Projects/Temporal Awareness/Models/roberta-large_uds_rel_lr_2e-05_wt_0.1_ws_122_hypo_only_False/checkpoint-10000'\n",
        "modelTokenizer = AutoTokenizer.from_pretrained(MODEL_NAME)\n",
        "model = AutoModelForSequenceClassification.from_pretrained(MODEL_NAME)\n",
        "\n",
        "# for param in model.base_model.parameters():\n",
        "#   param.requires_grad = False"
      ],
      "execution_count": null,
      "outputs": [
        {
          "output_type": "stream",
          "text": [
            "Some weights of the model checkpoint at /content/drive/MyDrive/Projects/Temporal Awareness/Models/roberta-large_uds_rel_lr_2e-05_wt_0.1_ws_122_hypo_only_False/checkpoint-10000 were not used when initializing RobertaForSequenceClassification: ['roberta.pooler.dense.bias', 'roberta.pooler.dense.weight']\n",
            "- This IS expected if you are initializing RobertaForSequenceClassification from the checkpoint of a model trained on another task or with another architecture (e.g. initializing a BertForSequenceClassification model from a BertForPreTraining model).\n",
            "- This IS NOT expected if you are initializing RobertaForSequenceClassification from the checkpoint of a model that you expect to be exactly identical (initializing a BertForSequenceClassification model from a BertForSequenceClassification model).\n"
          ],
          "name": "stderr"
        }
      ]
    },
    {
      "cell_type": "code",
      "metadata": {
        "id": "Zl34ccEBdTNi"
      },
      "source": [
        "trainArgs = TrainingArguments(\n",
        "    output_dir = './outputs',\n",
        "    per_device_eval_batch_size = 128,\n",
        ")\n",
        "\n",
        "trainer = Trainer(\n",
        "    model = model,\n",
        "    args = trainArgs,\n",
        "    eval_dataset = evalDataset,\n",
        "    data_collator = CustomCollatFunc,\n",
        "    compute_metrics = compute_metrics\n",
        ")"
      ],
      "execution_count": null,
      "outputs": []
    },
    {
      "cell_type": "code",
      "metadata": {
        "colab": {
          "base_uri": "https://localhost:8080/",
          "height": 289
        },
        "id": "o4-oWXREdTNi",
        "outputId": "bf6ab388-54f8-44f0-80ae-83fab1b613aa"
      },
      "source": [
        "# Testing on UDS Ordering Dev Set\n",
        "trainer.evaluate()"
      ],
      "execution_count": null,
      "outputs": [
        {
          "output_type": "display_data",
          "data": {
            "text/html": [
              "\n",
              "    <div>\n",
              "      \n",
              "      <progress value='353' max='353' style='width:300px; height:20px; vertical-align: middle;'></progress>\n",
              "      [353/353 08:59]\n",
              "    </div>\n",
              "    "
            ],
            "text/plain": [
              "<IPython.core.display.HTML object>"
            ]
          },
          "metadata": {
            "tags": []
          }
        },
        {
          "output_type": "execute_result",
          "data": {
            "text/plain": [
              "{'eval_accuracy': 0.8012149698474637,\n",
              " 'eval_f1': 0.7981901108754541,\n",
              " 'eval_loss': 0.4337637424468994,\n",
              " 'eval_mem_cpu_alloc_delta': 10772480,\n",
              " 'eval_mem_cpu_peaked_delta': 0,\n",
              " 'eval_mem_gpu_alloc_delta': 0,\n",
              " 'eval_mem_gpu_peaked_delta': 403554816,\n",
              " 'eval_precision': 0.8004494087176844,\n",
              " 'eval_recall': 0.796885276189833,\n",
              " 'eval_runtime': 541.3538,\n",
              " 'eval_samples_per_second': 83.317,\n",
              " 'init_mem_cpu_alloc_delta': 1392164864,\n",
              " 'init_mem_cpu_peaked_delta': 0,\n",
              " 'init_mem_gpu_alloc_delta': 1421452288,\n",
              " 'init_mem_gpu_peaked_delta': 0}"
            ]
          },
          "metadata": {
            "tags": []
          },
          "execution_count": 11
        }
      ]
    },
    {
      "cell_type": "code",
      "metadata": {
        "colab": {
          "base_uri": "https://localhost:8080/",
          "height": 37
        },
        "id": "j_E3Y679dTNi",
        "outputId": "37d41714-7da0-43fd-b3fd-e892cd6738cd"
      },
      "source": [
        "# Testing on UDS Ordering Test Set\n",
        "predictions = trainer.predict(testDataset)"
      ],
      "execution_count": null,
      "outputs": [
        {
          "output_type": "display_data",
          "data": {
            "text/html": [
              "\n",
              "    <div>\n",
              "      \n",
              "      <progress value='675' max='353' style='width:300px; height:20px; vertical-align: middle;'></progress>\n",
              "      [353/353 17:18]\n",
              "    </div>\n",
              "    "
            ],
            "text/plain": [
              "<IPython.core.display.HTML object>"
            ]
          },
          "metadata": {
            "tags": []
          }
        }
      ]
    },
    {
      "cell_type": "code",
      "metadata": {
        "colab": {
          "base_uri": "https://localhost:8080/"
        },
        "id": "bn2lgPvDdTNi",
        "outputId": "5fcfd809-7eb6-4879-8ee6-b1e7db3228b8"
      },
      "source": [
        "predInds = predictions.predictions.argmax(-1)\n",
        "trueInds = udsTestDF['label'].values\n",
        "print(classification_report(trueInds, predInds))"
      ],
      "execution_count": null,
      "outputs": [
        {
          "output_type": "stream",
          "text": [
            "              precision    recall  f1-score   support\n",
            "\n",
            "           0       0.80      0.83      0.82     22407\n",
            "           1       0.79      0.75      0.77     18689\n",
            "\n",
            "    accuracy                           0.79     41096\n",
            "   macro avg       0.79      0.79      0.79     41096\n",
            "weighted avg       0.79      0.79      0.79     41096\n",
            "\n"
          ],
          "name": "stdout"
        }
      ]
    },
    {
      "cell_type": "code",
      "metadata": {
        "colab": {
          "base_uri": "https://localhost:8080/",
          "height": 37
        },
        "id": "FWEH8hfRdTNj",
        "outputId": "94a2868d-46ce-49f8-cc15-f6ce27a94e14"
      },
      "source": [
        "# Testing on Challenge Set 1\n",
        "predictions = trainer.predict(challengeEvalDataset)"
      ],
      "execution_count": null,
      "outputs": [
        {
          "output_type": "display_data",
          "data": {
            "text/html": [
              "\n",
              "    <div>\n",
              "      \n",
              "      <progress value='19' max='19' style='width:300px; height:20px; vertical-align: middle;'></progress>\n",
              "      [19/19 00:13]\n",
              "    </div>\n",
              "    "
            ],
            "text/plain": [
              "<IPython.core.display.HTML object>"
            ]
          },
          "metadata": {
            "tags": []
          }
        }
      ]
    },
    {
      "cell_type": "code",
      "metadata": {
        "colab": {
          "base_uri": "https://localhost:8080/"
        },
        "id": "ONUfg48JdTNj",
        "outputId": "279b4f7d-49e1-4253-8981-9049826368d1"
      },
      "source": [
        "predInds = predictions.predictions.argmax(-1)\n",
        "trueInds = challengeSetTest['label'].values\n",
        "print(classification_report(trueInds, predInds))"
      ],
      "execution_count": null,
      "outputs": [
        {
          "output_type": "stream",
          "text": [
            "              precision    recall  f1-score   support\n",
            "\n",
            "           0       0.70      0.57      0.63      1545\n",
            "           1       0.41      0.55      0.47       855\n",
            "\n",
            "    accuracy                           0.56      2400\n",
            "   macro avg       0.55      0.56      0.55      2400\n",
            "weighted avg       0.59      0.56      0.57      2400\n",
            "\n"
          ],
          "name": "stdout"
        }
      ]
    },
    {
      "cell_type": "code",
      "metadata": {
        "id": "6D8M8bS-dTNj"
      },
      "source": [
        "trainArgs = TrainingArguments(\n",
        "    output_dir = './outputs',\n",
        "    num_train_epochs = 5,\n",
        "    evaluation_strategy = 'epoch',\n",
        "    per_device_train_batch_size = 16,\n",
        "    per_device_eval_batch_size = 128,\n",
        "    learning_rate = 2e-5,\n",
        "    weight_decay = 0.1,\n",
        "    load_best_model_at_end = True,\n",
        "    metric_for_best_model = 'eval_accuracy'\n",
        ")\n",
        "\n",
        "trainer = Trainer(\n",
        "    model = model,\n",
        "    args = trainArgs,\n",
        "    train_dataset = challengeTrainDataset,\n",
        "    eval_dataset = challengeEvalDataset,\n",
        "    data_collator = CustomCollatFunc,\n",
        "    compute_metrics = compute_metrics,\n",
        "    callbacks = [EarlyStoppingCallback(early_stopping_patience=2)]\n",
        ")"
      ],
      "execution_count": null,
      "outputs": []
    },
    {
      "cell_type": "code",
      "metadata": {
        "colab": {
          "base_uri": "https://localhost:8080/",
          "height": 258
        },
        "id": "KPGPh4fodTNj",
        "outputId": "28fc41fb-7c2d-4b2d-b9e7-d17478d85235"
      },
      "source": [
        "trainer.train()"
      ],
      "execution_count": null,
      "outputs": [
        {
          "output_type": "display_data",
          "data": {
            "text/html": [
              "\n",
              "    <div>\n",
              "      \n",
              "      <progress value='1875' max='1875' style='width:300px; height:20px; vertical-align: middle;'></progress>\n",
              "      [1875/1875 29:55, Epoch 5/5]\n",
              "    </div>\n",
              "    <table border=\"1\" class=\"dataframe\">\n",
              "  <thead>\n",
              "    <tr style=\"text-align: left;\">\n",
              "      <th>Epoch</th>\n",
              "      <th>Training Loss</th>\n",
              "      <th>Validation Loss</th>\n",
              "      <th>Accuracy</th>\n",
              "      <th>F1</th>\n",
              "      <th>Precision</th>\n",
              "      <th>Recall</th>\n",
              "    </tr>\n",
              "  </thead>\n",
              "  <tbody>\n",
              "    <tr>\n",
              "      <td>1</td>\n",
              "      <td>No log</td>\n",
              "      <td>0.038341</td>\n",
              "      <td>0.987917</td>\n",
              "      <td>0.986761</td>\n",
              "      <td>0.989337</td>\n",
              "      <td>0.984347</td>\n",
              "    </tr>\n",
              "    <tr>\n",
              "      <td>2</td>\n",
              "      <td>0.170400</td>\n",
              "      <td>0.018900</td>\n",
              "      <td>0.995000</td>\n",
              "      <td>0.994549</td>\n",
              "      <td>0.994549</td>\n",
              "      <td>0.994549</td>\n",
              "    </tr>\n",
              "    <tr>\n",
              "      <td>3</td>\n",
              "      <td>0.042100</td>\n",
              "      <td>0.024954</td>\n",
              "      <td>0.993750</td>\n",
              "      <td>0.993181</td>\n",
              "      <td>0.993572</td>\n",
              "      <td>0.992795</td>\n",
              "    </tr>\n",
              "    <tr>\n",
              "      <td>4</td>\n",
              "      <td>0.023200</td>\n",
              "      <td>0.011120</td>\n",
              "      <td>0.997083</td>\n",
              "      <td>0.996820</td>\n",
              "      <td>0.996950</td>\n",
              "      <td>0.996690</td>\n",
              "    </tr>\n",
              "    <tr>\n",
              "      <td>5</td>\n",
              "      <td>0.023200</td>\n",
              "      <td>0.009872</td>\n",
              "      <td>0.997917</td>\n",
              "      <td>0.997728</td>\n",
              "      <td>0.997859</td>\n",
              "      <td>0.997598</td>\n",
              "    </tr>\n",
              "  </tbody>\n",
              "</table><p>"
            ],
            "text/plain": [
              "<IPython.core.display.HTML object>"
            ]
          },
          "metadata": {
            "tags": []
          }
        },
        {
          "output_type": "execute_result",
          "data": {
            "text/plain": [
              "TrainOutput(global_step=1875, training_loss=0.06437568562825521, metrics={'train_runtime': 1796.6562, 'train_samples_per_second': 1.044, 'total_flos': 0, 'epoch': 5.0, 'init_mem_cpu_alloc_delta': 0, 'init_mem_gpu_alloc_delta': 0, 'init_mem_cpu_peaked_delta': 0, 'init_mem_gpu_peaked_delta': 0, 'train_mem_cpu_alloc_delta': -118095872, 'train_mem_gpu_alloc_delta': 4277433856, 'train_mem_cpu_peaked_delta': 120832000, 'train_mem_gpu_peaked_delta': 948119552})"
            ]
          },
          "metadata": {
            "tags": []
          },
          "execution_count": 17
        }
      ]
    },
    {
      "cell_type": "code",
      "metadata": {
        "colab": {
          "base_uri": "https://localhost:8080/",
          "height": 37
        },
        "id": "3YZAcM9tdTNk",
        "outputId": "cec69b34-e297-44c3-fa3f-850d2802d75d"
      },
      "source": [
        "# Testing on Challenge Set 1\n",
        "predictions = trainer.predict(challengeEvalDataset)"
      ],
      "execution_count": null,
      "outputs": [
        {
          "output_type": "display_data",
          "data": {
            "text/html": [
              "\n",
              "    <div>\n",
              "      \n",
              "      <progress value='19' max='19' style='width:300px; height:20px; vertical-align: middle;'></progress>\n",
              "      [19/19 00:15]\n",
              "    </div>\n",
              "    "
            ],
            "text/plain": [
              "<IPython.core.display.HTML object>"
            ]
          },
          "metadata": {
            "tags": []
          }
        }
      ]
    },
    {
      "cell_type": "code",
      "metadata": {
        "colab": {
          "base_uri": "https://localhost:8080/"
        },
        "id": "M5VThRN2dTNl",
        "outputId": "faa668b5-a9cd-4014-d70d-c20a071012a6"
      },
      "source": [
        "predInds = predictions.predictions.argmax(-1)\n",
        "trueInds = challengeSetTest['label'].values\n",
        "print(classification_report(trueInds, predInds))"
      ],
      "execution_count": null,
      "outputs": [
        {
          "output_type": "stream",
          "text": [
            "              precision    recall  f1-score   support\n",
            "\n",
            "           0       1.00      1.00      1.00      1545\n",
            "           1       1.00      1.00      1.00       855\n",
            "\n",
            "    accuracy                           1.00      2400\n",
            "   macro avg       1.00      1.00      1.00      2400\n",
            "weighted avg       1.00      1.00      1.00      2400\n",
            "\n"
          ],
          "name": "stdout"
        }
      ]
    },
    {
      "cell_type": "markdown",
      "metadata": {
        "id": "y2o66pqLe3eU"
      },
      "source": [
        "### 1. Challenge Set 2"
      ]
    },
    {
      "cell_type": "markdown",
      "metadata": {
        "id": "jTMAYNHb-EM-"
      },
      "source": [
        "##### a) Roberta Large Model"
      ]
    },
    {
      "cell_type": "code",
      "metadata": {
        "colab": {
          "base_uri": "https://localhost:8080/",
          "height": 586
        },
        "id": "Tut4qqxa-ENB",
        "outputId": "83e7d7f5-8c61-44a5-cb1b-577b906f8910"
      },
      "source": [
        "challengeSetTrain = pd.read_csv('/content/drive/MyDrive/Projects/Temporal Awareness/challengeSet2DF_train.csv', index_col=0)\n",
        "challengeSetTrain['Label'].replace(to_replace='Entailment', value=2, inplace=True)\n",
        "challengeSetTrain['Label'].replace(to_replace='Neutral', value=1, inplace=True)\n",
        "challengeSetTrain['Label'].replace(to_replace='Contradiction', value=0, inplace=True)\n",
        "challengeSetTrain.rename(columns={'Premise':'premise', 'Hypothesis':'hypothesis', 'Label':'label'}, inplace=True)\n",
        "\n",
        "challengeSetTest = pd.read_csv('/content/drive/MyDrive/Projects/Temporal Awareness/challengeSet2DF_test.csv', index_col=0)\n",
        "challengeSetTest['Label'].replace(to_replace='Entailment', value=2, inplace=True)\n",
        "challengeSetTest['Label'].replace(to_replace='Neutral', value=1, inplace=True)\n",
        "challengeSetTest['Label'].replace(to_replace='Contradiction', value=0, inplace=True)\n",
        "challengeSetTest.rename(columns={'Premise':'premise', 'Hypothesis':'hypothesis', 'Label':'label'}, inplace=True)\n",
        "\n",
        "challengeSetTrain"
      ],
      "execution_count": null,
      "outputs": [
        {
          "output_type": "execute_result",
          "data": {
            "text/html": [
              "<div>\n",
              "<style scoped>\n",
              "    .dataframe tbody tr th:only-of-type {\n",
              "        vertical-align: middle;\n",
              "    }\n",
              "\n",
              "    .dataframe tbody tr th {\n",
              "        vertical-align: top;\n",
              "    }\n",
              "\n",
              "    .dataframe thead th {\n",
              "        text-align: right;\n",
              "    }\n",
              "</style>\n",
              "<table border=\"1\" class=\"dataframe\">\n",
              "  <thead>\n",
              "    <tr style=\"text-align: right;\">\n",
              "      <th></th>\n",
              "      <th>premise</th>\n",
              "      <th>hypothesis</th>\n",
              "      <th>label</th>\n",
              "      <th>Type</th>\n",
              "      <th>Dur Type</th>\n",
              "      <th>Next Cycle</th>\n",
              "      <th>Temp Type</th>\n",
              "    </tr>\n",
              "  </thead>\n",
              "  <tbody>\n",
              "    <tr>\n",
              "      <th>0</th>\n",
              "      <td>Michael reached my house at 5 PM and left at 9...</td>\n",
              "      <td>Michael visited my house for 16 hours.</td>\n",
              "      <td>2</td>\n",
              "      <td>SINGLE_day_time_12</td>\n",
              "      <td>EQUAL_GOLD</td>\n",
              "      <td>True</td>\n",
              "      <td>Spread</td>\n",
              "    </tr>\n",
              "    <tr>\n",
              "      <th>1</th>\n",
              "      <td>Michael reached my house at 5 PM and left at 9...</td>\n",
              "      <td>Michael visited my house for 17 hours.</td>\n",
              "      <td>0</td>\n",
              "      <td>SINGLE_day_time_12</td>\n",
              "      <td>EQUAL_GOLD+1</td>\n",
              "      <td>True</td>\n",
              "      <td>Spread</td>\n",
              "    </tr>\n",
              "    <tr>\n",
              "      <th>2</th>\n",
              "      <td>Michael reached my house at 5 PM and left at 9...</td>\n",
              "      <td>Michael visited my house for 160 hours.</td>\n",
              "      <td>0</td>\n",
              "      <td>SINGLE_day_time_12</td>\n",
              "      <td>EQUAL_GOLD*10</td>\n",
              "      <td>True</td>\n",
              "      <td>Spread</td>\n",
              "    </tr>\n",
              "    <tr>\n",
              "      <th>3</th>\n",
              "      <td>Michael reached my house at 5 PM and left at 9...</td>\n",
              "      <td>Michael visited my house for 15 hours.</td>\n",
              "      <td>0</td>\n",
              "      <td>SINGLE_day_time_12</td>\n",
              "      <td>EQUAL_GOLD-1</td>\n",
              "      <td>True</td>\n",
              "      <td>Spread</td>\n",
              "    </tr>\n",
              "    <tr>\n",
              "      <th>4</th>\n",
              "      <td>Michael reached my house at 5 PM and left at 9...</td>\n",
              "      <td>Michael visited my house for more than 16 hours.</td>\n",
              "      <td>0</td>\n",
              "      <td>SINGLE_day_time_12</td>\n",
              "      <td>MORE_GOLD</td>\n",
              "      <td>True</td>\n",
              "      <td>Spread</td>\n",
              "    </tr>\n",
              "    <tr>\n",
              "      <th>...</th>\n",
              "      <td>...</td>\n",
              "      <td>...</td>\n",
              "      <td>...</td>\n",
              "      <td>...</td>\n",
              "      <td>...</td>\n",
              "      <td>...</td>\n",
              "      <td>...</td>\n",
              "    </tr>\n",
              "    <tr>\n",
              "      <th>55</th>\n",
              "      <td>She was the president of our country from Sept...</td>\n",
              "      <td>She was the president of our country for more ...</td>\n",
              "      <td>2</td>\n",
              "      <td>DATE_YM_both</td>\n",
              "      <td>MORE_GOLD-1</td>\n",
              "      <td>False</td>\n",
              "      <td>Near</td>\n",
              "    </tr>\n",
              "    <tr>\n",
              "      <th>56</th>\n",
              "      <td>She was the president of our country from Sept...</td>\n",
              "      <td>She was the president of our country for less ...</td>\n",
              "      <td>0</td>\n",
              "      <td>DATE_YM_both</td>\n",
              "      <td>LESS_GOLD</td>\n",
              "      <td>False</td>\n",
              "      <td>Near</td>\n",
              "    </tr>\n",
              "    <tr>\n",
              "      <th>57</th>\n",
              "      <td>She was the president of our country from Sept...</td>\n",
              "      <td>She was the president of our country for less ...</td>\n",
              "      <td>2</td>\n",
              "      <td>DATE_YM_both</td>\n",
              "      <td>LESS_GOLD+1</td>\n",
              "      <td>False</td>\n",
              "      <td>Near</td>\n",
              "    </tr>\n",
              "    <tr>\n",
              "      <th>58</th>\n",
              "      <td>She was the president of our country from Sept...</td>\n",
              "      <td>She was the president of our country for less ...</td>\n",
              "      <td>2</td>\n",
              "      <td>DATE_YM_both</td>\n",
              "      <td>LESS_GOLD*10</td>\n",
              "      <td>False</td>\n",
              "      <td>Near</td>\n",
              "    </tr>\n",
              "    <tr>\n",
              "      <th>59</th>\n",
              "      <td>She was the president of our country from Sept...</td>\n",
              "      <td>She was the president of our country for less ...</td>\n",
              "      <td>0</td>\n",
              "      <td>DATE_YM_both</td>\n",
              "      <td>LESS_GOLD-1</td>\n",
              "      <td>False</td>\n",
              "      <td>Near</td>\n",
              "    </tr>\n",
              "  </tbody>\n",
              "</table>\n",
              "<p>13041 rows × 7 columns</p>\n",
              "</div>"
            ],
            "text/plain": [
              "                                              premise  ... Temp Type\n",
              "0   Michael reached my house at 5 PM and left at 9...  ...    Spread\n",
              "1   Michael reached my house at 5 PM and left at 9...  ...    Spread\n",
              "2   Michael reached my house at 5 PM and left at 9...  ...    Spread\n",
              "3   Michael reached my house at 5 PM and left at 9...  ...    Spread\n",
              "4   Michael reached my house at 5 PM and left at 9...  ...    Spread\n",
              "..                                                ...  ...       ...\n",
              "55  She was the president of our country from Sept...  ...      Near\n",
              "56  She was the president of our country from Sept...  ...      Near\n",
              "57  She was the president of our country from Sept...  ...      Near\n",
              "58  She was the president of our country from Sept...  ...      Near\n",
              "59  She was the president of our country from Sept...  ...      Near\n",
              "\n",
              "[13041 rows x 7 columns]"
            ]
          },
          "metadata": {
            "tags": []
          },
          "execution_count": 4
        }
      ]
    },
    {
      "cell_type": "code",
      "metadata": {
        "id": "tz18o9OA-ENC"
      },
      "source": [
        "challengeTrainDataset = CustomDataset(challengeSetTrain)\n",
        "challengeEvalDataset = CustomDataset(challengeSetTest)"
      ],
      "execution_count": null,
      "outputs": []
    },
    {
      "cell_type": "code",
      "metadata": {
        "colab": {
          "base_uri": "https://localhost:8080/"
        },
        "id": "3KUbJB-S-END",
        "outputId": "71dc65e8-a859-4214-ed0c-95dd57454312"
      },
      "source": [
        "MODEL_NAME = 'roberta-large'\n",
        "modelTokenizer = AutoTokenizer.from_pretrained(MODEL_NAME)\n",
        "model = AutoModelForSequenceClassification.from_pretrained(MODEL_NAME, num_labels=3)\n",
        "\n",
        "# for param in model.base_model.parameters():\n",
        "#   param.requires_grad = False"
      ],
      "execution_count": null,
      "outputs": [
        {
          "output_type": "stream",
          "text": [
            "Some weights of the model checkpoint at roberta-large were not used when initializing RobertaForSequenceClassification: ['lm_head.layer_norm.bias', 'lm_head.bias', 'lm_head.dense.weight', 'roberta.pooler.dense.bias', 'roberta.pooler.dense.weight', 'lm_head.decoder.weight', 'lm_head.layer_norm.weight', 'lm_head.dense.bias']\n",
            "- This IS expected if you are initializing RobertaForSequenceClassification from the checkpoint of a model trained on another task or with another architecture (e.g. initializing a BertForSequenceClassification model from a BertForPreTraining model).\n",
            "- This IS NOT expected if you are initializing RobertaForSequenceClassification from the checkpoint of a model that you expect to be exactly identical (initializing a BertForSequenceClassification model from a BertForSequenceClassification model).\n",
            "Some weights of RobertaForSequenceClassification were not initialized from the model checkpoint at roberta-large and are newly initialized: ['classifier.dense.weight', 'classifier.dense.bias', 'classifier.out_proj.bias', 'classifier.out_proj.weight']\n",
            "You should probably TRAIN this model on a down-stream task to be able to use it for predictions and inference.\n"
          ],
          "name": "stderr"
        }
      ]
    },
    {
      "cell_type": "code",
      "metadata": {
        "id": "ypjZ22XU-ENE"
      },
      "source": [
        "# Training Roberta Large model on Challenge Set 2\n",
        "\n",
        "trainArgs = TrainingArguments(\n",
        "    output_dir = './outputs',\n",
        "    num_train_epochs = 5,\n",
        "    evaluation_strategy = 'epoch',\n",
        "    per_device_train_batch_size = 16,\n",
        "    per_device_eval_batch_size = 128,\n",
        "    learning_rate = 2e-5,\n",
        "    weight_decay = 0.1,\n",
        "    load_best_model_at_end = True,\n",
        "    metric_for_best_model = 'eval_accuracy'\n",
        ")\n",
        "\n",
        "trainer = Trainer(\n",
        "    model = model,\n",
        "    args = trainArgs,\n",
        "    train_dataset = challengeTrainDataset,\n",
        "    eval_dataset = challengeEvalDataset,\n",
        "    data_collator = CustomCollatFunc,\n",
        "    compute_metrics = compute_metrics,\n",
        "    callbacks = [EarlyStoppingCallback(early_stopping_patience=2)]\n",
        ")"
      ],
      "execution_count": null,
      "outputs": []
    },
    {
      "cell_type": "code",
      "metadata": {
        "colab": {
          "base_uri": "https://localhost:8080/",
          "height": 626
        },
        "id": "tdssD8Zo-ENE",
        "outputId": "396b06cb-cbf8-49d5-ceac-8d07e69fab0f"
      },
      "source": [
        "trainer.train()"
      ],
      "execution_count": null,
      "outputs": [
        {
          "output_type": "display_data",
          "data": {
            "text/html": [
              "\n",
              "    <div>\n",
              "      \n",
              "      <progress value='4081' max='12240' style='width:300px; height:20px; vertical-align: middle;'></progress>\n",
              "      [ 4081/12240 59:25 < 1:58:51, 1.14 it/s, Epoch 5/15]\n",
              "    </div>\n",
              "    <table border=\"1\" class=\"dataframe\">\n",
              "  <thead>\n",
              "    <tr style=\"text-align: left;\">\n",
              "      <th>Epoch</th>\n",
              "      <th>Training Loss</th>\n",
              "      <th>Validation Loss</th>\n",
              "      <th>Accuracy</th>\n",
              "      <th>F1</th>\n",
              "      <th>Precision</th>\n",
              "      <th>Recall</th>\n",
              "    </tr>\n",
              "  </thead>\n",
              "  <tbody>\n",
              "    <tr>\n",
              "      <td>1</td>\n",
              "      <td>0.592100</td>\n",
              "      <td>0.542316</td>\n",
              "      <td>0.736448</td>\n",
              "      <td>0.615568</td>\n",
              "      <td>0.777418</td>\n",
              "      <td>0.618224</td>\n",
              "    </tr>\n",
              "    <tr>\n",
              "      <td>2</td>\n",
              "      <td>0.523500</td>\n",
              "      <td>0.512780</td>\n",
              "      <td>0.744329</td>\n",
              "      <td>0.617178</td>\n",
              "      <td>0.827848</td>\n",
              "      <td>0.621251</td>\n",
              "    </tr>\n",
              "    <tr>\n",
              "      <td>3</td>\n",
              "      <td>0.511600</td>\n",
              "      <td>0.495447</td>\n",
              "      <td>0.745098</td>\n",
              "      <td>0.612633</td>\n",
              "      <td>0.851560</td>\n",
              "      <td>0.618945</td>\n",
              "    </tr>\n",
              "    <tr>\n",
              "      <td>4</td>\n",
              "      <td>0.495600</td>\n",
              "      <td>0.497280</td>\n",
              "      <td>0.746251</td>\n",
              "      <td>0.619044</td>\n",
              "      <td>0.837317</td>\n",
              "      <td>0.622837</td>\n",
              "    </tr>\n",
              "    <tr>\n",
              "      <td>5</td>\n",
              "      <td>0.494400</td>\n",
              "      <td>0.500930</td>\n",
              "      <td>0.747020</td>\n",
              "      <td>0.621208</td>\n",
              "      <td>0.836034</td>\n",
              "      <td>0.624279</td>\n",
              "    </tr>\n",
              "  </tbody>\n",
              "</table><p>"
            ],
            "text/plain": [
              "<IPython.core.display.HTML object>"
            ]
          },
          "metadata": {
            "tags": []
          }
        },
        {
          "output_type": "error",
          "ename": "RuntimeError",
          "evalue": "ignored",
          "traceback": [
            "\u001b[0;31m---------------------------------------------------------------------------\u001b[0m",
            "\u001b[0;31mKeyboardInterrupt\u001b[0m                         Traceback (most recent call last)",
            "\u001b[0;32m/usr/local/lib/python3.7/dist-packages/torch/serialization.py\u001b[0m in \u001b[0;36msave\u001b[0;34m(obj, f, pickle_module, pickle_protocol, _use_new_zipfile_serialization)\u001b[0m\n\u001b[1;32m    371\u001b[0m             \u001b[0;32mwith\u001b[0m \u001b[0m_open_zipfile_writer\u001b[0m\u001b[0;34m(\u001b[0m\u001b[0mopened_file\u001b[0m\u001b[0;34m)\u001b[0m \u001b[0;32mas\u001b[0m \u001b[0mopened_zipfile\u001b[0m\u001b[0;34m:\u001b[0m\u001b[0;34m\u001b[0m\u001b[0;34m\u001b[0m\u001b[0m\n\u001b[0;32m--> 372\u001b[0;31m                 \u001b[0m_save\u001b[0m\u001b[0;34m(\u001b[0m\u001b[0mobj\u001b[0m\u001b[0;34m,\u001b[0m \u001b[0mopened_zipfile\u001b[0m\u001b[0;34m,\u001b[0m \u001b[0mpickle_module\u001b[0m\u001b[0;34m,\u001b[0m \u001b[0mpickle_protocol\u001b[0m\u001b[0;34m)\u001b[0m\u001b[0;34m\u001b[0m\u001b[0;34m\u001b[0m\u001b[0m\n\u001b[0m\u001b[1;32m    373\u001b[0m                 \u001b[0;32mreturn\u001b[0m\u001b[0;34m\u001b[0m\u001b[0;34m\u001b[0m\u001b[0m\n",
            "\u001b[0;32m/usr/local/lib/python3.7/dist-packages/torch/serialization.py\u001b[0m in \u001b[0;36m_save\u001b[0;34m(obj, zip_file, pickle_module, pickle_protocol)\u001b[0m\n\u001b[1;32m    490\u001b[0m         \u001b[0mnum_bytes\u001b[0m \u001b[0;34m=\u001b[0m \u001b[0mstorage\u001b[0m\u001b[0;34m.\u001b[0m\u001b[0msize\u001b[0m\u001b[0;34m(\u001b[0m\u001b[0;34m)\u001b[0m \u001b[0;34m*\u001b[0m \u001b[0mstorage\u001b[0m\u001b[0;34m.\u001b[0m\u001b[0melement_size\u001b[0m\u001b[0;34m(\u001b[0m\u001b[0;34m)\u001b[0m\u001b[0;34m\u001b[0m\u001b[0;34m\u001b[0m\u001b[0m\n\u001b[0;32m--> 491\u001b[0;31m         \u001b[0mzip_file\u001b[0m\u001b[0;34m.\u001b[0m\u001b[0mwrite_record\u001b[0m\u001b[0;34m(\u001b[0m\u001b[0mname\u001b[0m\u001b[0;34m,\u001b[0m \u001b[0mstorage\u001b[0m\u001b[0;34m.\u001b[0m\u001b[0mdata_ptr\u001b[0m\u001b[0;34m(\u001b[0m\u001b[0;34m)\u001b[0m\u001b[0;34m,\u001b[0m \u001b[0mnum_bytes\u001b[0m\u001b[0;34m)\u001b[0m\u001b[0;34m\u001b[0m\u001b[0;34m\u001b[0m\u001b[0m\n\u001b[0m\u001b[1;32m    492\u001b[0m \u001b[0;34m\u001b[0m\u001b[0m\n",
            "\u001b[0;31mKeyboardInterrupt\u001b[0m: ",
            "\nDuring handling of the above exception, another exception occurred:\n",
            "\u001b[0;31mRuntimeError\u001b[0m                              Traceback (most recent call last)",
            "\u001b[0;32m<ipython-input-8-3435b262f1ae>\u001b[0m in \u001b[0;36m<module>\u001b[0;34m()\u001b[0m\n\u001b[0;32m----> 1\u001b[0;31m \u001b[0mtrainer\u001b[0m\u001b[0;34m.\u001b[0m\u001b[0mtrain\u001b[0m\u001b[0;34m(\u001b[0m\u001b[0;34m)\u001b[0m\u001b[0;34m\u001b[0m\u001b[0;34m\u001b[0m\u001b[0m\n\u001b[0m",
            "\u001b[0;32m/usr/local/lib/python3.7/dist-packages/transformers/trainer.py\u001b[0m in \u001b[0;36mtrain\u001b[0;34m(self, resume_from_checkpoint, trial, **kwargs)\u001b[0m\n\u001b[1;32m   1332\u001b[0m \u001b[0;34m\u001b[0m\u001b[0m\n\u001b[1;32m   1333\u001b[0m             \u001b[0mself\u001b[0m\u001b[0;34m.\u001b[0m\u001b[0mcontrol\u001b[0m \u001b[0;34m=\u001b[0m \u001b[0mself\u001b[0m\u001b[0;34m.\u001b[0m\u001b[0mcallback_handler\u001b[0m\u001b[0;34m.\u001b[0m\u001b[0mon_epoch_end\u001b[0m\u001b[0;34m(\u001b[0m\u001b[0margs\u001b[0m\u001b[0;34m,\u001b[0m \u001b[0mself\u001b[0m\u001b[0;34m.\u001b[0m\u001b[0mstate\u001b[0m\u001b[0;34m,\u001b[0m \u001b[0mself\u001b[0m\u001b[0;34m.\u001b[0m\u001b[0mcontrol\u001b[0m\u001b[0;34m)\u001b[0m\u001b[0;34m\u001b[0m\u001b[0;34m\u001b[0m\u001b[0m\n\u001b[0;32m-> 1334\u001b[0;31m             \u001b[0mself\u001b[0m\u001b[0;34m.\u001b[0m\u001b[0m_maybe_log_save_evaluate\u001b[0m\u001b[0;34m(\u001b[0m\u001b[0mtr_loss\u001b[0m\u001b[0;34m,\u001b[0m \u001b[0mmodel\u001b[0m\u001b[0;34m,\u001b[0m \u001b[0mtrial\u001b[0m\u001b[0;34m,\u001b[0m \u001b[0mepoch\u001b[0m\u001b[0;34m)\u001b[0m\u001b[0;34m\u001b[0m\u001b[0;34m\u001b[0m\u001b[0m\n\u001b[0m\u001b[1;32m   1335\u001b[0m \u001b[0;34m\u001b[0m\u001b[0m\n\u001b[1;32m   1336\u001b[0m             \u001b[0;32mif\u001b[0m \u001b[0mDebugOption\u001b[0m\u001b[0;34m.\u001b[0m\u001b[0mTPU_METRICS_DEBUG\u001b[0m \u001b[0;32min\u001b[0m \u001b[0mself\u001b[0m\u001b[0;34m.\u001b[0m\u001b[0margs\u001b[0m\u001b[0;34m.\u001b[0m\u001b[0mdebug\u001b[0m\u001b[0;34m:\u001b[0m\u001b[0;34m\u001b[0m\u001b[0;34m\u001b[0m\u001b[0m\n",
            "\u001b[0;32m/usr/local/lib/python3.7/dist-packages/transformers/trainer.py\u001b[0m in \u001b[0;36m_maybe_log_save_evaluate\u001b[0;34m(self, tr_loss, model, trial, epoch)\u001b[0m\n\u001b[1;32m   1407\u001b[0m \u001b[0;34m\u001b[0m\u001b[0m\n\u001b[1;32m   1408\u001b[0m         \u001b[0;32mif\u001b[0m \u001b[0mself\u001b[0m\u001b[0;34m.\u001b[0m\u001b[0mcontrol\u001b[0m\u001b[0;34m.\u001b[0m\u001b[0mshould_save\u001b[0m\u001b[0;34m:\u001b[0m\u001b[0;34m\u001b[0m\u001b[0;34m\u001b[0m\u001b[0m\n\u001b[0;32m-> 1409\u001b[0;31m             \u001b[0mself\u001b[0m\u001b[0;34m.\u001b[0m\u001b[0m_save_checkpoint\u001b[0m\u001b[0;34m(\u001b[0m\u001b[0mmodel\u001b[0m\u001b[0;34m,\u001b[0m \u001b[0mtrial\u001b[0m\u001b[0;34m,\u001b[0m \u001b[0mmetrics\u001b[0m\u001b[0;34m=\u001b[0m\u001b[0mmetrics\u001b[0m\u001b[0;34m)\u001b[0m\u001b[0;34m\u001b[0m\u001b[0;34m\u001b[0m\u001b[0m\n\u001b[0m\u001b[1;32m   1410\u001b[0m             \u001b[0mself\u001b[0m\u001b[0;34m.\u001b[0m\u001b[0mcontrol\u001b[0m \u001b[0;34m=\u001b[0m \u001b[0mself\u001b[0m\u001b[0;34m.\u001b[0m\u001b[0mcallback_handler\u001b[0m\u001b[0;34m.\u001b[0m\u001b[0mon_save\u001b[0m\u001b[0;34m(\u001b[0m\u001b[0mself\u001b[0m\u001b[0;34m.\u001b[0m\u001b[0margs\u001b[0m\u001b[0;34m,\u001b[0m \u001b[0mself\u001b[0m\u001b[0;34m.\u001b[0m\u001b[0mstate\u001b[0m\u001b[0;34m,\u001b[0m \u001b[0mself\u001b[0m\u001b[0;34m.\u001b[0m\u001b[0mcontrol\u001b[0m\u001b[0;34m)\u001b[0m\u001b[0;34m\u001b[0m\u001b[0;34m\u001b[0m\u001b[0m\n\u001b[1;32m   1411\u001b[0m \u001b[0;34m\u001b[0m\u001b[0m\n",
            "\u001b[0;32m/usr/local/lib/python3.7/dist-packages/transformers/trainer.py\u001b[0m in \u001b[0;36m_save_checkpoint\u001b[0;34m(self, model, trial, metrics)\u001b[0m\n\u001b[1;32m   1467\u001b[0m \u001b[0;34m\u001b[0m\u001b[0m\n\u001b[1;32m   1468\u001b[0m         \u001b[0moutput_dir\u001b[0m \u001b[0;34m=\u001b[0m \u001b[0mos\u001b[0m\u001b[0;34m.\u001b[0m\u001b[0mpath\u001b[0m\u001b[0;34m.\u001b[0m\u001b[0mjoin\u001b[0m\u001b[0;34m(\u001b[0m\u001b[0mrun_dir\u001b[0m\u001b[0;34m,\u001b[0m \u001b[0mcheckpoint_folder\u001b[0m\u001b[0;34m)\u001b[0m\u001b[0;34m\u001b[0m\u001b[0;34m\u001b[0m\u001b[0m\n\u001b[0;32m-> 1469\u001b[0;31m         \u001b[0mself\u001b[0m\u001b[0;34m.\u001b[0m\u001b[0msave_model\u001b[0m\u001b[0;34m(\u001b[0m\u001b[0moutput_dir\u001b[0m\u001b[0;34m)\u001b[0m\u001b[0;34m\u001b[0m\u001b[0;34m\u001b[0m\u001b[0m\n\u001b[0m\u001b[1;32m   1470\u001b[0m         \u001b[0;32mif\u001b[0m \u001b[0mself\u001b[0m\u001b[0;34m.\u001b[0m\u001b[0mdeepspeed\u001b[0m\u001b[0;34m:\u001b[0m\u001b[0;34m\u001b[0m\u001b[0;34m\u001b[0m\u001b[0m\n\u001b[1;32m   1471\u001b[0m             \u001b[0;31m# under zero3 model file itself doesn't get saved since it's bogus! Unless deepspeed\u001b[0m\u001b[0;34m\u001b[0m\u001b[0;34m\u001b[0m\u001b[0;34m\u001b[0m\u001b[0m\n",
            "\u001b[0;32m/usr/local/lib/python3.7/dist-packages/transformers/trainer.py\u001b[0m in \u001b[0;36msave_model\u001b[0;34m(self, output_dir)\u001b[0m\n\u001b[1;32m   1849\u001b[0m \u001b[0;34m\u001b[0m\u001b[0m\n\u001b[1;32m   1850\u001b[0m         \u001b[0;32melif\u001b[0m \u001b[0mself\u001b[0m\u001b[0;34m.\u001b[0m\u001b[0mis_world_process_zero\u001b[0m\u001b[0;34m(\u001b[0m\u001b[0;34m)\u001b[0m\u001b[0;34m:\u001b[0m\u001b[0;34m\u001b[0m\u001b[0;34m\u001b[0m\u001b[0m\n\u001b[0;32m-> 1851\u001b[0;31m             \u001b[0mself\u001b[0m\u001b[0;34m.\u001b[0m\u001b[0m_save\u001b[0m\u001b[0;34m(\u001b[0m\u001b[0moutput_dir\u001b[0m\u001b[0;34m)\u001b[0m\u001b[0;34m\u001b[0m\u001b[0;34m\u001b[0m\u001b[0m\n\u001b[0m\u001b[1;32m   1852\u001b[0m \u001b[0;34m\u001b[0m\u001b[0m\n\u001b[1;32m   1853\u001b[0m     \u001b[0;32mdef\u001b[0m \u001b[0m_save_tpu\u001b[0m\u001b[0;34m(\u001b[0m\u001b[0mself\u001b[0m\u001b[0;34m,\u001b[0m \u001b[0moutput_dir\u001b[0m\u001b[0;34m:\u001b[0m \u001b[0mOptional\u001b[0m\u001b[0;34m[\u001b[0m\u001b[0mstr\u001b[0m\u001b[0;34m]\u001b[0m \u001b[0;34m=\u001b[0m \u001b[0;32mNone\u001b[0m\u001b[0;34m)\u001b[0m\u001b[0;34m:\u001b[0m\u001b[0;34m\u001b[0m\u001b[0;34m\u001b[0m\u001b[0m\n",
            "\u001b[0;32m/usr/local/lib/python3.7/dist-packages/transformers/trainer.py\u001b[0m in \u001b[0;36m_save\u001b[0;34m(self, output_dir, state_dict)\u001b[0m\n\u001b[1;32m   1897\u001b[0m                 \u001b[0mtorch\u001b[0m\u001b[0;34m.\u001b[0m\u001b[0msave\u001b[0m\u001b[0;34m(\u001b[0m\u001b[0mstate_dict\u001b[0m\u001b[0;34m,\u001b[0m \u001b[0mos\u001b[0m\u001b[0;34m.\u001b[0m\u001b[0mpath\u001b[0m\u001b[0;34m.\u001b[0m\u001b[0mjoin\u001b[0m\u001b[0;34m(\u001b[0m\u001b[0moutput_dir\u001b[0m\u001b[0;34m,\u001b[0m \u001b[0mWEIGHTS_NAME\u001b[0m\u001b[0;34m)\u001b[0m\u001b[0;34m)\u001b[0m\u001b[0;34m\u001b[0m\u001b[0;34m\u001b[0m\u001b[0m\n\u001b[1;32m   1898\u001b[0m         \u001b[0;32melse\u001b[0m\u001b[0;34m:\u001b[0m\u001b[0;34m\u001b[0m\u001b[0;34m\u001b[0m\u001b[0m\n\u001b[0;32m-> 1899\u001b[0;31m             \u001b[0mself\u001b[0m\u001b[0;34m.\u001b[0m\u001b[0mmodel\u001b[0m\u001b[0;34m.\u001b[0m\u001b[0msave_pretrained\u001b[0m\u001b[0;34m(\u001b[0m\u001b[0moutput_dir\u001b[0m\u001b[0;34m,\u001b[0m \u001b[0mstate_dict\u001b[0m\u001b[0;34m=\u001b[0m\u001b[0mstate_dict\u001b[0m\u001b[0;34m)\u001b[0m\u001b[0;34m\u001b[0m\u001b[0;34m\u001b[0m\u001b[0m\n\u001b[0m\u001b[1;32m   1900\u001b[0m         \u001b[0;32mif\u001b[0m \u001b[0mself\u001b[0m\u001b[0;34m.\u001b[0m\u001b[0mtokenizer\u001b[0m \u001b[0;32mis\u001b[0m \u001b[0;32mnot\u001b[0m \u001b[0;32mNone\u001b[0m\u001b[0;34m:\u001b[0m\u001b[0;34m\u001b[0m\u001b[0;34m\u001b[0m\u001b[0m\n\u001b[1;32m   1901\u001b[0m             \u001b[0mself\u001b[0m\u001b[0;34m.\u001b[0m\u001b[0mtokenizer\u001b[0m\u001b[0;34m.\u001b[0m\u001b[0msave_pretrained\u001b[0m\u001b[0;34m(\u001b[0m\u001b[0moutput_dir\u001b[0m\u001b[0;34m)\u001b[0m\u001b[0;34m\u001b[0m\u001b[0;34m\u001b[0m\u001b[0m\n",
            "\u001b[0;32m/usr/local/lib/python3.7/dist-packages/transformers/modeling_utils.py\u001b[0m in \u001b[0;36msave_pretrained\u001b[0;34m(self, save_directory, save_config, state_dict, save_function, push_to_hub, **kwargs)\u001b[0m\n\u001b[1;32m    885\u001b[0m         \u001b[0;31m# If we save using the predefined names, we can load using `from_pretrained`\u001b[0m\u001b[0;34m\u001b[0m\u001b[0;34m\u001b[0m\u001b[0;34m\u001b[0m\u001b[0m\n\u001b[1;32m    886\u001b[0m         \u001b[0moutput_model_file\u001b[0m \u001b[0;34m=\u001b[0m \u001b[0mos\u001b[0m\u001b[0;34m.\u001b[0m\u001b[0mpath\u001b[0m\u001b[0;34m.\u001b[0m\u001b[0mjoin\u001b[0m\u001b[0;34m(\u001b[0m\u001b[0msave_directory\u001b[0m\u001b[0;34m,\u001b[0m \u001b[0mWEIGHTS_NAME\u001b[0m\u001b[0;34m)\u001b[0m\u001b[0;34m\u001b[0m\u001b[0;34m\u001b[0m\u001b[0m\n\u001b[0;32m--> 887\u001b[0;31m         \u001b[0msave_function\u001b[0m\u001b[0;34m(\u001b[0m\u001b[0mstate_dict\u001b[0m\u001b[0;34m,\u001b[0m \u001b[0moutput_model_file\u001b[0m\u001b[0;34m)\u001b[0m\u001b[0;34m\u001b[0m\u001b[0;34m\u001b[0m\u001b[0m\n\u001b[0m\u001b[1;32m    888\u001b[0m \u001b[0;34m\u001b[0m\u001b[0m\n\u001b[1;32m    889\u001b[0m         \u001b[0mlogger\u001b[0m\u001b[0;34m.\u001b[0m\u001b[0minfo\u001b[0m\u001b[0;34m(\u001b[0m\u001b[0;34mf\"Model weights saved in {output_model_file}\"\u001b[0m\u001b[0;34m)\u001b[0m\u001b[0;34m\u001b[0m\u001b[0;34m\u001b[0m\u001b[0m\n",
            "\u001b[0;32m/usr/local/lib/python3.7/dist-packages/torch/serialization.py\u001b[0m in \u001b[0;36msave\u001b[0;34m(obj, f, pickle_module, pickle_protocol, _use_new_zipfile_serialization)\u001b[0m\n\u001b[1;32m    371\u001b[0m             \u001b[0;32mwith\u001b[0m \u001b[0m_open_zipfile_writer\u001b[0m\u001b[0;34m(\u001b[0m\u001b[0mopened_file\u001b[0m\u001b[0;34m)\u001b[0m \u001b[0;32mas\u001b[0m \u001b[0mopened_zipfile\u001b[0m\u001b[0;34m:\u001b[0m\u001b[0;34m\u001b[0m\u001b[0;34m\u001b[0m\u001b[0m\n\u001b[1;32m    372\u001b[0m                 \u001b[0m_save\u001b[0m\u001b[0;34m(\u001b[0m\u001b[0mobj\u001b[0m\u001b[0;34m,\u001b[0m \u001b[0mopened_zipfile\u001b[0m\u001b[0;34m,\u001b[0m \u001b[0mpickle_module\u001b[0m\u001b[0;34m,\u001b[0m \u001b[0mpickle_protocol\u001b[0m\u001b[0;34m)\u001b[0m\u001b[0;34m\u001b[0m\u001b[0;34m\u001b[0m\u001b[0m\n\u001b[0;32m--> 373\u001b[0;31m                 \u001b[0;32mreturn\u001b[0m\u001b[0;34m\u001b[0m\u001b[0;34m\u001b[0m\u001b[0m\n\u001b[0m\u001b[1;32m    374\u001b[0m         \u001b[0m_legacy_save\u001b[0m\u001b[0;34m(\u001b[0m\u001b[0mobj\u001b[0m\u001b[0;34m,\u001b[0m \u001b[0mopened_file\u001b[0m\u001b[0;34m,\u001b[0m \u001b[0mpickle_module\u001b[0m\u001b[0;34m,\u001b[0m \u001b[0mpickle_protocol\u001b[0m\u001b[0;34m)\u001b[0m\u001b[0;34m\u001b[0m\u001b[0;34m\u001b[0m\u001b[0m\n\u001b[1;32m    375\u001b[0m \u001b[0;34m\u001b[0m\u001b[0m\n",
            "\u001b[0;32m/usr/local/lib/python3.7/dist-packages/torch/serialization.py\u001b[0m in \u001b[0;36m__exit__\u001b[0;34m(self, *args)\u001b[0m\n\u001b[1;32m    257\u001b[0m \u001b[0;34m\u001b[0m\u001b[0m\n\u001b[1;32m    258\u001b[0m     \u001b[0;32mdef\u001b[0m \u001b[0m__exit__\u001b[0m\u001b[0;34m(\u001b[0m\u001b[0mself\u001b[0m\u001b[0;34m,\u001b[0m \u001b[0;34m*\u001b[0m\u001b[0margs\u001b[0m\u001b[0;34m)\u001b[0m \u001b[0;34m->\u001b[0m \u001b[0;32mNone\u001b[0m\u001b[0;34m:\u001b[0m\u001b[0;34m\u001b[0m\u001b[0;34m\u001b[0m\u001b[0m\n\u001b[0;32m--> 259\u001b[0;31m         \u001b[0mself\u001b[0m\u001b[0;34m.\u001b[0m\u001b[0mfile_like\u001b[0m\u001b[0;34m.\u001b[0m\u001b[0mwrite_end_of_file\u001b[0m\u001b[0;34m(\u001b[0m\u001b[0;34m)\u001b[0m\u001b[0;34m\u001b[0m\u001b[0;34m\u001b[0m\u001b[0m\n\u001b[0m\u001b[1;32m    260\u001b[0m         \u001b[0mself\u001b[0m\u001b[0;34m.\u001b[0m\u001b[0mbuffer\u001b[0m\u001b[0;34m.\u001b[0m\u001b[0mflush\u001b[0m\u001b[0;34m(\u001b[0m\u001b[0;34m)\u001b[0m\u001b[0;34m\u001b[0m\u001b[0;34m\u001b[0m\u001b[0m\n\u001b[1;32m    261\u001b[0m \u001b[0;34m\u001b[0m\u001b[0m\n",
            "\u001b[0;31mRuntimeError\u001b[0m: [enforce fail at inline_container.cc:274] . unexpected pos 1215710208 vs 1215710108"
          ]
        }
      ]
    },
    {
      "cell_type": "code",
      "metadata": {
        "id": "m8I36sDyRBkn"
      },
      "source": [
        "predictions = trainer.predict(challengeEvalDataset)"
      ],
      "execution_count": null,
      "outputs": []
    },
    {
      "cell_type": "code",
      "metadata": {
        "id": "DM7TQfMsRBkq"
      },
      "source": [
        "predInds = predictions.predictions.argmax(-1)\n",
        "trueInds = challengeSetTest['label'].values\n",
        "print(classification_report(trueInds, predInds))"
      ],
      "execution_count": null,
      "outputs": []
    },
    {
      "cell_type": "markdown",
      "metadata": {
        "id": "JuHZfMKae3eW"
      },
      "source": [
        "##### b) MultiNLI Model"
      ]
    },
    {
      "cell_type": "code",
      "metadata": {
        "colab": {
          "base_uri": "https://localhost:8080/",
          "height": 586
        },
        "id": "v3RFWuubP39R",
        "outputId": "bde15171-3566-4f2f-f84f-fb142c5699a2"
      },
      "source": [
        "challengeSetTrain = pd.read_csv('/content/drive/MyDrive/Projects/Temporal Awareness/challengeSet2DF_train.csv', index_col=0)\n",
        "challengeSetTrain['Label'].replace(to_replace='Entailment', value=2, inplace=True)\n",
        "challengeSetTrain['Label'].replace(to_replace='Neutral', value=1, inplace=True)\n",
        "challengeSetTrain['Label'].replace(to_replace='Contradiction', value=0, inplace=True)\n",
        "challengeSetTrain.rename(columns={'Premise':'premise', 'Hypothesis':'hypothesis', 'Label':'label'}, inplace=True)\n",
        "\n",
        "challengeSetTest = pd.read_csv('/content/drive/MyDrive/Projects/Temporal Awareness/challengeSet2DF_test.csv', index_col=0)\n",
        "challengeSetTest['Label'].replace(to_replace='Entailment', value=2, inplace=True)\n",
        "challengeSetTest['Label'].replace(to_replace='Neutral', value=1, inplace=True)\n",
        "challengeSetTest['Label'].replace(to_replace='Contradiction', value=0, inplace=True)\n",
        "challengeSetTest.rename(columns={'Premise':'premise', 'Hypothesis':'hypothesis', 'Label':'label'}, inplace=True)\n",
        "\n",
        "challengeSetTrain"
      ],
      "execution_count": null,
      "outputs": [
        {
          "output_type": "execute_result",
          "data": {
            "text/html": [
              "<div>\n",
              "<style scoped>\n",
              "    .dataframe tbody tr th:only-of-type {\n",
              "        vertical-align: middle;\n",
              "    }\n",
              "\n",
              "    .dataframe tbody tr th {\n",
              "        vertical-align: top;\n",
              "    }\n",
              "\n",
              "    .dataframe thead th {\n",
              "        text-align: right;\n",
              "    }\n",
              "</style>\n",
              "<table border=\"1\" class=\"dataframe\">\n",
              "  <thead>\n",
              "    <tr style=\"text-align: right;\">\n",
              "      <th></th>\n",
              "      <th>premise</th>\n",
              "      <th>hypothesis</th>\n",
              "      <th>label</th>\n",
              "      <th>Type</th>\n",
              "      <th>Dur Type</th>\n",
              "      <th>Next Cycle</th>\n",
              "      <th>Temp Type</th>\n",
              "    </tr>\n",
              "  </thead>\n",
              "  <tbody>\n",
              "    <tr>\n",
              "      <th>0</th>\n",
              "      <td>Michael reached my house at 5 PM and left at 9...</td>\n",
              "      <td>Michael visited my house for 16 hours.</td>\n",
              "      <td>2</td>\n",
              "      <td>SINGLE_day_time_12</td>\n",
              "      <td>EQUAL_GOLD</td>\n",
              "      <td>True</td>\n",
              "      <td>Spread</td>\n",
              "    </tr>\n",
              "    <tr>\n",
              "      <th>1</th>\n",
              "      <td>Michael reached my house at 5 PM and left at 9...</td>\n",
              "      <td>Michael visited my house for 17 hours.</td>\n",
              "      <td>0</td>\n",
              "      <td>SINGLE_day_time_12</td>\n",
              "      <td>EQUAL_GOLD+1</td>\n",
              "      <td>True</td>\n",
              "      <td>Spread</td>\n",
              "    </tr>\n",
              "    <tr>\n",
              "      <th>2</th>\n",
              "      <td>Michael reached my house at 5 PM and left at 9...</td>\n",
              "      <td>Michael visited my house for 160 hours.</td>\n",
              "      <td>0</td>\n",
              "      <td>SINGLE_day_time_12</td>\n",
              "      <td>EQUAL_GOLD*10</td>\n",
              "      <td>True</td>\n",
              "      <td>Spread</td>\n",
              "    </tr>\n",
              "    <tr>\n",
              "      <th>3</th>\n",
              "      <td>Michael reached my house at 5 PM and left at 9...</td>\n",
              "      <td>Michael visited my house for 15 hours.</td>\n",
              "      <td>0</td>\n",
              "      <td>SINGLE_day_time_12</td>\n",
              "      <td>EQUAL_GOLD-1</td>\n",
              "      <td>True</td>\n",
              "      <td>Spread</td>\n",
              "    </tr>\n",
              "    <tr>\n",
              "      <th>4</th>\n",
              "      <td>Michael reached my house at 5 PM and left at 9...</td>\n",
              "      <td>Michael visited my house for more than 16 hours.</td>\n",
              "      <td>0</td>\n",
              "      <td>SINGLE_day_time_12</td>\n",
              "      <td>MORE_GOLD</td>\n",
              "      <td>True</td>\n",
              "      <td>Spread</td>\n",
              "    </tr>\n",
              "    <tr>\n",
              "      <th>...</th>\n",
              "      <td>...</td>\n",
              "      <td>...</td>\n",
              "      <td>...</td>\n",
              "      <td>...</td>\n",
              "      <td>...</td>\n",
              "      <td>...</td>\n",
              "      <td>...</td>\n",
              "    </tr>\n",
              "    <tr>\n",
              "      <th>55</th>\n",
              "      <td>She was the president of our country from Sept...</td>\n",
              "      <td>She was the president of our country for more ...</td>\n",
              "      <td>2</td>\n",
              "      <td>DATE_YM_both</td>\n",
              "      <td>MORE_GOLD-1</td>\n",
              "      <td>False</td>\n",
              "      <td>Near</td>\n",
              "    </tr>\n",
              "    <tr>\n",
              "      <th>56</th>\n",
              "      <td>She was the president of our country from Sept...</td>\n",
              "      <td>She was the president of our country for less ...</td>\n",
              "      <td>0</td>\n",
              "      <td>DATE_YM_both</td>\n",
              "      <td>LESS_GOLD</td>\n",
              "      <td>False</td>\n",
              "      <td>Near</td>\n",
              "    </tr>\n",
              "    <tr>\n",
              "      <th>57</th>\n",
              "      <td>She was the president of our country from Sept...</td>\n",
              "      <td>She was the president of our country for less ...</td>\n",
              "      <td>2</td>\n",
              "      <td>DATE_YM_both</td>\n",
              "      <td>LESS_GOLD+1</td>\n",
              "      <td>False</td>\n",
              "      <td>Near</td>\n",
              "    </tr>\n",
              "    <tr>\n",
              "      <th>58</th>\n",
              "      <td>She was the president of our country from Sept...</td>\n",
              "      <td>She was the president of our country for less ...</td>\n",
              "      <td>2</td>\n",
              "      <td>DATE_YM_both</td>\n",
              "      <td>LESS_GOLD*10</td>\n",
              "      <td>False</td>\n",
              "      <td>Near</td>\n",
              "    </tr>\n",
              "    <tr>\n",
              "      <th>59</th>\n",
              "      <td>She was the president of our country from Sept...</td>\n",
              "      <td>She was the president of our country for less ...</td>\n",
              "      <td>0</td>\n",
              "      <td>DATE_YM_both</td>\n",
              "      <td>LESS_GOLD-1</td>\n",
              "      <td>False</td>\n",
              "      <td>Near</td>\n",
              "    </tr>\n",
              "  </tbody>\n",
              "</table>\n",
              "<p>13041 rows × 7 columns</p>\n",
              "</div>"
            ],
            "text/plain": [
              "                                              premise  ... Temp Type\n",
              "0   Michael reached my house at 5 PM and left at 9...  ...    Spread\n",
              "1   Michael reached my house at 5 PM and left at 9...  ...    Spread\n",
              "2   Michael reached my house at 5 PM and left at 9...  ...    Spread\n",
              "3   Michael reached my house at 5 PM and left at 9...  ...    Spread\n",
              "4   Michael reached my house at 5 PM and left at 9...  ...    Spread\n",
              "..                                                ...  ...       ...\n",
              "55  She was the president of our country from Sept...  ...      Near\n",
              "56  She was the president of our country from Sept...  ...      Near\n",
              "57  She was the president of our country from Sept...  ...      Near\n",
              "58  She was the president of our country from Sept...  ...      Near\n",
              "59  She was the president of our country from Sept...  ...      Near\n",
              "\n",
              "[13041 rows x 7 columns]"
            ]
          },
          "metadata": {
            "tags": []
          },
          "execution_count": 6
        }
      ]
    },
    {
      "cell_type": "code",
      "metadata": {
        "colab": {
          "base_uri": "https://localhost:8080/"
        },
        "id": "37O7ZyIfzjN0",
        "outputId": "77c854d3-bde9-474f-8a9d-6aaac81c7a0d"
      },
      "source": [
        "challengeSetTest['label'].value_counts() / sum(challengeSetTest['label'].value_counts())"
      ],
      "execution_count": null,
      "outputs": [
        {
          "output_type": "execute_result",
          "data": {
            "text/plain": [
              "0    0.666667\n",
              "2    0.333333\n",
              "Name: label, dtype: float64"
            ]
          },
          "metadata": {
            "tags": []
          },
          "execution_count": 7
        }
      ]
    },
    {
      "cell_type": "code",
      "metadata": {
        "id": "-j3-EnBCP39S"
      },
      "source": [
        "challengeTrainDataset = CustomDataset(challengeSetTrain)\n",
        "challengeEvalDataset = CustomDataset(challengeSetTest)"
      ],
      "execution_count": null,
      "outputs": []
    },
    {
      "cell_type": "code",
      "metadata": {
        "colab": {
          "base_uri": "https://localhost:8080/",
          "height": 331,
          "referenced_widgets": [
            "1d3ab23b803341f6ab5574b8146edc05",
            "c74f4b9388684546b80caf92293fac3f",
            "ec7928df168346b69c91eaa1f4d89ce5",
            "d95ec764dae24f27898065ed90f1ef3e",
            "04097ce9861b4e7b8d124aa6685e9987",
            "d8271ecad6014c7eb5bf15cdb6e36684",
            "2fad9e375ecf40d8801438e882b9c729",
            "80e495ad86094df49103b513a9fd9d02",
            "c4720a1af57b467195509f4ffdce3352",
            "1112937b3cc246eabd87e5ade85dea2d",
            "95c2aad20974451c96fcf3ffa3bb91f4",
            "fd735c9168fd494d855b9a8ee3d22951",
            "f175f1b0d8794a7f864d310737fe437a",
            "a3450b0286364b26a3184a4b559d6cb4",
            "34bbfe185b3b4935a04e65e9bfdbe85a",
            "142310502b3a4fc1b41502b9d2f71034",
            "d8693e7961134380bde59015e9f090f6",
            "1fc456731d3243ff9bf838eaab547552",
            "f4a73163226a45dc83df1a705463372a",
            "dd15b8e5b47749f49e107d763f563cdd",
            "164f0a09bc87404fbe5eb54ede1c89e2",
            "88115c0297e948acb74fd6a2d95f39ba",
            "7e0b9c4cf5c1450c91344242b47d1d02",
            "af644efb3ce5431faa5d9589ff90de33",
            "185b84c26a5648b6b701eb25fca7c65f",
            "ff48e8ae2fc9409386f2d35985fc309c",
            "3d5db02904064ba5a43fc5b9ce824378",
            "b5ab90fd1623484abaf768fad797ae91",
            "037eaa2e9bd142c2a0052ed32bcc8b72",
            "231c6dbc3028455c89c2409d4e229974",
            "3d1265bf86f64b6e91b0e61eafb288c7",
            "ed19138f1a844fdabe6571665291f570",
            "34e04506da354f47bc5cfd0f273b2e47",
            "03997655306b4da1b94571db4fb3e1fc",
            "625a507f023e497d86dc49aa4efb825c",
            "d119dd25be6a4fe29a3297b22ef93d8c",
            "8b19197bfef742cf8c8e12fb8a9bc31f",
            "10fea9e97a9942ffb39c4062dfc17918",
            "211722b5f82d4ec19615a4136c7a91bd",
            "b320a1f872b14dd386c0b202195e12fd"
          ]
        },
        "id": "ukodH9Y-e3eX",
        "outputId": "ea0c2d19-6fde-4154-ebd7-7dccba471715"
      },
      "source": [
        "MODEL_NAME = 'roberta-large-mnli'\n",
        "modelTokenizer = AutoTokenizer.from_pretrained(MODEL_NAME)\n",
        "model = AutoModelForSequenceClassification.from_pretrained(MODEL_NAME)\n",
        "\n",
        "# for param in model.base_model.parameters():\n",
        "#   param.requires_grad = False"
      ],
      "execution_count": null,
      "outputs": [
        {
          "output_type": "display_data",
          "data": {
            "application/vnd.jupyter.widget-view+json": {
              "model_id": "1d3ab23b803341f6ab5574b8146edc05",
              "version_minor": 0,
              "version_major": 2
            },
            "text/plain": [
              "HBox(children=(FloatProgress(value=0.0, description='Downloading', max=688.0, style=ProgressStyle(description_…"
            ]
          },
          "metadata": {
            "tags": []
          }
        },
        {
          "output_type": "stream",
          "text": [
            "\n"
          ],
          "name": "stdout"
        },
        {
          "output_type": "display_data",
          "data": {
            "application/vnd.jupyter.widget-view+json": {
              "model_id": "c4720a1af57b467195509f4ffdce3352",
              "version_minor": 0,
              "version_major": 2
            },
            "text/plain": [
              "HBox(children=(FloatProgress(value=0.0, description='Downloading', max=898823.0, style=ProgressStyle(descripti…"
            ]
          },
          "metadata": {
            "tags": []
          }
        },
        {
          "output_type": "stream",
          "text": [
            "\n"
          ],
          "name": "stdout"
        },
        {
          "output_type": "display_data",
          "data": {
            "application/vnd.jupyter.widget-view+json": {
              "model_id": "d8693e7961134380bde59015e9f090f6",
              "version_minor": 0,
              "version_major": 2
            },
            "text/plain": [
              "HBox(children=(FloatProgress(value=0.0, description='Downloading', max=456318.0, style=ProgressStyle(descripti…"
            ]
          },
          "metadata": {
            "tags": []
          }
        },
        {
          "output_type": "stream",
          "text": [
            "\n"
          ],
          "name": "stdout"
        },
        {
          "output_type": "display_data",
          "data": {
            "application/vnd.jupyter.widget-view+json": {
              "model_id": "185b84c26a5648b6b701eb25fca7c65f",
              "version_minor": 0,
              "version_major": 2
            },
            "text/plain": [
              "HBox(children=(FloatProgress(value=0.0, description='Downloading', max=1355863.0, style=ProgressStyle(descript…"
            ]
          },
          "metadata": {
            "tags": []
          }
        },
        {
          "output_type": "stream",
          "text": [
            "\n"
          ],
          "name": "stdout"
        },
        {
          "output_type": "display_data",
          "data": {
            "application/vnd.jupyter.widget-view+json": {
              "model_id": "34e04506da354f47bc5cfd0f273b2e47",
              "version_minor": 0,
              "version_major": 2
            },
            "text/plain": [
              "HBox(children=(FloatProgress(value=0.0, description='Downloading', max=1425744429.0, style=ProgressStyle(descr…"
            ]
          },
          "metadata": {
            "tags": []
          }
        },
        {
          "output_type": "stream",
          "text": [
            "\n"
          ],
          "name": "stdout"
        },
        {
          "output_type": "stream",
          "text": [
            "Some weights of the model checkpoint at roberta-large-mnli were not used when initializing RobertaForSequenceClassification: ['roberta.pooler.dense.bias', 'roberta.pooler.dense.weight']\n",
            "- This IS expected if you are initializing RobertaForSequenceClassification from the checkpoint of a model trained on another task or with another architecture (e.g. initializing a BertForSequenceClassification model from a BertForPreTraining model).\n",
            "- This IS NOT expected if you are initializing RobertaForSequenceClassification from the checkpoint of a model that you expect to be exactly identical (initializing a BertForSequenceClassification model from a BertForSequenceClassification model).\n"
          ],
          "name": "stderr"
        }
      ]
    },
    {
      "cell_type": "code",
      "metadata": {
        "id": "SYI7boMGe3eY"
      },
      "source": [
        "trainArgs = TrainingArguments(\n",
        "    output_dir = './outputs',\n",
        "    per_device_eval_batch_size = 128,\n",
        ")\n",
        "\n",
        "trainer = Trainer(\n",
        "    model = model,\n",
        "    args = trainArgs,\n",
        "    data_collator = CustomCollatFunc,\n",
        "    compute_metrics = compute_metrics\n",
        ")"
      ],
      "execution_count": null,
      "outputs": []
    },
    {
      "cell_type": "code",
      "metadata": {
        "colab": {
          "base_uri": "https://localhost:8080/",
          "height": 90
        },
        "id": "rWaLfROPe3eY",
        "outputId": "cd666943-1acc-47d7-895e-481c81e7a76e"
      },
      "source": [
        "# Testing on Challenge Set 2\n",
        "predictions = trainer.predict(challengeEvalDataset)"
      ],
      "execution_count": null,
      "outputs": [
        {
          "output_type": "display_data",
          "data": {
            "text/html": [
              "\n",
              "    <div>\n",
              "      \n",
              "      <progress value='41' max='41' style='width:300px; height:20px; vertical-align: middle;'></progress>\n",
              "      [41/41 01:03]\n",
              "    </div>\n",
              "    "
            ],
            "text/plain": [
              "<IPython.core.display.HTML object>"
            ]
          },
          "metadata": {
            "tags": []
          }
        },
        {
          "output_type": "stream",
          "text": [
            "/usr/local/lib/python3.7/dist-packages/sklearn/metrics/_classification.py:1272: UndefinedMetricWarning: Recall and F-score are ill-defined and being set to 0.0 in labels with no true samples. Use `zero_division` parameter to control this behavior.\n",
            "  _warn_prf(average, modifier, msg_start, len(result))\n"
          ],
          "name": "stderr"
        }
      ]
    },
    {
      "cell_type": "code",
      "metadata": {
        "colab": {
          "base_uri": "https://localhost:8080/"
        },
        "id": "Az9ruTp2e3eZ",
        "outputId": "c47c6132-30ee-4449-f025-f2463f6fec20"
      },
      "source": [
        "predInds = predictions.predictions.argmax(-1)\n",
        "trueInds = challengeSetTest['label'].values\n",
        "print(classification_report(trueInds, predInds))"
      ],
      "execution_count": null,
      "outputs": [
        {
          "output_type": "stream",
          "text": [
            "/usr/local/lib/python3.7/dist-packages/sklearn/metrics/_classification.py:1272: UndefinedMetricWarning: Recall and F-score are ill-defined and being set to 0.0 in labels with no true samples. Use `zero_division` parameter to control this behavior.\n",
            "  _warn_prf(average, modifier, msg_start, len(result))\n"
          ],
          "name": "stderr"
        },
        {
          "output_type": "stream",
          "text": [
            "              precision    recall  f1-score   support\n",
            "\n",
            "           0       0.88      0.09      0.16      3468\n",
            "           1       0.00      0.00      0.00         0\n",
            "           2       0.36      0.95      0.52      1734\n",
            "\n",
            "    accuracy                           0.38      5202\n",
            "   macro avg       0.41      0.35      0.23      5202\n",
            "weighted avg       0.70      0.38      0.28      5202\n",
            "\n"
          ],
          "name": "stdout"
        }
      ]
    },
    {
      "cell_type": "code",
      "metadata": {
        "id": "ti07NLeIe3eZ"
      },
      "source": [
        "# Training MNLI model on Challenge Set 2\n",
        "trainArgs = TrainingArguments(\n",
        "    output_dir = './outputs',\n",
        "    num_train_epochs = 1,\n",
        "    evaluation_strategy = 'epoch',\n",
        "    per_device_train_batch_size = 16,\n",
        "    per_device_eval_batch_size = 128,\n",
        "    learning_rate = 2e-5,\n",
        "    weight_decay = 0.1,\n",
        "    load_best_model_at_end = True,\n",
        "    metric_for_best_model = 'eval_accuracy'\n",
        ")\n",
        "\n",
        "trainer = Trainer(\n",
        "    model = model,\n",
        "    args = trainArgs,\n",
        "    train_dataset = challengeTrainDataset,\n",
        "    eval_dataset = challengeEvalDataset,\n",
        "    data_collator = CustomCollatFunc,\n",
        "    compute_metrics = compute_metrics,\n",
        "    callbacks = [EarlyStoppingCallback(early_stopping_patience=2)]\n",
        ")"
      ],
      "execution_count": null,
      "outputs": []
    },
    {
      "cell_type": "code",
      "metadata": {
        "colab": {
          "base_uri": "https://localhost:8080/",
          "height": 377
        },
        "id": "GLdgLHIRe3eZ",
        "outputId": "219adf90-262c-4334-ad2f-90ee1504c320"
      },
      "source": [
        "trainer.train()"
      ],
      "execution_count": null,
      "outputs": [
        {
          "output_type": "display_data",
          "data": {
            "text/html": [
              "\n",
              "    <div>\n",
              "      \n",
              "      <progress value='3' max='816' style='width:300px; height:20px; vertical-align: middle;'></progress>\n",
              "      [  3/816 00:36 < 8:10:19, 0.03 it/s, Epoch 0.00/1]\n",
              "    </div>\n",
              "    <table border=\"1\" class=\"dataframe\">\n",
              "  <thead>\n",
              "    <tr style=\"text-align: left;\">\n",
              "      <th>Epoch</th>\n",
              "      <th>Training Loss</th>\n",
              "      <th>Validation Loss</th>\n",
              "    </tr>\n",
              "  </thead>\n",
              "  <tbody>\n",
              "  </tbody>\n",
              "</table><p>"
            ],
            "text/plain": [
              "<IPython.core.display.HTML object>"
            ]
          },
          "metadata": {
            "tags": []
          }
        },
        {
          "output_type": "error",
          "ename": "KeyboardInterrupt",
          "evalue": "ignored",
          "traceback": [
            "\u001b[0;31m---------------------------------------------------------------------------\u001b[0m",
            "\u001b[0;31mKeyboardInterrupt\u001b[0m                         Traceback (most recent call last)",
            "\u001b[0;32m<ipython-input-12-3435b262f1ae>\u001b[0m in \u001b[0;36m<module>\u001b[0;34m()\u001b[0m\n\u001b[0;32m----> 1\u001b[0;31m \u001b[0mtrainer\u001b[0m\u001b[0;34m.\u001b[0m\u001b[0mtrain\u001b[0m\u001b[0;34m(\u001b[0m\u001b[0;34m)\u001b[0m\u001b[0;34m\u001b[0m\u001b[0;34m\u001b[0m\u001b[0m\n\u001b[0m",
            "\u001b[0;32m/usr/local/lib/python3.7/dist-packages/transformers/trainer.py\u001b[0m in \u001b[0;36mtrain\u001b[0;34m(self, resume_from_checkpoint, trial, **kwargs)\u001b[0m\n\u001b[1;32m   1270\u001b[0m                         \u001b[0mtr_loss\u001b[0m \u001b[0;34m+=\u001b[0m \u001b[0mself\u001b[0m\u001b[0;34m.\u001b[0m\u001b[0mtraining_step\u001b[0m\u001b[0;34m(\u001b[0m\u001b[0mmodel\u001b[0m\u001b[0;34m,\u001b[0m \u001b[0minputs\u001b[0m\u001b[0;34m)\u001b[0m\u001b[0;34m\u001b[0m\u001b[0;34m\u001b[0m\u001b[0m\n\u001b[1;32m   1271\u001b[0m                 \u001b[0;32melse\u001b[0m\u001b[0;34m:\u001b[0m\u001b[0;34m\u001b[0m\u001b[0;34m\u001b[0m\u001b[0m\n\u001b[0;32m-> 1272\u001b[0;31m                     \u001b[0mtr_loss\u001b[0m \u001b[0;34m+=\u001b[0m \u001b[0mself\u001b[0m\u001b[0;34m.\u001b[0m\u001b[0mtraining_step\u001b[0m\u001b[0;34m(\u001b[0m\u001b[0mmodel\u001b[0m\u001b[0;34m,\u001b[0m \u001b[0minputs\u001b[0m\u001b[0;34m)\u001b[0m\u001b[0;34m\u001b[0m\u001b[0;34m\u001b[0m\u001b[0m\n\u001b[0m\u001b[1;32m   1273\u001b[0m                 \u001b[0mself\u001b[0m\u001b[0;34m.\u001b[0m\u001b[0mcurrent_flos\u001b[0m \u001b[0;34m+=\u001b[0m \u001b[0mfloat\u001b[0m\u001b[0;34m(\u001b[0m\u001b[0mself\u001b[0m\u001b[0;34m.\u001b[0m\u001b[0mfloating_point_ops\u001b[0m\u001b[0;34m(\u001b[0m\u001b[0minputs\u001b[0m\u001b[0;34m)\u001b[0m\u001b[0;34m)\u001b[0m\u001b[0;34m\u001b[0m\u001b[0;34m\u001b[0m\u001b[0m\n\u001b[1;32m   1274\u001b[0m \u001b[0;34m\u001b[0m\u001b[0m\n",
            "\u001b[0;32m/usr/local/lib/python3.7/dist-packages/transformers/trainer.py\u001b[0m in \u001b[0;36mtraining_step\u001b[0;34m(self, model, inputs)\u001b[0m\n\u001b[1;32m   1750\u001b[0m             \u001b[0mloss\u001b[0m \u001b[0;34m=\u001b[0m \u001b[0mself\u001b[0m\u001b[0;34m.\u001b[0m\u001b[0mdeepspeed\u001b[0m\u001b[0;34m.\u001b[0m\u001b[0mbackward\u001b[0m\u001b[0;34m(\u001b[0m\u001b[0mloss\u001b[0m\u001b[0;34m)\u001b[0m\u001b[0;34m\u001b[0m\u001b[0;34m\u001b[0m\u001b[0m\n\u001b[1;32m   1751\u001b[0m         \u001b[0;32melse\u001b[0m\u001b[0;34m:\u001b[0m\u001b[0;34m\u001b[0m\u001b[0;34m\u001b[0m\u001b[0m\n\u001b[0;32m-> 1752\u001b[0;31m             \u001b[0mloss\u001b[0m\u001b[0;34m.\u001b[0m\u001b[0mbackward\u001b[0m\u001b[0;34m(\u001b[0m\u001b[0;34m)\u001b[0m\u001b[0;34m\u001b[0m\u001b[0;34m\u001b[0m\u001b[0m\n\u001b[0m\u001b[1;32m   1753\u001b[0m \u001b[0;34m\u001b[0m\u001b[0m\n\u001b[1;32m   1754\u001b[0m         \u001b[0;32mreturn\u001b[0m \u001b[0mloss\u001b[0m\u001b[0;34m.\u001b[0m\u001b[0mdetach\u001b[0m\u001b[0;34m(\u001b[0m\u001b[0;34m)\u001b[0m\u001b[0;34m\u001b[0m\u001b[0;34m\u001b[0m\u001b[0m\n",
            "\u001b[0;32m/usr/local/lib/python3.7/dist-packages/torch/tensor.py\u001b[0m in \u001b[0;36mbackward\u001b[0;34m(self, gradient, retain_graph, create_graph, inputs)\u001b[0m\n\u001b[1;32m    243\u001b[0m                 \u001b[0mcreate_graph\u001b[0m\u001b[0;34m=\u001b[0m\u001b[0mcreate_graph\u001b[0m\u001b[0;34m,\u001b[0m\u001b[0;34m\u001b[0m\u001b[0;34m\u001b[0m\u001b[0m\n\u001b[1;32m    244\u001b[0m                 inputs=inputs)\n\u001b[0;32m--> 245\u001b[0;31m         \u001b[0mtorch\u001b[0m\u001b[0;34m.\u001b[0m\u001b[0mautograd\u001b[0m\u001b[0;34m.\u001b[0m\u001b[0mbackward\u001b[0m\u001b[0;34m(\u001b[0m\u001b[0mself\u001b[0m\u001b[0;34m,\u001b[0m \u001b[0mgradient\u001b[0m\u001b[0;34m,\u001b[0m \u001b[0mretain_graph\u001b[0m\u001b[0;34m,\u001b[0m \u001b[0mcreate_graph\u001b[0m\u001b[0;34m,\u001b[0m \u001b[0minputs\u001b[0m\u001b[0;34m=\u001b[0m\u001b[0minputs\u001b[0m\u001b[0;34m)\u001b[0m\u001b[0;34m\u001b[0m\u001b[0;34m\u001b[0m\u001b[0m\n\u001b[0m\u001b[1;32m    246\u001b[0m \u001b[0;34m\u001b[0m\u001b[0m\n\u001b[1;32m    247\u001b[0m     \u001b[0;32mdef\u001b[0m \u001b[0mregister_hook\u001b[0m\u001b[0;34m(\u001b[0m\u001b[0mself\u001b[0m\u001b[0;34m,\u001b[0m \u001b[0mhook\u001b[0m\u001b[0;34m)\u001b[0m\u001b[0;34m:\u001b[0m\u001b[0;34m\u001b[0m\u001b[0;34m\u001b[0m\u001b[0m\n",
            "\u001b[0;32m/usr/local/lib/python3.7/dist-packages/torch/autograd/__init__.py\u001b[0m in \u001b[0;36mbackward\u001b[0;34m(tensors, grad_tensors, retain_graph, create_graph, grad_variables, inputs)\u001b[0m\n\u001b[1;32m    145\u001b[0m     Variable._execution_engine.run_backward(\n\u001b[1;32m    146\u001b[0m         \u001b[0mtensors\u001b[0m\u001b[0;34m,\u001b[0m \u001b[0mgrad_tensors_\u001b[0m\u001b[0;34m,\u001b[0m \u001b[0mretain_graph\u001b[0m\u001b[0;34m,\u001b[0m \u001b[0mcreate_graph\u001b[0m\u001b[0;34m,\u001b[0m \u001b[0minputs\u001b[0m\u001b[0;34m,\u001b[0m\u001b[0;34m\u001b[0m\u001b[0;34m\u001b[0m\u001b[0m\n\u001b[0;32m--> 147\u001b[0;31m         allow_unreachable=True, accumulate_grad=True)  # allow_unreachable flag\n\u001b[0m\u001b[1;32m    148\u001b[0m \u001b[0;34m\u001b[0m\u001b[0m\n\u001b[1;32m    149\u001b[0m \u001b[0;34m\u001b[0m\u001b[0m\n",
            "\u001b[0;31mKeyboardInterrupt\u001b[0m: "
          ]
        }
      ]
    },
    {
      "cell_type": "code",
      "metadata": {
        "colab": {
          "base_uri": "https://localhost:8080/",
          "height": 37
        },
        "id": "0k1jkD4Ze3ea",
        "outputId": "41ac0ebb-86e3-433c-f7a0-1effb69ff81c"
      },
      "source": [
        "predictions = trainer.predict(challengeEvalDataset)"
      ],
      "execution_count": null,
      "outputs": [
        {
          "output_type": "display_data",
          "data": {
            "text/html": [
              "\n",
              "    <div>\n",
              "      \n",
              "      <progress value='41' max='41' style='width:300px; height:20px; vertical-align: middle;'></progress>\n",
              "      [41/41 01:05]\n",
              "    </div>\n",
              "    "
            ],
            "text/plain": [
              "<IPython.core.display.HTML object>"
            ]
          },
          "metadata": {
            "tags": []
          }
        }
      ]
    },
    {
      "cell_type": "code",
      "metadata": {
        "colab": {
          "base_uri": "https://localhost:8080/"
        },
        "id": "_n8R89C5e3ea",
        "outputId": "76e6c2ce-2763-439e-ea05-011d39abec1b"
      },
      "source": [
        "predInds = predictions.predictions.argmax(-1)\n",
        "trueInds = challengeSetTest['label'].values\n",
        "print(classification_report(trueInds, predInds))"
      ],
      "execution_count": null,
      "outputs": [
        {
          "output_type": "stream",
          "text": [
            "              precision    recall  f1-score   support\n",
            "\n",
            "           0       0.73      0.98      0.84      3468\n",
            "           2       0.89      0.28      0.43      1734\n",
            "\n",
            "    accuracy                           0.75      5202\n",
            "   macro avg       0.81      0.63      0.64      5202\n",
            "weighted avg       0.79      0.75      0.70      5202\n",
            "\n"
          ],
          "name": "stdout"
        }
      ]
    },
    {
      "cell_type": "code",
      "metadata": {
        "id": "ejovAxQotAhz"
      },
      "source": [
        "challengeSet = pd.read_csv('/content/drive/MyDrive/Projects/Temporal Awareness/challengeSet2DF_test_preds.csv', index_col=0)\n",
        "challengeSet['pred_mnli_trained'] = predInds\n",
        "challengeSet.to_csv('/content/drive/MyDrive/Projects/Temporal Awareness/challengeSet2DF_test_preds.csv')"
      ],
      "execution_count": null,
      "outputs": []
    },
    {
      "cell_type": "markdown",
      "metadata": {
        "id": "g0t389uEe3ea"
      },
      "source": [
        "##### c) UDS Duration Model"
      ]
    },
    {
      "cell_type": "code",
      "metadata": {
        "id": "etJFvgQGe3ea"
      },
      "source": [
        "udsDevDF = pd.read_json('/content/drive/MyDrive/Projects/Temporal Awareness/recast_temporal-duration_data_dev.json', \n",
        "                             orient='records')\n",
        "udsTestDF = pd.read_json('/content/drive/MyDrive/Projects/Temporal Awareness/recast_temporal-duration_data_test.json', \n",
        "                             orient='records')\n",
        "\n",
        "udsDevDF['label'].replace(to_replace='entailed', value=1, inplace=True)\n",
        "udsDevDF['label'].replace(to_replace='not-entailed', value=0, inplace=True)\n",
        "udsTestDF['label'].replace(to_replace='entailed', value=1, inplace=True)\n",
        "udsTestDF['label'].replace(to_replace='not-entailed', value=0, inplace=True)\n",
        "\n",
        "udsDevDF.rename(columns={'context':'premise'}, inplace=True)\n",
        "udsTestDF.rename(columns={'context':'premise'}, inplace=True)"
      ],
      "execution_count": null,
      "outputs": []
    },
    {
      "cell_type": "code",
      "metadata": {
        "colab": {
          "base_uri": "https://localhost:8080/",
          "height": 586
        },
        "id": "1MU48RIdj1uG",
        "outputId": "aff29a34-05dd-4955-b46c-18a55d5d006e"
      },
      "source": [
        "challengeSetTrain = pd.read_csv('/content/drive/MyDrive/Projects/Temporal Awareness/challengeSet2DF_train.csv', index_col=0)\n",
        "challengeSetTrain['Label'].replace(to_replace='Entailment', value=1, inplace=True)\n",
        "challengeSetTrain['Label'].replace(to_replace='Neutral', value=0, inplace=True)\n",
        "challengeSetTrain['Label'].replace(to_replace='Contradiction', value=0, inplace=True)\n",
        "challengeSetTrain.rename(columns={'Premise':'premise', 'Hypothesis':'hypothesis', 'Label':'label'}, inplace=True)\n",
        "\n",
        "challengeSetTest = pd.read_csv('/content/drive/MyDrive/Projects/Temporal Awareness/challengeSet2DF_test.csv', index_col=0)\n",
        "challengeSetTest['Label'].replace(to_replace='Entailment', value=1, inplace=True)\n",
        "challengeSetTest['Label'].replace(to_replace='Neutral', value=0, inplace=True)\n",
        "challengeSetTest['Label'].replace(to_replace='Contradiction', value=0, inplace=True)\n",
        "challengeSetTest.rename(columns={'Premise':'premise', 'Hypothesis':'hypothesis', 'Label':'label'}, inplace=True)\n",
        "\n",
        "challengeSetTrain"
      ],
      "execution_count": null,
      "outputs": [
        {
          "output_type": "execute_result",
          "data": {
            "text/html": [
              "<div>\n",
              "<style scoped>\n",
              "    .dataframe tbody tr th:only-of-type {\n",
              "        vertical-align: middle;\n",
              "    }\n",
              "\n",
              "    .dataframe tbody tr th {\n",
              "        vertical-align: top;\n",
              "    }\n",
              "\n",
              "    .dataframe thead th {\n",
              "        text-align: right;\n",
              "    }\n",
              "</style>\n",
              "<table border=\"1\" class=\"dataframe\">\n",
              "  <thead>\n",
              "    <tr style=\"text-align: right;\">\n",
              "      <th></th>\n",
              "      <th>premise</th>\n",
              "      <th>hypothesis</th>\n",
              "      <th>label</th>\n",
              "      <th>Type</th>\n",
              "      <th>Dur Type</th>\n",
              "      <th>Next Cycle</th>\n",
              "      <th>Temp Type</th>\n",
              "    </tr>\n",
              "  </thead>\n",
              "  <tbody>\n",
              "    <tr>\n",
              "      <th>0</th>\n",
              "      <td>Michael reached my house at 5 PM and left at 9...</td>\n",
              "      <td>Michael visited my house for 16 hours.</td>\n",
              "      <td>1</td>\n",
              "      <td>SINGLE_day_time_12</td>\n",
              "      <td>EQUAL_GOLD</td>\n",
              "      <td>True</td>\n",
              "      <td>Spread</td>\n",
              "    </tr>\n",
              "    <tr>\n",
              "      <th>1</th>\n",
              "      <td>Michael reached my house at 5 PM and left at 9...</td>\n",
              "      <td>Michael visited my house for 17 hours.</td>\n",
              "      <td>0</td>\n",
              "      <td>SINGLE_day_time_12</td>\n",
              "      <td>EQUAL_GOLD+1</td>\n",
              "      <td>True</td>\n",
              "      <td>Spread</td>\n",
              "    </tr>\n",
              "    <tr>\n",
              "      <th>2</th>\n",
              "      <td>Michael reached my house at 5 PM and left at 9...</td>\n",
              "      <td>Michael visited my house for 160 hours.</td>\n",
              "      <td>0</td>\n",
              "      <td>SINGLE_day_time_12</td>\n",
              "      <td>EQUAL_GOLD*10</td>\n",
              "      <td>True</td>\n",
              "      <td>Spread</td>\n",
              "    </tr>\n",
              "    <tr>\n",
              "      <th>3</th>\n",
              "      <td>Michael reached my house at 5 PM and left at 9...</td>\n",
              "      <td>Michael visited my house for 15 hours.</td>\n",
              "      <td>0</td>\n",
              "      <td>SINGLE_day_time_12</td>\n",
              "      <td>EQUAL_GOLD-1</td>\n",
              "      <td>True</td>\n",
              "      <td>Spread</td>\n",
              "    </tr>\n",
              "    <tr>\n",
              "      <th>4</th>\n",
              "      <td>Michael reached my house at 5 PM and left at 9...</td>\n",
              "      <td>Michael visited my house for more than 16 hours.</td>\n",
              "      <td>0</td>\n",
              "      <td>SINGLE_day_time_12</td>\n",
              "      <td>MORE_GOLD</td>\n",
              "      <td>True</td>\n",
              "      <td>Spread</td>\n",
              "    </tr>\n",
              "    <tr>\n",
              "      <th>...</th>\n",
              "      <td>...</td>\n",
              "      <td>...</td>\n",
              "      <td>...</td>\n",
              "      <td>...</td>\n",
              "      <td>...</td>\n",
              "      <td>...</td>\n",
              "      <td>...</td>\n",
              "    </tr>\n",
              "    <tr>\n",
              "      <th>55</th>\n",
              "      <td>She was the president of our country from Sept...</td>\n",
              "      <td>She was the president of our country for more ...</td>\n",
              "      <td>1</td>\n",
              "      <td>DATE_YM_both</td>\n",
              "      <td>MORE_GOLD-1</td>\n",
              "      <td>False</td>\n",
              "      <td>Near</td>\n",
              "    </tr>\n",
              "    <tr>\n",
              "      <th>56</th>\n",
              "      <td>She was the president of our country from Sept...</td>\n",
              "      <td>She was the president of our country for less ...</td>\n",
              "      <td>0</td>\n",
              "      <td>DATE_YM_both</td>\n",
              "      <td>LESS_GOLD</td>\n",
              "      <td>False</td>\n",
              "      <td>Near</td>\n",
              "    </tr>\n",
              "    <tr>\n",
              "      <th>57</th>\n",
              "      <td>She was the president of our country from Sept...</td>\n",
              "      <td>She was the president of our country for less ...</td>\n",
              "      <td>1</td>\n",
              "      <td>DATE_YM_both</td>\n",
              "      <td>LESS_GOLD+1</td>\n",
              "      <td>False</td>\n",
              "      <td>Near</td>\n",
              "    </tr>\n",
              "    <tr>\n",
              "      <th>58</th>\n",
              "      <td>She was the president of our country from Sept...</td>\n",
              "      <td>She was the president of our country for less ...</td>\n",
              "      <td>1</td>\n",
              "      <td>DATE_YM_both</td>\n",
              "      <td>LESS_GOLD*10</td>\n",
              "      <td>False</td>\n",
              "      <td>Near</td>\n",
              "    </tr>\n",
              "    <tr>\n",
              "      <th>59</th>\n",
              "      <td>She was the president of our country from Sept...</td>\n",
              "      <td>She was the president of our country for less ...</td>\n",
              "      <td>0</td>\n",
              "      <td>DATE_YM_both</td>\n",
              "      <td>LESS_GOLD-1</td>\n",
              "      <td>False</td>\n",
              "      <td>Near</td>\n",
              "    </tr>\n",
              "  </tbody>\n",
              "</table>\n",
              "<p>13041 rows × 7 columns</p>\n",
              "</div>"
            ],
            "text/plain": [
              "                                              premise  ... Temp Type\n",
              "0   Michael reached my house at 5 PM and left at 9...  ...    Spread\n",
              "1   Michael reached my house at 5 PM and left at 9...  ...    Spread\n",
              "2   Michael reached my house at 5 PM and left at 9...  ...    Spread\n",
              "3   Michael reached my house at 5 PM and left at 9...  ...    Spread\n",
              "4   Michael reached my house at 5 PM and left at 9...  ...    Spread\n",
              "..                                                ...  ...       ...\n",
              "55  She was the president of our country from Sept...  ...      Near\n",
              "56  She was the president of our country from Sept...  ...      Near\n",
              "57  She was the president of our country from Sept...  ...      Near\n",
              "58  She was the president of our country from Sept...  ...      Near\n",
              "59  She was the president of our country from Sept...  ...      Near\n",
              "\n",
              "[13041 rows x 7 columns]"
            ]
          },
          "metadata": {
            "tags": []
          },
          "execution_count": 7
        }
      ]
    },
    {
      "cell_type": "code",
      "metadata": {
        "colab": {
          "base_uri": "https://localhost:8080/"
        },
        "id": "tf9q5mi0z4Tx",
        "outputId": "40c940cd-239c-4551-f86b-d177bac0c169"
      },
      "source": [
        "challengeSetTest['label'].value_counts() / sum(challengeSetTest['label'].value_counts())"
      ],
      "execution_count": null,
      "outputs": [
        {
          "output_type": "execute_result",
          "data": {
            "text/plain": [
              "0    0.666667\n",
              "1    0.333333\n",
              "Name: label, dtype: float64"
            ]
          },
          "metadata": {
            "tags": []
          },
          "execution_count": 8
        }
      ]
    },
    {
      "cell_type": "code",
      "metadata": {
        "id": "C4N90vxUe3eb"
      },
      "source": [
        "evalDataset = CustomDataset(udsDevDF)\n",
        "testDataset = CustomDataset(udsTestDF)\n",
        "challengeTrainDataset = CustomDataset(challengeSetTrain)\n",
        "challengeEvalDataset = CustomDataset(challengeSetTest)"
      ],
      "execution_count": null,
      "outputs": []
    },
    {
      "cell_type": "code",
      "metadata": {
        "colab": {
          "base_uri": "https://localhost:8080/"
        },
        "id": "Gkl4X5tse3eb",
        "outputId": "def83601-bb46-47e6-9997-a908bbb180c4"
      },
      "source": [
        "MODEL_NAME = '/content/drive/MyDrive/Projects/Temporal Awareness/Models/roberta-large_uds_dur_lr_2e-05_wt_0.1_ws_122_hypo_only_False/checkpoint-6000'\n",
        "modelTokenizer = AutoTokenizer.from_pretrained(MODEL_NAME)\n",
        "model = AutoModelForSequenceClassification.from_pretrained(MODEL_NAME)\n",
        "\n",
        "# for param in model.base_model.parameters():\n",
        "#   param.requires_grad = False"
      ],
      "execution_count": null,
      "outputs": [
        {
          "output_type": "stream",
          "text": [
            "Some weights of the model checkpoint at /content/drive/MyDrive/Projects/Temporal Awareness/Models/roberta-large_uds_dur_lr_2e-05_wt_0.1_ws_122_hypo_only_False/checkpoint-6000 were not used when initializing RobertaForSequenceClassification: ['roberta.pooler.dense.bias', 'roberta.pooler.dense.weight']\n",
            "- This IS expected if you are initializing RobertaForSequenceClassification from the checkpoint of a model trained on another task or with another architecture (e.g. initializing a BertForSequenceClassification model from a BertForPreTraining model).\n",
            "- This IS NOT expected if you are initializing RobertaForSequenceClassification from the checkpoint of a model that you expect to be exactly identical (initializing a BertForSequenceClassification model from a BertForSequenceClassification model).\n"
          ],
          "name": "stderr"
        }
      ]
    },
    {
      "cell_type": "code",
      "metadata": {
        "id": "2LnGpW_Ue3ec"
      },
      "source": [
        "trainArgs = TrainingArguments(\n",
        "    output_dir = './outputs',\n",
        "    per_device_eval_batch_size = 128,\n",
        ")\n",
        "\n",
        "trainer = Trainer(\n",
        "    model = model,\n",
        "    args = trainArgs,\n",
        "    eval_dataset = evalDataset,\n",
        "    data_collator = CustomCollatFunc,\n",
        "    compute_metrics = compute_metrics\n",
        ")"
      ],
      "execution_count": null,
      "outputs": []
    },
    {
      "cell_type": "code",
      "metadata": {
        "colab": {
          "base_uri": "https://localhost:8080/",
          "height": 289
        },
        "id": "4JR1dz2Ne3ed",
        "outputId": "c0f25cfc-907a-4a6f-ef7e-1475341b1cd6"
      },
      "source": [
        "# Testing on UDS Duration Dev Set\n",
        "trainer.evaluate()"
      ],
      "execution_count": null,
      "outputs": [
        {
          "output_type": "display_data",
          "data": {
            "text/html": [
              "\n",
              "    <div>\n",
              "      \n",
              "      <progress value='270' max='270' style='width:300px; height:20px; vertical-align: middle;'></progress>\n",
              "      [270/270 06:32]\n",
              "    </div>\n",
              "    "
            ],
            "text/plain": [
              "<IPython.core.display.HTML object>"
            ]
          },
          "metadata": {
            "tags": []
          }
        },
        {
          "output_type": "execute_result",
          "data": {
            "text/plain": [
              "{'eval_accuracy': 0.9371479997677524,\n",
              " 'eval_f1': 0.9371475216971675,\n",
              " 'eval_loss': 0.23985172808170319,\n",
              " 'eval_mem_cpu_alloc_delta': 12431360,\n",
              " 'eval_mem_cpu_peaked_delta': 0,\n",
              " 'eval_mem_gpu_alloc_delta': 0,\n",
              " 'eval_mem_gpu_peaked_delta': 403554816,\n",
              " 'eval_precision': 0.9371613003703183,\n",
              " 'eval_recall': 0.9371479997677524,\n",
              " 'eval_runtime': 394.4031,\n",
              " 'eval_samples_per_second': 87.337,\n",
              " 'init_mem_cpu_alloc_delta': 1380179968,\n",
              " 'init_mem_cpu_peaked_delta': 0,\n",
              " 'init_mem_gpu_alloc_delta': 1421452288,\n",
              " 'init_mem_gpu_peaked_delta': 0}"
            ]
          },
          "metadata": {
            "tags": []
          },
          "execution_count": 10
        }
      ]
    },
    {
      "cell_type": "code",
      "metadata": {
        "colab": {
          "base_uri": "https://localhost:8080/",
          "height": 37
        },
        "id": "K9zWRIB0e3ed",
        "outputId": "7d8cd04b-e4d7-4269-def5-1b6270d45deb"
      },
      "source": [
        "# Testing on UDS Duration Test Set\n",
        "predictions = trainer.predict(testDataset)"
      ],
      "execution_count": null,
      "outputs": [
        {
          "output_type": "display_data",
          "data": {
            "text/html": [
              "\n",
              "    <div>\n",
              "      \n",
              "      <progress value='519' max='270' style='width:300px; height:20px; vertical-align: middle;'></progress>\n",
              "      [270/270 12:48]\n",
              "    </div>\n",
              "    "
            ],
            "text/plain": [
              "<IPython.core.display.HTML object>"
            ]
          },
          "metadata": {
            "tags": []
          }
        }
      ]
    },
    {
      "cell_type": "code",
      "metadata": {
        "colab": {
          "base_uri": "https://localhost:8080/"
        },
        "id": "bbUkY1jDe3ed",
        "outputId": "0653ab47-234a-401d-fc3a-999b9d667b71"
      },
      "source": [
        "predInds = predictions.predictions.argmax(-1)\n",
        "trueInds = udsTestDF['label'].values\n",
        "print(classification_report(trueInds, predInds))"
      ],
      "execution_count": null,
      "outputs": [
        {
          "output_type": "stream",
          "text": [
            "              precision    recall  f1-score   support\n",
            "\n",
            "           0       0.95      0.94      0.95     15927\n",
            "           1       0.94      0.95      0.95     15927\n",
            "\n",
            "    accuracy                           0.95     31854\n",
            "   macro avg       0.95      0.95      0.95     31854\n",
            "weighted avg       0.95      0.95      0.95     31854\n",
            "\n"
          ],
          "name": "stdout"
        }
      ]
    },
    {
      "cell_type": "code",
      "metadata": {
        "colab": {
          "base_uri": "https://localhost:8080/",
          "height": 37
        },
        "id": "7jVwFYXre3ee",
        "outputId": "bf4dd0ca-ae1f-4587-cec7-0f91dc378358"
      },
      "source": [
        "# Testing on Challenge Set 2\n",
        "predictions = trainer.predict(challengeEvalDataset)"
      ],
      "execution_count": null,
      "outputs": [
        {
          "output_type": "display_data",
          "data": {
            "text/html": [
              "\n",
              "    <div>\n",
              "      \n",
              "      <progress value='41' max='41' style='width:300px; height:20px; vertical-align: middle;'></progress>\n",
              "      [41/41 00:30]\n",
              "    </div>\n",
              "    "
            ],
            "text/plain": [
              "<IPython.core.display.HTML object>"
            ]
          },
          "metadata": {
            "tags": []
          }
        }
      ]
    },
    {
      "cell_type": "code",
      "metadata": {
        "colab": {
          "base_uri": "https://localhost:8080/"
        },
        "id": "U7zg6ttoe3ee",
        "outputId": "aee4148f-cad4-4b54-d1e9-8f14c52191cd"
      },
      "source": [
        "predInds = predictions.predictions.argmax(-1)\n",
        "trueInds = challengeSetTest['label'].values\n",
        "print(classification_report(trueInds, predInds))"
      ],
      "execution_count": null,
      "outputs": [
        {
          "output_type": "stream",
          "text": [
            "              precision    recall  f1-score   support\n",
            "\n",
            "           0       0.71      0.74      0.72      3468\n",
            "           1       0.43      0.39      0.41      1734\n",
            "\n",
            "    accuracy                           0.62      5202\n",
            "   macro avg       0.57      0.57      0.57      5202\n",
            "weighted avg       0.62      0.62      0.62      5202\n",
            "\n"
          ],
          "name": "stdout"
        }
      ]
    },
    {
      "cell_type": "code",
      "metadata": {
        "id": "CvfoFiLCe3ee"
      },
      "source": [
        "trainArgs = TrainingArguments(\n",
        "    output_dir = './outputs',\n",
        "    num_train_epochs = 5,\n",
        "    evaluation_strategy = 'epoch',\n",
        "    per_device_train_batch_size = 16,\n",
        "    per_device_eval_batch_size = 128,\n",
        "    learning_rate = 2e-5,\n",
        "    weight_decay = 0.1,\n",
        "    load_best_model_at_end = True,\n",
        "    metric_for_best_model = 'eval_accuracy'\n",
        ")\n",
        "\n",
        "trainer = Trainer(\n",
        "    model = model,\n",
        "    args = trainArgs,\n",
        "    train_dataset = challengeTrainDataset,\n",
        "    eval_dataset = challengeEvalDataset,\n",
        "    data_collator = CustomCollatFunc,\n",
        "    compute_metrics = compute_metrics,\n",
        "    callbacks = [EarlyStoppingCallback(early_stopping_patience=2)]\n",
        ")"
      ],
      "execution_count": null,
      "outputs": []
    },
    {
      "cell_type": "code",
      "metadata": {
        "colab": {
          "base_uri": "https://localhost:8080/",
          "height": 300
        },
        "id": "AiCc-PHNe3ee",
        "outputId": "cdfc1358-c742-473e-e938-4894de6c066f"
      },
      "source": [
        "trainer.train()"
      ],
      "execution_count": null,
      "outputs": [
        {
          "output_type": "display_data",
          "data": {
            "text/html": [
              "\n",
              "    <div>\n",
              "      \n",
              "      <progress value='2448' max='4080' style='width:300px; height:20px; vertical-align: middle;'></progress>\n",
              "      [2448/4080 37:19 < 24:53, 1.09 it/s, Epoch 3/5]\n",
              "    </div>\n",
              "    <table border=\"1\" class=\"dataframe\">\n",
              "  <thead>\n",
              "    <tr style=\"text-align: left;\">\n",
              "      <th>Epoch</th>\n",
              "      <th>Training Loss</th>\n",
              "      <th>Validation Loss</th>\n",
              "      <th>Accuracy</th>\n",
              "      <th>F1</th>\n",
              "      <th>Precision</th>\n",
              "      <th>Recall</th>\n",
              "    </tr>\n",
              "  </thead>\n",
              "  <tbody>\n",
              "    <tr>\n",
              "      <td>1</td>\n",
              "      <td>0.649300</td>\n",
              "      <td>0.636518</td>\n",
              "      <td>0.666667</td>\n",
              "      <td>0.400000</td>\n",
              "      <td>0.333333</td>\n",
              "      <td>0.500000</td>\n",
              "    </tr>\n",
              "    <tr>\n",
              "      <td>2</td>\n",
              "      <td>0.645200</td>\n",
              "      <td>0.639536</td>\n",
              "      <td>0.666667</td>\n",
              "      <td>0.400000</td>\n",
              "      <td>0.333333</td>\n",
              "      <td>0.500000</td>\n",
              "    </tr>\n",
              "    <tr>\n",
              "      <td>3</td>\n",
              "      <td>0.638000</td>\n",
              "      <td>0.636734</td>\n",
              "      <td>0.666667</td>\n",
              "      <td>0.400000</td>\n",
              "      <td>0.333333</td>\n",
              "      <td>0.500000</td>\n",
              "    </tr>\n",
              "  </tbody>\n",
              "</table><p>"
            ],
            "text/plain": [
              "<IPython.core.display.HTML object>"
            ]
          },
          "metadata": {
            "tags": []
          }
        },
        {
          "output_type": "stream",
          "text": [
            "/usr/local/lib/python3.7/dist-packages/sklearn/metrics/_classification.py:1272: UndefinedMetricWarning: Precision and F-score are ill-defined and being set to 0.0 in labels with no predicted samples. Use `zero_division` parameter to control this behavior.\n",
            "  _warn_prf(average, modifier, msg_start, len(result))\n",
            "/usr/local/lib/python3.7/dist-packages/sklearn/metrics/_classification.py:1272: UndefinedMetricWarning: Precision and F-score are ill-defined and being set to 0.0 in labels with no predicted samples. Use `zero_division` parameter to control this behavior.\n",
            "  _warn_prf(average, modifier, msg_start, len(result))\n",
            "/usr/local/lib/python3.7/dist-packages/sklearn/metrics/_classification.py:1272: UndefinedMetricWarning: Precision and F-score are ill-defined and being set to 0.0 in labels with no predicted samples. Use `zero_division` parameter to control this behavior.\n",
            "  _warn_prf(average, modifier, msg_start, len(result))\n"
          ],
          "name": "stderr"
        },
        {
          "output_type": "execute_result",
          "data": {
            "text/plain": [
              "TrainOutput(global_step=2448, training_loss=0.6424255869746988, metrics={'train_runtime': 2240.0197, 'train_samples_per_second': 1.821, 'total_flos': 0, 'epoch': 3.0, 'init_mem_cpu_alloc_delta': 0, 'init_mem_gpu_alloc_delta': 0, 'init_mem_cpu_peaked_delta': 0, 'init_mem_gpu_peaked_delta': 0, 'train_mem_cpu_alloc_delta': -16777216, 'train_mem_gpu_alloc_delta': 4270353920, 'train_mem_cpu_peaked_delta': 18231296, 'train_mem_gpu_peaked_delta': 1120831488})"
            ]
          },
          "metadata": {
            "tags": []
          },
          "execution_count": 16
        }
      ]
    },
    {
      "cell_type": "code",
      "metadata": {
        "colab": {
          "base_uri": "https://localhost:8080/",
          "height": 90
        },
        "id": "3g7qfk_-e3ef",
        "outputId": "6043e22e-f668-45c5-aeca-728c934e6528"
      },
      "source": [
        "# Testing on Challenge Set 2\n",
        "predictions = trainer.predict(challengeEvalDataset)"
      ],
      "execution_count": null,
      "outputs": [
        {
          "output_type": "display_data",
          "data": {
            "text/html": [
              "\n",
              "    <div>\n",
              "      \n",
              "      <progress value='41' max='41' style='width:300px; height:20px; vertical-align: middle;'></progress>\n",
              "      [41/41 00:30]\n",
              "    </div>\n",
              "    "
            ],
            "text/plain": [
              "<IPython.core.display.HTML object>"
            ]
          },
          "metadata": {
            "tags": []
          }
        },
        {
          "output_type": "stream",
          "text": [
            "/usr/local/lib/python3.7/dist-packages/sklearn/metrics/_classification.py:1272: UndefinedMetricWarning: Precision and F-score are ill-defined and being set to 0.0 in labels with no predicted samples. Use `zero_division` parameter to control this behavior.\n",
            "  _warn_prf(average, modifier, msg_start, len(result))\n"
          ],
          "name": "stderr"
        }
      ]
    },
    {
      "cell_type": "code",
      "metadata": {
        "colab": {
          "base_uri": "https://localhost:8080/"
        },
        "id": "zbYHUhCGe3ef",
        "outputId": "230cc80b-5b26-453b-d493-e751319ed6eb"
      },
      "source": [
        "predInds = predictions.predictions.argmax(-1)\n",
        "trueInds = challengeSetTest['label'].values\n",
        "print(classification_report(trueInds, predInds))"
      ],
      "execution_count": null,
      "outputs": [
        {
          "output_type": "stream",
          "text": [
            "              precision    recall  f1-score   support\n",
            "\n",
            "           0       0.67      1.00      0.80      3468\n",
            "           1       0.00      0.00      0.00      1734\n",
            "\n",
            "    accuracy                           0.67      5202\n",
            "   macro avg       0.33      0.50      0.40      5202\n",
            "weighted avg       0.44      0.67      0.53      5202\n",
            "\n"
          ],
          "name": "stdout"
        },
        {
          "output_type": "stream",
          "text": [
            "/usr/local/lib/python3.7/dist-packages/sklearn/metrics/_classification.py:1272: UndefinedMetricWarning: Precision and F-score are ill-defined and being set to 0.0 in labels with no predicted samples. Use `zero_division` parameter to control this behavior.\n",
            "  _warn_prf(average, modifier, msg_start, len(result))\n"
          ],
          "name": "stderr"
        }
      ]
    },
    {
      "cell_type": "markdown",
      "metadata": {
        "id": "GcimjWNozVcd"
      },
      "source": [
        "## PREDICTION ANALYSIS"
      ]
    },
    {
      "cell_type": "code",
      "metadata": {
        "id": "cdurqow2zdSw"
      },
      "source": [
        "import pandas as pd\n",
        "import numpy as np\n",
        "import matplotlib.pyplot as plt\n",
        "from sklearn.metrics import recall_score, f1_score, precision_score"
      ],
      "execution_count": null,
      "outputs": []
    },
    {
      "cell_type": "markdown",
      "metadata": {
        "id": "pmOSx56Izpkt"
      },
      "source": [
        "### 1. Challenge Set 1"
      ]
    },
    {
      "cell_type": "markdown",
      "metadata": {
        "id": "M9yYi5L8z-oz"
      },
      "source": [
        "##### a) MultiNLI"
      ]
    },
    {
      "cell_type": "code",
      "metadata": {
        "colab": {
          "base_uri": "https://localhost:8080/",
          "height": 586
        },
        "id": "khKedJM1zgdo",
        "outputId": "1fa82e77-f247-4924-b3d7-f020d36cd2c2"
      },
      "source": [
        "challengeSet = pd.read_csv('/content/drive/MyDrive/Projects/Temporal Awareness/challengeSet1DF_test_preds.csv', index_col=0)\n",
        "challengeSet['label'].replace(to_replace='Entailment', value=2, inplace=True)\n",
        "challengeSet['label'].replace(to_replace='Neutral', value=1, inplace=True)\n",
        "challengeSet['label'].replace(to_replace='Contradiction', value=0, inplace=True)\n",
        "challengeSet"
      ],
      "execution_count": null,
      "outputs": [
        {
          "output_type": "execute_result",
          "data": {
            "text/html": [
              "<div>\n",
              "<style scoped>\n",
              "    .dataframe tbody tr th:only-of-type {\n",
              "        vertical-align: middle;\n",
              "    }\n",
              "\n",
              "    .dataframe tbody tr th {\n",
              "        vertical-align: top;\n",
              "    }\n",
              "\n",
              "    .dataframe thead th {\n",
              "        text-align: right;\n",
              "    }\n",
              "</style>\n",
              "<table border=\"1\" class=\"dataframe\">\n",
              "  <thead>\n",
              "    <tr style=\"text-align: right;\">\n",
              "      <th></th>\n",
              "      <th>premise</th>\n",
              "      <th>hypothesis</th>\n",
              "      <th>label</th>\n",
              "      <th>Type</th>\n",
              "      <th>Prem Fixed</th>\n",
              "      <th>Temp Type</th>\n",
              "      <th>pred_mnli_untrained</th>\n",
              "      <th>pred_udst_untrained</th>\n",
              "    </tr>\n",
              "  </thead>\n",
              "  <tbody>\n",
              "    <tr>\n",
              "      <th>0</th>\n",
              "      <td>I graduated at 11 AM.</td>\n",
              "      <td>I graduated after 12 AM.</td>\n",
              "      <td>2</td>\n",
              "      <td>SINGLE_day_time_12</td>\n",
              "      <td>True</td>\n",
              "      <td>Forward</td>\n",
              "      <td>2</td>\n",
              "      <td>1</td>\n",
              "    </tr>\n",
              "    <tr>\n",
              "      <th>1</th>\n",
              "      <td>The tournament was held at 8 AM.</td>\n",
              "      <td>The tournament was held before 5 PM.</td>\n",
              "      <td>2</td>\n",
              "      <td>SINGLE_day_time_12</td>\n",
              "      <td>True</td>\n",
              "      <td>Forward</td>\n",
              "      <td>2</td>\n",
              "      <td>1</td>\n",
              "    </tr>\n",
              "    <tr>\n",
              "      <th>2</th>\n",
              "      <td>Robin will visit her parents at 2 PM.</td>\n",
              "      <td>Robin will visit her parents before 6 AM.</td>\n",
              "      <td>0</td>\n",
              "      <td>SINGLE_day_time_12</td>\n",
              "      <td>True</td>\n",
              "      <td>Forward</td>\n",
              "      <td>0</td>\n",
              "      <td>1</td>\n",
              "    </tr>\n",
              "    <tr>\n",
              "      <th>3</th>\n",
              "      <td>They are planning to go to Singapore at 4 PM.</td>\n",
              "      <td>They are planning to go to Singapore before 6 AM.</td>\n",
              "      <td>0</td>\n",
              "      <td>SINGLE_day_time_12</td>\n",
              "      <td>True</td>\n",
              "      <td>Forward</td>\n",
              "      <td>2</td>\n",
              "      <td>1</td>\n",
              "    </tr>\n",
              "    <tr>\n",
              "      <th>4</th>\n",
              "      <td>I submitted my PhD dissertation at 9 PM.</td>\n",
              "      <td>I submitted my PhD dissertation after 10 PM.</td>\n",
              "      <td>0</td>\n",
              "      <td>SINGLE_day_time_12</td>\n",
              "      <td>True</td>\n",
              "      <td>Forward</td>\n",
              "      <td>0</td>\n",
              "      <td>1</td>\n",
              "    </tr>\n",
              "    <tr>\n",
              "      <th>...</th>\n",
              "      <td>...</td>\n",
              "      <td>...</td>\n",
              "      <td>...</td>\n",
              "      <td>...</td>\n",
              "      <td>...</td>\n",
              "      <td>...</td>\n",
              "      <td>...</td>\n",
              "      <td>...</td>\n",
              "    </tr>\n",
              "    <tr>\n",
              "      <th>2395</th>\n",
              "      <td>Before August 1907, they are planning to go to...</td>\n",
              "      <td>Before Sep 1966, they are planning to go to Si...</td>\n",
              "      <td>2</td>\n",
              "      <td>DATE_MY_both</td>\n",
              "      <td>False</td>\n",
              "      <td>Backward</td>\n",
              "      <td>0</td>\n",
              "      <td>1</td>\n",
              "    </tr>\n",
              "    <tr>\n",
              "      <th>2396</th>\n",
              "      <td>After Jan 1954, I submitted my PhD dissertation.</td>\n",
              "      <td>Before October 1980, I submitted my PhD disser...</td>\n",
              "      <td>1</td>\n",
              "      <td>DATE_MY_both</td>\n",
              "      <td>False</td>\n",
              "      <td>Backward</td>\n",
              "      <td>0</td>\n",
              "      <td>1</td>\n",
              "    </tr>\n",
              "    <tr>\n",
              "      <th>2397</th>\n",
              "      <td>Before November 1995, he was sworn in as the P...</td>\n",
              "      <td>After Oct 1998, he was sworn in as the Prime M...</td>\n",
              "      <td>0</td>\n",
              "      <td>DATE_MY_both</td>\n",
              "      <td>False</td>\n",
              "      <td>Backward</td>\n",
              "      <td>0</td>\n",
              "      <td>1</td>\n",
              "    </tr>\n",
              "    <tr>\n",
              "      <th>2398</th>\n",
              "      <td>Before Sep 1942, the startup received funding.</td>\n",
              "      <td>After May 1996, the startup received funding.</td>\n",
              "      <td>0</td>\n",
              "      <td>DATE_MY_both</td>\n",
              "      <td>False</td>\n",
              "      <td>Backward</td>\n",
              "      <td>0</td>\n",
              "      <td>0</td>\n",
              "    </tr>\n",
              "    <tr>\n",
              "      <th>2399</th>\n",
              "      <td>After Oct 1999, the government issued new labo...</td>\n",
              "      <td>Before December 1990, the government issued ne...</td>\n",
              "      <td>0</td>\n",
              "      <td>DATE_MY_both</td>\n",
              "      <td>False</td>\n",
              "      <td>Backward</td>\n",
              "      <td>0</td>\n",
              "      <td>0</td>\n",
              "    </tr>\n",
              "  </tbody>\n",
              "</table>\n",
              "<p>2400 rows × 8 columns</p>\n",
              "</div>"
            ],
            "text/plain": [
              "                                                premise  ... pred_udst_untrained\n",
              "0                                 I graduated at 11 AM.  ...                   1\n",
              "1                      The tournament was held at 8 AM.  ...                   1\n",
              "2                 Robin will visit her parents at 2 PM.  ...                   1\n",
              "3         They are planning to go to Singapore at 4 PM.  ...                   1\n",
              "4              I submitted my PhD dissertation at 9 PM.  ...                   1\n",
              "...                                                 ...  ...                 ...\n",
              "2395  Before August 1907, they are planning to go to...  ...                   1\n",
              "2396   After Jan 1954, I submitted my PhD dissertation.  ...                   1\n",
              "2397  Before November 1995, he was sworn in as the P...  ...                   1\n",
              "2398     Before Sep 1942, the startup received funding.  ...                   0\n",
              "2399  After Oct 1999, the government issued new labo...  ...                   0\n",
              "\n",
              "[2400 rows x 8 columns]"
            ]
          },
          "metadata": {
            "tags": []
          },
          "execution_count": 18
        }
      ]
    },
    {
      "cell_type": "code",
      "metadata": {
        "colab": {
          "base_uri": "https://localhost:8080/"
        },
        "id": "2dt3EWws0ZuE",
        "outputId": "0ad113c4-afb7-4965-b892-52109f5c1b4f"
      },
      "source": [
        "challengeSet['label'].value_counts()"
      ],
      "execution_count": null,
      "outputs": [
        {
          "output_type": "execute_result",
          "data": {
            "text/plain": [
              "0    976\n",
              "2    855\n",
              "1    569\n",
              "Name: label, dtype: int64"
            ]
          },
          "metadata": {
            "tags": []
          },
          "execution_count": 19
        }
      ]
    },
    {
      "cell_type": "code",
      "metadata": {
        "colab": {
          "base_uri": "https://localhost:8080/"
        },
        "id": "MSg2ttBS0c4a",
        "outputId": "5e4f95ab-2b03-480b-c891-bb191edaf294"
      },
      "source": [
        "challengeSet['pred_mnli_untrained'].value_counts()"
      ],
      "execution_count": null,
      "outputs": [
        {
          "output_type": "execute_result",
          "data": {
            "text/plain": [
              "0    1659\n",
              "2     734\n",
              "1       7\n",
              "Name: pred_mnli_untrained, dtype: int64"
            ]
          },
          "metadata": {
            "tags": []
          },
          "execution_count": 20
        }
      ]
    },
    {
      "cell_type": "code",
      "metadata": {
        "colab": {
          "base_uri": "https://localhost:8080/"
        },
        "id": "KDJupEzQ2eQb",
        "outputId": "d6551ebd-7581-4ee6-b1e0-074871c40a7c"
      },
      "source": [
        "# Temp Type doesn't have an effect\n",
        "challengeSet[challengeSet['pred_mnli_untrained'] == challengeSet['label']]['Temp Type'].value_counts() / challengeSet['Temp Type'].value_counts()"
      ],
      "execution_count": null,
      "outputs": [
        {
          "output_type": "execute_result",
          "data": {
            "text/plain": [
              "Backward    0.541667\n",
              "Forward     0.533333\n",
              "Name: Temp Type, dtype: float64"
            ]
          },
          "metadata": {
            "tags": []
          },
          "execution_count": 21
        }
      ]
    },
    {
      "cell_type": "code",
      "metadata": {
        "colab": {
          "base_uri": "https://localhost:8080/"
        },
        "id": "wN1TL4tC2Kfh",
        "outputId": "efaa24a0-39a0-4fd9-a9e8-740bbccba46e"
      },
      "source": [
        "# Prem Fixed has a major effect\n",
        "challengeSet[challengeSet['pred_mnli_untrained'] == challengeSet['label']]['Prem Fixed'].value_counts() / challengeSet['Prem Fixed'].value_counts()"
      ],
      "execution_count": null,
      "outputs": [
        {
          "output_type": "execute_result",
          "data": {
            "text/plain": [
              "True     0.794167\n",
              "False    0.280833\n",
              "Name: Prem Fixed, dtype: float64"
            ]
          },
          "metadata": {
            "tags": []
          },
          "execution_count": 22
        }
      ]
    },
    {
      "cell_type": "code",
      "metadata": {
        "id": "3LjN_UN-5KhN",
        "colab": {
          "base_uri": "https://localhost:8080/"
        },
        "outputId": "a88eb54d-24d3-4a40-8b38-e5781bff73bd"
      },
      "source": [
        "# Distribution of accuracy for Prem Fixed == True\n",
        "trueRes = challengeSet[(challengeSet['pred_mnli_untrained'] == challengeSet['label']) & (challengeSet['Prem Fixed'] == True)]['Type'].value_counts() / challengeSet[challengeSet['Prem Fixed'] == True]['Type'].value_counts()\n",
        "trueRes"
      ],
      "execution_count": null,
      "outputs": [
        {
          "output_type": "execute_result",
          "data": {
            "text/plain": [
              "DATE_DMY_abv          0.7625\n",
              "DATE_DMY_both         0.7125\n",
              "DATE_DMY_full         0.7500\n",
              "DATE_MY_abv           0.7750\n",
              "DATE_MY_both          0.8250\n",
              "DATE_MY_full          0.7625\n",
              "MULTI_day_time        0.5500\n",
              "MULTI_month           0.8625\n",
              "SINGLE_date           0.8375\n",
              "SINGLE_day_time_12    0.7625\n",
              "SINGLE_day_time_24    0.8625\n",
              "SINGLE_month_abv      0.9000\n",
              "SINGLE_month_full     0.8750\n",
              "SINGLE_weekday        0.7250\n",
              "SINGLE_year           0.9500\n",
              "Name: Type, dtype: float64"
            ]
          },
          "metadata": {
            "tags": []
          },
          "execution_count": 23
        }
      ]
    },
    {
      "cell_type": "code",
      "metadata": {
        "id": "bH6JewHO1nPt",
        "colab": {
          "base_uri": "https://localhost:8080/"
        },
        "outputId": "42f1c5c5-4a02-4858-b825-2b045e1ae0d5"
      },
      "source": [
        "# Distribution of accuracy for Prem Fixed == False\n",
        "falseRes = challengeSet[(challengeSet['pred_mnli_untrained'] == challengeSet['label']) & (challengeSet['Prem Fixed'] == False)]['Type'].value_counts() / challengeSet[challengeSet['Prem Fixed'] == False]['Type'].value_counts()\n",
        "falseRes"
      ],
      "execution_count": null,
      "outputs": [
        {
          "output_type": "execute_result",
          "data": {
            "text/plain": [
              "DATE_DMY_abv          0.3000\n",
              "DATE_DMY_both         0.2375\n",
              "DATE_DMY_full         0.2875\n",
              "DATE_MY_abv           0.2875\n",
              "DATE_MY_both          0.2625\n",
              "DATE_MY_full          0.2000\n",
              "MULTI_day_time        0.2375\n",
              "MULTI_month           0.2875\n",
              "SINGLE_date           0.3125\n",
              "SINGLE_day_time_12    0.2625\n",
              "SINGLE_day_time_24    0.3500\n",
              "SINGLE_month_abv      0.3000\n",
              "SINGLE_month_full     0.2625\n",
              "SINGLE_weekday        0.3500\n",
              "SINGLE_year           0.2750\n",
              "Name: Type, dtype: float64"
            ]
          },
          "metadata": {
            "tags": []
          },
          "execution_count": 16
        }
      ]
    },
    {
      "cell_type": "code",
      "metadata": {
        "id": "eO-opietgNvV"
      },
      "source": [
        "prem_fixed_results_df = pd.concat({'Premise Time Instance':trueRes, 'Premise Time Interval':falseRes}, axis=1)\n",
        "prem_fixed_results_df.rename(index={'DATE_DMY_abv':'DATE DMY\\n(month abv)', 'DATE_DMY_both':'DATE DMY\\n(month both)', \n",
        "                                    'DATE_DMY_full':'DATE DMY\\n(month full)', 'DATE_MY_abv':'DATE MY\\n(month abv)', \n",
        "                                    'DATE_MY_both':'DATE MY\\n(month both)', 'DATE_MY_full':'DATE MY\\n(month full)', \n",
        "                                    'MULTI_day_time':'DAY TIME\\n(both)', 'MULTI_month':'MONTH\\n(both)',\n",
        "                                    'SINGLE_date':'MONTH-DAY', 'SINGLE_day_time_12':'DAY-TIME\\n(12 HR)', \n",
        "                                    'SINGLE_day_time_24':'DAY-TIME\\n(24 HR)', 'SINGLE_month_abv':'MONTH\\n(abv)', \n",
        "                                    'SINGLE_month_full':'MONTH\\n(full)', 'SINGLE_weekday':'WEEKDAY', 'SINGLE_year':'YEAR'}, inplace=True)"
      ],
      "execution_count": null,
      "outputs": []
    },
    {
      "cell_type": "code",
      "metadata": {
        "colab": {
          "base_uri": "https://localhost:8080/",
          "height": 369
        },
        "id": "qJBOb56OGFXy",
        "outputId": "373b35ac-5af4-4158-ccb5-7d87b6223fd1"
      },
      "source": [
        "ax = prem_fixed_results_df.plot.bar(figsize=(15,5))\n",
        "ax.set_xticklabels(labels=prem_fixed_results_df.index, rotation=45)\n",
        "plot = ax.get_figure()\n",
        "plt.xlabel('WAYS OF CHOOSING TEMPORAL EXPRESSIONS', fontsize=12)\n",
        "plt.ylabel('ACCURACY', fontsize=12)\n",
        "plot.tight_layout()\n",
        "plot.savefig('CS_1_prem_fixed.png', format='png', dpi=1200)"
      ],
      "execution_count": null,
      "outputs": [
        {
          "output_type": "display_data",
          "data": {
            "image/png": "[encoded data removed]",
            "text/plain": [
              "<Figure size 1080x360 with 1 Axes>"
            ]
          },
          "metadata": {
            "tags": [],
            "needs_background": "light"
          }
        }
      ]
    },
    {
      "cell_type": "markdown",
      "metadata": {
        "id": "3GBlgPal5370"
      },
      "source": [
        "##### b) UDS Ordering"
      ]
    },
    {
      "cell_type": "code",
      "metadata": {
        "colab": {
          "base_uri": "https://localhost:8080/",
          "height": 586
        },
        "id": "i5HuXn0D538A",
        "outputId": "b1e4ca08-f84b-45dc-9af0-95a761bc7268"
      },
      "source": [
        "challengeSet = pd.read_csv('/content/drive/MyDrive/Projects/Temporal Awareness/challengeSet1DF_test_preds.csv', index_col=0)\n",
        "challengeSet['label'].replace(to_replace='Entailment', value=1, inplace=True)\n",
        "challengeSet['label'].replace(to_replace='Neutral', value=0, inplace=True)\n",
        "challengeSet['label'].replace(to_replace='Contradiction', value=0, inplace=True)\n",
        "challengeSet"
      ],
      "execution_count": null,
      "outputs": [
        {
          "output_type": "execute_result",
          "data": {
            "text/html": [
              "<div>\n",
              "<style scoped>\n",
              "    .dataframe tbody tr th:only-of-type {\n",
              "        vertical-align: middle;\n",
              "    }\n",
              "\n",
              "    .dataframe tbody tr th {\n",
              "        vertical-align: top;\n",
              "    }\n",
              "\n",
              "    .dataframe thead th {\n",
              "        text-align: right;\n",
              "    }\n",
              "</style>\n",
              "<table border=\"1\" class=\"dataframe\">\n",
              "  <thead>\n",
              "    <tr style=\"text-align: right;\">\n",
              "      <th></th>\n",
              "      <th>premise</th>\n",
              "      <th>hypothesis</th>\n",
              "      <th>label</th>\n",
              "      <th>Type</th>\n",
              "      <th>Prem Fixed</th>\n",
              "      <th>Temp Type</th>\n",
              "      <th>pred_mnli_untrained</th>\n",
              "      <th>pred_udst_untrained</th>\n",
              "    </tr>\n",
              "  </thead>\n",
              "  <tbody>\n",
              "    <tr>\n",
              "      <th>0</th>\n",
              "      <td>I graduated at 11 AM.</td>\n",
              "      <td>I graduated after 12 AM.</td>\n",
              "      <td>1</td>\n",
              "      <td>SINGLE_day_time_12</td>\n",
              "      <td>True</td>\n",
              "      <td>Forward</td>\n",
              "      <td>2</td>\n",
              "      <td>1</td>\n",
              "    </tr>\n",
              "    <tr>\n",
              "      <th>1</th>\n",
              "      <td>The tournament was held at 8 AM.</td>\n",
              "      <td>The tournament was held before 5 PM.</td>\n",
              "      <td>1</td>\n",
              "      <td>SINGLE_day_time_12</td>\n",
              "      <td>True</td>\n",
              "      <td>Forward</td>\n",
              "      <td>2</td>\n",
              "      <td>1</td>\n",
              "    </tr>\n",
              "    <tr>\n",
              "      <th>2</th>\n",
              "      <td>Robin will visit her parents at 2 PM.</td>\n",
              "      <td>Robin will visit her parents before 6 AM.</td>\n",
              "      <td>0</td>\n",
              "      <td>SINGLE_day_time_12</td>\n",
              "      <td>True</td>\n",
              "      <td>Forward</td>\n",
              "      <td>0</td>\n",
              "      <td>1</td>\n",
              "    </tr>\n",
              "    <tr>\n",
              "      <th>3</th>\n",
              "      <td>They are planning to go to Singapore at 4 PM.</td>\n",
              "      <td>They are planning to go to Singapore before 6 AM.</td>\n",
              "      <td>0</td>\n",
              "      <td>SINGLE_day_time_12</td>\n",
              "      <td>True</td>\n",
              "      <td>Forward</td>\n",
              "      <td>2</td>\n",
              "      <td>1</td>\n",
              "    </tr>\n",
              "    <tr>\n",
              "      <th>4</th>\n",
              "      <td>I submitted my PhD dissertation at 9 PM.</td>\n",
              "      <td>I submitted my PhD dissertation after 10 PM.</td>\n",
              "      <td>0</td>\n",
              "      <td>SINGLE_day_time_12</td>\n",
              "      <td>True</td>\n",
              "      <td>Forward</td>\n",
              "      <td>0</td>\n",
              "      <td>1</td>\n",
              "    </tr>\n",
              "    <tr>\n",
              "      <th>...</th>\n",
              "      <td>...</td>\n",
              "      <td>...</td>\n",
              "      <td>...</td>\n",
              "      <td>...</td>\n",
              "      <td>...</td>\n",
              "      <td>...</td>\n",
              "      <td>...</td>\n",
              "      <td>...</td>\n",
              "    </tr>\n",
              "    <tr>\n",
              "      <th>2395</th>\n",
              "      <td>Before August 1907, they are planning to go to...</td>\n",
              "      <td>Before Sep 1966, they are planning to go to Si...</td>\n",
              "      <td>1</td>\n",
              "      <td>DATE_MY_both</td>\n",
              "      <td>False</td>\n",
              "      <td>Backward</td>\n",
              "      <td>0</td>\n",
              "      <td>1</td>\n",
              "    </tr>\n",
              "    <tr>\n",
              "      <th>2396</th>\n",
              "      <td>After Jan 1954, I submitted my PhD dissertation.</td>\n",
              "      <td>Before October 1980, I submitted my PhD disser...</td>\n",
              "      <td>0</td>\n",
              "      <td>DATE_MY_both</td>\n",
              "      <td>False</td>\n",
              "      <td>Backward</td>\n",
              "      <td>0</td>\n",
              "      <td>1</td>\n",
              "    </tr>\n",
              "    <tr>\n",
              "      <th>2397</th>\n",
              "      <td>Before November 1995, he was sworn in as the P...</td>\n",
              "      <td>After Oct 1998, he was sworn in as the Prime M...</td>\n",
              "      <td>0</td>\n",
              "      <td>DATE_MY_both</td>\n",
              "      <td>False</td>\n",
              "      <td>Backward</td>\n",
              "      <td>0</td>\n",
              "      <td>1</td>\n",
              "    </tr>\n",
              "    <tr>\n",
              "      <th>2398</th>\n",
              "      <td>Before Sep 1942, the startup received funding.</td>\n",
              "      <td>After May 1996, the startup received funding.</td>\n",
              "      <td>0</td>\n",
              "      <td>DATE_MY_both</td>\n",
              "      <td>False</td>\n",
              "      <td>Backward</td>\n",
              "      <td>0</td>\n",
              "      <td>0</td>\n",
              "    </tr>\n",
              "    <tr>\n",
              "      <th>2399</th>\n",
              "      <td>After Oct 1999, the government issued new labo...</td>\n",
              "      <td>Before December 1990, the government issued ne...</td>\n",
              "      <td>0</td>\n",
              "      <td>DATE_MY_both</td>\n",
              "      <td>False</td>\n",
              "      <td>Backward</td>\n",
              "      <td>0</td>\n",
              "      <td>0</td>\n",
              "    </tr>\n",
              "  </tbody>\n",
              "</table>\n",
              "<p>2400 rows × 8 columns</p>\n",
              "</div>"
            ],
            "text/plain": [
              "                                                premise  ... pred_udst_untrained\n",
              "0                                 I graduated at 11 AM.  ...                   1\n",
              "1                      The tournament was held at 8 AM.  ...                   1\n",
              "2                 Robin will visit her parents at 2 PM.  ...                   1\n",
              "3         They are planning to go to Singapore at 4 PM.  ...                   1\n",
              "4              I submitted my PhD dissertation at 9 PM.  ...                   1\n",
              "...                                                 ...  ...                 ...\n",
              "2395  Before August 1907, they are planning to go to...  ...                   1\n",
              "2396   After Jan 1954, I submitted my PhD dissertation.  ...                   1\n",
              "2397  Before November 1995, he was sworn in as the P...  ...                   1\n",
              "2398     Before Sep 1942, the startup received funding.  ...                   0\n",
              "2399  After Oct 1999, the government issued new labo...  ...                   0\n",
              "\n",
              "[2400 rows x 8 columns]"
            ]
          },
          "metadata": {
            "tags": []
          },
          "execution_count": 40
        }
      ]
    },
    {
      "cell_type": "code",
      "metadata": {
        "colab": {
          "base_uri": "https://localhost:8080/"
        },
        "id": "TlX6lXrm538B",
        "outputId": "5ea4d3b2-3c10-4997-b3a3-5050e8c30d96"
      },
      "source": [
        "challengeSet['label'].value_counts()"
      ],
      "execution_count": null,
      "outputs": [
        {
          "output_type": "execute_result",
          "data": {
            "text/plain": [
              "0    1545\n",
              "1     855\n",
              "Name: label, dtype: int64"
            ]
          },
          "metadata": {
            "tags": []
          },
          "execution_count": 41
        }
      ]
    },
    {
      "cell_type": "code",
      "metadata": {
        "colab": {
          "base_uri": "https://localhost:8080/"
        },
        "id": "GJ5Cvrkq538B",
        "outputId": "c01574d9-5771-4d28-f92e-5c6b493c19a8"
      },
      "source": [
        "challengeSet['pred_udst_untrained'].value_counts()"
      ],
      "execution_count": null,
      "outputs": [
        {
          "output_type": "execute_result",
          "data": {
            "text/plain": [
              "0    1263\n",
              "1    1137\n",
              "Name: pred_udst_untrained, dtype: int64"
            ]
          },
          "metadata": {
            "tags": []
          },
          "execution_count": 42
        }
      ]
    },
    {
      "cell_type": "code",
      "metadata": {
        "colab": {
          "base_uri": "https://localhost:8080/"
        },
        "id": "_oP4lRrv538B",
        "outputId": "eb050f50-bfcd-4cd0-be70-8c824edb8ab1"
      },
      "source": [
        "# Temp Type has very little effect?\n",
        "challengeSet[challengeSet['pred_udst_untrained'] == challengeSet['label']]['Temp Type'].value_counts() / challengeSet['Temp Type'].value_counts()"
      ],
      "execution_count": null,
      "outputs": [
        {
          "output_type": "execute_result",
          "data": {
            "text/plain": [
              "Backward    0.588333\n",
              "Forward     0.535000\n",
              "Name: Temp Type, dtype: float64"
            ]
          },
          "metadata": {
            "tags": []
          },
          "execution_count": 43
        }
      ]
    },
    {
      "cell_type": "code",
      "metadata": {
        "colab": {
          "base_uri": "https://localhost:8080/"
        },
        "id": "YHPTWm7J538B",
        "outputId": "f016b691-2374-4927-ac28-ea056af9f658"
      },
      "source": [
        "# Prem Fixed has no major effect\n",
        "challengeSet[challengeSet['pred_udst_untrained'] == challengeSet['label']]['Prem Fixed'].value_counts() / challengeSet['Prem Fixed'].value_counts()"
      ],
      "execution_count": null,
      "outputs": [
        {
          "output_type": "execute_result",
          "data": {
            "text/plain": [
              "False    0.565833\n",
              "True     0.557500\n",
              "Name: Prem Fixed, dtype: float64"
            ]
          },
          "metadata": {
            "tags": []
          },
          "execution_count": 44
        }
      ]
    },
    {
      "cell_type": "code",
      "metadata": {
        "colab": {
          "base_uri": "https://localhost:8080/"
        },
        "id": "JGIf0Wks538C",
        "outputId": "1f57e6d8-894f-48aa-d4d0-d7011b039502"
      },
      "source": [
        "# Distribution of accuracy for Prem Fixed == True\n",
        "challengeSet[(challengeSet['pred_udst_untrained'] == challengeSet['label']) & (challengeSet['Prem Fixed'] == True)]['Type'].value_counts() / challengeSet[challengeSet['Prem Fixed'] == True]['Type'].value_counts()"
      ],
      "execution_count": null,
      "outputs": [
        {
          "output_type": "execute_result",
          "data": {
            "text/plain": [
              "DATE_DMY_abv          0.5125\n",
              "DATE_DMY_both         0.4875\n",
              "DATE_DMY_full         0.5250\n",
              "DATE_MY_abv           0.5875\n",
              "DATE_MY_both          0.6000\n",
              "DATE_MY_full          0.5875\n",
              "MULTI_day_time        0.5000\n",
              "MULTI_month           0.5250\n",
              "SINGLE_date           0.6125\n",
              "SINGLE_day_time_12    0.5500\n",
              "SINGLE_day_time_24    0.5500\n",
              "SINGLE_month_abv      0.5750\n",
              "SINGLE_month_full     0.5500\n",
              "SINGLE_weekday        0.5625\n",
              "SINGLE_year           0.6375\n",
              "Name: Type, dtype: float64"
            ]
          },
          "metadata": {
            "tags": []
          },
          "execution_count": 45
        }
      ]
    },
    {
      "cell_type": "code",
      "metadata": {
        "colab": {
          "base_uri": "https://localhost:8080/"
        },
        "id": "lJYPZpEi538C",
        "outputId": "a2b0fc60-0f10-4e8d-e0ab-d29f9e38bd8d"
      },
      "source": [
        "# Distribution of accuracy for Prem Fixed == False\n",
        "challengeSet[(challengeSet['pred_udst_untrained'] == challengeSet['label']) & (challengeSet['Prem Fixed'] == False)]['Type'].value_counts() / challengeSet[challengeSet['Prem Fixed'] == False]['Type'].value_counts()"
      ],
      "execution_count": null,
      "outputs": [
        {
          "output_type": "execute_result",
          "data": {
            "text/plain": [
              "DATE_DMY_abv          0.4625\n",
              "DATE_DMY_both         0.5375\n",
              "DATE_DMY_full         0.4500\n",
              "DATE_MY_abv           0.6000\n",
              "DATE_MY_both          0.5375\n",
              "DATE_MY_full          0.4625\n",
              "MULTI_day_time        0.6500\n",
              "MULTI_month           0.5250\n",
              "SINGLE_date           0.6625\n",
              "SINGLE_day_time_12    0.5625\n",
              "SINGLE_day_time_24    0.8375\n",
              "SINGLE_month_abv      0.5375\n",
              "SINGLE_month_full     0.5000\n",
              "SINGLE_weekday        0.6000\n",
              "SINGLE_year           0.5625\n",
              "Name: Type, dtype: float64"
            ]
          },
          "metadata": {
            "tags": []
          },
          "execution_count": 46
        }
      ]
    },
    {
      "cell_type": "code",
      "metadata": {
        "colab": {
          "base_uri": "https://localhost:8080/"
        },
        "id": "JXA5fzH38hkZ",
        "outputId": "ad8f038c-a9c8-446f-cc26-9bbdb73bff51"
      },
      "source": [
        "# Type with max acc for Prem Fixed == False is somewhat skewed\n",
        "challengeSet[(challengeSet['Type'] == 'SINGLE_day_time_24') & (challengeSet['Prem Fixed'] == False)]['label'].value_counts()"
      ],
      "execution_count": null,
      "outputs": [
        {
          "output_type": "execute_result",
          "data": {
            "text/plain": [
              "0    68\n",
              "1    12\n",
              "Name: label, dtype: int64"
            ]
          },
          "metadata": {
            "tags": []
          },
          "execution_count": 47
        }
      ]
    },
    {
      "cell_type": "markdown",
      "metadata": {
        "id": "fPwvZ6eZQ7en"
      },
      "source": [
        "### 1. Challenge Set 2"
      ]
    },
    {
      "cell_type": "markdown",
      "metadata": {
        "id": "LZbLR3rRQ7er"
      },
      "source": [
        "##### a) MultiNLI"
      ]
    },
    {
      "cell_type": "code",
      "metadata": {
        "colab": {
          "base_uri": "https://localhost:8080/",
          "height": 754
        },
        "id": "4BKHYj-IQ7es",
        "outputId": "93391efb-c112-47b2-b0a2-3a971d46a21c"
      },
      "source": [
        "challengeSet = pd.read_csv('/content/drive/MyDrive/Projects/Temporal Awareness/challengeSet2DF_test_preds.csv', index_col=0)\n",
        "challengeSet['label'].replace(to_replace='Entailment', value=2, inplace=True)\n",
        "challengeSet['label'].replace(to_replace='Neutral', value=1, inplace=True)\n",
        "challengeSet['label'].replace(to_replace='Contradiction', value=0, inplace=True)\n",
        "challengeSet"
      ],
      "execution_count": null,
      "outputs": [
        {
          "output_type": "execute_result",
          "data": {
            "text/html": [
              "<div>\n",
              "<style scoped>\n",
              "    .dataframe tbody tr th:only-of-type {\n",
              "        vertical-align: middle;\n",
              "    }\n",
              "\n",
              "    .dataframe tbody tr th {\n",
              "        vertical-align: top;\n",
              "    }\n",
              "\n",
              "    .dataframe thead th {\n",
              "        text-align: right;\n",
              "    }\n",
              "</style>\n",
              "<table border=\"1\" class=\"dataframe\">\n",
              "  <thead>\n",
              "    <tr style=\"text-align: right;\">\n",
              "      <th></th>\n",
              "      <th>premise</th>\n",
              "      <th>hypothesis</th>\n",
              "      <th>label</th>\n",
              "      <th>Type</th>\n",
              "      <th>Dur Type</th>\n",
              "      <th>Next Cycle</th>\n",
              "      <th>Temp Type</th>\n",
              "      <th>pred_mnli_untrained</th>\n",
              "      <th>pred_udsd_untrained</th>\n",
              "    </tr>\n",
              "  </thead>\n",
              "  <tbody>\n",
              "    <tr>\n",
              "      <th>0</th>\n",
              "      <td>The train from Seattle started at 3 PM and rea...</td>\n",
              "      <td>The train journey from Seattle to Portland las...</td>\n",
              "      <td>2</td>\n",
              "      <td>SINGLE_day_time_12</td>\n",
              "      <td>EQUAL_GOLD</td>\n",
              "      <td>True</td>\n",
              "      <td>Spread</td>\n",
              "      <td>1</td>\n",
              "      <td>1</td>\n",
              "    </tr>\n",
              "    <tr>\n",
              "      <th>1</th>\n",
              "      <td>The train from Seattle started at 3 PM and rea...</td>\n",
              "      <td>The train journey from Seattle to Portland las...</td>\n",
              "      <td>0</td>\n",
              "      <td>SINGLE_day_time_12</td>\n",
              "      <td>EQUAL_GOLD+1</td>\n",
              "      <td>True</td>\n",
              "      <td>Spread</td>\n",
              "      <td>1</td>\n",
              "      <td>1</td>\n",
              "    </tr>\n",
              "    <tr>\n",
              "      <th>2</th>\n",
              "      <td>The train from Seattle started at 3 PM and rea...</td>\n",
              "      <td>The train journey from Seattle to Portland las...</td>\n",
              "      <td>0</td>\n",
              "      <td>SINGLE_day_time_12</td>\n",
              "      <td>EQUAL_GOLD*10</td>\n",
              "      <td>True</td>\n",
              "      <td>Spread</td>\n",
              "      <td>1</td>\n",
              "      <td>1</td>\n",
              "    </tr>\n",
              "    <tr>\n",
              "      <th>3</th>\n",
              "      <td>The train from Seattle started at 3 PM and rea...</td>\n",
              "      <td>The train journey from Seattle to Portland las...</td>\n",
              "      <td>0</td>\n",
              "      <td>SINGLE_day_time_12</td>\n",
              "      <td>EQUAL_GOLD-1</td>\n",
              "      <td>True</td>\n",
              "      <td>Spread</td>\n",
              "      <td>1</td>\n",
              "      <td>1</td>\n",
              "    </tr>\n",
              "    <tr>\n",
              "      <th>4</th>\n",
              "      <td>The train from Seattle started at 3 PM and rea...</td>\n",
              "      <td>The train journey from Seattle to Portland las...</td>\n",
              "      <td>0</td>\n",
              "      <td>SINGLE_day_time_12</td>\n",
              "      <td>MORE_GOLD</td>\n",
              "      <td>True</td>\n",
              "      <td>Spread</td>\n",
              "      <td>2</td>\n",
              "      <td>1</td>\n",
              "    </tr>\n",
              "    <tr>\n",
              "      <th>...</th>\n",
              "      <td>...</td>\n",
              "      <td>...</td>\n",
              "      <td>...</td>\n",
              "      <td>...</td>\n",
              "      <td>...</td>\n",
              "      <td>...</td>\n",
              "      <td>...</td>\n",
              "      <td>...</td>\n",
              "      <td>...</td>\n",
              "    </tr>\n",
              "    <tr>\n",
              "      <th>19</th>\n",
              "      <td>I pursued my bachelors degree from Jan 1931 to...</td>\n",
              "      <td>I pursued my bachelors degree for more than 59...</td>\n",
              "      <td>2</td>\n",
              "      <td>DATE_YM_both</td>\n",
              "      <td>MORE_GOLD-1</td>\n",
              "      <td>False</td>\n",
              "      <td>Near</td>\n",
              "      <td>2</td>\n",
              "      <td>0</td>\n",
              "    </tr>\n",
              "    <tr>\n",
              "      <th>20</th>\n",
              "      <td>I pursued my bachelors degree from Jan 1931 to...</td>\n",
              "      <td>I pursued my bachelors degree for less than 59...</td>\n",
              "      <td>0</td>\n",
              "      <td>DATE_YM_both</td>\n",
              "      <td>LESS_GOLD</td>\n",
              "      <td>False</td>\n",
              "      <td>Near</td>\n",
              "      <td>2</td>\n",
              "      <td>1</td>\n",
              "    </tr>\n",
              "    <tr>\n",
              "      <th>21</th>\n",
              "      <td>I pursued my bachelors degree from Jan 1931 to...</td>\n",
              "      <td>I pursued my bachelors degree for less than 60...</td>\n",
              "      <td>2</td>\n",
              "      <td>DATE_YM_both</td>\n",
              "      <td>LESS_GOLD+1</td>\n",
              "      <td>False</td>\n",
              "      <td>Near</td>\n",
              "      <td>2</td>\n",
              "      <td>1</td>\n",
              "    </tr>\n",
              "    <tr>\n",
              "      <th>22</th>\n",
              "      <td>I pursued my bachelors degree from Jan 1931 to...</td>\n",
              "      <td>I pursued my bachelors degree for less than 59...</td>\n",
              "      <td>2</td>\n",
              "      <td>DATE_YM_both</td>\n",
              "      <td>LESS_GOLD*10</td>\n",
              "      <td>False</td>\n",
              "      <td>Near</td>\n",
              "      <td>2</td>\n",
              "      <td>0</td>\n",
              "    </tr>\n",
              "    <tr>\n",
              "      <th>23</th>\n",
              "      <td>I pursued my bachelors degree from Jan 1931 to...</td>\n",
              "      <td>I pursued my bachelors degree for less than 59...</td>\n",
              "      <td>0</td>\n",
              "      <td>DATE_YM_both</td>\n",
              "      <td>LESS_GOLD-1</td>\n",
              "      <td>False</td>\n",
              "      <td>Near</td>\n",
              "      <td>2</td>\n",
              "      <td>1</td>\n",
              "    </tr>\n",
              "  </tbody>\n",
              "</table>\n",
              "<p>5202 rows × 9 columns</p>\n",
              "</div>"
            ],
            "text/plain": [
              "                                              premise  ... pred_udsd_untrained\n",
              "0   The train from Seattle started at 3 PM and rea...  ...                   1\n",
              "1   The train from Seattle started at 3 PM and rea...  ...                   1\n",
              "2   The train from Seattle started at 3 PM and rea...  ...                   1\n",
              "3   The train from Seattle started at 3 PM and rea...  ...                   1\n",
              "4   The train from Seattle started at 3 PM and rea...  ...                   1\n",
              "..                                                ...  ...                 ...\n",
              "19  I pursued my bachelors degree from Jan 1931 to...  ...                   0\n",
              "20  I pursued my bachelors degree from Jan 1931 to...  ...                   1\n",
              "21  I pursued my bachelors degree from Jan 1931 to...  ...                   1\n",
              "22  I pursued my bachelors degree from Jan 1931 to...  ...                   0\n",
              "23  I pursued my bachelors degree from Jan 1931 to...  ...                   1\n",
              "\n",
              "[5202 rows x 9 columns]"
            ]
          },
          "metadata": {
            "tags": []
          },
          "execution_count": 2
        }
      ]
    },
    {
      "cell_type": "code",
      "metadata": {
        "colab": {
          "base_uri": "https://localhost:8080/"
        },
        "id": "Gp1zLQg5Q7es",
        "outputId": "60495af2-3a14-4190-b68d-dd5870a9b463"
      },
      "source": [
        "challengeSet['label'].value_counts()"
      ],
      "execution_count": null,
      "outputs": [
        {
          "output_type": "execute_result",
          "data": {
            "text/plain": [
              "0    3468\n",
              "2    1734\n",
              "Name: label, dtype: int64"
            ]
          },
          "metadata": {
            "tags": []
          },
          "execution_count": 3
        }
      ]
    },
    {
      "cell_type": "code",
      "metadata": {
        "colab": {
          "base_uri": "https://localhost:8080/"
        },
        "id": "0pln443ZQ7et",
        "outputId": "3b44039a-42a7-4fcd-899d-9b5ec6df09c7"
      },
      "source": [
        "# Predictions are skewed\n",
        "challengeSet['pred_mnli_untrained'].value_counts()"
      ],
      "execution_count": null,
      "outputs": [
        {
          "output_type": "execute_result",
          "data": {
            "text/plain": [
              "2    4568\n",
              "0     350\n",
              "1     284\n",
              "Name: pred_mnli_untrained, dtype: int64"
            ]
          },
          "metadata": {
            "tags": []
          },
          "execution_count": 4
        }
      ]
    },
    {
      "cell_type": "code",
      "metadata": {
        "colab": {
          "base_uri": "https://localhost:8080/"
        },
        "id": "ZFTHU265G8Ng",
        "outputId": "1e1f9adf-e5e1-4674-8f3e-bef5efc3f4c9"
      },
      "source": [
        "challengeSet['pred_mnli_untrained'].value_counts() / sum(challengeSet['pred_mnli_untrained'].value_counts())"
      ],
      "execution_count": null,
      "outputs": [
        {
          "output_type": "execute_result",
          "data": {
            "text/plain": [
              "2    0.878124\n",
              "0    0.067282\n",
              "1    0.054594\n",
              "Name: pred_mnli_untrained, dtype: float64"
            ]
          },
          "metadata": {
            "tags": []
          },
          "execution_count": 5
        }
      ]
    },
    {
      "cell_type": "code",
      "metadata": {
        "colab": {
          "base_uri": "https://localhost:8080/"
        },
        "id": "sIMYK0hdQ7et",
        "outputId": "e6eb9a7d-f0b7-4171-db0b-7f6f7d81d0ea"
      },
      "source": [
        "# Temp Type doesn't have much effect\n",
        "challengeSet[challengeSet['pred_mnli_untrained'] == challengeSet['label']]['Temp Type'].value_counts() / challengeSet['Temp Type'].value_counts()"
      ],
      "execution_count": null,
      "outputs": [
        {
          "output_type": "execute_result",
          "data": {
            "text/plain": [
              "Near      0.424626\n",
              "Spread    0.325626\n",
              "Name: Temp Type, dtype: float64"
            ]
          },
          "metadata": {
            "tags": []
          },
          "execution_count": 5
        }
      ]
    },
    {
      "cell_type": "code",
      "metadata": {
        "colab": {
          "base_uri": "https://localhost:8080/"
        },
        "id": "nkNMhDflQ7et",
        "outputId": "b0845879-3987-445d-e220-2c77b8dba54a"
      },
      "source": [
        "# Next Cycle doesn't have major effect\n",
        "challengeSet[challengeSet['pred_mnli_untrained'] == challengeSet['label']]['Next Cycle'].value_counts() / challengeSet['Next Cycle'].value_counts()"
      ],
      "execution_count": null,
      "outputs": [
        {
          "output_type": "execute_result",
          "data": {
            "text/plain": [
              "False    0.364796\n",
              "True     0.397252\n",
              "Name: Next Cycle, dtype: float64"
            ]
          },
          "metadata": {
            "tags": []
          },
          "execution_count": 6
        }
      ]
    },
    {
      "cell_type": "code",
      "metadata": {
        "colab": {
          "base_uri": "https://localhost:8080/"
        },
        "id": "3eM3NmFWSlD1",
        "outputId": "ab60cfae-5eca-4f96-d5ea-dccbdec7bf70"
      },
      "source": [
        "# Type doesn't have major effect\n",
        "challengeSet[challengeSet['pred_mnli_untrained'] == challengeSet['label']]['Type'].value_counts() / challengeSet['Type'].value_counts()"
      ],
      "execution_count": null,
      "outputs": [
        {
          "output_type": "execute_result",
          "data": {
            "text/plain": [
              "DATE_M_abv            0.304167\n",
              "DATE_M_both           0.300000\n",
              "DATE_M_full           0.304167\n",
              "DATE_YM_abv           0.341667\n",
              "DATE_YM_both          0.354167\n",
              "DATE_YM_full          0.350000\n",
              "MULTI_day_time        0.371308\n",
              "MULTI_month           0.408602\n",
              "SINGLE_date           0.385281\n",
              "SINGLE_day_time_12    0.387841\n",
              "SINGLE_day_time_24    0.382166\n",
              "SINGLE_month_abv      0.396624\n",
              "SINGLE_month_full     0.418259\n",
              "SINGLE_weekday        0.422078\n",
              "SINGLE_year           0.350211\n",
              "Name: Type, dtype: float64"
            ]
          },
          "metadata": {
            "tags": []
          },
          "execution_count": 7
        }
      ]
    },
    {
      "cell_type": "code",
      "metadata": {
        "colab": {
          "base_uri": "https://localhost:8080/"
        },
        "id": "8s7CrV6wSyO-",
        "outputId": "f40c2547-7d77-4617-dc45-9940f5a9d8c2"
      },
      "source": [
        "# Most predictions are entailment, best dur type with contradiction label seem to be EQUAL_GOLD*10 and MORE_GOLD*10\n",
        "challengeSet[challengeSet['pred_mnli_untrained'] == challengeSet['label']]['Dur Type'].value_counts() / challengeSet['Dur Type'].value_counts()"
      ],
      "execution_count": null,
      "outputs": [
        {
          "output_type": "execute_result",
          "data": {
            "text/plain": [
              "EQUAL_GOLD       0.847727\n",
              "EQUAL_GOLD*10    0.361364\n",
              "EQUAL_GOLD+1     0.061364\n",
              "EQUAL_GOLD-1     0.084541\n",
              "LESS_GOLD        0.009091\n",
              "LESS_GOLD*10     0.993182\n",
              "LESS_GOLD+1      1.000000\n",
              "LESS_GOLD-1      0.021739\n",
              "MORE_GOLD        0.002273\n",
              "MORE_GOLD*10     0.163636\n",
              "MORE_GOLD+1           NaN\n",
              "MORE_GOLD-1      0.954106\n",
              "Name: Dur Type, dtype: float64"
            ]
          },
          "metadata": {
            "tags": []
          },
          "execution_count": 13
        }
      ]
    },
    {
      "cell_type": "code",
      "metadata": {
        "colab": {
          "base_uri": "https://localhost:8080/"
        },
        "id": "I012wX_vI7Cz",
        "outputId": "294e0132-2ab5-40e5-9a16-27949e83309b"
      },
      "source": [
        "for ind, df in challengeSet.groupby('Dur Type'):\n",
        "  print(ind, 'Recall:', f1_score(df['label'], df['pred_mnli_untrained'], average='weighted'))"
      ],
      "execution_count": null,
      "outputs": [
        {
          "output_type": "stream",
          "text": [
            "EQUAL_GOLD Recall: 0.917589175891759\n",
            "EQUAL_GOLD*10 Recall: 0.5308848080133557\n",
            "EQUAL_GOLD+1 Recall: 0.11563169164882228\n",
            "EQUAL_GOLD-1 Recall: 0.155902004454343\n",
            "LESS_GOLD Recall: 0.018018018018018018\n",
            "LESS_GOLD*10 Recall: 0.9965792474344356\n",
            "LESS_GOLD+1 Recall: 1.0\n",
            "LESS_GOLD-1 Recall: 0.0425531914893617\n",
            "MORE_GOLD Recall: 0.0045351473922902496\n",
            "MORE_GOLD*10 Recall: 0.28125\n",
            "MORE_GOLD+1 Recall: 0.0\n",
            "MORE_GOLD-1 Recall: 0.9765142150803461\n"
          ],
          "name": "stdout"
        }
      ]
    },
    {
      "cell_type": "code",
      "metadata": {
        "colab": {
          "base_uri": "https://localhost:8080/"
        },
        "id": "4xTYBBh6UDQ5",
        "outputId": "33f4255a-3862-494d-d0fa-62e87712b6d5"
      },
      "source": [
        "# EQUAL_GOLD*10 and MORE_GOLD*10 form 259/350 contradiction labels\n",
        "challengeSet[challengeSet['pred_mnli_untrained'] == challengeSet['label']]['Dur Type'].value_counts()"
      ],
      "execution_count": null,
      "outputs": [
        {
          "output_type": "execute_result",
          "data": {
            "text/plain": [
              "LESS_GOLD+1      440\n",
              "LESS_GOLD*10     437\n",
              "MORE_GOLD-1      395\n",
              "EQUAL_GOLD       373\n",
              "EQUAL_GOLD*10    159\n",
              "MORE_GOLD*10      72\n",
              "EQUAL_GOLD-1      35\n",
              "EQUAL_GOLD+1      27\n",
              "LESS_GOLD-1        9\n",
              "LESS_GOLD          4\n",
              "MORE_GOLD          1\n",
              "Name: Dur Type, dtype: int64"
            ]
          },
          "metadata": {
            "tags": []
          },
          "execution_count": 14
        }
      ]
    },
    {
      "cell_type": "markdown",
      "metadata": {
        "id": "hzlNvdgmQ7eu"
      },
      "source": [
        "##### b) UDS Duration"
      ]
    },
    {
      "cell_type": "code",
      "metadata": {
        "colab": {
          "base_uri": "https://localhost:8080/",
          "height": 754
        },
        "id": "iV8Ij7j5Q7ev",
        "outputId": "9dee3af4-6adb-466f-b1d7-13782e7de748"
      },
      "source": [
        "challengeSet = pd.read_csv('/content/drive/MyDrive/Projects/Temporal Awareness/challengeSet2DF_test_preds.csv', index_col=0)\n",
        "challengeSet['label'].replace(to_replace='Entailment', value=1, inplace=True)\n",
        "challengeSet['label'].replace(to_replace='Neutral', value=0, inplace=True)\n",
        "challengeSet['label'].replace(to_replace='Contradiction', value=0, inplace=True)\n",
        "challengeSet"
      ],
      "execution_count": null,
      "outputs": [
        {
          "output_type": "execute_result",
          "data": {
            "text/html": [
              "<div>\n",
              "<style scoped>\n",
              "    .dataframe tbody tr th:only-of-type {\n",
              "        vertical-align: middle;\n",
              "    }\n",
              "\n",
              "    .dataframe tbody tr th {\n",
              "        vertical-align: top;\n",
              "    }\n",
              "\n",
              "    .dataframe thead th {\n",
              "        text-align: right;\n",
              "    }\n",
              "</style>\n",
              "<table border=\"1\" class=\"dataframe\">\n",
              "  <thead>\n",
              "    <tr style=\"text-align: right;\">\n",
              "      <th></th>\n",
              "      <th>premise</th>\n",
              "      <th>hypothesis</th>\n",
              "      <th>label</th>\n",
              "      <th>Type</th>\n",
              "      <th>Dur Type</th>\n",
              "      <th>Next Cycle</th>\n",
              "      <th>Temp Type</th>\n",
              "      <th>pred_mnli_untrained</th>\n",
              "      <th>pred_udsd_untrained</th>\n",
              "    </tr>\n",
              "  </thead>\n",
              "  <tbody>\n",
              "    <tr>\n",
              "      <th>0</th>\n",
              "      <td>The train from Seattle started at 3 PM and rea...</td>\n",
              "      <td>The train journey from Seattle to Portland las...</td>\n",
              "      <td>1</td>\n",
              "      <td>SINGLE_day_time_12</td>\n",
              "      <td>EQUAL_GOLD</td>\n",
              "      <td>True</td>\n",
              "      <td>Spread</td>\n",
              "      <td>1</td>\n",
              "      <td>1</td>\n",
              "    </tr>\n",
              "    <tr>\n",
              "      <th>1</th>\n",
              "      <td>The train from Seattle started at 3 PM and rea...</td>\n",
              "      <td>The train journey from Seattle to Portland las...</td>\n",
              "      <td>0</td>\n",
              "      <td>SINGLE_day_time_12</td>\n",
              "      <td>EQUAL_GOLD+1</td>\n",
              "      <td>True</td>\n",
              "      <td>Spread</td>\n",
              "      <td>1</td>\n",
              "      <td>1</td>\n",
              "    </tr>\n",
              "    <tr>\n",
              "      <th>2</th>\n",
              "      <td>The train from Seattle started at 3 PM and rea...</td>\n",
              "      <td>The train journey from Seattle to Portland las...</td>\n",
              "      <td>0</td>\n",
              "      <td>SINGLE_day_time_12</td>\n",
              "      <td>EQUAL_GOLD*10</td>\n",
              "      <td>True</td>\n",
              "      <td>Spread</td>\n",
              "      <td>1</td>\n",
              "      <td>1</td>\n",
              "    </tr>\n",
              "    <tr>\n",
              "      <th>3</th>\n",
              "      <td>The train from Seattle started at 3 PM and rea...</td>\n",
              "      <td>The train journey from Seattle to Portland las...</td>\n",
              "      <td>0</td>\n",
              "      <td>SINGLE_day_time_12</td>\n",
              "      <td>EQUAL_GOLD-1</td>\n",
              "      <td>True</td>\n",
              "      <td>Spread</td>\n",
              "      <td>1</td>\n",
              "      <td>1</td>\n",
              "    </tr>\n",
              "    <tr>\n",
              "      <th>4</th>\n",
              "      <td>The train from Seattle started at 3 PM and rea...</td>\n",
              "      <td>The train journey from Seattle to Portland las...</td>\n",
              "      <td>0</td>\n",
              "      <td>SINGLE_day_time_12</td>\n",
              "      <td>MORE_GOLD</td>\n",
              "      <td>True</td>\n",
              "      <td>Spread</td>\n",
              "      <td>2</td>\n",
              "      <td>1</td>\n",
              "    </tr>\n",
              "    <tr>\n",
              "      <th>...</th>\n",
              "      <td>...</td>\n",
              "      <td>...</td>\n",
              "      <td>...</td>\n",
              "      <td>...</td>\n",
              "      <td>...</td>\n",
              "      <td>...</td>\n",
              "      <td>...</td>\n",
              "      <td>...</td>\n",
              "      <td>...</td>\n",
              "    </tr>\n",
              "    <tr>\n",
              "      <th>19</th>\n",
              "      <td>I pursued my bachelors degree from Jan 1931 to...</td>\n",
              "      <td>I pursued my bachelors degree for more than 59...</td>\n",
              "      <td>1</td>\n",
              "      <td>DATE_YM_both</td>\n",
              "      <td>MORE_GOLD-1</td>\n",
              "      <td>False</td>\n",
              "      <td>Near</td>\n",
              "      <td>2</td>\n",
              "      <td>0</td>\n",
              "    </tr>\n",
              "    <tr>\n",
              "      <th>20</th>\n",
              "      <td>I pursued my bachelors degree from Jan 1931 to...</td>\n",
              "      <td>I pursued my bachelors degree for less than 59...</td>\n",
              "      <td>0</td>\n",
              "      <td>DATE_YM_both</td>\n",
              "      <td>LESS_GOLD</td>\n",
              "      <td>False</td>\n",
              "      <td>Near</td>\n",
              "      <td>2</td>\n",
              "      <td>1</td>\n",
              "    </tr>\n",
              "    <tr>\n",
              "      <th>21</th>\n",
              "      <td>I pursued my bachelors degree from Jan 1931 to...</td>\n",
              "      <td>I pursued my bachelors degree for less than 60...</td>\n",
              "      <td>1</td>\n",
              "      <td>DATE_YM_both</td>\n",
              "      <td>LESS_GOLD+1</td>\n",
              "      <td>False</td>\n",
              "      <td>Near</td>\n",
              "      <td>2</td>\n",
              "      <td>1</td>\n",
              "    </tr>\n",
              "    <tr>\n",
              "      <th>22</th>\n",
              "      <td>I pursued my bachelors degree from Jan 1931 to...</td>\n",
              "      <td>I pursued my bachelors degree for less than 59...</td>\n",
              "      <td>1</td>\n",
              "      <td>DATE_YM_both</td>\n",
              "      <td>LESS_GOLD*10</td>\n",
              "      <td>False</td>\n",
              "      <td>Near</td>\n",
              "      <td>2</td>\n",
              "      <td>0</td>\n",
              "    </tr>\n",
              "    <tr>\n",
              "      <th>23</th>\n",
              "      <td>I pursued my bachelors degree from Jan 1931 to...</td>\n",
              "      <td>I pursued my bachelors degree for less than 59...</td>\n",
              "      <td>0</td>\n",
              "      <td>DATE_YM_both</td>\n",
              "      <td>LESS_GOLD-1</td>\n",
              "      <td>False</td>\n",
              "      <td>Near</td>\n",
              "      <td>2</td>\n",
              "      <td>1</td>\n",
              "    </tr>\n",
              "  </tbody>\n",
              "</table>\n",
              "<p>5202 rows × 9 columns</p>\n",
              "</div>"
            ],
            "text/plain": [
              "                                              premise  ... pred_udsd_untrained\n",
              "0   The train from Seattle started at 3 PM and rea...  ...                   1\n",
              "1   The train from Seattle started at 3 PM and rea...  ...                   1\n",
              "2   The train from Seattle started at 3 PM and rea...  ...                   1\n",
              "3   The train from Seattle started at 3 PM and rea...  ...                   1\n",
              "4   The train from Seattle started at 3 PM and rea...  ...                   1\n",
              "..                                                ...  ...                 ...\n",
              "19  I pursued my bachelors degree from Jan 1931 to...  ...                   0\n",
              "20  I pursued my bachelors degree from Jan 1931 to...  ...                   1\n",
              "21  I pursued my bachelors degree from Jan 1931 to...  ...                   1\n",
              "22  I pursued my bachelors degree from Jan 1931 to...  ...                   0\n",
              "23  I pursued my bachelors degree from Jan 1931 to...  ...                   1\n",
              "\n",
              "[5202 rows x 9 columns]"
            ]
          },
          "metadata": {
            "tags": []
          },
          "execution_count": 15
        }
      ]
    },
    {
      "cell_type": "code",
      "metadata": {
        "colab": {
          "base_uri": "https://localhost:8080/"
        },
        "id": "x4YZh_uWVr0N",
        "outputId": "1f01a031-851f-49e1-8a26-fc3619d54b92"
      },
      "source": [
        "challengeSet['label'].value_counts()"
      ],
      "execution_count": null,
      "outputs": [
        {
          "output_type": "execute_result",
          "data": {
            "text/plain": [
              "0    3468\n",
              "1    1734\n",
              "Name: label, dtype: int64"
            ]
          },
          "metadata": {
            "tags": []
          },
          "execution_count": 16
        }
      ]
    },
    {
      "cell_type": "code",
      "metadata": {
        "colab": {
          "base_uri": "https://localhost:8080/"
        },
        "id": "scin1RPkVr0R",
        "outputId": "3bf5f271-3d64-4494-be0c-5c19ac2647cc"
      },
      "source": [
        "# Predictions are skewed\n",
        "challengeSet['pred_udsd_untrained'].value_counts()"
      ],
      "execution_count": null,
      "outputs": [
        {
          "output_type": "execute_result",
          "data": {
            "text/plain": [
              "0    3616\n",
              "1    1586\n",
              "Name: pred_udsd_untrained, dtype: int64"
            ]
          },
          "metadata": {
            "tags": []
          },
          "execution_count": 17
        }
      ]
    },
    {
      "cell_type": "code",
      "metadata": {
        "colab": {
          "base_uri": "https://localhost:8080/"
        },
        "id": "ox3AbdcYVr0R",
        "outputId": "de6a1dd2-9f89-4529-aabc-a2578abfa72a"
      },
      "source": [
        "# Temp Type doesn't have much effect\n",
        "challengeSet[challengeSet['pred_udsd_untrained'] == challengeSet['label']]['Temp Type'].value_counts() / challengeSet['Temp Type'].value_counts()"
      ],
      "execution_count": null,
      "outputs": [
        {
          "output_type": "execute_result",
          "data": {
            "text/plain": [
              "Near      0.609896\n",
              "Spread    0.638150\n",
              "Name: Temp Type, dtype: float64"
            ]
          },
          "metadata": {
            "tags": []
          },
          "execution_count": 18
        }
      ]
    },
    {
      "cell_type": "code",
      "metadata": {
        "colab": {
          "base_uri": "https://localhost:8080/"
        },
        "id": "42rpGP5DVr0S",
        "outputId": "57372b93-a684-431e-a43f-e981226f8968"
      },
      "source": [
        "# Next Cycle doesn't have major effect\n",
        "challengeSet[challengeSet['pred_udsd_untrained'] == challengeSet['label']]['Next Cycle'].value_counts() / challengeSet['Next Cycle'].value_counts()"
      ],
      "execution_count": null,
      "outputs": [
        {
          "output_type": "execute_result",
          "data": {
            "text/plain": [
              "False    0.632086\n",
              "True     0.606930\n",
              "Name: Next Cycle, dtype: float64"
            ]
          },
          "metadata": {
            "tags": []
          },
          "execution_count": 19
        }
      ]
    },
    {
      "cell_type": "code",
      "metadata": {
        "colab": {
          "base_uri": "https://localhost:8080/"
        },
        "id": "BuseaLooVr0U",
        "outputId": "bdb4a855-8b03-4b08-ce5b-a4b05f3b250e"
      },
      "source": [
        "# Type effect similar as challenge set 1\n",
        "challengeSet[challengeSet['pred_udsd_untrained'] == challengeSet['label']]['Type'].value_counts() / challengeSet['Type'].value_counts()"
      ],
      "execution_count": null,
      "outputs": [
        {
          "output_type": "execute_result",
          "data": {
            "text/plain": [
              "DATE_M_abv            0.575000\n",
              "DATE_M_both           0.583333\n",
              "DATE_M_full           0.608333\n",
              "DATE_YM_abv           0.666667\n",
              "DATE_YM_both          0.654167\n",
              "DATE_YM_full          0.662500\n",
              "MULTI_day_time        0.529536\n",
              "MULTI_month           0.662366\n",
              "SINGLE_date           0.683983\n",
              "SINGLE_day_time_12    0.540881\n",
              "SINGLE_day_time_24    0.543524\n",
              "SINGLE_month_abv      0.660338\n",
              "SINGLE_month_full     0.685775\n",
              "SINGLE_weekday        0.694805\n",
              "SINGLE_year           0.666667\n",
              "Name: Type, dtype: float64"
            ]
          },
          "metadata": {
            "tags": []
          },
          "execution_count": 20
        }
      ]
    },
    {
      "cell_type": "code",
      "metadata": {
        "colab": {
          "base_uri": "https://localhost:8080/"
        },
        "id": "FDd-ZJaiVr0U",
        "outputId": "e7400161-b876-4ae6-c36f-031097d5c9d6"
      },
      "source": [
        "challengeSet[challengeSet['pred_udsd_untrained'] == challengeSet['label']]['Dur Type'].value_counts() / challengeSet['Dur Type'].value_counts()"
      ],
      "execution_count": null,
      "outputs": [
        {
          "output_type": "execute_result",
          "data": {
            "text/plain": [
              "EQUAL_GOLD       0.195455\n",
              "EQUAL_GOLD*10    0.818182\n",
              "EQUAL_GOLD+1     0.813636\n",
              "EQUAL_GOLD-1     0.789855\n",
              "LESS_GOLD        0.520455\n",
              "LESS_GOLD*10     0.638636\n",
              "LESS_GOLD+1      0.525000\n",
              "LESS_GOLD-1      0.521739\n",
              "MORE_GOLD        0.802273\n",
              "MORE_GOLD*10     0.820455\n",
              "MORE_GOLD+1      0.818182\n",
              "MORE_GOLD-1      0.202899\n",
              "Name: Dur Type, dtype: float64"
            ]
          },
          "metadata": {
            "tags": []
          },
          "execution_count": 21
        }
      ]
    },
    {
      "cell_type": "markdown",
      "metadata": {
        "id": "sSrhQGpeN_66"
      },
      "source": [
        "##### c) MultiNLI Trained"
      ]
    },
    {
      "cell_type": "code",
      "metadata": {
        "colab": {
          "base_uri": "https://localhost:8080/",
          "height": 586
        },
        "id": "ZdYgPfIDN_6_",
        "outputId": "6614b4a1-3e2c-4276-ef60-7ffec7e3e3d3"
      },
      "source": [
        "challengeSet = pd.read_csv('/content/drive/MyDrive/Projects/Temporal Awareness/challengeSet2DF_test_preds (1).csv', index_col=0)\n",
        "challengeSet.rename(columns={'Label':'label'}, inplace=True)\n",
        "challengeSet['label'].replace(to_replace='Entailment', value=2, inplace=True)\n",
        "challengeSet['label'].replace(to_replace='Neutral', value=1, inplace=True)\n",
        "challengeSet['label'].replace(to_replace='Contradiction', value=0, inplace=True)\n",
        "challengeSet"
      ],
      "execution_count": null,
      "outputs": [
        {
          "output_type": "execute_result",
          "data": {
            "text/html": [
              "<div>\n",
              "<style scoped>\n",
              "    .dataframe tbody tr th:only-of-type {\n",
              "        vertical-align: middle;\n",
              "    }\n",
              "\n",
              "    .dataframe tbody tr th {\n",
              "        vertical-align: top;\n",
              "    }\n",
              "\n",
              "    .dataframe thead th {\n",
              "        text-align: right;\n",
              "    }\n",
              "</style>\n",
              "<table border=\"1\" class=\"dataframe\">\n",
              "  <thead>\n",
              "    <tr style=\"text-align: right;\">\n",
              "      <th></th>\n",
              "      <th>Premise</th>\n",
              "      <th>Hypothesis</th>\n",
              "      <th>label</th>\n",
              "      <th>Type</th>\n",
              "      <th>Dur Type</th>\n",
              "      <th>Next Cycle</th>\n",
              "      <th>Temp Type</th>\n",
              "      <th>pred_mnli_trained</th>\n",
              "    </tr>\n",
              "  </thead>\n",
              "  <tbody>\n",
              "    <tr>\n",
              "      <th>0</th>\n",
              "      <td>The train from Seattle started at 3 PM and rea...</td>\n",
              "      <td>The train journey from Seattle to Portland las...</td>\n",
              "      <td>2</td>\n",
              "      <td>SINGLE_day_time_12</td>\n",
              "      <td>EQUAL_GOLD</td>\n",
              "      <td>True</td>\n",
              "      <td>Spread</td>\n",
              "      <td>0</td>\n",
              "    </tr>\n",
              "    <tr>\n",
              "      <th>1</th>\n",
              "      <td>The train from Seattle started at 3 PM and rea...</td>\n",
              "      <td>The train journey from Seattle to Portland las...</td>\n",
              "      <td>0</td>\n",
              "      <td>SINGLE_day_time_12</td>\n",
              "      <td>EQUAL_GOLD+1</td>\n",
              "      <td>True</td>\n",
              "      <td>Spread</td>\n",
              "      <td>0</td>\n",
              "    </tr>\n",
              "    <tr>\n",
              "      <th>2</th>\n",
              "      <td>The train from Seattle started at 3 PM and rea...</td>\n",
              "      <td>The train journey from Seattle to Portland las...</td>\n",
              "      <td>0</td>\n",
              "      <td>SINGLE_day_time_12</td>\n",
              "      <td>EQUAL_GOLD*10</td>\n",
              "      <td>True</td>\n",
              "      <td>Spread</td>\n",
              "      <td>0</td>\n",
              "    </tr>\n",
              "    <tr>\n",
              "      <th>3</th>\n",
              "      <td>The train from Seattle started at 3 PM and rea...</td>\n",
              "      <td>The train journey from Seattle to Portland las...</td>\n",
              "      <td>0</td>\n",
              "      <td>SINGLE_day_time_12</td>\n",
              "      <td>EQUAL_GOLD-1</td>\n",
              "      <td>True</td>\n",
              "      <td>Spread</td>\n",
              "      <td>0</td>\n",
              "    </tr>\n",
              "    <tr>\n",
              "      <th>4</th>\n",
              "      <td>The train from Seattle started at 3 PM and rea...</td>\n",
              "      <td>The train journey from Seattle to Portland las...</td>\n",
              "      <td>0</td>\n",
              "      <td>SINGLE_day_time_12</td>\n",
              "      <td>MORE_GOLD</td>\n",
              "      <td>True</td>\n",
              "      <td>Spread</td>\n",
              "      <td>0</td>\n",
              "    </tr>\n",
              "    <tr>\n",
              "      <th>...</th>\n",
              "      <td>...</td>\n",
              "      <td>...</td>\n",
              "      <td>...</td>\n",
              "      <td>...</td>\n",
              "      <td>...</td>\n",
              "      <td>...</td>\n",
              "      <td>...</td>\n",
              "      <td>...</td>\n",
              "    </tr>\n",
              "    <tr>\n",
              "      <th>19</th>\n",
              "      <td>I pursued my bachelors degree from Jan 1931 to...</td>\n",
              "      <td>I pursued my bachelors degree for more than 59...</td>\n",
              "      <td>2</td>\n",
              "      <td>DATE_YM_both</td>\n",
              "      <td>MORE_GOLD-1</td>\n",
              "      <td>False</td>\n",
              "      <td>Near</td>\n",
              "      <td>0</td>\n",
              "    </tr>\n",
              "    <tr>\n",
              "      <th>20</th>\n",
              "      <td>I pursued my bachelors degree from Jan 1931 to...</td>\n",
              "      <td>I pursued my bachelors degree for less than 59...</td>\n",
              "      <td>0</td>\n",
              "      <td>DATE_YM_both</td>\n",
              "      <td>LESS_GOLD</td>\n",
              "      <td>False</td>\n",
              "      <td>Near</td>\n",
              "      <td>0</td>\n",
              "    </tr>\n",
              "    <tr>\n",
              "      <th>21</th>\n",
              "      <td>I pursued my bachelors degree from Jan 1931 to...</td>\n",
              "      <td>I pursued my bachelors degree for less than 60...</td>\n",
              "      <td>2</td>\n",
              "      <td>DATE_YM_both</td>\n",
              "      <td>LESS_GOLD+1</td>\n",
              "      <td>False</td>\n",
              "      <td>Near</td>\n",
              "      <td>0</td>\n",
              "    </tr>\n",
              "    <tr>\n",
              "      <th>22</th>\n",
              "      <td>I pursued my bachelors degree from Jan 1931 to...</td>\n",
              "      <td>I pursued my bachelors degree for less than 59...</td>\n",
              "      <td>2</td>\n",
              "      <td>DATE_YM_both</td>\n",
              "      <td>LESS_GOLD*10</td>\n",
              "      <td>False</td>\n",
              "      <td>Near</td>\n",
              "      <td>2</td>\n",
              "    </tr>\n",
              "    <tr>\n",
              "      <th>23</th>\n",
              "      <td>I pursued my bachelors degree from Jan 1931 to...</td>\n",
              "      <td>I pursued my bachelors degree for less than 59...</td>\n",
              "      <td>0</td>\n",
              "      <td>DATE_YM_both</td>\n",
              "      <td>LESS_GOLD-1</td>\n",
              "      <td>False</td>\n",
              "      <td>Near</td>\n",
              "      <td>0</td>\n",
              "    </tr>\n",
              "  </tbody>\n",
              "</table>\n",
              "<p>5202 rows × 8 columns</p>\n",
              "</div>"
            ],
            "text/plain": [
              "                                              Premise  ... pred_mnli_trained\n",
              "0   The train from Seattle started at 3 PM and rea...  ...                 0\n",
              "1   The train from Seattle started at 3 PM and rea...  ...                 0\n",
              "2   The train from Seattle started at 3 PM and rea...  ...                 0\n",
              "3   The train from Seattle started at 3 PM and rea...  ...                 0\n",
              "4   The train from Seattle started at 3 PM and rea...  ...                 0\n",
              "..                                                ...  ...               ...\n",
              "19  I pursued my bachelors degree from Jan 1931 to...  ...                 0\n",
              "20  I pursued my bachelors degree from Jan 1931 to...  ...                 0\n",
              "21  I pursued my bachelors degree from Jan 1931 to...  ...                 0\n",
              "22  I pursued my bachelors degree from Jan 1931 to...  ...                 2\n",
              "23  I pursued my bachelors degree from Jan 1931 to...  ...                 0\n",
              "\n",
              "[5202 rows x 8 columns]"
            ]
          },
          "metadata": {
            "tags": []
          },
          "execution_count": 5
        }
      ]
    },
    {
      "cell_type": "code",
      "metadata": {
        "colab": {
          "base_uri": "https://localhost:8080/"
        },
        "id": "x-KcfybfN_7A",
        "outputId": "47474603-20a1-45bc-e1d3-61eea8df48cb"
      },
      "source": [
        "challengeSet['label'].value_counts()"
      ],
      "execution_count": null,
      "outputs": [
        {
          "output_type": "execute_result",
          "data": {
            "text/plain": [
              "0    3468\n",
              "2    1734\n",
              "Name: label, dtype: int64"
            ]
          },
          "metadata": {
            "tags": []
          },
          "execution_count": 6
        }
      ]
    },
    {
      "cell_type": "code",
      "metadata": {
        "colab": {
          "base_uri": "https://localhost:8080/"
        },
        "id": "5lgi_vesN_7B",
        "outputId": "a1c5271a-c47d-478d-f20d-49f4308da255"
      },
      "source": [
        "# Predictions are skewed\n",
        "challengeSet['pred_mnli_trained'].value_counts()"
      ],
      "execution_count": null,
      "outputs": [
        {
          "output_type": "execute_result",
          "data": {
            "text/plain": [
              "0    4740\n",
              "2     462\n",
              "Name: pred_mnli_trained, dtype: int64"
            ]
          },
          "metadata": {
            "tags": []
          },
          "execution_count": 7
        }
      ]
    },
    {
      "cell_type": "code",
      "metadata": {
        "colab": {
          "base_uri": "https://localhost:8080/"
        },
        "id": "t-XO6-uNN_7B",
        "outputId": "94e4ee4f-4bdd-4765-8a98-1ed9d7440de6"
      },
      "source": [
        "challengeSet['pred_mnli_trained'].value_counts() / sum(challengeSet['pred_mnli_trained'].value_counts())"
      ],
      "execution_count": null,
      "outputs": [
        {
          "output_type": "execute_result",
          "data": {
            "text/plain": [
              "0    0.911188\n",
              "2    0.088812\n",
              "Name: pred_mnli_trained, dtype: float64"
            ]
          },
          "metadata": {
            "tags": []
          },
          "execution_count": 9
        }
      ]
    },
    {
      "cell_type": "code",
      "metadata": {
        "colab": {
          "base_uri": "https://localhost:8080/"
        },
        "id": "McUoWMx0N_7C",
        "outputId": "da128e36-fdbd-41f7-ed02-d6782c263366"
      },
      "source": [
        "# Temp Type doesn't have much effect\n",
        "challengeSet[challengeSet['pred_mnli_trained'] == challengeSet['label']]['Temp Type'].value_counts() / challengeSet['Temp Type'].value_counts()"
      ],
      "execution_count": null,
      "outputs": [
        {
          "output_type": "execute_result",
          "data": {
            "text/plain": [
              "Near      0.747986\n",
              "Spread    0.748362\n",
              "Name: Temp Type, dtype: float64"
            ]
          },
          "metadata": {
            "tags": []
          },
          "execution_count": 10
        }
      ]
    },
    {
      "cell_type": "code",
      "metadata": {
        "colab": {
          "base_uri": "https://localhost:8080/"
        },
        "id": "0IxpKDoTN_7C",
        "outputId": "e790db94-68dc-4efd-fb9f-6bec9c39d227"
      },
      "source": [
        "# Next Cycle doesn't have major effect\n",
        "challengeSet[challengeSet['pred_mnli_trained'] == challengeSet['label']]['Next Cycle'].value_counts() / challengeSet['Next Cycle'].value_counts()"
      ],
      "execution_count": null,
      "outputs": [
        {
          "output_type": "execute_result",
          "data": {
            "text/plain": [
              "False    0.744615\n",
              "True     0.755675\n",
              "Name: Next Cycle, dtype: float64"
            ]
          },
          "metadata": {
            "tags": []
          },
          "execution_count": 12
        }
      ]
    },
    {
      "cell_type": "code",
      "metadata": {
        "colab": {
          "base_uri": "https://localhost:8080/"
        },
        "id": "8W6ZfyZ6N_7D",
        "outputId": "6997aefc-a1d9-4adc-e572-99a379f32888"
      },
      "source": [
        "# Type doesn't have major effect\n",
        "challengeSet[challengeSet['pred_mnli_trained'] == challengeSet['label']]['Type'].value_counts() / challengeSet['Type'].value_counts()"
      ],
      "execution_count": null,
      "outputs": [
        {
          "output_type": "execute_result",
          "data": {
            "text/plain": [
              "DATE_M_abv            0.745833\n",
              "DATE_M_both           0.737500\n",
              "DATE_M_full           0.754167\n",
              "DATE_YM_abv           0.741667\n",
              "DATE_YM_both          0.745833\n",
              "DATE_YM_full          0.750000\n",
              "MULTI_day_time        0.744726\n",
              "MULTI_month           0.746237\n",
              "SINGLE_date           0.744589\n",
              "SINGLE_day_time_12    0.744235\n",
              "SINGLE_day_time_24    0.743100\n",
              "SINGLE_month_abv      0.753165\n",
              "SINGLE_month_full     0.753715\n",
              "SINGLE_weekday        0.761905\n",
              "SINGLE_year           0.746835\n",
              "Name: Type, dtype: float64"
            ]
          },
          "metadata": {
            "tags": []
          },
          "execution_count": 11
        }
      ]
    },
    {
      "cell_type": "code",
      "metadata": {
        "colab": {
          "base_uri": "https://localhost:8080/"
        },
        "id": "5Z-2dOH_N_7E",
        "outputId": "8c058e7d-d15c-42c7-ceb8-2a6d8952f84a"
      },
      "source": [
        "# Most predictions are entailment, best dur type with contradiction label seem to be EQUAL_GOLD*10 and MORE_GOLD*10\n",
        "challengeSet[challengeSet['pred_mnli_trained'] == challengeSet['label']]['Dur Type'].value_counts() / challengeSet['Dur Type'].value_counts()"
      ],
      "execution_count": null,
      "outputs": [
        {
          "output_type": "execute_result",
          "data": {
            "text/plain": [
              "EQUAL_GOLD            NaN\n",
              "EQUAL_GOLD*10    1.000000\n",
              "EQUAL_GOLD+1     1.000000\n",
              "EQUAL_GOLD-1     1.000000\n",
              "LESS_GOLD        0.977273\n",
              "LESS_GOLD*10     0.940909\n",
              "LESS_GOLD+1      0.065909\n",
              "LESS_GOLD-1      0.978261\n",
              "MORE_GOLD        1.000000\n",
              "MORE_GOLD*10     1.000000\n",
              "MORE_GOLD+1      1.000000\n",
              "MORE_GOLD-1           NaN\n",
              "Name: Dur Type, dtype: float64"
            ]
          },
          "metadata": {
            "tags": []
          },
          "execution_count": 13
        }
      ]
    },
    {
      "cell_type": "code",
      "metadata": {
        "colab": {
          "base_uri": "https://localhost:8080/"
        },
        "id": "xRd92_NYN_7F",
        "outputId": "459a4102-6c89-4d37-b203-7a573b35f651"
      },
      "source": [
        "for ind, df in challengeSet.groupby('Dur Type'):\n",
        "  print(ind, 'Recall:', f1_score(df['label'], df['pred_mnli_trained'], average='weighted'))"
      ],
      "execution_count": null,
      "outputs": [
        {
          "output_type": "stream",
          "text": [
            "EQUAL_GOLD Recall: 0.0\n",
            "EQUAL_GOLD*10 Recall: 1.0\n",
            "EQUAL_GOLD+1 Recall: 1.0\n",
            "EQUAL_GOLD-1 Recall: 1.0\n",
            "LESS_GOLD Recall: 0.9885057471264368\n",
            "LESS_GOLD*10 Recall: 0.9695550351288056\n",
            "LESS_GOLD+1 Recall: 0.12366737739872068\n",
            "LESS_GOLD-1 Recall: 0.989010989010989\n",
            "MORE_GOLD Recall: 1.0\n",
            "MORE_GOLD*10 Recall: 1.0\n",
            "MORE_GOLD+1 Recall: 1.0\n",
            "MORE_GOLD-1 Recall: 0.0\n"
          ],
          "name": "stdout"
        }
      ]
    },
    {
      "cell_type": "code",
      "metadata": {
        "colab": {
          "base_uri": "https://localhost:8080/"
        },
        "id": "S6tVoL_JN_7F",
        "outputId": "33f4255a-3862-494d-d0fa-62e87712b6d5"
      },
      "source": [
        "# EQUAL_GOLD*10 and MORE_GOLD*10 form 259/350 contradiction labels\n",
        "challengeSet[challengeSet['pred_mnli_untrained'] == challengeSet['label']]['Dur Type'].value_counts()"
      ],
      "execution_count": null,
      "outputs": [
        {
          "output_type": "execute_result",
          "data": {
            "text/plain": [
              "LESS_GOLD+1      440\n",
              "LESS_GOLD*10     437\n",
              "MORE_GOLD-1      395\n",
              "EQUAL_GOLD       373\n",
              "EQUAL_GOLD*10    159\n",
              "MORE_GOLD*10      72\n",
              "EQUAL_GOLD-1      35\n",
              "EQUAL_GOLD+1      27\n",
              "LESS_GOLD-1        9\n",
              "LESS_GOLD          4\n",
              "MORE_GOLD          1\n",
              "Name: Dur Type, dtype: int64"
            ]
          },
          "metadata": {
            "tags": []
          },
          "execution_count": 14
        }
      ]
    },
    {
      "cell_type": "markdown",
      "metadata": {
        "id": "muF85BmyLaPA"
      },
      "source": [
        "## TESTING MODELS"
      ]
    },
    {
      "cell_type": "code",
      "metadata": {
        "colab": {
          "base_uri": "https://localhost:8080/"
        },
        "id": "fYRdNo4bMgix",
        "outputId": "6c58b906-88a5-45d4-85a3-a1195cfbfc9b"
      },
      "source": [
        "!pip install transformers sentencepiece datasets"
      ],
      "execution_count": null,
      "outputs": [
        {
          "output_type": "stream",
          "text": [
            "Collecting transformers\n",
            "\u001b[?25l  Downloading https://files.pythonhosted.org/packages/d5/43/cfe4ee779bbd6a678ac6a97c5a5cdeb03c35f9eaebbb9720b036680f9a2d/transformers-4.6.1-py3-none-any.whl (2.2MB)\n",
            "\u001b[K     |████████████████████████████████| 2.3MB 33.7MB/s \n",
            "\u001b[?25hCollecting sentencepiece\n",
            "\u001b[?25l  Downloading https://files.pythonhosted.org/packages/f5/99/e0808cb947ba10f575839c43e8fafc9cc44e4a7a2c8f79c60db48220a577/sentencepiece-0.1.95-cp37-cp37m-manylinux2014_x86_64.whl (1.2MB)\n",
            "\u001b[K     |████████████████████████████████| 1.2MB 43.3MB/s \n",
            "\u001b[?25hCollecting datasets\n",
            "\u001b[?25l  Downloading https://files.pythonhosted.org/packages/46/1a/b9f9b3bfef624686ae81c070f0a6bb635047b17cdb3698c7ad01281e6f9a/datasets-1.6.2-py3-none-any.whl (221kB)\n",
            "\u001b[K     |████████████████████████████████| 225kB 37.7MB/s \n",
            "\u001b[?25hRequirement already satisfied: tqdm>=4.27 in /usr/local/lib/python3.7/dist-packages (from transformers) (4.41.1)\n",
            "Collecting huggingface-hub==0.0.8\n",
            "  Downloading https://files.pythonhosted.org/packages/a1/88/7b1e45720ecf59c6c6737ff332f41c955963090a18e72acbcbeac6b25e86/huggingface_hub-0.0.8-py3-none-any.whl\n",
            "Requirement already satisfied: packaging in /usr/local/lib/python3.7/dist-packages (from transformers) (20.9)\n",
            "Requirement already satisfied: requests in /usr/local/lib/python3.7/dist-packages (from transformers) (2.23.0)\n",
            "Requirement already satisfied: numpy>=1.17 in /usr/local/lib/python3.7/dist-packages (from transformers) (1.19.5)\n",
            "Requirement already satisfied: importlib-metadata; python_version < \"3.8\" in /usr/local/lib/python3.7/dist-packages (from transformers) (4.0.1)\n",
            "Collecting tokenizers<0.11,>=0.10.1\n",
            "\u001b[?25l  Downloading https://files.pythonhosted.org/packages/ae/04/5b870f26a858552025a62f1649c20d29d2672c02ff3c3fb4c688ca46467a/tokenizers-0.10.2-cp37-cp37m-manylinux2010_x86_64.whl (3.3MB)\n",
            "\u001b[K     |████████████████████████████████| 3.3MB 47.3MB/s \n",
            "\u001b[?25hRequirement already satisfied: regex!=2019.12.17 in /usr/local/lib/python3.7/dist-packages (from transformers) (2019.12.20)\n",
            "Collecting sacremoses\n",
            "\u001b[?25l  Downloading https://files.pythonhosted.org/packages/75/ee/67241dc87f266093c533a2d4d3d69438e57d7a90abb216fa076e7d475d4a/sacremoses-0.0.45-py3-none-any.whl (895kB)\n",
            "\u001b[K     |████████████████████████████████| 901kB 48.3MB/s \n",
            "\u001b[?25hRequirement already satisfied: filelock in /usr/local/lib/python3.7/dist-packages (from transformers) (3.0.12)\n",
            "Collecting xxhash\n",
            "\u001b[?25l  Downloading https://files.pythonhosted.org/packages/7d/4f/0a862cad26aa2ed7a7cd87178cbbfa824fc1383e472d63596a0d018374e7/xxhash-2.0.2-cp37-cp37m-manylinux2010_x86_64.whl (243kB)\n",
            "\u001b[K     |████████████████████████████████| 245kB 52.4MB/s \n",
            "\u001b[?25hRequirement already satisfied: pyarrow>=1.0.0<4.0.0 in /usr/local/lib/python3.7/dist-packages (from datasets) (3.0.0)\n",
            "Requirement already satisfied: dill in /usr/local/lib/python3.7/dist-packages (from datasets) (0.3.3)\n",
            "Collecting fsspec\n",
            "\u001b[?25l  Downloading https://files.pythonhosted.org/packages/bc/52/816d1a3a599176057bf29dfacb1f8fadb61d35fbd96cb1bab4aaa7df83c0/fsspec-2021.5.0-py3-none-any.whl (111kB)\n",
            "\u001b[K     |████████████████████████████████| 112kB 58.5MB/s \n",
            "\u001b[?25hRequirement already satisfied: multiprocess in /usr/local/lib/python3.7/dist-packages (from datasets) (0.70.11.1)\n",
            "Requirement already satisfied: pandas in /usr/local/lib/python3.7/dist-packages (from datasets) (1.1.5)\n",
            "Requirement already satisfied: pyparsing>=2.0.2 in /usr/local/lib/python3.7/dist-packages (from packaging->transformers) (2.4.7)\n",
            "Requirement already satisfied: chardet<4,>=3.0.2 in /usr/local/lib/python3.7/dist-packages (from requests->transformers) (3.0.4)\n",
            "Requirement already satisfied: certifi>=2017.4.17 in /usr/local/lib/python3.7/dist-packages (from requests->transformers) (2020.12.5)\n",
            "Requirement already satisfied: urllib3!=1.25.0,!=1.25.1,<1.26,>=1.21.1 in /usr/local/lib/python3.7/dist-packages (from requests->transformers) (1.24.3)\n",
            "Requirement already satisfied: idna<3,>=2.5 in /usr/local/lib/python3.7/dist-packages (from requests->transformers) (2.10)\n",
            "Requirement already satisfied: typing-extensions>=3.6.4; python_version < \"3.8\" in /usr/local/lib/python3.7/dist-packages (from importlib-metadata; python_version < \"3.8\"->transformers) (3.7.4.3)\n",
            "Requirement already satisfied: zipp>=0.5 in /usr/local/lib/python3.7/dist-packages (from importlib-metadata; python_version < \"3.8\"->transformers) (3.4.1)\n",
            "Requirement already satisfied: click in /usr/local/lib/python3.7/dist-packages (from sacremoses->transformers) (8.0.0)\n",
            "Requirement already satisfied: joblib in /usr/local/lib/python3.7/dist-packages (from sacremoses->transformers) (1.0.1)\n",
            "Requirement already satisfied: six in /usr/local/lib/python3.7/dist-packages (from sacremoses->transformers) (1.15.0)\n",
            "Requirement already satisfied: pytz>=2017.2 in /usr/local/lib/python3.7/dist-packages (from pandas->datasets) (2018.9)\n",
            "Requirement already satisfied: python-dateutil>=2.7.3 in /usr/local/lib/python3.7/dist-packages (from pandas->datasets) (2.8.1)\n",
            "Installing collected packages: huggingface-hub, tokenizers, sacremoses, transformers, sentencepiece, xxhash, fsspec, datasets\n",
            "Successfully installed datasets-1.6.2 fsspec-2021.5.0 huggingface-hub-0.0.8 sacremoses-0.0.45 sentencepiece-0.1.95 tokenizers-0.10.2 transformers-4.6.1 xxhash-2.0.2\n"
          ],
          "name": "stdout"
        }
      ]
    },
    {
      "cell_type": "code",
      "metadata": {
        "id": "-_dTqNAXMI0A"
      },
      "source": [
        "import numpy as np\n",
        "import pandas as pd\n",
        "\n",
        "import torch\n",
        "from torch.utils.data import DataLoader, TensorDataset\n",
        "from torch.nn.functional import softmax\n",
        "from transformers import AutoTokenizer, AutoModelForSequenceClassification\n",
        "\n",
        "from datasets import load_dataset"
      ],
      "execution_count": null,
      "outputs": []
    },
    {
      "cell_type": "code",
      "metadata": {
        "id": "KGNG5h5dLfLx"
      },
      "source": [
        "class DataProcessor:\n",
        "\n",
        "  def __init__(self, dataset, test_df):\n",
        "    self.dataset = dataset\n",
        "    self.test_df = test_df\n",
        "\n",
        "  def read_data(self):\n",
        "    premises = self.dataset['premise']\n",
        "    hypotheses = self.dataset['hypothesis']\n",
        "    labels = self.dataset['label']\n",
        "    if self.test_df:\n",
        "      return (premises.tolist(), hypotheses.tolist(), labels.tolist())\n",
        "    else:\n",
        "      return (premises, hypotheses, labels)\n",
        "\n",
        "\n",
        "class PretrainedModel:\n",
        "\n",
        "\tdef __init__(self, model_name='roberta-large-mnli', max_len=64):\n",
        "\t\t# To allow for GPU computation\n",
        "\t\tself.device = torch.device('cuda:0' if torch.cuda.is_available() else 'cpu')\n",
        "\t\tself.tokenizer = AutoTokenizer.from_pretrained(model_name)\n",
        "\t\tself.model = AutoModelForSequenceClassification.from_pretrained(model_name).to(self.device)\n",
        "\t\tself.max_len = max_len\n",
        "\n",
        "\t# Return IDs as tensors\n",
        "\tdef get_token_ids(self, premises, hypotheses):\n",
        "\t\tnum_premises = len(premises)\n",
        "\t\tnum_hypotheses = len(hypotheses)\n",
        "\t\tassert (num_premises == num_hypotheses)\n",
        "\t\tids = []\n",
        "\t\tmasks = []\n",
        "\t\ttypes = []\n",
        "\t\tfor i in range(num_premises):\n",
        "\t\t\t# Tokenizer will combine the premise and hypothesis with special tokens\n",
        "\t\t\t# Note - Roberta's/some others' tokenizers will use <s> & </s> instead\n",
        "\t\t\t# of [CLS] and [SEP]\n",
        "\t\t\tt_e = self.tokenizer.encode_plus(premises[i], hypotheses[i],\n",
        "\t\t\t\t\t\t\t\t\t\t\t max_length=self.max_len,\n",
        "\t\t\t\t\t\t\t\t\t\t\t add_special_tokens=True,\n",
        "\t\t\t\t\t\t\t\t\t\t\t padding='max_length',\n",
        "                       truncation=True,\n",
        "\t\t\t\t\t\t\t\t\t\t\t return_tensors=\"pt\",\n",
        "\t\t\t\t\t\t\t\t\t\t\t return_token_type_ids=True,\n",
        "\t\t\t\t\t\t\t\t\t\t\t return_attention_mask=True)\n",
        "\t\t\tids.append(t_e['input_ids'])\n",
        "\t\t\tmasks.append(t_e['attention_mask'])\n",
        "\n",
        "\t\t\t# Note - Roberta does not need or output proper token_type_ids, but others\n",
        "\t\t\t# (like BERT) will. Still keep them for now, I think it won't affect model's output\n",
        "\t\t\ttypes.append(t_e['token_type_ids'])\n",
        "\t\tids = torch.cat(tuple(ids))\n",
        "\t\tmasks = torch.cat(tuple(masks))\n",
        "\t\ttypes = torch.cat(tuple(types))\n",
        "\t\treturn (ids, masks, types)\n",
        "\n",
        "\tdef predict(self, test_dataset, test_df=True, pretrained=None, bs=32):\n",
        "\t\t# Get premises, hypotheses, labels\n",
        "\t\ttest_p, test_h, test_l = DataProcessor(test_dataset, test_df).read_data()\n",
        "\n",
        "\t\t# Calls the tokenizer, then uses a DataLoader to read batches of the tensor-ized data\n",
        "\t\tids, masks, types = self.get_token_ids(test_p, test_h)\n",
        "\t\tdataloader = DataLoader(TensorDataset(ids, masks, types), batch_size=bs)\n",
        "\t\t\n",
        "\t\tself.model.eval()\n",
        "\n",
        "\t\tpred = []\n",
        "\t\tfor step, batch in enumerate(dataloader):\n",
        "\t\t\t# Should allow for GPU computation\n",
        "\t\t\tbatch_ids, batch_mask, batch_types = tuple((t.to(self.device) for t in batch))\n",
        "\t\t\twith torch.no_grad():\n",
        "\t\t\t\t# Don't need token_type_ids for Roberta, but shouldn't matter since they're all 0?\n",
        "\t\t\t\toutputs = self.model(input_ids=batch_ids, token_type_ids=batch_types, attention_mask=batch_mask)\n",
        "\t\t\tlogits = outputs[0]\n",
        "\t\t\tlogits = logits.detach().cpu()\n",
        "\t\t\tprobs = softmax(logits, dim=0)  # Could use to make sure dim=0 is correct\n",
        "\t\t\tpreds = np.argmax(probs, axis=1)  # Could use to make sure axis=1 is correct\n",
        "\t\t\tpred.extend(preds.tolist())\n",
        "\n",
        "\t\tacc = float(sum([pred[i] == test_l[i] for i in range(len(test_l))])) / float(len(test_l))\n",
        "\t\treturn pred, test_l, acc"
      ],
      "execution_count": null,
      "outputs": []
    },
    {
      "cell_type": "code",
      "metadata": {
        "colab": {
          "base_uri": "https://localhost:8080/",
          "height": 282,
          "referenced_widgets": [
            "41550cafdb3447e09eaefcfd7c0cd126",
            "8c3dadacd8d44012a35a7df29fcf1823",
            "ed097bd8923b4351bbbbf3ff44dec9c1",
            "a0a4d11a0fba451ca38ad4a6b65b7594",
            "6d7de264e6cf4d2391b1cbb84501195f",
            "a085da1b976746338bb7ffe4ce7c7556",
            "7b19e5b3c7c14619b9370becb3941fd8",
            "8df196abbd75438bb089a367ac0de38d",
            "a8bfa7110d544217903153415f127ddc",
            "c45c6a6946094f42a1f7d73e6d190a99",
            "f457c493cae44de78a4120fa9baced5c",
            "b75ddb34122a484cbc46059137e1fbb9",
            "e556fbf0eae249f4a4fa20ff59aef5cb",
            "a0afd943e0c64d678402cc813cc4a71b",
            "9778cfdb451540349738b11b9dce0c64",
            "c930ac71c30d4c95a44f0208449541a9",
            "f81844243c534f5a8c87797c86213b8f",
            "c69c617aeba34595a9a3a8b0fda5ae12",
            "f49381515f8a42ceb3ac7bbdbbb6239a",
            "35527aa3ae6249f7a7dcde527fff6046",
            "65f9433233a14637af8bf326e04e679d",
            "aafe1d1999884c64bf9b48878e63a891",
            "1470394a6e0b46099ae9e92772980f51",
            "0d88795e179f4518a2dbc64efab90a76",
            "5e4fef19b9854f5ca029474c4f627d5e",
            "52052b5f63874494bd67b086d638ee9d",
            "89c5c749f4fb40148a1db64e7b111264",
            "1fc6dc09fac9491e8616728efbfa2a95",
            "e1d98921ab934bb0b245af4ec165170e",
            "445b4935bd8d41acb576f2bce65f6c9e",
            "73d95cccc23d493582483f1cbae0f5e6",
            "fcf47456d9b548bb88e83de593cc1c06",
            "e2536293ce0540d195460495ddc0bbaa",
            "a3412d86d1e84e39a4aa7e5e15891d5b",
            "4e6c2f4595a84f1ba6034e38b658c8d1",
            "bca1d6861c8f4c7fa1e2f6aaef584ba4",
            "192f508dac21451cbe45e4cd5aa5f3ad",
            "0ab98cd25ac244d38a6aaab54bada2fb",
            "0f35ab2dd02e4a01a568483f6d47c2c7",
            "2e13ea3c42664da2831642645a995cc1",
            "31d7dcd8b0ad43258a60419714a68590",
            "3c2a1d1abb6c449cace33a80bfa32c46",
            "4da61ac3474e4e1690881d04e44d5108",
            "7f31d8a4281e4d5d9829b3f6efc32ea8",
            "fa674558f32040a3a14db8bc0787d29e",
            "3dff43ca6b0c4b329f4e2f53a00d0d37",
            "69294bbeed6840c9a127bcf1d2a15c0e",
            "c602d095ade54cdd8a6ba2ee123ebc6f",
            "c3cfb66a580c447fa39b2c1057e832c4",
            "ad50b8d75ca242b28a579c9e3248ca2a",
            "fd1dccc95c5545fbaefef681a90887cb",
            "b280332201bd45a89a5d668f63f3ce20",
            "73e0d6f4061444ae9a9658d476a70c43",
            "cc2e45c7a474491797fae5d662fd457d",
            "8b4ed76a0c4c4631b0b2a1c5ee911fe3",
            "5b51e56903ce4974b9e149211217832d"
          ]
        },
        "id": "kws028aJgaNy",
        "outputId": "aca4c959-3550-435f-94d8-cd6360afc6ee"
      },
      "source": [
        "def replaceLabels(row):\n",
        "  if row['label'] == 0:\n",
        "    row['label'] = 2\n",
        "  elif row['label'] == 2:\n",
        "    row['label'] = 0\n",
        "  return row\n",
        "\n",
        "dataset = load_dataset('multi_nli', split='validation_matched')\n",
        "dataset = dataset.map(replaceLabels)\n"
      ],
      "execution_count": null,
      "outputs": [
        {
          "output_type": "display_data",
          "data": {
            "application/vnd.jupyter.widget-view+json": {
              "model_id": "41550cafdb3447e09eaefcfd7c0cd126",
              "version_minor": 0,
              "version_major": 2
            },
            "text/plain": [
              "HBox(children=(FloatProgress(value=0.0, description='Downloading', max=1904.0, style=ProgressStyle(description…"
            ]
          },
          "metadata": {
            "tags": []
          }
        },
        {
          "output_type": "stream",
          "text": [
            "\n"
          ],
          "name": "stdout"
        },
        {
          "output_type": "display_data",
          "data": {
            "application/vnd.jupyter.widget-view+json": {
              "model_id": "a8bfa7110d544217903153415f127ddc",
              "version_minor": 0,
              "version_major": 2
            },
            "text/plain": [
              "HBox(children=(FloatProgress(value=0.0, description='Downloading', max=1193.0, style=ProgressStyle(description…"
            ]
          },
          "metadata": {
            "tags": []
          }
        },
        {
          "output_type": "stream",
          "text": [
            "\n"
          ],
          "name": "stdout"
        },
        {
          "output_type": "stream",
          "text": [
            "Using custom data configuration default\n"
          ],
          "name": "stderr"
        },
        {
          "output_type": "stream",
          "text": [
            "Downloading and preparing dataset multi_nli/default (download: 216.34 MiB, generated: 410.92 MiB, post-processed: Unknown size, total: 627.27 MiB) to /root/.cache/huggingface/datasets/multi_nli/default/0.0.0/591f72eb6263d1ab527561777936b199b714cda156d35716881158a2bd144f39...\n"
          ],
          "name": "stdout"
        },
        {
          "output_type": "display_data",
          "data": {
            "application/vnd.jupyter.widget-view+json": {
              "model_id": "f81844243c534f5a8c87797c86213b8f",
              "version_minor": 0,
              "version_major": 2
            },
            "text/plain": [
              "HBox(children=(FloatProgress(value=0.0, description='Downloading', max=226850426.0, style=ProgressStyle(descri…"
            ]
          },
          "metadata": {
            "tags": []
          }
        },
        {
          "output_type": "stream",
          "text": [
            "\n"
          ],
          "name": "stdout"
        },
        {
          "output_type": "display_data",
          "data": {
            "application/vnd.jupyter.widget-view+json": {
              "model_id": "5e4fef19b9854f5ca029474c4f627d5e",
              "version_minor": 0,
              "version_major": 2
            },
            "text/plain": [
              "HBox(children=(FloatProgress(value=1.0, bar_style='info', max=1.0), HTML(value='')))"
            ]
          },
          "metadata": {
            "tags": []
          }
        },
        {
          "output_type": "stream",
          "text": [
            "\r"
          ],
          "name": "stdout"
        },
        {
          "output_type": "display_data",
          "data": {
            "application/vnd.jupyter.widget-view+json": {
              "model_id": "e2536293ce0540d195460495ddc0bbaa",
              "version_minor": 0,
              "version_major": 2
            },
            "text/plain": [
              "HBox(children=(FloatProgress(value=1.0, bar_style='info', max=1.0), HTML(value='')))"
            ]
          },
          "metadata": {
            "tags": []
          }
        },
        {
          "output_type": "stream",
          "text": [
            "\r"
          ],
          "name": "stdout"
        },
        {
          "output_type": "display_data",
          "data": {
            "application/vnd.jupyter.widget-view+json": {
              "model_id": "31d7dcd8b0ad43258a60419714a68590",
              "version_minor": 0,
              "version_major": 2
            },
            "text/plain": [
              "HBox(children=(FloatProgress(value=1.0, bar_style='info', max=1.0), HTML(value='')))"
            ]
          },
          "metadata": {
            "tags": []
          }
        },
        {
          "output_type": "stream",
          "text": [
            "\rDataset multi_nli downloaded and prepared to /root/.cache/huggingface/datasets/multi_nli/default/0.0.0/591f72eb6263d1ab527561777936b199b714cda156d35716881158a2bd144f39. Subsequent calls will reuse this data.\n"
          ],
          "name": "stdout"
        },
        {
          "output_type": "display_data",
          "data": {
            "application/vnd.jupyter.widget-view+json": {
              "model_id": "c3cfb66a580c447fa39b2c1057e832c4",
              "version_minor": 0,
              "version_major": 2
            },
            "text/plain": [
              "HBox(children=(FloatProgress(value=0.0, max=9815.0), HTML(value='')))"
            ]
          },
          "metadata": {
            "tags": []
          }
        },
        {
          "output_type": "stream",
          "text": [
            "\n"
          ],
          "name": "stdout"
        }
      ]
    },
    {
      "cell_type": "code",
      "metadata": {
        "colab": {
          "base_uri": "https://localhost:8080/",
          "height": 402
        },
        "id": "vt2j7k5VPQma",
        "outputId": "92a13aa6-3624-4493-c062-62d62936470e"
      },
      "source": [
        "challengeSet = pd.read_csv('/content/drive/MyDrive/Projects/Temporal Awareness/challengeSet2DF.csv', index_col=0)\n",
        "challengeSet['Label'].replace(to_replace='Entailment', value=2, inplace=True)\n",
        "challengeSet['Label'].replace(to_replace='Neutral', value=1, inplace=True)\n",
        "challengeSet['Label'].replace(to_replace='Contradiction', value=0, inplace=True)\n",
        "challengeSet.rename(columns={'Premise':'premise', 'Hypothesis':'hypothesis', 'Label':'label'}, inplace=True)\n",
        "challengeSet"
      ],
      "execution_count": null,
      "outputs": [
        {
          "output_type": "execute_result",
          "data": {
            "text/html": [
              "<div>\n",
              "<style scoped>\n",
              "    .dataframe tbody tr th:only-of-type {\n",
              "        vertical-align: middle;\n",
              "    }\n",
              "\n",
              "    .dataframe tbody tr th {\n",
              "        vertical-align: top;\n",
              "    }\n",
              "\n",
              "    .dataframe thead th {\n",
              "        text-align: right;\n",
              "    }\n",
              "</style>\n",
              "<table border=\"1\" class=\"dataframe\">\n",
              "  <thead>\n",
              "    <tr style=\"text-align: right;\">\n",
              "      <th></th>\n",
              "      <th>premise</th>\n",
              "      <th>hypothesis</th>\n",
              "      <th>label</th>\n",
              "      <th>Type</th>\n",
              "      <th>Next Cycle</th>\n",
              "      <th>Temp Type</th>\n",
              "    </tr>\n",
              "  </thead>\n",
              "  <tbody>\n",
              "    <tr>\n",
              "      <th>0</th>\n",
              "      <td>Michael reached my house at 8 PM and left at 3...</td>\n",
              "      <td>Michael visited my house for 19 hours.</td>\n",
              "      <td>2</td>\n",
              "      <td>SINGLE_day_time_12</td>\n",
              "      <td>True</td>\n",
              "      <td>Spread</td>\n",
              "    </tr>\n",
              "    <tr>\n",
              "      <th>1</th>\n",
              "      <td>Michael reached my house at 8 PM and left at 3...</td>\n",
              "      <td>Michael visited my house for 20 hours.</td>\n",
              "      <td>0</td>\n",
              "      <td>SINGLE_day_time_12</td>\n",
              "      <td>True</td>\n",
              "      <td>Spread</td>\n",
              "    </tr>\n",
              "    <tr>\n",
              "      <th>2</th>\n",
              "      <td>Michael reached my house at 8 PM and left at 3...</td>\n",
              "      <td>Michael visited my house for 190 hours.</td>\n",
              "      <td>0</td>\n",
              "      <td>SINGLE_day_time_12</td>\n",
              "      <td>True</td>\n",
              "      <td>Spread</td>\n",
              "    </tr>\n",
              "    <tr>\n",
              "      <th>3</th>\n",
              "      <td>Michael reached my house at 8 PM and left at 3...</td>\n",
              "      <td>Michael visited my house for 18 hours.</td>\n",
              "      <td>0</td>\n",
              "      <td>SINGLE_day_time_12</td>\n",
              "      <td>True</td>\n",
              "      <td>Spread</td>\n",
              "    </tr>\n",
              "    <tr>\n",
              "      <th>4</th>\n",
              "      <td>Michael reached my house at 8 PM and left at 3...</td>\n",
              "      <td>Michael visited my house for more than 19 hours.</td>\n",
              "      <td>0</td>\n",
              "      <td>SINGLE_day_time_12</td>\n",
              "      <td>True</td>\n",
              "      <td>Spread</td>\n",
              "    </tr>\n",
              "    <tr>\n",
              "      <th>...</th>\n",
              "      <td>...</td>\n",
              "      <td>...</td>\n",
              "      <td>...</td>\n",
              "      <td>...</td>\n",
              "      <td>...</td>\n",
              "      <td>...</td>\n",
              "    </tr>\n",
              "    <tr>\n",
              "      <th>31</th>\n",
              "      <td>The country was under a dictatorship from Sept...</td>\n",
              "      <td>The country was under a dictatorship for more ...</td>\n",
              "      <td>2</td>\n",
              "      <td>DATE_year_months</td>\n",
              "      <td>False</td>\n",
              "      <td>Near</td>\n",
              "    </tr>\n",
              "    <tr>\n",
              "      <th>32</th>\n",
              "      <td>The country was under a dictatorship from Sept...</td>\n",
              "      <td>The country was under a dictatorship for less ...</td>\n",
              "      <td>0</td>\n",
              "      <td>DATE_year_months</td>\n",
              "      <td>False</td>\n",
              "      <td>Near</td>\n",
              "    </tr>\n",
              "    <tr>\n",
              "      <th>33</th>\n",
              "      <td>The country was under a dictatorship from Sept...</td>\n",
              "      <td>The country was under a dictatorship for less ...</td>\n",
              "      <td>2</td>\n",
              "      <td>DATE_year_months</td>\n",
              "      <td>False</td>\n",
              "      <td>Near</td>\n",
              "    </tr>\n",
              "    <tr>\n",
              "      <th>34</th>\n",
              "      <td>The country was under a dictatorship from Sept...</td>\n",
              "      <td>The country was under a dictatorship for less ...</td>\n",
              "      <td>2</td>\n",
              "      <td>DATE_year_months</td>\n",
              "      <td>False</td>\n",
              "      <td>Near</td>\n",
              "    </tr>\n",
              "    <tr>\n",
              "      <th>35</th>\n",
              "      <td>The country was under a dictatorship from Sept...</td>\n",
              "      <td>The country was under a dictatorship for less ...</td>\n",
              "      <td>0</td>\n",
              "      <td>DATE_year_months</td>\n",
              "      <td>False</td>\n",
              "      <td>Near</td>\n",
              "    </tr>\n",
              "  </tbody>\n",
              "</table>\n",
              "<p>5307 rows × 6 columns</p>\n",
              "</div>"
            ],
            "text/plain": [
              "                                              premise  ... Temp Type\n",
              "0   Michael reached my house at 8 PM and left at 3...  ...    Spread\n",
              "1   Michael reached my house at 8 PM and left at 3...  ...    Spread\n",
              "2   Michael reached my house at 8 PM and left at 3...  ...    Spread\n",
              "3   Michael reached my house at 8 PM and left at 3...  ...    Spread\n",
              "4   Michael reached my house at 8 PM and left at 3...  ...    Spread\n",
              "..                                                ...  ...       ...\n",
              "31  The country was under a dictatorship from Sept...  ...      Near\n",
              "32  The country was under a dictatorship from Sept...  ...      Near\n",
              "33  The country was under a dictatorship from Sept...  ...      Near\n",
              "34  The country was under a dictatorship from Sept...  ...      Near\n",
              "35  The country was under a dictatorship from Sept...  ...      Near\n",
              "\n",
              "[5307 rows x 6 columns]"
            ]
          },
          "metadata": {
            "tags": []
          },
          "execution_count": 5
        }
      ]
    },
    {
      "cell_type": "code",
      "metadata": {
        "colab": {
          "base_uri": "https://localhost:8080/",
          "height": 365,
          "referenced_widgets": [
            "8b30612977b349c99e75629724c92834",
            "5d66bb7c6572455c838784bf5efd1978",
            "635208d44cbc4c0dad326da65c357893",
            "2ebb66ab238744259f32bdb0d300ac46",
            "a11c1a534eb84670b823570b46e72713",
            "adfb2f47a4554012b7322277b0c3e2d2",
            "38f02057ec264767a8d61272e5ccf58e",
            "65a1dc5539a4406e89e2be1be56a3a08",
            "7ff8cd7e743f42169977b8c7545838b7",
            "90116f8770b84a108584d26bffd86ebd",
            "e322f72e8611431287db88a999ba613b",
            "d47e746fec5e424199bab5429efcde8b",
            "378e05f05d59427abe84525a21dfefdb",
            "0184cd7d83494dc2ad7ab7815abfcfaa",
            "97110e1f1d4949b48bd25595519263c7",
            "97dffbe3ab1445a299e228ecf70cfda5",
            "dd36a4dbec1445aaaa551d4e046ba51d",
            "4f950b33852f4cc1a7c55fcf04e95559",
            "bf03b5bad4214b50b55a00b7dd770e60",
            "f278886cb4264512948c33de7282c06f",
            "0bfa61a3a654429bb446dd0fee5e4db5",
            "042e693bfaf14290bde5aca5ca66b868",
            "96a6eeb9808642e59fd57d1d8940da1f",
            "464f8eec803144ec8ffcd651c1d0c955",
            "1ee3ad3785c0410a8b8d7d5e7bc1c9ab",
            "bed63e8e9a6b4d5ca167c24a56482acb",
            "85bf0a0706a54998a35430075c07bbef",
            "1e8d15f595554e32952e7e1aadcba849",
            "4ce542ef30f044fabc46d65acb285579",
            "ebc95b769ee6447da57a585f8fa6f703",
            "a4e27fff80684f07b9fc14cd5de4aef9",
            "0fce1fb917954cb8b6150e1142baa2e2",
            "c15fd7a935c54813ad002599c76b2260",
            "4afe3765971a49feb7874804b443e69e",
            "8c37da91d02b4b4fb86030ec25cd6f11",
            "0ca57b9ea73f47f392ff51f14b2d4ed0",
            "13034a08098a49e2a0d2074388cf786a",
            "ce9942eb91ab440b96e7ecab7739caab",
            "b9b508f864bc4c949c48eccd29592bf8",
            "a6a8f97c67db4756b48e5f23e2515e88"
          ]
        },
        "id": "KWa99ZAgLnyS",
        "outputId": "719916bd-ab3e-4f6c-9718-49d8b1fbc1fe"
      },
      "source": [
        "MODEL_NAME = 'roberta-large-mnli'\n",
        "BATCH_SIZE = 32\n",
        "MAX_LEN = 64\n",
        "\n",
        "model = PretrainedModel(model_name=MODEL_NAME, max_len=MAX_LEN)\n",
        "\n",
        "preds, labels, acc = model.predict(test_dataset=dataset, test_df=False, bs=BATCH_SIZE)\n",
        "print('MNLI ACC : ', acc)\n",
        "\n",
        "preds, labels, acc = model.predict(test_dataset=challengeSet, test_df=True, bs=BATCH_SIZE)\n",
        "print('ACC : ', acc)"
      ],
      "execution_count": null,
      "outputs": [
        {
          "output_type": "display_data",
          "data": {
            "application/vnd.jupyter.widget-view+json": {
              "model_id": "8b30612977b349c99e75629724c92834",
              "version_minor": 0,
              "version_major": 2
            },
            "text/plain": [
              "HBox(children=(FloatProgress(value=0.0, description='Downloading', max=688.0, style=ProgressStyle(description_…"
            ]
          },
          "metadata": {
            "tags": []
          }
        },
        {
          "output_type": "stream",
          "text": [
            "\n"
          ],
          "name": "stdout"
        },
        {
          "output_type": "display_data",
          "data": {
            "application/vnd.jupyter.widget-view+json": {
              "model_id": "7ff8cd7e743f42169977b8c7545838b7",
              "version_minor": 0,
              "version_major": 2
            },
            "text/plain": [
              "HBox(children=(FloatProgress(value=0.0, description='Downloading', max=898823.0, style=ProgressStyle(descripti…"
            ]
          },
          "metadata": {
            "tags": []
          }
        },
        {
          "output_type": "stream",
          "text": [
            "\n"
          ],
          "name": "stdout"
        },
        {
          "output_type": "display_data",
          "data": {
            "application/vnd.jupyter.widget-view+json": {
              "model_id": "dd36a4dbec1445aaaa551d4e046ba51d",
              "version_minor": 0,
              "version_major": 2
            },
            "text/plain": [
              "HBox(children=(FloatProgress(value=0.0, description='Downloading', max=456318.0, style=ProgressStyle(descripti…"
            ]
          },
          "metadata": {
            "tags": []
          }
        },
        {
          "output_type": "stream",
          "text": [
            "\n"
          ],
          "name": "stdout"
        },
        {
          "output_type": "display_data",
          "data": {
            "application/vnd.jupyter.widget-view+json": {
              "model_id": "1ee3ad3785c0410a8b8d7d5e7bc1c9ab",
              "version_minor": 0,
              "version_major": 2
            },
            "text/plain": [
              "HBox(children=(FloatProgress(value=0.0, description='Downloading', max=1355863.0, style=ProgressStyle(descript…"
            ]
          },
          "metadata": {
            "tags": []
          }
        },
        {
          "output_type": "stream",
          "text": [
            "\n"
          ],
          "name": "stdout"
        },
        {
          "output_type": "display_data",
          "data": {
            "application/vnd.jupyter.widget-view+json": {
              "model_id": "c15fd7a935c54813ad002599c76b2260",
              "version_minor": 0,
              "version_major": 2
            },
            "text/plain": [
              "HBox(children=(FloatProgress(value=0.0, description='Downloading', max=1425744429.0, style=ProgressStyle(descr…"
            ]
          },
          "metadata": {
            "tags": []
          }
        },
        {
          "output_type": "stream",
          "text": [
            "\n"
          ],
          "name": "stdout"
        },
        {
          "output_type": "stream",
          "text": [
            "Some weights of the model checkpoint at roberta-large-mnli were not used when initializing RobertaForSequenceClassification: ['roberta.pooler.dense.weight', 'roberta.pooler.dense.bias']\n",
            "- This IS expected if you are initializing RobertaForSequenceClassification from the checkpoint of a model trained on another task or with another architecture (e.g. initializing a BertForSequenceClassification model from a BertForPreTraining model).\n",
            "- This IS NOT expected if you are initializing RobertaForSequenceClassification from the checkpoint of a model that you expect to be exactly identical (initializing a BertForSequenceClassification model from a BertForSequenceClassification model).\n"
          ],
          "name": "stderr"
        },
        {
          "output_type": "stream",
          "text": [
            "MNLI ACC :  0.8900662251655629\n",
            "ACC :  0.39174674957603167\n"
          ],
          "name": "stdout"
        }
      ]
    }
  ]
}